{
  "nbformat": 4,
  "nbformat_minor": 0,
  "metadata": {
    "colab": {
      "name": "Modules-puzzles.ipynb",
      "provenance": [],
      "authorship_tag": "ABX9TyNLI5sQ/U2vKiZ4u+f8PBow"
    },
    "kernelspec": {
      "name": "python3",
      "display_name": "Python 3"
    },
    "language_info": {
      "name": "python"
    }
  },
  "cells": [
    {
      "cell_type": "code",
      "execution_count": 2,
      "metadata": {
        "id": "Fny27-pHxEax"
      },
      "outputs": [],
      "source": [
        "import zipfile"
      ]
    },
    {
      "cell_type": "code",
      "source": [
        "zip_object = zipfile.ZipFile('unzip_me_for_instructions.zip', 'r')"
      ],
      "metadata": {
        "id": "gWBkbhBrxdXZ"
      },
      "execution_count": null,
      "outputs": []
    },
    {
      "cell_type": "code",
      "source": [
        "zip_object.extractall('extracted')"
      ],
      "metadata": {
        "id": "Pq0FjOKN0T8Q"
      },
      "execution_count": 6,
      "outputs": []
    },
    {
      "cell_type": "code",
      "source": [
        "import re\n",
        "\n",
        "pattern = r'\\d{3}-\\d{3}-\\d{4}'"
      ],
      "metadata": {
        "id": "FLkO37Ue0Z1-"
      },
      "execution_count": 7,
      "outputs": []
    },
    {
      "cell_type": "code",
      "source": [
        "import os"
      ],
      "metadata": {
        "id": "Z5lr_V0y0wa5"
      },
      "execution_count": 8,
      "outputs": []
    },
    {
      "cell_type": "code",
      "source": [
        "files_path = '/content/extracted/extracted_content'\n",
        "result = []\n",
        "\n",
        "def search(file,key):\n",
        "  f = open(file,'r')\n",
        "  text = f.read()\n",
        "\n",
        "  if re.search(key,text):\n",
        "    return re.search(key,text)\n",
        "  else:\n",
        "    return ''\n",
        "\n",
        "for folder, sub_folders, files in os.walk(files_path):\n",
        "    a_folder = folder\n",
        "    for f in files:\n",
        "      a_file = f\n",
        "      joined_path = os.path.join(files_path, a_folder, a_file)\n",
        "      result.append(search(joined_path,pattern))\n",
        "\n",
        "for r in result:\n",
        "  if result != '':\n",
        "    print(r)\n",
        "      \n",
        "\n",
        "\n",
        "\n"
      ],
      "metadata": {
        "id": "r8DT7cF81mEp"
      },
      "execution_count": null,
      "outputs": []
    },
    {
      "cell_type": "code",
      "source": [
        ""
      ],
      "metadata": {
        "id": "zUCXIoKB3veK"
      },
      "execution_count": null,
      "outputs": []
    }
  ]
}