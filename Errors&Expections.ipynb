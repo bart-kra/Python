{
  "nbformat": 4,
  "nbformat_minor": 0,
  "metadata": {
    "colab": {
      "name": "Errors&Expections.ipynb",
      "provenance": [],
      "authorship_tag": "ABX9TyPZWNAoKjvpPrwl1JrPfI+C"
    },
    "kernelspec": {
      "name": "python3",
      "display_name": "Python 3"
    },
    "language_info": {
      "name": "python"
    }
  },
  "cells": [
    {
      "cell_type": "markdown",
      "source": [
        "# Errors & exception\n"
      ],
      "metadata": {
        "id": "gIkrrVj46L9G"
      }
    },
    {
      "cell_type": "code",
      "execution_count": null,
      "metadata": {
        "id": "ZAxbobBQu1mw"
      },
      "outputs": [],
      "source": [
        "def ask_for_int():\n",
        "\n",
        "  while True:\n",
        "    try: #tries to execute the code\n",
        "      result = int(input(\"Please provide a number: \"))\n",
        "    except: #if could not execute the code\n",
        "      print(\"Whoops! Not a number!\")\n",
        "      continue\n",
        "    else: #if code executed\n",
        "      print(\"Thank you!\")\n",
        "      break\n",
        "    finally: #executes always independally\n",
        "      print(\"That block executes independally.\")"
      ]
    },
    {
      "cell_type": "code",
      "source": [
        "ask_for_int()"
      ],
      "metadata": {
        "id": "DkosHn0r2cg4",
        "colab": {
          "base_uri": "https://localhost:8080/"
        },
        "outputId": "75037a62-0b18-4d20-ef65-0770e7b3b5f4"
      },
      "execution_count": null,
      "outputs": [
        {
          "output_type": "stream",
          "name": "stdout",
          "text": [
            "Please provide a number: l\n",
            "Whoops! Not a number!\n",
            "That block executes independally.\n",
            "Please provide a number: ji'\n",
            "Whoops! Not a number!\n",
            "That block executes independally.\n",
            "Please provide a number: 4851\n",
            "Thank you!\n",
            "That block executes independally.\n"
          ]
        }
      ]
    },
    {
      "cell_type": "markdown",
      "source": [
        "Exercises"
      ],
      "metadata": {
        "id": "tNVD7p0j7sPG"
      }
    },
    {
      "cell_type": "code",
      "source": [
        "for i in  ['a', 8, 'c']:\n",
        "  try:\n",
        "    print(i**2)\n",
        "  except:\n",
        "    print(\"Not a number!\")\n",
        "  else:\n",
        "    print(\"Thanks!\")\n",
        "  finally:\n",
        "    print(\"Step no. {}\".format(i))"
      ],
      "metadata": {
        "colab": {
          "base_uri": "https://localhost:8080/"
        },
        "id": "kM1pBwfs6881",
        "outputId": "e62020b0-b0d8-43dc-81a0-85f35468b387"
      },
      "execution_count": null,
      "outputs": [
        {
          "output_type": "stream",
          "name": "stdout",
          "text": [
            "Not a number!\n",
            "Step no. a\n",
            "64\n",
            "Thanks!\n",
            "Step no. 8\n",
            "Not a number!\n",
            "Step no. c\n"
          ]
        }
      ]
    },
    {
      "cell_type": "code",
      "source": [
        "x = 5\n",
        "y = 4\n",
        "\n",
        "try:\n",
        "  z = x / y\n",
        "except:\n",
        "  print(\"Do not divide by 0!!!\")\n",
        "else:\n",
        "  print(z)\n",
        "finally:\n",
        "  print(\"All Done.\")"
      ],
      "metadata": {
        "colab": {
          "base_uri": "https://localhost:8080/"
        },
        "id": "qW6d5meS8Olq",
        "outputId": "d9d4dbab-6ca9-4527-a04e-3aa91e81d77a"
      },
      "execution_count": null,
      "outputs": [
        {
          "output_type": "stream",
          "name": "stdout",
          "text": [
            "1.25\n",
            "All Done.\n"
          ]
        }
      ]
    },
    {
      "cell_type": "code",
      "source": [
        "def ask():\n",
        "  waiting = True\n",
        "  while waiting:\n",
        "    try:\n",
        "      x = int(input(\"Input an integer: \"))\n",
        "    except:\n",
        "      print(\"Not an integer!\")\n",
        "    else:\n",
        "      print(x**2)\n",
        "      waiting = False\n",
        "    finally:\n",
        "      print(\"End of the while loop\")\n",
        "    "
      ],
      "metadata": {
        "id": "2yfYjkbd8q7S"
      },
      "execution_count": null,
      "outputs": []
    },
    {
      "cell_type": "code",
      "source": [
        ""
      ],
      "metadata": {
        "id": "JvB8-GVZ9w-v"
      },
      "execution_count": null,
      "outputs": []
    }
  ]
}