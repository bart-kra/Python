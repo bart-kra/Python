{
  "nbformat": 4,
  "nbformat_minor": 0,
  "metadata": {
    "colab": {
      "name": "Regular Expressions.ipynb",
      "provenance": [],
      "authorship_tag": "ABX9TyOQMaxOha6zPudwjecveIy1"
    },
    "kernelspec": {
      "name": "python3",
      "display_name": "Python 3"
    },
    "language_info": {
      "name": "python"
    }
  },
  "cells": [
    {
      "cell_type": "markdown",
      "source": [
        "Regular expressions lets us to find a string in format that interests us in the text."
      ],
      "metadata": {
        "id": "t6sxp5gyY2T8"
      }
    },
    {
      "cell_type": "code",
      "execution_count": 2,
      "metadata": {
        "id": "9vNeDXZD9HYP"
      },
      "outputs": [],
      "source": [
        "text = \"Cranes are one of the most beautiful animals all around the world\""
      ]
    },
    {
      "cell_type": "code",
      "source": [
        "'most' in text #regular IN expression (returns boolean)"
      ],
      "metadata": {
        "colab": {
          "base_uri": "https://localhost:8080/"
        },
        "id": "YO7VNaGZZfut",
        "outputId": "9bba99c2-9adf-465b-bd70-359d5d71f68f"
      },
      "execution_count": 3,
      "outputs": [
        {
          "output_type": "execute_result",
          "data": {
            "text/plain": [
              "True"
            ]
          },
          "metadata": {},
          "execution_count": 3
        }
      ]
    },
    {
      "cell_type": "code",
      "source": [
        "import re #imports regular expressions module"
      ],
      "metadata": {
        "id": "4tRVUoD6ZkvV"
      },
      "execution_count": 3,
      "outputs": []
    },
    {
      "cell_type": "code",
      "source": [
        "pattern = 'most'"
      ],
      "metadata": {
        "id": "KvLvM8_NZtSf"
      },
      "execution_count": 5,
      "outputs": []
    },
    {
      "cell_type": "code",
      "source": [
        "#returns object (only the first) and its position\n",
        "re.search(pattern, text)"
      ],
      "metadata": {
        "colab": {
          "base_uri": "https://localhost:8080/"
        },
        "id": "XA5ax2-5Zy5K",
        "outputId": "755cc7e7-63da-4a06-f2f6-6859231ea36a"
      },
      "execution_count": 6,
      "outputs": [
        {
          "output_type": "execute_result",
          "data": {
            "text/plain": [
              "<re.Match object; span=(22, 26), match='most'>"
            ]
          },
          "metadata": {},
          "execution_count": 6
        }
      ]
    },
    {
      "cell_type": "code",
      "source": [
        "pattern = \"RANDOM TEXT\""
      ],
      "metadata": {
        "id": "J4zhGaOCZ0cv"
      },
      "execution_count": 7,
      "outputs": []
    },
    {
      "cell_type": "code",
      "source": [
        "#re.search returns nothing if pattern not in text\n",
        "re.search(pattern, text)"
      ],
      "metadata": {
        "id": "VPjRPvMYaLcN"
      },
      "execution_count": 8,
      "outputs": []
    },
    {
      "cell_type": "code",
      "source": [
        "pattern = \"the\""
      ],
      "metadata": {
        "id": "cMO-bcJxaNPf"
      },
      "execution_count": 15,
      "outputs": []
    },
    {
      "cell_type": "code",
      "source": [
        "match = re.search(pattern, text)"
      ],
      "metadata": {
        "id": "OkMjQuKlpsUC"
      },
      "execution_count": 16,
      "outputs": []
    },
    {
      "cell_type": "code",
      "source": [
        "match"
      ],
      "metadata": {
        "colab": {
          "base_uri": "https://localhost:8080/"
        },
        "id": "gHlo7vpPaWCO",
        "outputId": "848dcc58-5d08-493e-c832-a6f52516e659"
      },
      "execution_count": 17,
      "outputs": [
        {
          "output_type": "execute_result",
          "data": {
            "text/plain": [
              "<re.Match object; span=(18, 21), match='the'>"
            ]
          },
          "metadata": {},
          "execution_count": 17
        }
      ]
    },
    {
      "cell_type": "code",
      "source": [
        "match.span() #lets to get the span of the match"
      ],
      "metadata": {
        "colab": {
          "base_uri": "https://localhost:8080/"
        },
        "id": "Vymccdy3p8Pu",
        "outputId": "a7272513-def8-41ac-9695-0136f3fa79f6"
      },
      "execution_count": 18,
      "outputs": [
        {
          "output_type": "execute_result",
          "data": {
            "text/plain": [
              "(18, 21)"
            ]
          },
          "metadata": {},
          "execution_count": 18
        }
      ]
    },
    {
      "cell_type": "code",
      "source": [
        "match.start() #and the begining position of the match"
      ],
      "metadata": {
        "colab": {
          "base_uri": "https://localhost:8080/"
        },
        "id": "vw_xli2dp_-I",
        "outputId": "e914bfa4-bc8a-4493-ee66-c67173a7718b"
      },
      "execution_count": 19,
      "outputs": [
        {
          "output_type": "execute_result",
          "data": {
            "text/plain": [
              "18"
            ]
          },
          "metadata": {},
          "execution_count": 19
        }
      ]
    },
    {
      "cell_type": "code",
      "source": [
        "match.end()"
      ],
      "metadata": {
        "colab": {
          "base_uri": "https://localhost:8080/"
        },
        "id": "ot7h_z2tqBQK",
        "outputId": "7e150e96-9622-484c-a80f-b98ec6fde16e"
      },
      "execution_count": 20,
      "outputs": [
        {
          "output_type": "execute_result",
          "data": {
            "text/plain": [
              "21"
            ]
          },
          "metadata": {},
          "execution_count": 20
        }
      ]
    },
    {
      "cell_type": "code",
      "source": [
        ""
      ],
      "metadata": {
        "id": "uLKezDn_q8ai"
      },
      "execution_count": null,
      "outputs": []
    },
    {
      "cell_type": "code",
      "source": [
        "#getting all the matches \n",
        "matches = re.findall('the', text)"
      ],
      "metadata": {
        "id": "gD9YWNDVrEsa"
      },
      "execution_count": 23,
      "outputs": []
    },
    {
      "cell_type": "code",
      "source": [
        "matches #returns list of all the matches "
      ],
      "metadata": {
        "colab": {
          "base_uri": "https://localhost:8080/"
        },
        "id": "FnUaxgQ2rVUG",
        "outputId": "957b0ee6-3bc9-4607-d610-b0fbfb4fd6f0"
      },
      "execution_count": 24,
      "outputs": [
        {
          "output_type": "execute_result",
          "data": {
            "text/plain": [
              "['the', 'the']"
            ]
          },
          "metadata": {},
          "execution_count": 24
        }
      ]
    },
    {
      "cell_type": "code",
      "source": [
        "matches = len(re.findall(pattern, text)) #number of matches"
      ],
      "metadata": {
        "id": "5j8AFrF-rqfc"
      },
      "execution_count": 26,
      "outputs": []
    },
    {
      "cell_type": "code",
      "source": [
        "matches"
      ],
      "metadata": {
        "colab": {
          "base_uri": "https://localhost:8080/"
        },
        "id": "65eRfKxFr1r7",
        "outputId": "09f761d7-353b-427f-c4d2-3c7e92923e1d"
      },
      "execution_count": 27,
      "outputs": [
        {
          "output_type": "execute_result",
          "data": {
            "text/plain": [
              "2"
            ]
          },
          "metadata": {},
          "execution_count": 27
        }
      ]
    },
    {
      "cell_type": "code",
      "source": [
        "for match in re.finditer(pattern, text): #allows to print specifics of the matches\n",
        "  print(match.span())"
      ],
      "metadata": {
        "colab": {
          "base_uri": "https://localhost:8080/"
        },
        "id": "maD8E3jyr2bF",
        "outputId": "7e667b3f-794e-435a-e79b-8a0dc783268e"
      },
      "execution_count": 31,
      "outputs": [
        {
          "output_type": "stream",
          "name": "stdout",
          "text": [
            "(18, 21)\n",
            "(56, 59)\n"
          ]
        }
      ]
    },
    {
      "cell_type": "code",
      "source": [
        ""
      ],
      "metadata": {
        "id": "4eP3qLRpsaTx"
      },
      "execution_count": null,
      "outputs": []
    },
    {
      "cell_type": "markdown",
      "source": [
        "# Regular expressions patterns\n",
        "\\d digit \n",
        "\n",
        "---\n",
        "\n",
        "\n",
        "\\w alphanumeric\n",
        "\n",
        "\n",
        "---\n",
        "\n",
        "\n",
        "\\s white space\n",
        "\n",
        "\n",
        "---\n",
        "\n",
        "\n",
        "\\D a non digit\n",
        "\n",
        "\n",
        "---\n",
        "\n",
        "\n",
        "\\W non alpranumeric\n",
        "\n",
        "\n",
        "---\n",
        "\n",
        "\n",
        "\\S non white space"
      ],
      "metadata": {
        "id": "Vw_hbnbja0Fh"
      }
    },
    {
      "cell_type": "code",
      "source": [
        "text = 'Today is a very windy and rainy weather'"
      ],
      "metadata": {
        "id": "1WgbKOheazMt"
      },
      "execution_count": 1,
      "outputs": []
    },
    {
      "cell_type": "code",
      "source": [
        "re.findall(r'\\w\\w\\w\\wy',text) #necessary to use r flag before the quotation"
      ],
      "metadata": {
        "colab": {
          "base_uri": "https://localhost:8080/"
        },
        "id": "7-CNXFetbxxk",
        "outputId": "615ba27e-14e0-4cfb-fc56-e58d47f2fd97"
      },
      "execution_count": 7,
      "outputs": [
        {
          "output_type": "execute_result",
          "data": {
            "text/plain": [
              "['Today', 'windy', 'rainy']"
            ]
          },
          "metadata": {},
          "execution_count": 7
        }
      ]
    },
    {
      "cell_type": "code",
      "source": [
        "text2 = 'My phone number is 600-555-123'"
      ],
      "metadata": {
        "id": "zDJawBMPb4gG"
      },
      "execution_count": 8,
      "outputs": []
    },
    {
      "cell_type": "code",
      "source": [
        "phone = re.search(r'\\d\\d\\d-\\d\\d\\d-\\d\\d\\d', text2)"
      ],
      "metadata": {
        "id": "Ah1yfRztcyHr"
      },
      "execution_count": 9,
      "outputs": []
    },
    {
      "cell_type": "code",
      "source": [
        "phone"
      ],
      "metadata": {
        "colab": {
          "base_uri": "https://localhost:8080/"
        },
        "id": "WeS-Fvc4c4al",
        "outputId": "a8420bb3-5969-47c5-95fb-624f279a23f5"
      },
      "execution_count": 10,
      "outputs": [
        {
          "output_type": "execute_result",
          "data": {
            "text/plain": [
              "<re.Match object; span=(19, 30), match='600-555-123'>"
            ]
          },
          "metadata": {},
          "execution_count": 10
        }
      ]
    },
    {
      "cell_type": "code",
      "source": [
        "phone.group() #calls the found string"
      ],
      "metadata": {
        "colab": {
          "base_uri": "https://localhost:8080/",
          "height": 36
        },
        "id": "1gUIc9bzc8vI",
        "outputId": "945dfc8b-fa87-416e-a776-ae25b4fbef6c"
      },
      "execution_count": 11,
      "outputs": [
        {
          "output_type": "execute_result",
          "data": {
            "text/plain": [
              "'600-555-123'"
            ],
            "application/vnd.google.colaboratory.intrinsic+json": {
              "type": "string"
            }
          },
          "metadata": {},
          "execution_count": 11
        }
      ]
    },
    {
      "cell_type": "code",
      "source": [
        ""
      ],
      "metadata": {
        "id": "zN-Viey2c-5M"
      },
      "execution_count": null,
      "outputs": []
    },
    {
      "cell_type": "markdown",
      "source": [
        "# Quantifiers\n",
        "+ one or more items\n",
        "\n",
        "\n",
        "---\n",
        "\n",
        "\n",
        "{x} exactly x items\n",
        "\n",
        "\n",
        "---\n",
        "\n",
        "\n",
        "{x,y} x to y\n",
        "\n",
        "\n",
        "---\n",
        "\n",
        "\n",
        "{x,} x or more\n",
        "\n",
        "\n",
        "---\n",
        "\n",
        "\n",
        "'*' zero or more\n",
        "\n",
        "\n",
        "---\n",
        "\n",
        "\n",
        "? once or none\n"
      ],
      "metadata": {
        "id": "dsFXhqcrdMHz"
      }
    },
    {
      "cell_type": "code",
      "source": [
        "text2 = 'My phone number is 600-555-123'"
      ],
      "metadata": {
        "id": "aLTk0htkdj4C"
      },
      "execution_count": 12,
      "outputs": []
    },
    {
      "cell_type": "code",
      "source": [
        "phone = re.search(r'\\d{3}-\\d{3}-\\d{3}', text2)"
      ],
      "metadata": {
        "id": "hRvdiKSmeaQe"
      },
      "execution_count": 17,
      "outputs": []
    },
    {
      "cell_type": "code",
      "source": [
        "phone"
      ],
      "metadata": {
        "colab": {
          "base_uri": "https://localhost:8080/"
        },
        "id": "B5kPa-Xxehas",
        "outputId": "6be286a9-b05b-4062-a1c9-7116c0ae63db"
      },
      "execution_count": 18,
      "outputs": [
        {
          "output_type": "execute_result",
          "data": {
            "text/plain": [
              "<re.Match object; span=(19, 30), match='600-555-123'>"
            ]
          },
          "metadata": {},
          "execution_count": 18
        }
      ]
    },
    {
      "cell_type": "code",
      "source": [
        ""
      ],
      "metadata": {
        "id": "K2OJ4F3zemx1"
      },
      "execution_count": 18,
      "outputs": []
    },
    {
      "cell_type": "code",
      "source": [
        "phone_pattern = re.compile(r'(\\d{3})-(\\d{3})-(\\d{3})') #groups the patterns"
      ],
      "metadata": {
        "id": "DGROaZDse8Q-"
      },
      "execution_count": 19,
      "outputs": []
    },
    {
      "cell_type": "code",
      "source": [
        "results = re.search(phone_pattern, text2)"
      ],
      "metadata": {
        "id": "_-zQHwFefRM3"
      },
      "execution_count": 23,
      "outputs": []
    },
    {
      "cell_type": "code",
      "source": [
        "results.group()"
      ],
      "metadata": {
        "colab": {
          "base_uri": "https://localhost:8080/",
          "height": 36
        },
        "id": "ndbbegdVfVPN",
        "outputId": "1e4cb968-988f-4307-bdd8-a51a89b0a8d0"
      },
      "execution_count": 24,
      "outputs": [
        {
          "output_type": "execute_result",
          "data": {
            "text/plain": [
              "'600-555-123'"
            ],
            "application/vnd.google.colaboratory.intrinsic+json": {
              "type": "string"
            }
          },
          "metadata": {},
          "execution_count": 24
        }
      ]
    },
    {
      "cell_type": "code",
      "source": [
        "results.group(2) #according to patterns grouped possible to call specific index"
      ],
      "metadata": {
        "colab": {
          "base_uri": "https://localhost:8080/",
          "height": 36
        },
        "id": "YOMYrJBifVyy",
        "outputId": "8e2e25c8-1557-4727-846c-f2e2ef954c11"
      },
      "execution_count": 25,
      "outputs": [
        {
          "output_type": "execute_result",
          "data": {
            "text/plain": [
              "'555'"
            ],
            "application/vnd.google.colaboratory.intrinsic+json": {
              "type": "string"
            }
          },
          "metadata": {},
          "execution_count": 25
        }
      ]
    },
    {
      "cell_type": "code",
      "source": [
        ""
      ],
      "metadata": {
        "id": "JTIC_dntfgqh"
      },
      "execution_count": null,
      "outputs": []
    },
    {
      "cell_type": "markdown",
      "source": [
        "# Additional Regular Expressions Syntax"
      ],
      "metadata": {
        "id": "icymSfHugM2U"
      }
    },
    {
      "cell_type": "code",
      "source": [
        "text3 = 'I have a beautiful, white dog named Charlie'"
      ],
      "metadata": {
        "id": "ZqGIErYsgcyt"
      },
      "execution_count": 26,
      "outputs": []
    },
    {
      "cell_type": "code",
      "source": [
        "re.search(r'cat|dog', text3)"
      ],
      "metadata": {
        "colab": {
          "base_uri": "https://localhost:8080/"
        },
        "id": "2WyCl83vgpZN",
        "outputId": "ae830893-a25f-4213-cec0-fe06afd6b9b1"
      },
      "execution_count": 27,
      "outputs": [
        {
          "output_type": "execute_result",
          "data": {
            "text/plain": [
              "<re.Match object; span=(26, 29), match='dog'>"
            ]
          },
          "metadata": {},
          "execution_count": 27
        }
      ]
    },
    {
      "cell_type": "code",
      "source": [
        "text4 = 'The cat in the hat sat there'"
      ],
      "metadata": {
        "id": "9GTLG6Engvr6"
      },
      "execution_count": 28,
      "outputs": []
    },
    {
      "cell_type": "code",
      "source": [
        "re.findall(r'at', text4)"
      ],
      "metadata": {
        "colab": {
          "base_uri": "https://localhost:8080/"
        },
        "id": "_hl8k3bFg9oh",
        "outputId": "3fddb130-4afe-449b-9936-beba3e84aeeb"
      },
      "execution_count": 29,
      "outputs": [
        {
          "output_type": "execute_result",
          "data": {
            "text/plain": [
              "['at', 'at', 'at']"
            ]
          },
          "metadata": {},
          "execution_count": 29
        }
      ]
    },
    {
      "cell_type": "code",
      "source": [
        "re.findall(r'\\Sat', text4) #r'.at' works identically"
      ],
      "metadata": {
        "colab": {
          "base_uri": "https://localhost:8080/"
        },
        "id": "cbwRgVrKhAXa",
        "outputId": "3ae6b5e8-9d95-4e6e-e2be-b78a1f106800"
      },
      "execution_count": 30,
      "outputs": [
        {
          "output_type": "execute_result",
          "data": {
            "text/plain": [
              "['cat', 'hat', 'sat']"
            ]
          },
          "metadata": {},
          "execution_count": 30
        }
      ]
    },
    {
      "cell_type": "code",
      "source": [
        "text5 = 'The cat in the hat went splat'"
      ],
      "metadata": {
        "id": "56mFhFcvhE7x"
      },
      "execution_count": 31,
      "outputs": []
    },
    {
      "cell_type": "code",
      "source": [
        "re.findall(r'\\S*at', text5) #... does not work cause . could be also a white space"
      ],
      "metadata": {
        "colab": {
          "base_uri": "https://localhost:8080/"
        },
        "id": "5mhUCgRshcqy",
        "outputId": "6752fa88-d169-44bb-9bd8-dc235c2fec6e"
      },
      "execution_count": 32,
      "outputs": [
        {
          "output_type": "execute_result",
          "data": {
            "text/plain": [
              "['cat', 'hat', 'splat']"
            ]
          },
          "metadata": {},
          "execution_count": 32
        }
      ]
    },
    {
      "cell_type": "code",
      "source": [
        ""
      ],
      "metadata": {
        "id": "xM6jPjsqhj_N"
      },
      "execution_count": null,
      "outputs": []
    },
    {
      "cell_type": "markdown",
      "source": [
        "Starts with and ends with\n",
        "\n",
        "\n",
        "---\n",
        "\n",
        "\n",
        "it works only for the whole string!!!"
      ],
      "metadata": {
        "id": "sDcF7mUxh5qf"
      }
    },
    {
      "cell_type": "code",
      "source": [
        "re.findall(r'^\\d', '3 is a digit')"
      ],
      "metadata": {
        "colab": {
          "base_uri": "https://localhost:8080/"
        },
        "id": "pvs0OROqhyxh",
        "outputId": "179d5f76-09a2-404e-b507-40d6e37cc3ba"
      },
      "execution_count": 35,
      "outputs": [
        {
          "output_type": "execute_result",
          "data": {
            "text/plain": [
              "['3']"
            ]
          },
          "metadata": {},
          "execution_count": 35
        }
      ]
    },
    {
      "cell_type": "code",
      "source": [
        "re.findall(r'\\d$', 'For example a digit is 6')"
      ],
      "metadata": {
        "colab": {
          "base_uri": "https://localhost:8080/"
        },
        "id": "TQLMv2JXiEpS",
        "outputId": "3f34aa41-a0f6-4fe4-e2f5-3cc226b7a173"
      },
      "execution_count": 36,
      "outputs": [
        {
          "output_type": "execute_result",
          "data": {
            "text/plain": [
              "['6']"
            ]
          },
          "metadata": {},
          "execution_count": 36
        }
      ]
    },
    {
      "cell_type": "code",
      "source": [
        ""
      ],
      "metadata": {
        "id": "siowYdxwinLb"
      },
      "execution_count": null,
      "outputs": []
    },
    {
      "cell_type": "markdown",
      "source": [
        "Exdluding"
      ],
      "metadata": {
        "id": "zWu1lvsai9Yv"
      }
    },
    {
      "cell_type": "code",
      "source": [
        "phrase = 'There are 4 random 3 digits inside 34 that sentence 53'"
      ],
      "metadata": {
        "id": "AzNDIq66i_Vr"
      },
      "execution_count": 46,
      "outputs": []
    },
    {
      "cell_type": "code",
      "source": [
        "pattern = r'[^\\d]' #inside squere brackets ^+type "
      ],
      "metadata": {
        "id": "iMRXGvGhjFJv"
      },
      "execution_count": 43,
      "outputs": []
    },
    {
      "cell_type": "code",
      "source": [
        "re.findall(pattern, phrase)"
      ],
      "metadata": {
        "colab": {
          "base_uri": "https://localhost:8080/"
        },
        "id": "_ujMoZlpjRwW",
        "outputId": "2a45a34f-5015-497d-da2f-8df68bfc68f4"
      },
      "execution_count": 40,
      "outputs": [
        {
          "output_type": "execute_result",
          "data": {
            "text/plain": [
              "['T',\n",
              " 'h',\n",
              " 'e',\n",
              " 'r',\n",
              " 'e',\n",
              " ' ',\n",
              " 'a',\n",
              " 'r',\n",
              " 'e',\n",
              " ' ',\n",
              " ' ',\n",
              " 'r',\n",
              " 'a',\n",
              " 'n',\n",
              " 'd',\n",
              " 'o',\n",
              " 'm',\n",
              " ' ',\n",
              " ' ',\n",
              " 'd',\n",
              " 'i',\n",
              " 'g',\n",
              " 'i',\n",
              " 't',\n",
              " 's',\n",
              " ' ',\n",
              " 'i',\n",
              " 'n',\n",
              " 's',\n",
              " 'i',\n",
              " 'd',\n",
              " 'e',\n",
              " ' ',\n",
              " ' ',\n",
              " 't',\n",
              " 'h',\n",
              " 'a',\n",
              " 't',\n",
              " ' ',\n",
              " 's',\n",
              " 'e',\n",
              " 'n',\n",
              " 't',\n",
              " 'e',\n",
              " 'n',\n",
              " 'c',\n",
              " 'e',\n",
              " ' ']"
            ]
          },
          "metadata": {},
          "execution_count": 40
        }
      ]
    },
    {
      "cell_type": "code",
      "source": [
        "#if do not want to split the words add + at the end:\n",
        "pattern = r'[^\\d]+' #inside squere brackets ^+type \n",
        "re.findall(pattern, phrase)"
      ],
      "metadata": {
        "colab": {
          "base_uri": "https://localhost:8080/"
        },
        "id": "4FazY9AfjULu",
        "outputId": "9cf9fbac-1819-4cef-b4f0-54202b0f3a4d"
      },
      "execution_count": 47,
      "outputs": [
        {
          "output_type": "execute_result",
          "data": {
            "text/plain": [
              "['There are ', ' random ', ' digits inside ', ' that sentence ']"
            ]
          },
          "metadata": {},
          "execution_count": 47
        }
      ]
    },
    {
      "cell_type": "code",
      "source": [
        "test_phrase = 'This is a    string! It   has a punctation. How can I remove it?'"
      ],
      "metadata": {
        "id": "1rY8hlCDjm2o"
      },
      "execution_count": 61,
      "outputs": []
    },
    {
      "cell_type": "code",
      "source": [
        "clean = re.findall(r'[^.!? ]+', test_phrase)"
      ],
      "metadata": {
        "id": "UNDQWPLokM-b"
      },
      "execution_count": 62,
      "outputs": []
    },
    {
      "cell_type": "code",
      "source": [
        "' '.join(clean)"
      ],
      "metadata": {
        "colab": {
          "base_uri": "https://localhost:8080/",
          "height": 36
        },
        "id": "MwBHTpGRkQ_F",
        "outputId": "04e50969-5a35-42eb-9807-46e33dbb4588"
      },
      "execution_count": 63,
      "outputs": [
        {
          "output_type": "execute_result",
          "data": {
            "text/plain": [
              "'This is a string It has a punctation How can I remove it'"
            ],
            "application/vnd.google.colaboratory.intrinsic+json": {
              "type": "string"
            }
          },
          "metadata": {},
          "execution_count": 63
        }
      ]
    },
    {
      "cell_type": "code",
      "source": [
        ""
      ],
      "metadata": {
        "id": "6QltX7uEkvVs"
      },
      "execution_count": null,
      "outputs": []
    },
    {
      "cell_type": "code",
      "source": [
        ""
      ],
      "metadata": {
        "id": "2LUpMSFvlbrj"
      },
      "execution_count": null,
      "outputs": []
    },
    {
      "cell_type": "code",
      "source": [
        "text = 'Only find hypen-words in this sentence. But you do not know how long-ish they are'"
      ],
      "metadata": {
        "id": "b91-8UGGlbpp"
      },
      "execution_count": 64,
      "outputs": []
    },
    {
      "cell_type": "code",
      "source": [
        "pattern = r'\\w+-\\w+' \n",
        "#use [] to make the code more clear\n",
        "pattern = r'[\\w]+-[\\w]+'"
      ],
      "metadata": {
        "id": "cCgnkbAXlju3"
      },
      "execution_count": 68,
      "outputs": []
    },
    {
      "cell_type": "code",
      "source": [
        "re.findall(pattern, text)"
      ],
      "metadata": {
        "colab": {
          "base_uri": "https://localhost:8080/"
        },
        "id": "fNMBuhoVltRm",
        "outputId": "e463daf8-e060-4602-a804-adb92eb29b9d"
      },
      "execution_count": 69,
      "outputs": [
        {
          "output_type": "execute_result",
          "data": {
            "text/plain": [
              "['hypen-words', 'long-ish']"
            ]
          },
          "metadata": {},
          "execution_count": 69
        }
      ]
    },
    {
      "cell_type": "code",
      "source": [
        ""
      ],
      "metadata": {
        "id": "uF5b5717lzWQ"
      },
      "execution_count": null,
      "outputs": []
    }
  ]
}