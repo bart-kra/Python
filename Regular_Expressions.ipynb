{
  "nbformat": 4,
  "nbformat_minor": 0,
  "metadata": {
    "colab": {
      "name": "Regular Expressions.ipynb",
      "provenance": [],
      "authorship_tag": "ABX9TyNWKdqUNL63dC8OhS46tVeN"
    },
    "kernelspec": {
      "name": "python3",
      "display_name": "Python 3"
    },
    "language_info": {
      "name": "python"
    }
  },
  "cells": [
    {
      "cell_type": "markdown",
      "source": [
        "Regular expressions lets us to find a string in format that interests us in the text."
      ],
      "metadata": {
        "id": "t6sxp5gyY2T8"
      }
    },
    {
      "cell_type": "code",
      "execution_count": 1,
      "metadata": {
        "id": "9vNeDXZD9HYP"
      },
      "outputs": [],
      "source": [
        "text = \"Cranes are one of the most beautiful animals all around the world\""
      ]
    },
    {
      "cell_type": "code",
      "source": [
        "'most' in text #regular IN expression (returns boolean)"
      ],
      "metadata": {
        "colab": {
          "base_uri": "https://localhost:8080/"
        },
        "id": "YO7VNaGZZfut",
        "outputId": "438e86d8-a4e4-4ced-e9da-86647b29015e"
      },
      "execution_count": 2,
      "outputs": [
        {
          "output_type": "execute_result",
          "data": {
            "text/plain": [
              "True"
            ]
          },
          "metadata": {},
          "execution_count": 2
        }
      ]
    },
    {
      "cell_type": "code",
      "source": [
        "import re #imports regular expressions module"
      ],
      "metadata": {
        "id": "4tRVUoD6ZkvV"
      },
      "execution_count": 4,
      "outputs": []
    },
    {
      "cell_type": "code",
      "source": [
        "pattern = 'most'"
      ],
      "metadata": {
        "id": "KvLvM8_NZtSf"
      },
      "execution_count": 5,
      "outputs": []
    },
    {
      "cell_type": "code",
      "source": [
        "#returns object (only the first) and its position\n",
        "re.search(pattern, text)"
      ],
      "metadata": {
        "colab": {
          "base_uri": "https://localhost:8080/"
        },
        "id": "XA5ax2-5Zy5K",
        "outputId": "7e3adc8c-b0e5-41b2-e56d-6cc90b2ad940"
      },
      "execution_count": 6,
      "outputs": [
        {
          "output_type": "execute_result",
          "data": {
            "text/plain": [
              "<re.Match object; span=(22, 26), match='most'>"
            ]
          },
          "metadata": {},
          "execution_count": 6
        }
      ]
    },
    {
      "cell_type": "code",
      "source": [
        "pattern = \"RANDOM TEXT\""
      ],
      "metadata": {
        "id": "J4zhGaOCZ0cv"
      },
      "execution_count": 7,
      "outputs": []
    },
    {
      "cell_type": "code",
      "source": [
        "#re.search returns nothing if pattern not in text\n",
        "re.search(pattern, text)"
      ],
      "metadata": {
        "id": "VPjRPvMYaLcN"
      },
      "execution_count": 8,
      "outputs": []
    },
    {
      "cell_type": "code",
      "source": [
        "pattern = \"most\""
      ],
      "metadata": {
        "id": "cMO-bcJxaNPf"
      },
      "execution_count": 9,
      "outputs": []
    },
    {
      "cell_type": "code",
      "source": [
        ""
      ],
      "metadata": {
        "id": "gHlo7vpPaWCO"
      },
      "execution_count": null,
      "outputs": []
    }
  ]
}