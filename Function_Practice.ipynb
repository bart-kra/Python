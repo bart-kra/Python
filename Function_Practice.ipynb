{
  "nbformat": 4,
  "nbformat_minor": 0,
  "metadata": {
    "colab": {
      "name": "Function Practice.ipynb",
      "provenance": [],
      "authorship_tag": "ABX9TyMhbUu8LqTJzTzsyx1CCj86"
    },
    "kernelspec": {
      "name": "python3",
      "display_name": "Python 3"
    },
    "language_info": {
      "name": "python"
    }
  },
  "cells": [
    {
      "cell_type": "code",
      "execution_count": null,
      "metadata": {
        "id": "mRVbFkCzjFc4"
      },
      "outputs": [],
      "source": [
        "def myfunc(a,b):\n",
        "  if a % 2 == 0 and b % 2 == 0:\n",
        "    return min(a,b)\n",
        "  else:\n",
        "    return max(a,b)"
      ]
    },
    {
      "cell_type": "code",
      "source": [
        "def myfunc(words):\n",
        "  wordlist = words.split()\n",
        "  return wordlist[0][0] == wordlist[1][0]"
      ],
      "metadata": {
        "id": "vMNlQuqemoC9"
      },
      "execution_count": null,
      "outputs": []
    },
    {
      "cell_type": "code",
      "source": [
        "def myfunc(a,b):\n",
        "  return a + b == 20 or a == 20 or b == 20"
      ],
      "metadata": {
        "id": "yUH26LlRqPPU"
      },
      "execution_count": null,
      "outputs": []
    },
    {
      "cell_type": "code",
      "source": [
        "def myfunc(word):\n",
        "  if len(word) > 3:\n",
        "    return word[:3].capitalize() + word[3:].capitalize()\n",
        "  else:\n",
        "    print('Too short word!')\n",
        "myfunc('bartek')"
      ],
      "metadata": {
        "id": "vRvRDgvZqkc2"
      },
      "execution_count": null,
      "outputs": []
    },
    {
      "cell_type": "code",
      "source": [
        "def myfunc(sentence):\n",
        "  return ' '.join(sentence.split()[::-1])\n"
      ],
      "metadata": {
        "id": "HvZyg7dprBxY"
      },
      "execution_count": 39,
      "outputs": []
    },
    {
      "cell_type": "code",
      "source": [
        ""
      ],
      "metadata": {
        "id": "ehvMMXyZvLRM"
      },
      "execution_count": null,
      "outputs": []
    }
  ]
}