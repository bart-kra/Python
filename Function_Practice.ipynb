{
  "nbformat": 4,
  "nbformat_minor": 0,
  "metadata": {
    "colab": {
      "name": "Function Practice.ipynb",
      "provenance": [],
      "authorship_tag": "ABX9TyOKMN/hxeb/9N3gef8dNebJ"
    },
    "kernelspec": {
      "name": "python3",
      "display_name": "Python 3"
    },
    "language_info": {
      "name": "python"
    }
  },
  "cells": [
    {
      "cell_type": "code",
      "execution_count": null,
      "metadata": {
        "id": "mRVbFkCzjFc4"
      },
      "outputs": [],
      "source": [
        "def myfunc(a,b):\n",
        "  if a % 2 == 0 and b % 2 == 0:\n",
        "    return min(a,b)\n",
        "  else:\n",
        "    return max(a,b)"
      ]
    },
    {
      "cell_type": "code",
      "source": [
        "def myfunc(words):\n",
        "  wordlist = words.split()\n",
        "  return wordlist[0][0] == wordlist[1][0]"
      ],
      "metadata": {
        "id": "vMNlQuqemoC9"
      },
      "execution_count": null,
      "outputs": []
    },
    {
      "cell_type": "code",
      "source": [
        "def myfunc(a,b):\n",
        "  return a + b == 20 or a == 20 or b == 20"
      ],
      "metadata": {
        "id": "yUH26LlRqPPU"
      },
      "execution_count": null,
      "outputs": []
    },
    {
      "cell_type": "code",
      "source": [
        "def myfunc(word):\n",
        "  if len(word) > 3:\n",
        "    return word[:3].capitalize() + word[3:].capitalize()\n",
        "  else:\n",
        "    print('Too short word!')\n",
        "myfunc('bartek')"
      ],
      "metadata": {
        "id": "vRvRDgvZqkc2"
      },
      "execution_count": null,
      "outputs": []
    },
    {
      "cell_type": "code",
      "source": [
        "def myfunc(sentence):\n",
        "  return ' '.join(sentence.split()[::-1])\n"
      ],
      "metadata": {
        "id": "HvZyg7dprBxY"
      },
      "execution_count": 39,
      "outputs": []
    },
    {
      "cell_type": "code",
      "source": [
        "def print_big(letter):\n",
        "    patterns = {1:'  *  ',2:' * * ',3:'*   *',4:'*****',5:'**** ',6:'   * ',7:' *   ',8:'*   * ',9:'*    ',10:' *** ',11:'*  **',12:'*  * ',13:' **  '}\n",
        "    alphabet = {'A':[1,2,4,3,3],'B':[5,3,5,3,5],'C':[4,9,9,9,4],'D':[5,3,3,3,5],'E':[4,9,4,9,4],'F':[4,9,4,9,9],'G':[10,9,11,12,13],'H':[3,3,4,3,3], 'I':[1,1,1,1,1]}\n",
        "    for pattern in alphabet[letter.upper()]:\n",
        "        print(patterns[pattern])"
      ],
      "metadata": {
        "id": "ehvMMXyZvLRM"
      },
      "execution_count": 21,
      "outputs": []
    },
    {
      "cell_type": "markdown",
      "source": [
        "# Lambda, map, filter"
      ],
      "metadata": {
        "id": "CDwySCXiAf-5"
      }
    },
    {
      "cell_type": "markdown",
      "source": [
        "\n",
        "\n",
        "*   Lambda is kind of function that is used just once, usually in body of map or filter\n",
        "*   map lets to execute the function on each element of a list (then for loop is unnecessary)\n",
        "*   filter works the same way but returns only true or false\n",
        "\n",
        " "
      ],
      "metadata": {
        "id": "3xWqSjUV9N7o"
      }
    },
    {
      "cell_type": "code",
      "source": [
        "def if_even (num):\n",
        "  return num % 2 == 0"
      ],
      "metadata": {
        "id": "4ffyIjgpAlPu"
      },
      "execution_count": 1,
      "outputs": []
    },
    {
      "cell_type": "code",
      "source": [
        "mylist = [1,2,3,4,5,6,7,8,9]"
      ],
      "metadata": {
        "id": "QEjvAcPe-DWW"
      },
      "execution_count": 2,
      "outputs": []
    },
    {
      "cell_type": "code",
      "source": [
        "list(filter(if_even, mylist))"
      ],
      "metadata": {
        "colab": {
          "base_uri": "https://localhost:8080/"
        },
        "id": "WTIGT_SH9eJ-",
        "outputId": "608b1d81-f208-4bb7-e6ea-75b983a188c8"
      },
      "execution_count": 4,
      "outputs": [
        {
          "output_type": "execute_result",
          "data": {
            "text/plain": [
              "[2, 4, 6, 8]"
            ]
          },
          "metadata": {},
          "execution_count": 4
        }
      ]
    },
    {
      "cell_type": "code",
      "source": [
        "list(filter(lambda num : num % 2 == 0, mylist))"
      ],
      "metadata": {
        "colab": {
          "base_uri": "https://localhost:8080/"
        },
        "id": "l_KN7SKN-LJq",
        "outputId": "823ff2ae-a847-4075-e741-2a1858205211"
      },
      "execution_count": 5,
      "outputs": [
        {
          "output_type": "execute_result",
          "data": {
            "text/plain": [
              "[2, 4, 6, 8]"
            ]
          },
          "metadata": {},
          "execution_count": 5
        }
      ]
    },
    {
      "cell_type": "code",
      "source": [
        "def capitalize(words):\n",
        "  return words[0].upper()"
      ],
      "metadata": {
        "id": "eze1ZEeu-kqp"
      },
      "execution_count": 27,
      "outputs": []
    },
    {
      "cell_type": "code",
      "source": [
        "mylist = ['abby', 'betty', 'cody']"
      ],
      "metadata": {
        "id": "vEEtEaws-7gq"
      },
      "execution_count": 28,
      "outputs": []
    },
    {
      "cell_type": "code",
      "source": [
        "list(map(capitalize, mylist))"
      ],
      "metadata": {
        "colab": {
          "base_uri": "https://localhost:8080/"
        },
        "id": "9vSDWuPg_CWC",
        "outputId": "a70cfa1d-a85c-4ff0-c76a-3b9758607807"
      },
      "execution_count": 29,
      "outputs": [
        {
          "output_type": "execute_result",
          "data": {
            "text/plain": [
              "['A', 'B', 'C']"
            ]
          },
          "metadata": {},
          "execution_count": 29
        }
      ]
    },
    {
      "cell_type": "code",
      "source": [
        "list(map(lambda words : words[0].upper(), mylist))"
      ],
      "metadata": {
        "colab": {
          "base_uri": "https://localhost:8080/"
        },
        "id": "IZvpRABc_Fd5",
        "outputId": "6e19cefc-c25c-4adc-ee3a-e8a2290241d3"
      },
      "execution_count": 31,
      "outputs": [
        {
          "output_type": "execute_result",
          "data": {
            "text/plain": [
              "['A', 'B', 'C']"
            ]
          },
          "metadata": {},
          "execution_count": 31
        }
      ]
    },
    {
      "cell_type": "markdown",
      "source": [
        "# Functions homework"
      ],
      "metadata": {
        "id": "AeoQIaktty5Y"
      }
    },
    {
      "cell_type": "code",
      "source": [
        "#sphere volume computing\n",
        "def spherevol(rad):\n",
        "  return 4/3 * 3.14 * rad**3"
      ],
      "metadata": {
        "id": "C2-COBsQA8Ta"
      },
      "execution_count": 3,
      "outputs": []
    },
    {
      "cell_type": "code",
      "source": [
        "spherevol(2)"
      ],
      "metadata": {
        "colab": {
          "base_uri": "https://localhost:8080/"
        },
        "id": "PjZN3WfPuBtI",
        "outputId": "10eece51-908d-4901-e3c8-d200c57cff71"
      },
      "execution_count": 4,
      "outputs": [
        {
          "output_type": "execute_result",
          "data": {
            "text/plain": [
              "33.49333333333333"
            ]
          },
          "metadata": {},
          "execution_count": 4
        }
      ]
    },
    {
      "cell_type": "code",
      "source": [
        "#check if number in range\n",
        "def ifinrange(a,b,x):\n",
        "  return x in range(a, b+1,1)"
      ],
      "metadata": {
        "id": "czFUz6fyuOVY"
      },
      "execution_count": 114,
      "outputs": []
    },
    {
      "cell_type": "code",
      "source": [
        "ifinrange(1,5,6)"
      ],
      "metadata": {
        "colab": {
          "base_uri": "https://localhost:8080/"
        },
        "id": "3vNPy_zkueso",
        "outputId": "c26591ee-de65-4110-db4a-e435bc0d0156"
      },
      "execution_count": 115,
      "outputs": [
        {
          "output_type": "execute_result",
          "data": {
            "text/plain": [
              "False"
            ]
          },
          "metadata": {},
          "execution_count": 115
        }
      ]
    },
    {
      "cell_type": "code",
      "source": [
        "def countupperlower(sentence):\n",
        "  uppers = 0\n",
        "  lowers = 0\n",
        "  for index,letter in enumerate(sentence):\n",
        "    if sentence[index].islower() == True:\n",
        "      lowers += 1\n",
        "    elif sentence[index].isupper():\n",
        "      uppers += 1\n",
        "  return uppers, lowers"
      ],
      "metadata": {
        "id": "jA7Aa5YEuu2W"
      },
      "execution_count": 30,
      "outputs": []
    },
    {
      "cell_type": "code",
      "source": [
        "mystring = 'Hey my name is Bartek'\n",
        "countupperlower(mystring)"
      ],
      "metadata": {
        "colab": {
          "base_uri": "https://localhost:8080/"
        },
        "id": "-2cUMnOXv5Ab",
        "outputId": "cbc8e820-7bbb-4d1e-aa93-deca165f6917"
      },
      "execution_count": 31,
      "outputs": [
        {
          "output_type": "execute_result",
          "data": {
            "text/plain": [
              "(2, 15)"
            ]
          },
          "metadata": {},
          "execution_count": 31
        }
      ]
    },
    {
      "cell_type": "code",
      "source": [
        "def uniquelist(numslist):\n",
        "  return set(numslist)"
      ],
      "metadata": {
        "id": "7Y2JIOqXwEU_"
      },
      "execution_count": 32,
      "outputs": []
    },
    {
      "cell_type": "code",
      "source": [
        "mylist = [1,1,1,2,2,2,2,3,3,4,4,4,4,5,6,6,6,6,7,7,7]\n",
        "uniquelist(mylist)"
      ],
      "metadata": {
        "colab": {
          "base_uri": "https://localhost:8080/"
        },
        "id": "ZMnEcTVMyPfE",
        "outputId": "e99f9605-d2c3-4e2c-9bac-6e1c8ec5c4e5"
      },
      "execution_count": 33,
      "outputs": [
        {
          "output_type": "execute_result",
          "data": {
            "text/plain": [
              "{1, 2, 3, 4, 5, 6, 7}"
            ]
          },
          "metadata": {},
          "execution_count": 33
        }
      ]
    },
    {
      "cell_type": "code",
      "source": [
        "def multiplyelems(list):\n",
        "  result = 1\n",
        "  for index,num in enumerate(list):\n",
        "    result *= list[index]\n",
        "  return result"
      ],
      "metadata": {
        "id": "EAxf9xVtyZJ6"
      },
      "execution_count": 36,
      "outputs": []
    },
    {
      "cell_type": "code",
      "source": [
        "mylist = [1,2,3,-4]\n",
        "multiplyelems(mylist)"
      ],
      "metadata": {
        "colab": {
          "base_uri": "https://localhost:8080/"
        },
        "id": "XpE1a3HMyxtM",
        "outputId": "6581d59f-b8c5-4a17-97e4-ae47256746d5"
      },
      "execution_count": 37,
      "outputs": [
        {
          "output_type": "execute_result",
          "data": {
            "text/plain": [
              "-24"
            ]
          },
          "metadata": {},
          "execution_count": 37
        }
      ]
    },
    {
      "cell_type": "code",
      "source": [
        "def pallindrom(sentence):\n",
        "  return sentence[::1] == sentence[::-1]"
      ],
      "metadata": {
        "id": "WoxJdNXvy2JS"
      },
      "execution_count": 38,
      "outputs": []
    },
    {
      "cell_type": "code",
      "source": [
        "pallindrom('helleh')"
      ],
      "metadata": {
        "colab": {
          "base_uri": "https://localhost:8080/"
        },
        "id": "hBSpgtf-zMjv",
        "outputId": "c6e9925d-4d4e-4620-9b1a-e00bd35bdb7b"
      },
      "execution_count": 41,
      "outputs": [
        {
          "output_type": "execute_result",
          "data": {
            "text/plain": [
              "True"
            ]
          },
          "metadata": {},
          "execution_count": 41
        }
      ]
    },
    {
      "cell_type": "code",
      "source": [
        "import string\n",
        "def pangram(sentence):\n",
        "  mylist = []\n",
        "  sentence = sentence.replace(\" \", \"\").lower()\n",
        "  for letter in sentence:\n",
        "    mylist.append(letter)\n",
        "  mylist.sort()\n",
        "  mylist = set(mylist)\n",
        "  return mylist == set(list(string.ascii_lowercase))"
      ],
      "metadata": {
        "id": "wf-qEZo_zka4"
      },
      "execution_count": 123,
      "outputs": []
    },
    {
      "cell_type": "code",
      "source": [
        "pangram('The quick brown fox jumps over the lazy dog')"
      ],
      "metadata": {
        "colab": {
          "base_uri": "https://localhost:8080/"
        },
        "id": "CFfPNjVE0OX3",
        "outputId": "77d77231-fd84-459f-fa37-8be5f25480d0"
      },
      "execution_count": 124,
      "outputs": [
        {
          "output_type": "execute_result",
          "data": {
            "text/plain": [
              "True"
            ]
          },
          "metadata": {},
          "execution_count": 124
        }
      ]
    },
    {
      "cell_type": "code",
      "source": [
        ""
      ],
      "metadata": {
        "id": "T_9YCS8c0XOB"
      },
      "execution_count": null,
      "outputs": []
    }
  ]
}