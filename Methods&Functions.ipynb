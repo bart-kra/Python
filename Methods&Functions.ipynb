{
  "nbformat": 4,
  "nbformat_minor": 0,
  "metadata": {
    "colab": {
      "name": "Methods&Functions.ipynb",
      "provenance": [],
      "authorship_tag": "ABX9TyMt/zZArVAhwGz3Fdu3ZgFS"
    },
    "kernelspec": {
      "name": "python3",
      "display_name": "Python 3"
    },
    "language_info": {
      "name": "python"
    }
  },
  "cells": [
    {
      "cell_type": "markdown",
      "source": [
        "# Basic Functions"
      ],
      "metadata": {
        "id": "2MNTgMf9rpxd"
      }
    },
    {
      "cell_type": "code",
      "source": [
        "#colon and indentations\n",
        "def say_hello():\n",
        "  print(\"Hello!\")\n",
        "  print(\"How are you going?\")\n",
        "\n",
        "say_hello()"
      ],
      "metadata": {
        "colab": {
          "base_uri": "https://localhost:8080/"
        },
        "id": "vuPLHc5crlqq",
        "outputId": "46d4befe-2894-4def-d6e3-ea074cbc33e7"
      },
      "execution_count": 2,
      "outputs": [
        {
          "output_type": "stream",
          "name": "stdout",
          "text": [
            "Hello!\n",
            "How are you going?\n"
          ]
        }
      ]
    },
    {
      "cell_type": "code",
      "execution_count": 3,
      "metadata": {
        "id": "bT6ShvWTT5L0",
        "colab": {
          "base_uri": "https://localhost:8080/"
        },
        "outputId": "55f83464-be51-456c-b895-499c9a898710"
      },
      "outputs": [
        {
          "output_type": "stream",
          "name": "stdout",
          "text": [
            "Hello Bartek\n"
          ]
        }
      ],
      "source": [
        "def say_hello(name): #in parentheses varaible could could be named however\n",
        "  print(\"Hello {}\".format(name))\n",
        "\n",
        "say_hello('Bartek') #if do not give any value in the parentheses - error"
      ]
    },
    {
      "cell_type": "code",
      "source": [
        "#to avoid errors use:\n",
        "def say_hello(name='Default'):\n",
        "  print('Hello {}'.format(name))\n",
        "\n",
        "say_hello()"
      ],
      "metadata": {
        "id": "UxxsvMaSbw5c",
        "colab": {
          "base_uri": "https://localhost:8080/"
        },
        "outputId": "605d24c1-8107-4b29-ffa2-5dc83dccfd6b"
      },
      "execution_count": 4,
      "outputs": [
        {
          "output_type": "stream",
          "name": "stdout",
          "text": [
            "Hello Default\n"
          ]
        }
      ]
    },
    {
      "cell_type": "code",
      "source": [
        "#return saves result as variable\n",
        "def add_num(num1,num2):\n",
        "  return num1 + num2\n",
        "\n",
        "result = add_num(10,20)\n",
        "result"
      ],
      "metadata": {
        "id": "kwobl7pm-bAR",
        "colab": {
          "base_uri": "https://localhost:8080/"
        },
        "outputId": "28bb8f64-e20e-4e19-a0ae-1d8d476521e7"
      },
      "execution_count": 6,
      "outputs": [
        {
          "output_type": "execute_result",
          "data": {
            "text/plain": [
              "30"
            ]
          },
          "metadata": {},
          "execution_count": 6
        }
      ]
    },
    {
      "cell_type": "markdown",
      "source": [
        "Python is dynamically typed so no necessary to precise data type in function body"
      ],
      "metadata": {
        "id": "D4Bt8KuXuVLI"
      }
    },
    {
      "cell_type": "code",
      "source": [
        "def sum_nums(a,b):\n",
        "  return a+b\n",
        "\n",
        "sum_nums('10','20')"
      ],
      "metadata": {
        "colab": {
          "base_uri": "https://localhost:8080/",
          "height": 36
        },
        "id": "qgoYeWzetGBl",
        "outputId": "54bb75b2-d4ed-4203-f381-3ffa320d8a3f"
      },
      "execution_count": 7,
      "outputs": [
        {
          "output_type": "execute_result",
          "data": {
            "text/plain": [
              "'1020'"
            ],
            "application/vnd.google.colaboratory.intrinsic+json": {
              "type": "string"
            }
          },
          "metadata": {},
          "execution_count": 7
        }
      ]
    },
    {
      "cell_type": "markdown",
      "source": [
        "In effect we gets concatenated strings"
      ],
      "metadata": {
        "id": "Nrqh5iupup5n"
      }
    },
    {
      "cell_type": "code",
      "source": [
        ""
      ],
      "metadata": {
        "id": "uTOfL0IluoWG"
      },
      "execution_count": null,
      "outputs": []
    }
  ]
}