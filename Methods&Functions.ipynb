{
  "nbformat": 4,
  "nbformat_minor": 0,
  "metadata": {
    "colab": {
      "name": "Methods&Functions.ipynb",
      "provenance": [],
      "authorship_tag": "ABX9TyMBIoWxkLZksGngrh9fi4Dz"
    },
    "kernelspec": {
      "name": "python3",
      "display_name": "Python 3"
    },
    "language_info": {
      "name": "python"
    }
  },
  "cells": [
    {
      "cell_type": "markdown",
      "source": [
        "# Basic Functions"
      ],
      "metadata": {
        "id": "2MNTgMf9rpxd"
      }
    },
    {
      "cell_type": "code",
      "source": [
        "#colon and indentations\n",
        "def say_hello():\n",
        "  print(\"Hello!\")\n",
        "  print(\"How are you going?\")\n",
        "\n",
        "say_hello()"
      ],
      "metadata": {
        "colab": {
          "base_uri": "https://localhost:8080/"
        },
        "id": "vuPLHc5crlqq",
        "outputId": "46d4befe-2894-4def-d6e3-ea074cbc33e7"
      },
      "execution_count": null,
      "outputs": [
        {
          "output_type": "stream",
          "name": "stdout",
          "text": [
            "Hello!\n",
            "How are you going?\n"
          ]
        }
      ]
    },
    {
      "cell_type": "code",
      "execution_count": null,
      "metadata": {
        "id": "bT6ShvWTT5L0",
        "colab": {
          "base_uri": "https://localhost:8080/"
        },
        "outputId": "55f83464-be51-456c-b895-499c9a898710"
      },
      "outputs": [
        {
          "output_type": "stream",
          "name": "stdout",
          "text": [
            "Hello Bartek\n"
          ]
        }
      ],
      "source": [
        "def say_hello(name): #in parentheses varaible could could be named however\n",
        "  print(\"Hello {}\".format(name))\n",
        "\n",
        "say_hello('Bartek') #if do not give any value in the parentheses - error"
      ]
    },
    {
      "cell_type": "code",
      "source": [
        "#to avoid errors use:\n",
        "def say_hello(name='Default'):\n",
        "  print('Hello {}'.format(name))\n",
        "\n",
        "say_hello()"
      ],
      "metadata": {
        "id": "UxxsvMaSbw5c",
        "colab": {
          "base_uri": "https://localhost:8080/"
        },
        "outputId": "605d24c1-8107-4b29-ffa2-5dc83dccfd6b"
      },
      "execution_count": null,
      "outputs": [
        {
          "output_type": "stream",
          "name": "stdout",
          "text": [
            "Hello Default\n"
          ]
        }
      ]
    },
    {
      "cell_type": "code",
      "source": [
        "#return saves result as variable\n",
        "def add_num(num1,num2):\n",
        "  return num1 + num2\n",
        "\n",
        "result = add_num(10,20)\n",
        "result"
      ],
      "metadata": {
        "id": "kwobl7pm-bAR",
        "colab": {
          "base_uri": "https://localhost:8080/"
        },
        "outputId": "28bb8f64-e20e-4e19-a0ae-1d8d476521e7"
      },
      "execution_count": null,
      "outputs": [
        {
          "output_type": "execute_result",
          "data": {
            "text/plain": [
              "30"
            ]
          },
          "metadata": {},
          "execution_count": 6
        }
      ]
    },
    {
      "cell_type": "markdown",
      "source": [
        "Python is dynamically typed so no necessary to precise data type in function body"
      ],
      "metadata": {
        "id": "D4Bt8KuXuVLI"
      }
    },
    {
      "cell_type": "code",
      "source": [
        "def sum_nums(a,b):\n",
        "  return a+b\n",
        "\n",
        "sum_nums('10','20')"
      ],
      "metadata": {
        "colab": {
          "base_uri": "https://localhost:8080/",
          "height": 36
        },
        "id": "qgoYeWzetGBl",
        "outputId": "54bb75b2-d4ed-4203-f381-3ffa320d8a3f"
      },
      "execution_count": null,
      "outputs": [
        {
          "output_type": "execute_result",
          "data": {
            "text/plain": [
              "'1020'"
            ],
            "application/vnd.google.colaboratory.intrinsic+json": {
              "type": "string"
            }
          },
          "metadata": {},
          "execution_count": 7
        }
      ]
    },
    {
      "cell_type": "markdown",
      "source": [
        "In effect we gets concatenated strings"
      ],
      "metadata": {
        "id": "Nrqh5iupup5n"
      }
    },
    {
      "cell_type": "markdown",
      "source": [
        "Tuple unpacking by function"
      ],
      "metadata": {
        "id": "oNgk3rN2-zTw"
      }
    },
    {
      "cell_type": "code",
      "source": [
        "#UNPACKING TUPLES\n",
        "def best_employee(employees_hours):\n",
        "  current_hours = 0\n",
        "  current_employee = ''\n",
        "  for hours,employee in employees_hours:\n",
        "    if hours > current_hours:\n",
        "      current_hours = hours\n",
        "      current_employee = employee\n",
        "    else:\n",
        "      pass\n",
        "  return (current_hours,current_employee)\n",
        "  #returns unpacked tuple - possible to grab any element\n"
      ],
      "metadata": {
        "id": "uTOfL0IluoWG"
      },
      "execution_count": 7,
      "outputs": []
    },
    {
      "cell_type": "code",
      "source": [
        "employees_list = [(100,'Ann'),(200,'Barry'),(150,'Carla'),(250,'Dan'),(90,'Edward')]"
      ],
      "metadata": {
        "id": "-CxVdAwg_21A"
      },
      "execution_count": 8,
      "outputs": []
    },
    {
      "cell_type": "code",
      "source": [
        "best_employee(employees_list) #returns tuple"
      ],
      "metadata": {
        "colab": {
          "base_uri": "https://localhost:8080/"
        },
        "id": "KiW4NRKrAJ_T",
        "outputId": "29a22924-9500-4912-c671-befeb50edb90"
      },
      "execution_count": 9,
      "outputs": [
        {
          "output_type": "execute_result",
          "data": {
            "text/plain": [
              "(250, 'Dan')"
            ]
          },
          "metadata": {},
          "execution_count": 9
        }
      ]
    },
    {
      "cell_type": "code",
      "source": [
        "hours,name = best_employee(employees_list) #returns unpacked tuple"
      ],
      "metadata": {
        "id": "OgzWy9ScAOqT"
      },
      "execution_count": 13,
      "outputs": []
    },
    {
      "cell_type": "code",
      "source": [
        "name #grabbing unpacked tuple element"
      ],
      "metadata": {
        "colab": {
          "base_uri": "https://localhost:8080/",
          "height": 36
        },
        "id": "-ICVPNOXARl_",
        "outputId": "ae2e0ead-9d92-49f6-fcf5-3ed6eea37e1c"
      },
      "execution_count": 14,
      "outputs": [
        {
          "output_type": "execute_result",
          "data": {
            "text/plain": [
              "'Dan'"
            ],
            "application/vnd.google.colaboratory.intrinsic+json": {
              "type": "string"
            }
          },
          "metadata": {},
          "execution_count": 14
        }
      ]
    },
    {
      "cell_type": "markdown",
      "source": [
        "===========THREE CUP MONTE============"
      ],
      "metadata": {
        "id": "wMjzUELTF4fv"
      }
    },
    {
      "cell_type": "code",
      "source": [
        "from random import shuffle\n",
        "\n",
        "def shuffle_list(to_shuffle):\n",
        "  shuffle(to_shuffle)\n",
        "  return to_shuffle\n",
        "\n",
        "def guess_cup():\n",
        "  guess = ''\n",
        "  while guess not in ['0','1','2']:\n",
        "    guess = input('Which cup hides the ball? Choose 0-1-2: ')\n",
        "  return int(guess)\n",
        "\n",
        "def check_guess(mylist,guess):\n",
        "  if mylist[guess] == 'O':\n",
        "    print('You won!')\n",
        "  else:\n",
        "    print('Wrong! You lose!')\n",
        "    print(mylist)\n",
        "\n",
        "#initial list\n",
        "game_list = [' ','O',' ']\n",
        "print(game_list)\n",
        "\n",
        "#shuffle list\n",
        "game_list_shuffled = shuffle_list(game_list)\n",
        "print(\"Cups have been shuffled!\")\n",
        "\n",
        "#player's guess\n",
        "guess = guess_cup()\n",
        "\n",
        "#compares guess with correct cup\n",
        "check_guess(game_list_shuffled,guess)"
      ],
      "metadata": {
        "colab": {
          "base_uri": "https://localhost:8080/"
        },
        "id": "_oDt_Y1kA3FE",
        "outputId": "f0d68193-3b1b-4a4b-ff75-d8b255f47d98"
      },
      "execution_count": 25,
      "outputs": [
        {
          "output_type": "stream",
          "name": "stdout",
          "text": [
            "[' ', 'O', ' ']\n",
            "Cups have been shuffled!\n",
            "Which cup hides the ball? Choose 0-1-2: 0\n",
            "Wrong! You lose!\n",
            "[' ', 'O', ' ']\n"
          ]
        }
      ]
    },
    {
      "cell_type": "markdown",
      "source": [
        ""
      ],
      "metadata": {
        "id": "OSPQ07LNTSir"
      }
    },
    {
      "cell_type": "markdown",
      "source": [
        "# * args & **kwargs\n",
        "\n",
        "*   *args lets us to give arbitary number of arguments in function call and treats them as the tuple\n",
        "*   **kwargs lets us to give arbitary number of keywords and generates a dict\n",
        "\n",
        "\n",
        "\n"
      ],
      "metadata": {
        "id": "D4kQkjnPSjZl"
      }
    },
    {
      "cell_type": "markdown",
      "source": [
        ""
      ],
      "metadata": {
        "id": "k9NKz8XQU4a8"
      }
    },
    {
      "cell_type": "code",
      "source": [
        "#example of *args using\n",
        "def my_func(*args):\n",
        "  return sum((args))"
      ],
      "metadata": {
        "id": "GYfdoDDuIVI_"
      },
      "execution_count": 26,
      "outputs": []
    },
    {
      "cell_type": "code",
      "source": [
        "my_func(1,2,3,4,5,6,7,8,9)"
      ],
      "metadata": {
        "colab": {
          "base_uri": "https://localhost:8080/"
        },
        "id": "MyP5tmULTBCy",
        "outputId": "f128b189-e4d1-4be1-caa4-417e230ce0fe"
      },
      "execution_count": 27,
      "outputs": [
        {
          "output_type": "execute_result",
          "data": {
            "text/plain": [
              "45"
            ]
          },
          "metadata": {},
          "execution_count": 27
        }
      ]
    },
    {
      "cell_type": "code",
      "source": [
        "my_func(5,10,15,20,25,30,35)"
      ],
      "metadata": {
        "colab": {
          "base_uri": "https://localhost:8080/"
        },
        "id": "jBXflhgGTD2q",
        "outputId": "6b71007d-b1cb-4f61-db24-ef2330356116"
      },
      "execution_count": 28,
      "outputs": [
        {
          "output_type": "execute_result",
          "data": {
            "text/plain": [
              "140"
            ]
          },
          "metadata": {},
          "execution_count": 28
        }
      ]
    },
    {
      "cell_type": "code",
      "source": [
        "#shows that returns a tuple\n",
        "def my_func(*args):\n",
        "  print(args)"
      ],
      "metadata": {
        "id": "uPaFhuhoTG1b"
      },
      "execution_count": 29,
      "outputs": []
    },
    {
      "cell_type": "code",
      "source": [
        "my_func(1,2,3,4,5,6,7,8,9)"
      ],
      "metadata": {
        "colab": {
          "base_uri": "https://localhost:8080/"
        },
        "id": "QXw0bEQzTcV-",
        "outputId": "111cd47c-eea0-4029-9f46-e05bba2de261"
      },
      "execution_count": 30,
      "outputs": [
        {
          "output_type": "stream",
          "name": "stdout",
          "text": [
            "(1, 2, 3, 4, 5, 6, 7, 8, 9)\n"
          ]
        }
      ]
    },
    {
      "cell_type": "code",
      "source": [
        "#example of **kwargs using\n",
        "def my_func(**kwargs):\n",
        "  print(kwargs)\n",
        "  if 'name' in kwargs:\n",
        "    print('Hello {}'.format(kwargs['name']))\n",
        "  else:\n",
        "    print('I dont know your name!')"
      ],
      "metadata": {
        "id": "XXddNKJhTeOc"
      },
      "execution_count": 34,
      "outputs": []
    },
    {
      "cell_type": "code",
      "source": [
        "#shows that **kwargs returns dict \n",
        "my_func(name='Bartosz',surname='Krass',birthplace='Gdansk') "
      ],
      "metadata": {
        "colab": {
          "base_uri": "https://localhost:8080/"
        },
        "id": "AhEwjlxIVphH",
        "outputId": "f92b5f5d-907c-4d5f-a13a-035f017f1817"
      },
      "execution_count": 35,
      "outputs": [
        {
          "output_type": "stream",
          "name": "stdout",
          "text": [
            "{'name': 'Bartosz', 'surname': 'Krass', 'birthplace': 'Gdansk'}\n",
            "Hello Bartosz\n"
          ]
        }
      ]
    },
    {
      "cell_type": "code",
      "source": [
        "#combining *args and **kwargs\n",
        "def my_func(*args,**kwargs):\n",
        "  print(args)\n",
        "  print(kwargs)\n",
        "  print('I would like to buy {} {}'.format(args[0],kwargs['shopping']))"
      ],
      "metadata": {
        "id": "hXkO8GOCVz8i"
      },
      "execution_count": 37,
      "outputs": []
    },
    {
      "cell_type": "code",
      "source": [
        "my_func(10,20,30,name='Bartek',shop='GigaMarket',shopping='breads')"
      ],
      "metadata": {
        "colab": {
          "base_uri": "https://localhost:8080/"
        },
        "id": "voGDNv1ZW0ke",
        "outputId": "1fe0e3a0-de3a-4281-9f32-4d5c69f7ea81"
      },
      "execution_count": 45,
      "outputs": [
        {
          "output_type": "stream",
          "name": "stdout",
          "text": [
            "(10, 20, 30)\n",
            "{'name': 'Bartek', 'shop': 'GigaMarket', 'shopping': 'breads'}\n",
            "I would like to buy 10 breads\n"
          ]
        }
      ]
    },
    {
      "cell_type": "code",
      "source": [
        "def myfunc(word):\n",
        "  out = []\n",
        "  for index,letter in enumerate(word):\n",
        "    if index % 2 == 0:\n",
        "      out.append(letter.upper())\n",
        "    else:\n",
        "      out.append(letter.lower())\n",
        "  return ''.join(out)"
      ],
      "metadata": {
        "id": "jw_Se9YbdG9t"
      },
      "execution_count": 65,
      "outputs": []
    },
    {
      "cell_type": "code",
      "source": [
        "myfunc('Bartek')"
      ],
      "metadata": {
        "colab": {
          "base_uri": "https://localhost:8080/",
          "height": 36
        },
        "id": "wl8yYYySeFre",
        "outputId": "c3ab2226-b81e-4e34-b49c-e8399671a56c"
      },
      "execution_count": 66,
      "outputs": [
        {
          "output_type": "execute_result",
          "data": {
            "text/plain": [
              "'BaRtEk'"
            ],
            "application/vnd.google.colaboratory.intrinsic+json": {
              "type": "string"
            }
          },
          "metadata": {},
          "execution_count": 66
        }
      ]
    },
    {
      "cell_type": "code",
      "source": [
        ""
      ],
      "metadata": {
        "id": "5pXilZ7nekRI"
      },
      "execution_count": null,
      "outputs": []
    }
  ]
}