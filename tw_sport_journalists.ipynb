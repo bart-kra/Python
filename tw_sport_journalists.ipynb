{
  "nbformat": 4,
  "nbformat_minor": 0,
  "metadata": {
    "colab": {
      "provenance": [],
      "authorship_tag": "ABX9TyPDRvr2So31S3RNDFMJ4ERU"
    },
    "kernelspec": {
      "name": "python3",
      "display_name": "Python 3"
    },
    "language_info": {
      "name": "python"
    }
  },
  "cells": [
    {
      "cell_type": "markdown",
      "source": [
        "Import niezbędnych bibliotek"
      ],
      "metadata": {
        "id": "RdOAwZP9XK4k"
      }
    },
    {
      "cell_type": "code",
      "source": [
        "!pip install python-igraph==0.8.3\n",
        "!apt install libcairo2-dev pkg-config python3-dev\n",
        "!pip install python-igraph leidenalg cairocffi"
      ],
      "metadata": {
        "colab": {
          "base_uri": "https://localhost:8080/"
        },
        "id": "Zvt0WEL6BTbi",
        "outputId": "38cb1a69-0af6-4caf-9114-05b2c5285b23"
      },
      "execution_count": null,
      "outputs": [
        {
          "output_type": "stream",
          "name": "stdout",
          "text": [
            "Looking in indexes: https://pypi.org/simple, https://us-python.pkg.dev/colab-wheels/public/simple/\n",
            "Collecting python-igraph==0.8.3\n",
            "  Downloading python_igraph-0.8.3-cp38-cp38-manylinux2010_x86_64.whl (3.2 MB)\n",
            "\u001b[2K     \u001b[90m━━━━━━━━━━━━━━━━━━━━━━━━━━━━━━━━━━━━━━━━\u001b[0m \u001b[32m3.2/3.2 MB\u001b[0m \u001b[31m49.4 MB/s\u001b[0m eta \u001b[36m0:00:00\u001b[0m\n",
            "\u001b[?25hCollecting texttable>=1.6.2\n",
            "  Downloading texttable-1.6.7-py2.py3-none-any.whl (10 kB)\n",
            "Installing collected packages: texttable, python-igraph\n",
            "Successfully installed python-igraph-0.8.3 texttable-1.6.7\n",
            "Reading package lists... Done\n",
            "Building dependency tree       \n",
            "Reading state information... Done\n",
            "pkg-config is already the newest version (0.29.1-0ubuntu4).\n",
            "python3-dev is already the newest version (3.8.2-0ubuntu2).\n",
            "python3-dev set to manually installed.\n",
            "The following package was automatically installed and is no longer required:\n",
            "  libnvidia-common-510\n",
            "Use 'apt autoremove' to remove it.\n",
            "The following additional packages will be installed:\n",
            "  libblkid-dev libcairo-script-interpreter2 libffi-dev libglib2.0-dev\n",
            "  libglib2.0-dev-bin liblzo2-2 libmount-dev libpixman-1-dev libselinux1-dev\n",
            "  libsepol1-dev libxcb-render0-dev libxcb-shm0-dev\n",
            "Suggested packages:\n",
            "  libcairo2-doc libgirepository1.0-dev libglib2.0-doc libgdk-pixbuf2.0-bin\n",
            "  | libgdk-pixbuf2.0-dev libxml2-utils\n",
            "The following NEW packages will be installed:\n",
            "  libblkid-dev libcairo-script-interpreter2 libcairo2-dev libffi-dev\n",
            "  libglib2.0-dev libglib2.0-dev-bin liblzo2-2 libmount-dev libpixman-1-dev\n",
            "  libselinux1-dev libsepol1-dev libxcb-render0-dev libxcb-shm0-dev\n",
            "0 upgraded, 13 newly installed, 0 to remove and 27 not upgraded.\n",
            "Need to get 3,492 kB of archives.\n",
            "After this operation, 20.0 MB of additional disk space will be used.\n",
            "Get:1 http://archive.ubuntu.com/ubuntu focal/main amd64 liblzo2-2 amd64 2.10-2 [50.8 kB]\n",
            "Get:2 http://archive.ubuntu.com/ubuntu focal/main amd64 libcairo-script-interpreter2 amd64 1.16.0-4ubuntu1 [54.2 kB]\n",
            "Get:3 http://archive.ubuntu.com/ubuntu focal-updates/main amd64 libpixman-1-dev amd64 0.38.4-0ubuntu2.1 [243 kB]\n",
            "Get:4 http://archive.ubuntu.com/ubuntu focal/main amd64 libxcb-render0-dev amd64 1.14-2 [18.4 kB]\n",
            "Get:5 http://archive.ubuntu.com/ubuntu focal/main amd64 libxcb-shm0-dev amd64 1.14-2 [6,716 B]\n",
            "Get:6 http://archive.ubuntu.com/ubuntu focal/main amd64 libffi-dev amd64 3.3-4 [57.0 kB]\n",
            "Get:7 http://archive.ubuntu.com/ubuntu focal-updates/main amd64 libglib2.0-dev-bin amd64 2.64.6-1~ubuntu20.04.4 [109 kB]\n",
            "Get:8 http://archive.ubuntu.com/ubuntu focal-updates/main amd64 libblkid-dev amd64 2.34-0.1ubuntu9.3 [167 kB]\n",
            "Get:9 http://archive.ubuntu.com/ubuntu focal-updates/main amd64 libmount-dev amd64 2.34-0.1ubuntu9.3 [176 kB]\n",
            "Get:10 http://archive.ubuntu.com/ubuntu focal-updates/main amd64 libsepol1-dev amd64 3.0-1ubuntu0.1 [325 kB]\n",
            "Get:11 http://archive.ubuntu.com/ubuntu focal/main amd64 libselinux1-dev amd64 3.0-1build2 [151 kB]\n",
            "Get:12 http://archive.ubuntu.com/ubuntu focal-updates/main amd64 libglib2.0-dev amd64 2.64.6-1~ubuntu20.04.4 [1,506 kB]\n",
            "Get:13 http://archive.ubuntu.com/ubuntu focal/main amd64 libcairo2-dev amd64 1.16.0-4ubuntu1 [627 kB]\n",
            "Fetched 3,492 kB in 15s (230 kB/s)\n",
            "Selecting previously unselected package liblzo2-2:amd64.\n",
            "(Reading database ... 129496 files and directories currently installed.)\n",
            "Preparing to unpack .../00-liblzo2-2_2.10-2_amd64.deb ...\n",
            "Unpacking liblzo2-2:amd64 (2.10-2) ...\n",
            "Selecting previously unselected package libcairo-script-interpreter2:amd64.\n",
            "Preparing to unpack .../01-libcairo-script-interpreter2_1.16.0-4ubuntu1_amd64.deb ...\n",
            "Unpacking libcairo-script-interpreter2:amd64 (1.16.0-4ubuntu1) ...\n",
            "Selecting previously unselected package libpixman-1-dev:amd64.\n",
            "Preparing to unpack .../02-libpixman-1-dev_0.38.4-0ubuntu2.1_amd64.deb ...\n",
            "Unpacking libpixman-1-dev:amd64 (0.38.4-0ubuntu2.1) ...\n",
            "Selecting previously unselected package libxcb-render0-dev:amd64.\n",
            "Preparing to unpack .../03-libxcb-render0-dev_1.14-2_amd64.deb ...\n",
            "Unpacking libxcb-render0-dev:amd64 (1.14-2) ...\n",
            "Selecting previously unselected package libxcb-shm0-dev:amd64.\n",
            "Preparing to unpack .../04-libxcb-shm0-dev_1.14-2_amd64.deb ...\n",
            "Unpacking libxcb-shm0-dev:amd64 (1.14-2) ...\n",
            "Selecting previously unselected package libffi-dev:amd64.\n",
            "Preparing to unpack .../05-libffi-dev_3.3-4_amd64.deb ...\n",
            "Unpacking libffi-dev:amd64 (3.3-4) ...\n",
            "Selecting previously unselected package libglib2.0-dev-bin.\n",
            "Preparing to unpack .../06-libglib2.0-dev-bin_2.64.6-1~ubuntu20.04.4_amd64.deb ...\n",
            "Unpacking libglib2.0-dev-bin (2.64.6-1~ubuntu20.04.4) ...\n",
            "Selecting previously unselected package libblkid-dev:amd64.\n",
            "Preparing to unpack .../07-libblkid-dev_2.34-0.1ubuntu9.3_amd64.deb ...\n",
            "Unpacking libblkid-dev:amd64 (2.34-0.1ubuntu9.3) ...\n",
            "Selecting previously unselected package libmount-dev:amd64.\n",
            "Preparing to unpack .../08-libmount-dev_2.34-0.1ubuntu9.3_amd64.deb ...\n",
            "Unpacking libmount-dev:amd64 (2.34-0.1ubuntu9.3) ...\n",
            "Selecting previously unselected package libsepol1-dev:amd64.\n",
            "Preparing to unpack .../09-libsepol1-dev_3.0-1ubuntu0.1_amd64.deb ...\n",
            "Unpacking libsepol1-dev:amd64 (3.0-1ubuntu0.1) ...\n",
            "Selecting previously unselected package libselinux1-dev:amd64.\n",
            "Preparing to unpack .../10-libselinux1-dev_3.0-1build2_amd64.deb ...\n",
            "Unpacking libselinux1-dev:amd64 (3.0-1build2) ...\n",
            "Selecting previously unselected package libglib2.0-dev:amd64.\n",
            "Preparing to unpack .../11-libglib2.0-dev_2.64.6-1~ubuntu20.04.4_amd64.deb ...\n",
            "Unpacking libglib2.0-dev:amd64 (2.64.6-1~ubuntu20.04.4) ...\n",
            "Selecting previously unselected package libcairo2-dev:amd64.\n",
            "Preparing to unpack .../12-libcairo2-dev_1.16.0-4ubuntu1_amd64.deb ...\n",
            "Unpacking libcairo2-dev:amd64 (1.16.0-4ubuntu1) ...\n",
            "Setting up libglib2.0-dev-bin (2.64.6-1~ubuntu20.04.4) ...\n",
            "Setting up libblkid-dev:amd64 (2.34-0.1ubuntu9.3) ...\n",
            "Setting up libpixman-1-dev:amd64 (0.38.4-0ubuntu2.1) ...\n",
            "Setting up libsepol1-dev:amd64 (3.0-1ubuntu0.1) ...\n",
            "Setting up liblzo2-2:amd64 (2.10-2) ...\n",
            "Setting up libffi-dev:amd64 (3.3-4) ...\n",
            "Setting up libxcb-shm0-dev:amd64 (1.14-2) ...\n",
            "Setting up libxcb-render0-dev:amd64 (1.14-2) ...\n",
            "Setting up libmount-dev:amd64 (2.34-0.1ubuntu9.3) ...\n",
            "Setting up libcairo-script-interpreter2:amd64 (1.16.0-4ubuntu1) ...\n",
            "Setting up libselinux1-dev:amd64 (3.0-1build2) ...\n",
            "Setting up libglib2.0-dev:amd64 (2.64.6-1~ubuntu20.04.4) ...\n",
            "Processing triggers for libglib2.0-0:amd64 (2.64.6-1~ubuntu20.04.4) ...\n",
            "Processing triggers for libc-bin (2.31-0ubuntu9.9) ...\n",
            "Processing triggers for man-db (2.9.1-1) ...\n",
            "Setting up libcairo2-dev:amd64 (1.16.0-4ubuntu1) ...\n",
            "Looking in indexes: https://pypi.org/simple, https://us-python.pkg.dev/colab-wheels/public/simple/\n",
            "Requirement already satisfied: python-igraph in /usr/local/lib/python3.8/dist-packages (0.8.3)\n",
            "Collecting leidenalg\n",
            "  Downloading leidenalg-0.9.1-cp38-cp38-manylinux_2_17_x86_64.manylinux2014_x86_64.whl (1.3 MB)\n",
            "\u001b[2K     \u001b[90m━━━━━━━━━━━━━━━━━━━━━━━━━━━━━━━━━━━━━━━━\u001b[0m \u001b[32m1.3/1.3 MB\u001b[0m \u001b[31m43.0 MB/s\u001b[0m eta \u001b[36m0:00:00\u001b[0m\n",
            "\u001b[?25hCollecting cairocffi\n",
            "  Downloading cairocffi-1.4.0.tar.gz (69 kB)\n",
            "\u001b[2K     \u001b[90m━━━━━━━━━━━━━━━━━━━━━━━━━━━━━━━━━━━━━━━━\u001b[0m \u001b[32m69.9/69.9 KB\u001b[0m \u001b[31m9.0 MB/s\u001b[0m eta \u001b[36m0:00:00\u001b[0m\n",
            "\u001b[?25h  Preparing metadata (setup.py) ... \u001b[?25l\u001b[?25hdone\n",
            "Requirement already satisfied: texttable>=1.6.2 in /usr/local/lib/python3.8/dist-packages (from python-igraph) (1.6.7)\n",
            "Collecting igraph<0.11,>=0.10.0\n",
            "  Downloading igraph-0.10.4-cp38-cp38-manylinux_2_17_x86_64.manylinux2014_x86_64.whl (3.3 MB)\n",
            "\u001b[2K     \u001b[90m━━━━━━━━━━━━━━━━━━━━━━━━━━━━━━━━━━━━━━━━\u001b[0m \u001b[32m3.3/3.3 MB\u001b[0m \u001b[31m88.7 MB/s\u001b[0m eta \u001b[36m0:00:00\u001b[0m\n",
            "\u001b[?25hRequirement already satisfied: cffi>=1.1.0 in /usr/local/lib/python3.8/dist-packages (from cairocffi) (1.15.1)\n",
            "Requirement already satisfied: pycparser in /usr/local/lib/python3.8/dist-packages (from cffi>=1.1.0->cairocffi) (2.21)\n",
            "Building wheels for collected packages: cairocffi\n",
            "  Building wheel for cairocffi (setup.py) ... \u001b[?25l\u001b[?25hdone\n",
            "  Created wheel for cairocffi: filename=cairocffi-1.4.0-py3-none-any.whl size=88775 sha256=d3365c36ad70029c4a2d1a65b985d40a1e6115b0a2af4baedba672f0bc080828\n",
            "  Stored in directory: /root/.cache/pip/wheels/01/a9/c0/5c05f9dd73c21f9a7716690642823cdba55594d17a9bd69daf\n",
            "Successfully built cairocffi\n",
            "Installing collected packages: igraph, leidenalg, cairocffi\n",
            "Successfully installed cairocffi-1.4.0 igraph-0.10.4 leidenalg-0.9.1\n"
          ]
        }
      ]
    },
    {
      "cell_type": "code",
      "source": [
        "import tweepy\n",
        "import time\n",
        "import pandas as pd\n",
        "import numpy as np\n",
        "from google.colab import files\n",
        "import matplotlib.pyplot as plt\n",
        "import igraph\n",
        "from igraph import *\n",
        "import cairocffi"
      ],
      "metadata": {
        "id": "RRAOPatYBcci"
      },
      "execution_count": null,
      "outputs": []
    },
    {
      "cell_type": "markdown",
      "source": [
        "Ustawienie logowania do API Twittera"
      ],
      "metadata": {
        "id": "tQq84GatXPMI"
      }
    },
    {
      "cell_type": "code",
      "source": [
        "key = '9j53bwQhtgeirnxlFwKxYiazr'\n",
        "key_secret= 'Op3znNtnQI3D4wJtUWrfYjtXPrW7AcqiWlcqtRwdl7Cybg4s1m'\n",
        "\n",
        "auth = tweepy.OAuthHandler(key, key_secret)\n",
        "api = tweepy.API(auth, wait_on_rate_limit=True)"
      ],
      "metadata": {
        "id": "H4Ck0lCIoCbS"
      },
      "execution_count": null,
      "outputs": []
    },
    {
      "cell_type": "markdown",
      "source": [
        "Pobranie danych z pliku csv (imię i nazwisko, nick, redakcja)"
      ],
      "metadata": {
        "id": "krfXwrVkXSwO"
      }
    },
    {
      "cell_type": "code",
      "source": [
        "df = pd.read_csv('dataset.csv')"
      ],
      "metadata": {
        "id": "0wMzUPpFzTS6"
      },
      "execution_count": null,
      "outputs": []
    },
    {
      "cell_type": "markdown",
      "source": [
        "Ściągnięcie z pomocą API pozostałych wymaganych danych z Twittera (id profilu, liczba obserwowanych, liczba obserwujących, lista obserwowanych dziennikarzy z analizowanego zbioru)"
      ],
      "metadata": {
        "id": "dyg2kiPEXeA4"
      }
    },
    {
      "cell_type": "code",
      "source": [
        "def add_twitter_data(df):\n",
        "  def basic_info(nick):\n",
        "    id = 0\n",
        "    followers_count = 0\n",
        "    following_count = 0\n",
        "    user = api.get_user(nick)\n",
        "    id = user.id\n",
        "    followers_count = user.followers_count\n",
        "    following_count = user.friends_count\n",
        "    return id, followers_count, following_count\n",
        "  (df['id'], df['followers_count'], df['following_count']) = np.vectorize(basic_info, otypes = [object, object, object])(df['nick'])\n",
        "\n",
        "  col_list = df.id.values.tolist()\n",
        "\n",
        "  def following_list(nick):\n",
        "    following = []\n",
        "    user = api.get_user(nick)\n",
        "    for i, _id in enumerate(tweepy.Cursor(api.friends_ids, screen_name = nick).items()):\n",
        "      if _id in col_list:\n",
        "        following.append(_id)\n",
        "    return following\n",
        "  (df['following']) = np.vectorize(following_list, otypes = [object])(df['nick'])\n",
        "  return df\n",
        "\n",
        "  df_tw = add_twitter_data(df)"
      ],
      "metadata": {
        "id": "n85KmjFdGPS6"
      },
      "execution_count": null,
      "outputs": []
    },
    {
      "cell_type": "markdown",
      "source": [
        "Zapis DataFrame'u na dysku komputera"
      ],
      "metadata": {
        "id": "dyMn1Ixge2wl"
      }
    },
    {
      "cell_type": "code",
      "source": [
        "df_tw.to_csv('output.csv')\n",
        "files.download('output.csv')"
      ],
      "metadata": {
        "colab": {
          "base_uri": "https://localhost:8080/",
          "height": 17
        },
        "id": "VSlz18XSbJmN",
        "outputId": "1f32f9b8-144e-4a3f-fdd4-22589178b598"
      },
      "execution_count": null,
      "outputs": [
        {
          "output_type": "display_data",
          "data": {
            "text/plain": [
              "<IPython.core.display.Javascript object>"
            ],
            "application/javascript": [
              "\n",
              "    async function download(id, filename, size) {\n",
              "      if (!google.colab.kernel.accessAllowed) {\n",
              "        return;\n",
              "      }\n",
              "      const div = document.createElement('div');\n",
              "      const label = document.createElement('label');\n",
              "      label.textContent = `Downloading \"${filename}\": `;\n",
              "      div.appendChild(label);\n",
              "      const progress = document.createElement('progress');\n",
              "      progress.max = size;\n",
              "      div.appendChild(progress);\n",
              "      document.body.appendChild(div);\n",
              "\n",
              "      const buffers = [];\n",
              "      let downloaded = 0;\n",
              "\n",
              "      const channel = await google.colab.kernel.comms.open(id);\n",
              "      // Send a message to notify the kernel that we're ready.\n",
              "      channel.send({})\n",
              "\n",
              "      for await (const message of channel.messages) {\n",
              "        // Send a message to notify the kernel that we're ready.\n",
              "        channel.send({})\n",
              "        if (message.buffers) {\n",
              "          for (const buffer of message.buffers) {\n",
              "            buffers.push(buffer);\n",
              "            downloaded += buffer.byteLength;\n",
              "            progress.value = downloaded;\n",
              "          }\n",
              "        }\n",
              "      }\n",
              "      const blob = new Blob(buffers, {type: 'application/binary'});\n",
              "      const a = document.createElement('a');\n",
              "      a.href = window.URL.createObjectURL(blob);\n",
              "      a.download = filename;\n",
              "      div.appendChild(a);\n",
              "      a.click();\n",
              "      div.remove();\n",
              "    }\n",
              "  "
            ]
          },
          "metadata": {}
        },
        {
          "output_type": "display_data",
          "data": {
            "text/plain": [
              "<IPython.core.display.Javascript object>"
            ],
            "application/javascript": [
              "download(\"download_9bcb392b-2183-422b-8641-a38941f8db57\", \"output.csv\", 23095)"
            ]
          },
          "metadata": {}
        }
      ]
    },
    {
      "cell_type": "markdown",
      "source": [
        "Struktura głównego DataFrame'a\n",
        "\n"
      ],
      "metadata": {
        "id": "6-ngYGI5YAon"
      }
    },
    {
      "cell_type": "code",
      "source": [
        "df = pd.read_csv('output1.csv')\n",
        "df.head()"
      ],
      "metadata": {
        "colab": {
          "base_uri": "https://localhost:8080/",
          "height": 206
        },
        "id": "X6s75cbCebGe",
        "outputId": "f366714d-4e29-43d2-ba77-3f3ba71f4501"
      },
      "execution_count": null,
      "outputs": [
        {
          "output_type": "execute_result",
          "data": {
            "text/plain": [
              "   index               name           nick  media                   id  \\\n",
              "0      0    Tomasz Ćwiąkała       cwiakala  CANAL            236586896   \n",
              "1      1  Andrzej Twarowski     TwaroTwaro  CANAL           2809623881   \n",
              "2      2     Jakub Kręcidło     J_Krecidlo  CANAL            620925321   \n",
              "3      3    Bartosz Ignacik  BartekIgnacik  CANAL  1128820086297583616   \n",
              "4      4       Edward Durda    DurdaEdward  CANAL  1441449371350994944   \n",
              "\n",
              "   followers_count  following_count  \\\n",
              "0           305783             1327   \n",
              "1           213982              228   \n",
              "2            57485             1173   \n",
              "3            19204              384   \n",
              "4            12334               71   \n",
              "\n",
              "                                          following1  \n",
              "0  [1057608774536609793, 1224740726, 759710584694...  \n",
              "1  [365007636, 1128820086297583616, 1372073226, 1...  \n",
              "2  [1128820086297583616, 1441449371350994944, 933...  \n",
              "3  [620925321, 1437825697, 933081649, 365007636, ...  \n",
              "4  [2809623881, 43061493, 1183133300, 2691092842,...  "
            ],
            "text/html": [
              "\n",
              "  <div id=\"df-add18add-afe6-4750-930d-ecb2a3fcd312\">\n",
              "    <div class=\"colab-df-container\">\n",
              "      <div>\n",
              "<style scoped>\n",
              "    .dataframe tbody tr th:only-of-type {\n",
              "        vertical-align: middle;\n",
              "    }\n",
              "\n",
              "    .dataframe tbody tr th {\n",
              "        vertical-align: top;\n",
              "    }\n",
              "\n",
              "    .dataframe thead th {\n",
              "        text-align: right;\n",
              "    }\n",
              "</style>\n",
              "<table border=\"1\" class=\"dataframe\">\n",
              "  <thead>\n",
              "    <tr style=\"text-align: right;\">\n",
              "      <th></th>\n",
              "      <th>index</th>\n",
              "      <th>name</th>\n",
              "      <th>nick</th>\n",
              "      <th>media</th>\n",
              "      <th>id</th>\n",
              "      <th>followers_count</th>\n",
              "      <th>following_count</th>\n",
              "      <th>following1</th>\n",
              "    </tr>\n",
              "  </thead>\n",
              "  <tbody>\n",
              "    <tr>\n",
              "      <th>0</th>\n",
              "      <td>0</td>\n",
              "      <td>Tomasz Ćwiąkała</td>\n",
              "      <td>cwiakala</td>\n",
              "      <td>CANAL</td>\n",
              "      <td>236586896</td>\n",
              "      <td>305783</td>\n",
              "      <td>1327</td>\n",
              "      <td>[1057608774536609793, 1224740726, 759710584694...</td>\n",
              "    </tr>\n",
              "    <tr>\n",
              "      <th>1</th>\n",
              "      <td>1</td>\n",
              "      <td>Andrzej Twarowski</td>\n",
              "      <td>TwaroTwaro</td>\n",
              "      <td>CANAL</td>\n",
              "      <td>2809623881</td>\n",
              "      <td>213982</td>\n",
              "      <td>228</td>\n",
              "      <td>[365007636, 1128820086297583616, 1372073226, 1...</td>\n",
              "    </tr>\n",
              "    <tr>\n",
              "      <th>2</th>\n",
              "      <td>2</td>\n",
              "      <td>Jakub Kręcidło</td>\n",
              "      <td>J_Krecidlo</td>\n",
              "      <td>CANAL</td>\n",
              "      <td>620925321</td>\n",
              "      <td>57485</td>\n",
              "      <td>1173</td>\n",
              "      <td>[1128820086297583616, 1441449371350994944, 933...</td>\n",
              "    </tr>\n",
              "    <tr>\n",
              "      <th>3</th>\n",
              "      <td>3</td>\n",
              "      <td>Bartosz Ignacik</td>\n",
              "      <td>BartekIgnacik</td>\n",
              "      <td>CANAL</td>\n",
              "      <td>1128820086297583616</td>\n",
              "      <td>19204</td>\n",
              "      <td>384</td>\n",
              "      <td>[620925321, 1437825697, 933081649, 365007636, ...</td>\n",
              "    </tr>\n",
              "    <tr>\n",
              "      <th>4</th>\n",
              "      <td>4</td>\n",
              "      <td>Edward Durda</td>\n",
              "      <td>DurdaEdward</td>\n",
              "      <td>CANAL</td>\n",
              "      <td>1441449371350994944</td>\n",
              "      <td>12334</td>\n",
              "      <td>71</td>\n",
              "      <td>[2809623881, 43061493, 1183133300, 2691092842,...</td>\n",
              "    </tr>\n",
              "  </tbody>\n",
              "</table>\n",
              "</div>\n",
              "      <button class=\"colab-df-convert\" onclick=\"convertToInteractive('df-add18add-afe6-4750-930d-ecb2a3fcd312')\"\n",
              "              title=\"Convert this dataframe to an interactive table.\"\n",
              "              style=\"display:none;\">\n",
              "        \n",
              "  <svg xmlns=\"http://www.w3.org/2000/svg\" height=\"24px\"viewBox=\"0 0 24 24\"\n",
              "       width=\"24px\">\n",
              "    <path d=\"M0 0h24v24H0V0z\" fill=\"none\"/>\n",
              "    <path d=\"M18.56 5.44l.94 2.06.94-2.06 2.06-.94-2.06-.94-.94-2.06-.94 2.06-2.06.94zm-11 1L8.5 8.5l.94-2.06 2.06-.94-2.06-.94L8.5 2.5l-.94 2.06-2.06.94zm10 10l.94 2.06.94-2.06 2.06-.94-2.06-.94-.94-2.06-.94 2.06-2.06.94z\"/><path d=\"M17.41 7.96l-1.37-1.37c-.4-.4-.92-.59-1.43-.59-.52 0-1.04.2-1.43.59L10.3 9.45l-7.72 7.72c-.78.78-.78 2.05 0 2.83L4 21.41c.39.39.9.59 1.41.59.51 0 1.02-.2 1.41-.59l7.78-7.78 2.81-2.81c.8-.78.8-2.07 0-2.86zM5.41 20L4 18.59l7.72-7.72 1.47 1.35L5.41 20z\"/>\n",
              "  </svg>\n",
              "      </button>\n",
              "      \n",
              "  <style>\n",
              "    .colab-df-container {\n",
              "      display:flex;\n",
              "      flex-wrap:wrap;\n",
              "      gap: 12px;\n",
              "    }\n",
              "\n",
              "    .colab-df-convert {\n",
              "      background-color: #E8F0FE;\n",
              "      border: none;\n",
              "      border-radius: 50%;\n",
              "      cursor: pointer;\n",
              "      display: none;\n",
              "      fill: #1967D2;\n",
              "      height: 32px;\n",
              "      padding: 0 0 0 0;\n",
              "      width: 32px;\n",
              "    }\n",
              "\n",
              "    .colab-df-convert:hover {\n",
              "      background-color: #E2EBFA;\n",
              "      box-shadow: 0px 1px 2px rgba(60, 64, 67, 0.3), 0px 1px 3px 1px rgba(60, 64, 67, 0.15);\n",
              "      fill: #174EA6;\n",
              "    }\n",
              "\n",
              "    [theme=dark] .colab-df-convert {\n",
              "      background-color: #3B4455;\n",
              "      fill: #D2E3FC;\n",
              "    }\n",
              "\n",
              "    [theme=dark] .colab-df-convert:hover {\n",
              "      background-color: #434B5C;\n",
              "      box-shadow: 0px 1px 3px 1px rgba(0, 0, 0, 0.15);\n",
              "      filter: drop-shadow(0px 1px 2px rgba(0, 0, 0, 0.3));\n",
              "      fill: #FFFFFF;\n",
              "    }\n",
              "  </style>\n",
              "\n",
              "      <script>\n",
              "        const buttonEl =\n",
              "          document.querySelector('#df-add18add-afe6-4750-930d-ecb2a3fcd312 button.colab-df-convert');\n",
              "        buttonEl.style.display =\n",
              "          google.colab.kernel.accessAllowed ? 'block' : 'none';\n",
              "\n",
              "        async function convertToInteractive(key) {\n",
              "          const element = document.querySelector('#df-add18add-afe6-4750-930d-ecb2a3fcd312');\n",
              "          const dataTable =\n",
              "            await google.colab.kernel.invokeFunction('convertToInteractive',\n",
              "                                                     [key], {});\n",
              "          if (!dataTable) return;\n",
              "\n",
              "          const docLinkHtml = 'Like what you see? Visit the ' +\n",
              "            '<a target=\"_blank\" href=https://colab.research.google.com/notebooks/data_table.ipynb>data table notebook</a>'\n",
              "            + ' to learn more about interactive tables.';\n",
              "          element.innerHTML = '';\n",
              "          dataTable['output_type'] = 'display_data';\n",
              "          await google.colab.output.renderOutput(dataTable, element);\n",
              "          const docLink = document.createElement('div');\n",
              "          docLink.innerHTML = docLinkHtml;\n",
              "          element.appendChild(docLink);\n",
              "        }\n",
              "      </script>\n",
              "    </div>\n",
              "  </div>\n",
              "  "
            ]
          },
          "metadata": {},
          "execution_count": 4
        }
      ]
    },
    {
      "cell_type": "markdown",
      "source": [
        "Wyznaczenie 10 najpopularniejszych (pod względem liczby obserwujących) dziennikarzy z badanego zbioru i przygotowanie na tej podstawie wykresu słupkowego"
      ],
      "metadata": {
        "id": "9wjdsLpb_O_j"
      }
    },
    {
      "cell_type": "code",
      "source": [
        "df_most_followers = df[['name', 'followers_count']].sort_values(by=['followers_count'], ascending=False).head(10)\n",
        "df_most_followers"
      ],
      "metadata": {
        "colab": {
          "base_uri": "https://localhost:8080/",
          "height": 363
        },
        "id": "ZS6Lh7yR_6sF",
        "outputId": "74d371c0-4be3-4924-a167-c25e5e549438"
      },
      "execution_count": null,
      "outputs": [
        {
          "output_type": "execute_result",
          "data": {
            "text/plain": [
              "                   name  followers_count\n",
              "6         Mateusz Borek           815790\n",
              "7   Krzysztof Stanowski           779933\n",
              "8            Michał Pol           648999\n",
              "0       Tomasz Ćwiąkała           305783\n",
              "38   Wojciech Kowalczyk           228657\n",
              "9      Tomasz Smokowski           223609\n",
              "1     Andrzej Twarowski           213982\n",
              "13    Mateusz Święcicki           161832\n",
              "14    Łukasz Wiśniowski           152293\n",
              "15    Tomasz Włodarczyk           148869"
            ],
            "text/html": [
              "\n",
              "  <div id=\"df-36e79d2f-09b2-4a4d-b106-c46be3c3623f\">\n",
              "    <div class=\"colab-df-container\">\n",
              "      <div>\n",
              "<style scoped>\n",
              "    .dataframe tbody tr th:only-of-type {\n",
              "        vertical-align: middle;\n",
              "    }\n",
              "\n",
              "    .dataframe tbody tr th {\n",
              "        vertical-align: top;\n",
              "    }\n",
              "\n",
              "    .dataframe thead th {\n",
              "        text-align: right;\n",
              "    }\n",
              "</style>\n",
              "<table border=\"1\" class=\"dataframe\">\n",
              "  <thead>\n",
              "    <tr style=\"text-align: right;\">\n",
              "      <th></th>\n",
              "      <th>name</th>\n",
              "      <th>followers_count</th>\n",
              "    </tr>\n",
              "  </thead>\n",
              "  <tbody>\n",
              "    <tr>\n",
              "      <th>6</th>\n",
              "      <td>Mateusz Borek</td>\n",
              "      <td>815790</td>\n",
              "    </tr>\n",
              "    <tr>\n",
              "      <th>7</th>\n",
              "      <td>Krzysztof Stanowski</td>\n",
              "      <td>779933</td>\n",
              "    </tr>\n",
              "    <tr>\n",
              "      <th>8</th>\n",
              "      <td>Michał Pol</td>\n",
              "      <td>648999</td>\n",
              "    </tr>\n",
              "    <tr>\n",
              "      <th>0</th>\n",
              "      <td>Tomasz Ćwiąkała</td>\n",
              "      <td>305783</td>\n",
              "    </tr>\n",
              "    <tr>\n",
              "      <th>38</th>\n",
              "      <td>Wojciech Kowalczyk</td>\n",
              "      <td>228657</td>\n",
              "    </tr>\n",
              "    <tr>\n",
              "      <th>9</th>\n",
              "      <td>Tomasz Smokowski</td>\n",
              "      <td>223609</td>\n",
              "    </tr>\n",
              "    <tr>\n",
              "      <th>1</th>\n",
              "      <td>Andrzej Twarowski</td>\n",
              "      <td>213982</td>\n",
              "    </tr>\n",
              "    <tr>\n",
              "      <th>13</th>\n",
              "      <td>Mateusz Święcicki</td>\n",
              "      <td>161832</td>\n",
              "    </tr>\n",
              "    <tr>\n",
              "      <th>14</th>\n",
              "      <td>Łukasz Wiśniowski</td>\n",
              "      <td>152293</td>\n",
              "    </tr>\n",
              "    <tr>\n",
              "      <th>15</th>\n",
              "      <td>Tomasz Włodarczyk</td>\n",
              "      <td>148869</td>\n",
              "    </tr>\n",
              "  </tbody>\n",
              "</table>\n",
              "</div>\n",
              "      <button class=\"colab-df-convert\" onclick=\"convertToInteractive('df-36e79d2f-09b2-4a4d-b106-c46be3c3623f')\"\n",
              "              title=\"Convert this dataframe to an interactive table.\"\n",
              "              style=\"display:none;\">\n",
              "        \n",
              "  <svg xmlns=\"http://www.w3.org/2000/svg\" height=\"24px\"viewBox=\"0 0 24 24\"\n",
              "       width=\"24px\">\n",
              "    <path d=\"M0 0h24v24H0V0z\" fill=\"none\"/>\n",
              "    <path d=\"M18.56 5.44l.94 2.06.94-2.06 2.06-.94-2.06-.94-.94-2.06-.94 2.06-2.06.94zm-11 1L8.5 8.5l.94-2.06 2.06-.94-2.06-.94L8.5 2.5l-.94 2.06-2.06.94zm10 10l.94 2.06.94-2.06 2.06-.94-2.06-.94-.94-2.06-.94 2.06-2.06.94z\"/><path d=\"M17.41 7.96l-1.37-1.37c-.4-.4-.92-.59-1.43-.59-.52 0-1.04.2-1.43.59L10.3 9.45l-7.72 7.72c-.78.78-.78 2.05 0 2.83L4 21.41c.39.39.9.59 1.41.59.51 0 1.02-.2 1.41-.59l7.78-7.78 2.81-2.81c.8-.78.8-2.07 0-2.86zM5.41 20L4 18.59l7.72-7.72 1.47 1.35L5.41 20z\"/>\n",
              "  </svg>\n",
              "      </button>\n",
              "      \n",
              "  <style>\n",
              "    .colab-df-container {\n",
              "      display:flex;\n",
              "      flex-wrap:wrap;\n",
              "      gap: 12px;\n",
              "    }\n",
              "\n",
              "    .colab-df-convert {\n",
              "      background-color: #E8F0FE;\n",
              "      border: none;\n",
              "      border-radius: 50%;\n",
              "      cursor: pointer;\n",
              "      display: none;\n",
              "      fill: #1967D2;\n",
              "      height: 32px;\n",
              "      padding: 0 0 0 0;\n",
              "      width: 32px;\n",
              "    }\n",
              "\n",
              "    .colab-df-convert:hover {\n",
              "      background-color: #E2EBFA;\n",
              "      box-shadow: 0px 1px 2px rgba(60, 64, 67, 0.3), 0px 1px 3px 1px rgba(60, 64, 67, 0.15);\n",
              "      fill: #174EA6;\n",
              "    }\n",
              "\n",
              "    [theme=dark] .colab-df-convert {\n",
              "      background-color: #3B4455;\n",
              "      fill: #D2E3FC;\n",
              "    }\n",
              "\n",
              "    [theme=dark] .colab-df-convert:hover {\n",
              "      background-color: #434B5C;\n",
              "      box-shadow: 0px 1px 3px 1px rgba(0, 0, 0, 0.15);\n",
              "      filter: drop-shadow(0px 1px 2px rgba(0, 0, 0, 0.3));\n",
              "      fill: #FFFFFF;\n",
              "    }\n",
              "  </style>\n",
              "\n",
              "      <script>\n",
              "        const buttonEl =\n",
              "          document.querySelector('#df-36e79d2f-09b2-4a4d-b106-c46be3c3623f button.colab-df-convert');\n",
              "        buttonEl.style.display =\n",
              "          google.colab.kernel.accessAllowed ? 'block' : 'none';\n",
              "\n",
              "        async function convertToInteractive(key) {\n",
              "          const element = document.querySelector('#df-36e79d2f-09b2-4a4d-b106-c46be3c3623f');\n",
              "          const dataTable =\n",
              "            await google.colab.kernel.invokeFunction('convertToInteractive',\n",
              "                                                     [key], {});\n",
              "          if (!dataTable) return;\n",
              "\n",
              "          const docLinkHtml = 'Like what you see? Visit the ' +\n",
              "            '<a target=\"_blank\" href=https://colab.research.google.com/notebooks/data_table.ipynb>data table notebook</a>'\n",
              "            + ' to learn more about interactive tables.';\n",
              "          element.innerHTML = '';\n",
              "          dataTable['output_type'] = 'display_data';\n",
              "          await google.colab.output.renderOutput(dataTable, element);\n",
              "          const docLink = document.createElement('div');\n",
              "          docLink.innerHTML = docLinkHtml;\n",
              "          element.appendChild(docLink);\n",
              "        }\n",
              "      </script>\n",
              "    </div>\n",
              "  </div>\n",
              "  "
            ]
          },
          "metadata": {},
          "execution_count": 5
        }
      ]
    },
    {
      "cell_type": "code",
      "source": [
        "fig = plt.figure(figsize = (22, 10))\n",
        "plt.rcParams['font.size'] = 12\n",
        "plt.bar(df_most_followers['name'], df_most_followers['followers_count'], color ='#838EBE', width = 0.6)\n",
        "plt.xlabel('Dziennikarz', fontsize=16)\n",
        "plt.ylabel('Liczba obserwujących (Twitter)', fontsize=16)\n",
        "plt.title('Liczba obserwujących 10 najpopularniejszych dziennikarzy sportowych', fontsize=20)\n",
        "plt.show()"
      ],
      "metadata": {
        "colab": {
          "base_uri": "https://localhost:8080/",
          "height": 637
        },
        "id": "9LTgS81DerYC",
        "outputId": "06296bdd-76fe-4abd-b2d8-2aab3f028040"
      },
      "execution_count": null,
      "outputs": [
        {
          "output_type": "display_data",
          "data": {
            "text/plain": [
              "<Figure size 1584x720 with 1 Axes>"
            ],
            "image/png": "[encoded data removed]"
          },
          "metadata": {
            "needs_background": "light"
          }
        }
      ]
    },
    {
      "cell_type": "markdown",
      "source": [
        "Wyznaczenie średniej liczby obserwujących dziennikarzy z poszczególnych redakcji i przedstawienie ich na wykresie słupkowym"
      ],
      "metadata": {
        "id": "P6nVy7Rw_raY"
      }
    },
    {
      "cell_type": "code",
      "source": [
        "df_red_followers_count= df.groupby(['media'])['media'].count()\n",
        "print(df_red_followers_count)"
      ],
      "metadata": {
        "colab": {
          "base_uri": "https://localhost:8080/"
        },
        "id": "lEhScHsLsTJ6",
        "outputId": "3dc560ab-551d-4dfa-c873-024d4faf4914"
      },
      "execution_count": null,
      "outputs": [
        {
          "output_type": "stream",
          "name": "stdout",
          "text": [
            "media\n",
            "CANAL       6\n",
            "KS          7\n",
            "MECZYKI    14\n",
            "TVP         5\n",
            "VP          6\n",
            "WESZLO     13\n",
            "Name: media, dtype: int64\n"
          ]
        }
      ]
    },
    {
      "cell_type": "code",
      "source": [
        "df_red_followers_sum= df[['media', 'followers_count']].groupby(by=['media'], as_index = False).sum([['followers_count']])\n",
        "df_red_followers_sum['users_count'] = [6, 7, 14, 5, 6, 13]\n",
        "df_red_followers_avg = df_red_followers_sum.assign(avg_followers=lambda x: round(x['followers_count'] / x['users_count'], 0))\n",
        "print(df_red_followers_avg)"
      ],
      "metadata": {
        "colab": {
          "base_uri": "https://localhost:8080/"
        },
        "id": "FDw_MvlkUiEb",
        "outputId": "eeb6220c-3866-47ea-afc2-dc62c3afaa19"
      },
      "execution_count": null,
      "outputs": [
        {
          "output_type": "stream",
          "name": "stdout",
          "text": [
            "     media  followers_count  users_count  avg_followers\n",
            "0    CANAL           609580            6       101597.0\n",
            "1       KS          2717114            7       388159.0\n",
            "2  MECZYKI           777795           14        55557.0\n",
            "3      TVP           102716            5        20543.0\n",
            "4       VP           126596            6        21099.0\n",
            "5   WESZLO           758047           13        58311.0\n"
          ]
        }
      ]
    },
    {
      "cell_type": "code",
      "source": [
        "fig = plt.figure(figsize = (22, 10))\n",
        "plt.rcParams['font.size'] = 12\n",
        "plt.ticklabel_format(style='plain')\n",
        "plt.bar(df_red_followers_avg['media'], df_red_followers_avg['avg_followers'], color ='#838EBE', width = 0.6)\n",
        "plt.xlabel('Redakcja', fontsize=16)\n",
        "plt.ylabel('Średnia liczba obserwujących (Twitter)', fontsize=16)\n",
        "plt.title('Średnia liczba obserwujących dziennikarzy każdej z redakcji', fontsize=20)\n",
        "plt.show()"
      ],
      "metadata": {
        "colab": {
          "base_uri": "https://localhost:8080/",
          "height": 638
        },
        "id": "yq6wMGmFvoVf",
        "outputId": "634a383e-9023-4c45-c072-56e948b9cd59"
      },
      "execution_count": null,
      "outputs": [
        {
          "output_type": "display_data",
          "data": {
            "text/plain": [
              "<Figure size 1584x720 with 1 Axes>"
            ],
            "image/png": "[encoded data removed]"
          },
          "metadata": {
            "needs_background": "light"
          }
        }
      ]
    },
    {
      "cell_type": "markdown",
      "source": [
        "Poprawa kolumny z obserwowanymi dziennikarzami do struktury umożliwiającej wygenerowanie datasetu krawędzi"
      ],
      "metadata": {
        "id": "YQeRFo3ZATAJ"
      }
    },
    {
      "cell_type": "code",
      "source": [
        "def to_list(df):\n",
        "  def to_list2(following1):\n",
        "    following1 = following1.replace('[', '')\n",
        "    following1 = following1.replace(']', '')\n",
        "    following1 = following1.replace(' ', '')\n",
        "    following_lst = following1.split(',')\n",
        "    return following_lst\n",
        "  df['following1'] = np.vectorize(to_list2, otypes = [object])(df['following1'])\n",
        "  return df\n",
        "\n",
        "df = to_list(df)"
      ],
      "metadata": {
        "id": "Cx1TIR-MCwUi"
      },
      "execution_count": null,
      "outputs": []
    },
    {
      "cell_type": "markdown",
      "source": [
        "Przygotowanie datasetu węzłów"
      ],
      "metadata": {
        "id": "Aylu7NVbAePb"
      }
    },
    {
      "cell_type": "code",
      "source": [
        "df_nl = df[['name', 'id', 'media', 'followers_count', 'following_count']]"
      ],
      "metadata": {
        "id": "I38pRoSqS9Vo"
      },
      "execution_count": null,
      "outputs": []
    },
    {
      "cell_type": "markdown",
      "source": [
        "Przygotowanie datasetu krawędzi"
      ],
      "metadata": {
        "id": "gVy1J9v4Akz7"
      }
    },
    {
      "cell_type": "code",
      "source": [
        "df_el = pd.DataFrame(columns = ['id1', 'id2', 'weight'])\n",
        "\n",
        "for i, id1 in enumerate(list(df['id'])):\n",
        "  following_list1 = df.loc[i,\"following1\"]\n",
        "  for id2 in following_list1:\n",
        "    df_el = df_el.append({'id1': int(id1), 'id2': int(id2)}, ignore_index=True)\n",
        "\n",
        "df_el['weight'] = 1\n",
        "df_el.head()"
      ],
      "metadata": {
        "colab": {
          "base_uri": "https://localhost:8080/",
          "height": 206
        },
        "id": "5gSArrqEEy-z",
        "outputId": "b24d7672-a8d2-45a6-e273-0c202593a041"
      },
      "execution_count": null,
      "outputs": [
        {
          "output_type": "execute_result",
          "data": {
            "text/plain": [
              "           id1           id2  weight\n",
              "0  236586896.0  1.057609e+18       1\n",
              "1  236586896.0  1.224741e+09       1\n",
              "2  236586896.0  7.597106e+17       1\n",
              "3  236586896.0  1.136300e+18       1\n",
              "4  236586896.0  4.702754e+09       1"
            ],
            "text/html": [
              "\n",
              "  <div id=\"df-1a2dd598-8d64-4f60-8d1c-c2b9b8e3ae44\">\n",
              "    <div class=\"colab-df-container\">\n",
              "      <div>\n",
              "<style scoped>\n",
              "    .dataframe tbody tr th:only-of-type {\n",
              "        vertical-align: middle;\n",
              "    }\n",
              "\n",
              "    .dataframe tbody tr th {\n",
              "        vertical-align: top;\n",
              "    }\n",
              "\n",
              "    .dataframe thead th {\n",
              "        text-align: right;\n",
              "    }\n",
              "</style>\n",
              "<table border=\"1\" class=\"dataframe\">\n",
              "  <thead>\n",
              "    <tr style=\"text-align: right;\">\n",
              "      <th></th>\n",
              "      <th>id1</th>\n",
              "      <th>id2</th>\n",
              "      <th>weight</th>\n",
              "    </tr>\n",
              "  </thead>\n",
              "  <tbody>\n",
              "    <tr>\n",
              "      <th>0</th>\n",
              "      <td>236586896.0</td>\n",
              "      <td>1.057609e+18</td>\n",
              "      <td>1</td>\n",
              "    </tr>\n",
              "    <tr>\n",
              "      <th>1</th>\n",
              "      <td>236586896.0</td>\n",
              "      <td>1.224741e+09</td>\n",
              "      <td>1</td>\n",
              "    </tr>\n",
              "    <tr>\n",
              "      <th>2</th>\n",
              "      <td>236586896.0</td>\n",
              "      <td>7.597106e+17</td>\n",
              "      <td>1</td>\n",
              "    </tr>\n",
              "    <tr>\n",
              "      <th>3</th>\n",
              "      <td>236586896.0</td>\n",
              "      <td>1.136300e+18</td>\n",
              "      <td>1</td>\n",
              "    </tr>\n",
              "    <tr>\n",
              "      <th>4</th>\n",
              "      <td>236586896.0</td>\n",
              "      <td>4.702754e+09</td>\n",
              "      <td>1</td>\n",
              "    </tr>\n",
              "  </tbody>\n",
              "</table>\n",
              "</div>\n",
              "      <button class=\"colab-df-convert\" onclick=\"convertToInteractive('df-1a2dd598-8d64-4f60-8d1c-c2b9b8e3ae44')\"\n",
              "              title=\"Convert this dataframe to an interactive table.\"\n",
              "              style=\"display:none;\">\n",
              "        \n",
              "  <svg xmlns=\"http://www.w3.org/2000/svg\" height=\"24px\"viewBox=\"0 0 24 24\"\n",
              "       width=\"24px\">\n",
              "    <path d=\"M0 0h24v24H0V0z\" fill=\"none\"/>\n",
              "    <path d=\"M18.56 5.44l.94 2.06.94-2.06 2.06-.94-2.06-.94-.94-2.06-.94 2.06-2.06.94zm-11 1L8.5 8.5l.94-2.06 2.06-.94-2.06-.94L8.5 2.5l-.94 2.06-2.06.94zm10 10l.94 2.06.94-2.06 2.06-.94-2.06-.94-.94-2.06-.94 2.06-2.06.94z\"/><path d=\"M17.41 7.96l-1.37-1.37c-.4-.4-.92-.59-1.43-.59-.52 0-1.04.2-1.43.59L10.3 9.45l-7.72 7.72c-.78.78-.78 2.05 0 2.83L4 21.41c.39.39.9.59 1.41.59.51 0 1.02-.2 1.41-.59l7.78-7.78 2.81-2.81c.8-.78.8-2.07 0-2.86zM5.41 20L4 18.59l7.72-7.72 1.47 1.35L5.41 20z\"/>\n",
              "  </svg>\n",
              "      </button>\n",
              "      \n",
              "  <style>\n",
              "    .colab-df-container {\n",
              "      display:flex;\n",
              "      flex-wrap:wrap;\n",
              "      gap: 12px;\n",
              "    }\n",
              "\n",
              "    .colab-df-convert {\n",
              "      background-color: #E8F0FE;\n",
              "      border: none;\n",
              "      border-radius: 50%;\n",
              "      cursor: pointer;\n",
              "      display: none;\n",
              "      fill: #1967D2;\n",
              "      height: 32px;\n",
              "      padding: 0 0 0 0;\n",
              "      width: 32px;\n",
              "    }\n",
              "\n",
              "    .colab-df-convert:hover {\n",
              "      background-color: #E2EBFA;\n",
              "      box-shadow: 0px 1px 2px rgba(60, 64, 67, 0.3), 0px 1px 3px 1px rgba(60, 64, 67, 0.15);\n",
              "      fill: #174EA6;\n",
              "    }\n",
              "\n",
              "    [theme=dark] .colab-df-convert {\n",
              "      background-color: #3B4455;\n",
              "      fill: #D2E3FC;\n",
              "    }\n",
              "\n",
              "    [theme=dark] .colab-df-convert:hover {\n",
              "      background-color: #434B5C;\n",
              "      box-shadow: 0px 1px 3px 1px rgba(0, 0, 0, 0.15);\n",
              "      filter: drop-shadow(0px 1px 2px rgba(0, 0, 0, 0.3));\n",
              "      fill: #FFFFFF;\n",
              "    }\n",
              "  </style>\n",
              "\n",
              "      <script>\n",
              "        const buttonEl =\n",
              "          document.querySelector('#df-1a2dd598-8d64-4f60-8d1c-c2b9b8e3ae44 button.colab-df-convert');\n",
              "        buttonEl.style.display =\n",
              "          google.colab.kernel.accessAllowed ? 'block' : 'none';\n",
              "\n",
              "        async function convertToInteractive(key) {\n",
              "          const element = document.querySelector('#df-1a2dd598-8d64-4f60-8d1c-c2b9b8e3ae44');\n",
              "          const dataTable =\n",
              "            await google.colab.kernel.invokeFunction('convertToInteractive',\n",
              "                                                     [key], {});\n",
              "          if (!dataTable) return;\n",
              "\n",
              "          const docLinkHtml = 'Like what you see? Visit the ' +\n",
              "            '<a target=\"_blank\" href=https://colab.research.google.com/notebooks/data_table.ipynb>data table notebook</a>'\n",
              "            + ' to learn more about interactive tables.';\n",
              "          element.innerHTML = '';\n",
              "          dataTable['output_type'] = 'display_data';\n",
              "          await google.colab.output.renderOutput(dataTable, element);\n",
              "          const docLink = document.createElement('div');\n",
              "          docLink.innerHTML = docLinkHtml;\n",
              "          element.appendChild(docLink);\n",
              "        }\n",
              "      </script>\n",
              "    </div>\n",
              "  </div>\n",
              "  "
            ]
          },
          "metadata": {},
          "execution_count": 12
        }
      ]
    },
    {
      "cell_type": "markdown",
      "source": [
        "Zamiana id dziennikarzy na prostsze liczby (aliasy)"
      ],
      "metadata": {
        "id": "WYpBqMrQAwFk"
      }
    },
    {
      "cell_type": "code",
      "source": [
        "id_list = list(df['id'])\n",
        "alias_list = [*range(1, len(df.index) + 1, 1)]\n",
        "\n",
        "for i, j in zip(id_list, alias_list):\n",
        "  df_el = df_el.replace(i, j)\n",
        "df_el = df_el.round(0)\n",
        "\n",
        "for i, j in zip(id_list, alias_list):\n",
        "  df_nl = df_nl.replace(i, j)\n",
        "df_nl = df_nl.round(0)"
      ],
      "metadata": {
        "id": "3WZo6DU9YHuh"
      },
      "execution_count": null,
      "outputs": []
    },
    {
      "cell_type": "markdown",
      "source": [
        "Eksport datasetów węzłów oraz krawędzi do plików csv"
      ],
      "metadata": {
        "id": "jW1PYsOjA58U"
      }
    },
    {
      "cell_type": "code",
      "source": [
        "df_nl.to_csv('nl.csv')\n",
        "df_el.to_csv('el.csv')"
      ],
      "metadata": {
        "id": "jTXjEvRxYVby"
      },
      "execution_count": null,
      "outputs": []
    },
    {
      "cell_type": "code",
      "source": [
        "a = Graph.TupleList(df_el.itertuples(index=False), directed=True, weights=False, edge_attrs=\"weight\")"
      ],
      "metadata": {
        "id": "2sdjZA0QD5Y6"
      },
      "execution_count": null,
      "outputs": []
    },
    {
      "cell_type": "code",
      "source": [
        "tuple_el = [(list(df_el['id1']), list(df_el['id2'])) for i in range(0, len(list(df_el['id1'])))]"
      ],
      "metadata": {
        "id": "6taqPJzimIpg"
      },
      "execution_count": null,
      "outputs": []
    },
    {
      "cell_type": "code",
      "source": [
        "c = Graph()\n",
        "c.add_vertices(51)\n",
        "c.vs['nm'] = list(df_nl['name'])\n",
        "c.vs['media'] = list(df_nl['media'])\n",
        "c.vs['followers_count'] = list(df_nl['followers_count'])\n",
        "c.vs['following_count'] = list(df_nl['following_count'])\n",
        "c.add_edges(tuple_el)"
      ],
      "metadata": {
        "colab": {
          "base_uri": "https://localhost:8080/",
          "height": 338
        },
        "id": "lK1tK4pfD928",
        "outputId": "ffc14d1b-b6e0-41c6-e7e1-05103e62a77c"
      },
      "execution_count": null,
      "outputs": [
        {
          "output_type": "error",
          "ename": "TypeError",
          "evalue": "ignored",
          "traceback": [
            "\u001b[0;31m---------------------------------------------------------------------------\u001b[0m",
            "\u001b[0;31mTypeError\u001b[0m                                 Traceback (most recent call last)",
            "\u001b[0;32m<ipython-input-81-e75890584a0a>\u001b[0m in \u001b[0;36m<module>\u001b[0;34m\u001b[0m\n\u001b[1;32m      5\u001b[0m \u001b[0mc\u001b[0m\u001b[0;34m.\u001b[0m\u001b[0mvs\u001b[0m\u001b[0;34m[\u001b[0m\u001b[0;34m'followers_count'\u001b[0m\u001b[0;34m]\u001b[0m \u001b[0;34m=\u001b[0m \u001b[0mlist\u001b[0m\u001b[0;34m(\u001b[0m\u001b[0mdf_nl\u001b[0m\u001b[0;34m[\u001b[0m\u001b[0;34m'followers_count'\u001b[0m\u001b[0;34m]\u001b[0m\u001b[0;34m)\u001b[0m\u001b[0;34m\u001b[0m\u001b[0;34m\u001b[0m\u001b[0m\n\u001b[1;32m      6\u001b[0m \u001b[0mc\u001b[0m\u001b[0;34m.\u001b[0m\u001b[0mvs\u001b[0m\u001b[0;34m[\u001b[0m\u001b[0;34m'following_count'\u001b[0m\u001b[0;34m]\u001b[0m \u001b[0;34m=\u001b[0m \u001b[0mlist\u001b[0m\u001b[0;34m(\u001b[0m\u001b[0mdf_nl\u001b[0m\u001b[0;34m[\u001b[0m\u001b[0;34m'following_count'\u001b[0m\u001b[0;34m]\u001b[0m\u001b[0;34m)\u001b[0m\u001b[0;34m\u001b[0m\u001b[0;34m\u001b[0m\u001b[0m\n\u001b[0;32m----> 7\u001b[0;31m \u001b[0mc\u001b[0m\u001b[0;34m.\u001b[0m\u001b[0madd_edges\u001b[0m\u001b[0;34m(\u001b[0m\u001b[0mtuple_el\u001b[0m\u001b[0;34m)\u001b[0m\u001b[0;34m\u001b[0m\u001b[0;34m\u001b[0m\u001b[0m\n\u001b[0m",
            "\u001b[0;32m/usr/local/lib/python3.8/dist-packages/igraph/basic.py\u001b[0m in \u001b[0;36m_add_edges\u001b[0;34m(graph, es, attributes)\u001b[0m\n\u001b[1;32m     39\u001b[0m     \"\"\"\n\u001b[1;32m     40\u001b[0m     \u001b[0meid\u001b[0m \u001b[0;34m=\u001b[0m \u001b[0mgraph\u001b[0m\u001b[0;34m.\u001b[0m\u001b[0mecount\u001b[0m\u001b[0;34m(\u001b[0m\u001b[0;34m)\u001b[0m\u001b[0;34m\u001b[0m\u001b[0;34m\u001b[0m\u001b[0m\n\u001b[0;32m---> 41\u001b[0;31m     \u001b[0mres\u001b[0m \u001b[0;34m=\u001b[0m \u001b[0mGraphBase\u001b[0m\u001b[0;34m.\u001b[0m\u001b[0madd_edges\u001b[0m\u001b[0;34m(\u001b[0m\u001b[0mgraph\u001b[0m\u001b[0;34m,\u001b[0m \u001b[0mes\u001b[0m\u001b[0;34m)\u001b[0m\u001b[0;34m\u001b[0m\u001b[0;34m\u001b[0m\u001b[0m\n\u001b[0m\u001b[1;32m     42\u001b[0m     \u001b[0mn\u001b[0m \u001b[0;34m=\u001b[0m \u001b[0mgraph\u001b[0m\u001b[0;34m.\u001b[0m\u001b[0mecount\u001b[0m\u001b[0;34m(\u001b[0m\u001b[0;34m)\u001b[0m \u001b[0;34m-\u001b[0m \u001b[0meid\u001b[0m\u001b[0;34m\u001b[0m\u001b[0;34m\u001b[0m\u001b[0m\n\u001b[1;32m     43\u001b[0m     \u001b[0;32mif\u001b[0m \u001b[0;34m(\u001b[0m\u001b[0mattributes\u001b[0m \u001b[0;32mis\u001b[0m \u001b[0;32mnot\u001b[0m \u001b[0;32mNone\u001b[0m\u001b[0;34m)\u001b[0m \u001b[0;32mand\u001b[0m \u001b[0;34m(\u001b[0m\u001b[0mn\u001b[0m \u001b[0;34m>\u001b[0m \u001b[0;36m0\u001b[0m\u001b[0;34m)\u001b[0m\u001b[0;34m:\u001b[0m\u001b[0;34m\u001b[0m\u001b[0;34m\u001b[0m\u001b[0m\n",
            "\u001b[0;31mTypeError\u001b[0m: only non-negative integers, strings or igraph.Vertex objects can be converted to vertex IDs"
          ]
        }
      ]
    },
    {
      "cell_type": "code",
      "source": [
        "print(summary(c))\n",
        "for i in c.vs:\n",
        "  print(i)\n",
        "for i in c.es:\n",
        "  print(i)"
      ],
      "metadata": {
        "colab": {
          "base_uri": "https://localhost:8080/"
        },
        "id": "_TRV4vzwEQ-K",
        "outputId": "f0e8a896-c3d5-4ce6-d451-bee10417fa01"
      },
      "execution_count": null,
      "outputs": [
        {
          "output_type": "stream",
          "name": "stdout",
          "text": [
            "IGRAPH U--- 51 0 -- \n",
            "+ attr: color (v), followers_count (v), following_count (v), media (v), nm (v)\n",
            "None\n",
            "igraph.Vertex(<igraph.Graph object at 0x7f852d7e0940>, 0, {'nm': 'Tomasz Ćwiąkała', 'media': 'CANAL', 'followers_count': 305783, 'following_count': 1327, 'color': 'green'})\n",
            "igraph.Vertex(<igraph.Graph object at 0x7f852d7e0940>, 1, {'nm': 'Andrzej Twarowski', 'media': 'CANAL', 'followers_count': 213982, 'following_count': 228, 'color': 'green'})\n",
            "igraph.Vertex(<igraph.Graph object at 0x7f852d7e0940>, 2, {'nm': 'Jakub Kręcidło', 'media': 'CANAL', 'followers_count': 57485, 'following_count': 1173, 'color': 'green'})\n",
            "igraph.Vertex(<igraph.Graph object at 0x7f852d7e0940>, 3, {'nm': 'Bartosz Ignacik', 'media': 'CANAL', 'followers_count': 19204, 'following_count': 384, 'color': 'green'})\n",
            "igraph.Vertex(<igraph.Graph object at 0x7f852d7e0940>, 4, {'nm': 'Edward Durda', 'media': 'CANAL', 'followers_count': 12334, 'following_count': 71, 'color': 'green'})\n",
            "igraph.Vertex(<igraph.Graph object at 0x7f852d7e0940>, 5, {'nm': 'Maciej Siemiątkowski', 'media': 'CANAL', 'followers_count': 792, 'following_count': 1705, 'color': 'green'})\n",
            "igraph.Vertex(<igraph.Graph object at 0x7f852d7e0940>, 6, {'nm': 'Mateusz Borek', 'media': 'KS', 'followers_count': 815790, 'following_count': 2286, 'color': 'black'})\n",
            "igraph.Vertex(<igraph.Graph object at 0x7f852d7e0940>, 7, {'nm': 'Krzysztof Stanowski', 'media': 'KS', 'followers_count': 779933, 'following_count': 975, 'color': 'black'})\n",
            "igraph.Vertex(<igraph.Graph object at 0x7f852d7e0940>, 8, {'nm': 'Michał Pol', 'media': 'KS', 'followers_count': 648999, 'following_count': 501, 'color': 'black'})\n",
            "igraph.Vertex(<igraph.Graph object at 0x7f852d7e0940>, 9, {'nm': 'Tomasz Smokowski', 'media': 'KS', 'followers_count': 223609, 'following_count': 1505, 'color': 'black'})\n",
            "igraph.Vertex(<igraph.Graph object at 0x7f852d7e0940>, 10, {'nm': 'Przemysław Rudzki', 'media': 'KS', 'followers_count': 125480, 'following_count': 426, 'color': 'black'})\n",
            "igraph.Vertex(<igraph.Graph object at 0x7f852d7e0940>, 11, {'nm': 'Robert Mazurek', 'media': 'KS', 'followers_count': 110434, 'following_count': 175, 'color': 'black'})\n",
            "igraph.Vertex(<igraph.Graph object at 0x7f852d7e0940>, 12, {'nm': 'Adam Sławiński', 'media': 'KS', 'followers_count': 12869, 'following_count': 1109, 'color': 'black'})\n",
            "igraph.Vertex(<igraph.Graph object at 0x7f852d7e0940>, 13, {'nm': 'Mateusz Święcicki', 'media': 'MECZYKI', 'followers_count': 161832, 'following_count': 1136, 'color': 'red'})\n",
            "igraph.Vertex(<igraph.Graph object at 0x7f852d7e0940>, 14, {'nm': 'Łukasz Wiśniowski', 'media': 'MECZYKI', 'followers_count': 152293, 'following_count': 1287, 'color': 'red'})\n",
            "igraph.Vertex(<igraph.Graph object at 0x7f852d7e0940>, 15, {'nm': 'Tomasz Włodarczyk', 'media': 'MECZYKI', 'followers_count': 148869, 'following_count': 1341, 'color': 'red'})\n",
            "igraph.Vertex(<igraph.Graph object at 0x7f852d7e0940>, 16, {'nm': 'Filip Kapica', 'media': 'MECZYKI', 'followers_count': 64605, 'following_count': 640, 'color': 'red'})\n",
            "igraph.Vertex(<igraph.Graph object at 0x7f852d7e0940>, 17, {'nm': 'Bożydar Iwanow', 'media': 'MECZYKI', 'followers_count': 47558, 'following_count': 1541, 'color': 'red'})\n",
            "igraph.Vertex(<igraph.Graph object at 0x7f852d7e0940>, 18, {'nm': 'Piotr Dumanowski', 'media': 'MECZYKI', 'followers_count': 46740, 'following_count': 1161, 'color': 'red'})\n",
            "igraph.Vertex(<igraph.Graph object at 0x7f852d7e0940>, 19, {'nm': 'Janusz Basałaj', 'media': 'MECZYKI', 'followers_count': 42642, 'following_count': 388, 'color': 'red'})\n",
            "igraph.Vertex(<igraph.Graph object at 0x7f852d7e0940>, 20, {'nm': 'Marcin Gazda', 'media': 'MECZYKI', 'followers_count': 32219, 'following_count': 493, 'color': 'red'})\n",
            "igraph.Vertex(<igraph.Graph object at 0x7f852d7e0940>, 21, {'nm': 'Samuel Szczygielski', 'media': 'MECZYKI', 'followers_count': 29801, 'following_count': 926, 'color': 'red'})\n",
            "igraph.Vertex(<igraph.Graph object at 0x7f852d7e0940>, 22, {'nm': 'Dominik Guziak', 'media': 'MECZYKI', 'followers_count': 20324, 'following_count': 585, 'color': 'red'})\n",
            "igraph.Vertex(<igraph.Graph object at 0x7f852d7e0940>, 23, {'nm': 'Sebastian Chabiniak', 'media': 'MECZYKI', 'followers_count': 16414, 'following_count': 712, 'color': 'red'})\n",
            "igraph.Vertex(<igraph.Graph object at 0x7f852d7e0940>, 24, {'nm': 'Maciej Łuczak', 'media': 'MECZYKI', 'followers_count': 12428, 'following_count': 2020, 'color': 'red'})\n",
            "igraph.Vertex(<igraph.Graph object at 0x7f852d7e0940>, 25, {'nm': 'Jan Piekutowski', 'media': 'MECZYKI', 'followers_count': 1752, 'following_count': 527, 'color': 'red'})\n",
            "igraph.Vertex(<igraph.Graph object at 0x7f852d7e0940>, 26, {'nm': 'Maciej Pietrasik', 'media': 'MECZYKI', 'followers_count': 318, 'following_count': 1341, 'color': 'red'})\n",
            "igraph.Vertex(<igraph.Graph object at 0x7f852d7e0940>, 27, {'nm': 'Marek Szkolnikowski', 'media': 'TVP', 'followers_count': 49281, 'following_count': 352, 'color': 'blue'})\n",
            "igraph.Vertex(<igraph.Graph object at 0x7f852d7e0940>, 28, {'nm': 'Maciej Iwański', 'media': 'TVP', 'followers_count': 36538, 'following_count': 1050, 'color': 'blue'})\n",
            "igraph.Vertex(<igraph.Graph object at 0x7f852d7e0940>, 29, {'nm': 'Wojciech Papuga', 'media': 'TVP', 'followers_count': 8442, 'following_count': 371, 'color': 'blue'})\n",
            "igraph.Vertex(<igraph.Graph object at 0x7f852d7e0940>, 30, {'nm': 'Sara Kalisz', 'media': 'TVP', 'followers_count': 7676, 'following_count': 158, 'color': 'blue'})\n",
            "igraph.Vertex(<igraph.Graph object at 0x7f852d7e0940>, 31, {'nm': 'Piotr Michałowski', 'media': 'TVP', 'followers_count': 779, 'following_count': 953, 'color': 'blue'})\n",
            "igraph.Vertex(<igraph.Graph object at 0x7f852d7e0940>, 32, {'nm': 'Michał Zachodny', 'media': 'VP', 'followers_count': 45265, 'following_count': 1283, 'color': 'purple'})\n",
            "igraph.Vertex(<igraph.Graph object at 0x7f852d7e0940>, 33, {'nm': 'Rafał Wolski', 'media': 'VP', 'followers_count': 36315, 'following_count': 468, 'color': 'purple'})\n",
            "igraph.Vertex(<igraph.Graph object at 0x7f852d7e0940>, 34, {'nm': 'Marcin Borzęcki', 'media': 'VP', 'followers_count': 34525, 'following_count': 927, 'color': 'purple'})\n",
            "igraph.Vertex(<igraph.Graph object at 0x7f852d7e0940>, 35, {'nm': 'Piotr Domagała', 'media': 'VP', 'followers_count': 5960, 'following_count': 713, 'color': 'purple'})\n",
            "igraph.Vertex(<igraph.Graph object at 0x7f852d7e0940>, 36, {'nm': 'Szymon Ratajczak', 'media': 'VP', 'followers_count': 2772, 'following_count': 731, 'color': 'purple'})\n",
            "igraph.Vertex(<igraph.Graph object at 0x7f852d7e0940>, 37, {'nm': 'Dawid Szymczak', 'media': 'VP', 'followers_count': 1759, 'following_count': 507, 'color': 'purple'})\n",
            "igraph.Vertex(<igraph.Graph object at 0x7f852d7e0940>, 38, {'nm': 'Wojciech Kowalczyk', 'media': 'WESZLO', 'followers_count': 228657, 'following_count': 276, 'color': 'orange'})\n",
            "igraph.Vertex(<igraph.Graph object at 0x7f852d7e0940>, 39, {'nm': 'Mateusz Rokuszewski', 'media': 'WESZLO', 'followers_count': 79867, 'following_count': 855, 'color': 'orange'})\n",
            "igraph.Vertex(<igraph.Graph object at 0x7f852d7e0940>, 40, {'nm': 'Jakub Olkiewicz', 'media': 'WESZLO', 'followers_count': 74830, 'following_count': 906, 'color': 'orange'})\n",
            "igraph.Vertex(<igraph.Graph object at 0x7f852d7e0940>, 41, {'nm': 'Leszek Milewski', 'media': 'WESZLO', 'followers_count': 73819, 'following_count': 1609, 'color': 'orange'})\n",
            "igraph.Vertex(<igraph.Graph object at 0x7f852d7e0940>, 42, {'nm': 'Paweł Paczul', 'media': 'WESZLO', 'followers_count': 72468, 'following_count': 467, 'color': 'orange'})\n",
            "igraph.Vertex(<igraph.Graph object at 0x7f852d7e0940>, 43, {'nm': 'Jakub Białek', 'media': 'WESZLO', 'followers_count': 60910, 'following_count': 1355, 'color': 'orange'})\n",
            "igraph.Vertex(<igraph.Graph object at 0x7f852d7e0940>, 44, {'nm': 'Wojciech Piela', 'media': 'WESZLO', 'followers_count': 58861, 'following_count': 1292, 'color': 'orange'})\n",
            "igraph.Vertex(<igraph.Graph object at 0x7f852d7e0940>, 45, {'nm': 'Damian Smyk', 'media': 'WESZLO', 'followers_count': 36980, 'following_count': 1619, 'color': 'orange'})\n",
            "igraph.Vertex(<igraph.Graph object at 0x7f852d7e0940>, 46, {'nm': 'Kamil Gapiński', 'media': 'WESZLO', 'followers_count': 27008, 'following_count': 402, 'color': 'orange'})\n",
            "igraph.Vertex(<igraph.Graph object at 0x7f852d7e0940>, 47, {'nm': 'Maciej Wąsowski', 'media': 'WESZLO', 'followers_count': 16953, 'following_count': 2493, 'color': 'orange'})\n",
            "igraph.Vertex(<igraph.Graph object at 0x7f852d7e0940>, 48, {'nm': 'Szymon Janczyk', 'media': 'WESZLO', 'followers_count': 13403, 'following_count': 908, 'color': 'orange'})\n",
            "igraph.Vertex(<igraph.Graph object at 0x7f852d7e0940>, 49, {'nm': 'Jan Mazurek', 'media': 'WESZLO', 'followers_count': 11430, 'following_count': 695, 'color': 'orange'})\n",
            "igraph.Vertex(<igraph.Graph object at 0x7f852d7e0940>, 50, {'nm': 'Kamil Warzocha', 'media': 'WESZLO', 'followers_count': 2861, 'following_count': 739, 'color': 'orange'})\n"
          ]
        }
      ]
    },
    {
      "cell_type": "code",
      "source": [
        "color_dict = {'KS': 'black', 'WESZLO': 'orange', 'CANAL': 'green', 'TVP': 'blue', 'VP': 'purple', 'MECZYKI': 'red'}\n",
        "c.vs['color'] = [color_dict[media] for media in c.vs['media']]\n",
        "plot(c, layout=\"kk\")"
      ],
      "metadata": {
        "colab": {
          "base_uri": "https://localhost:8080/",
          "height": 209
        },
        "id": "DSG5hT5SXmFT",
        "outputId": "2a7211eb-8092-46b9-bde4-266561ae8e41"
      },
      "execution_count": null,
      "outputs": [
        {
          "output_type": "error",
          "ename": "AttributeError",
          "evalue": "ignored",
          "traceback": [
            "\u001b[0;31m---------------------------------------------------------------------------\u001b[0m",
            "\u001b[0;31mAttributeError\u001b[0m                            Traceback (most recent call last)",
            "\u001b[0;32m<ipython-input-76-31d098431d08>\u001b[0m in \u001b[0;36m<module>\u001b[0;34m\u001b[0m\n\u001b[1;32m      1\u001b[0m \u001b[0mcolor_dict\u001b[0m \u001b[0;34m=\u001b[0m \u001b[0;34m{\u001b[0m\u001b[0;34m'KS'\u001b[0m\u001b[0;34m:\u001b[0m \u001b[0;34m'black'\u001b[0m\u001b[0;34m,\u001b[0m \u001b[0;34m'WESZLO'\u001b[0m\u001b[0;34m:\u001b[0m \u001b[0;34m'orange'\u001b[0m\u001b[0;34m,\u001b[0m \u001b[0;34m'CANAL'\u001b[0m\u001b[0;34m:\u001b[0m \u001b[0;34m'green'\u001b[0m\u001b[0;34m,\u001b[0m \u001b[0;34m'TVP'\u001b[0m\u001b[0;34m:\u001b[0m \u001b[0;34m'blue'\u001b[0m\u001b[0;34m,\u001b[0m \u001b[0;34m'VP'\u001b[0m\u001b[0;34m:\u001b[0m \u001b[0;34m'purple'\u001b[0m\u001b[0;34m,\u001b[0m \u001b[0;34m'MECZYKI'\u001b[0m\u001b[0;34m:\u001b[0m \u001b[0;34m'red'\u001b[0m\u001b[0;34m}\u001b[0m\u001b[0;34m\u001b[0m\u001b[0;34m\u001b[0m\u001b[0m\n\u001b[0;32m----> 2\u001b[0;31m \u001b[0mc\u001b[0m\u001b[0;34m.\u001b[0m\u001b[0mvs\u001b[0m\u001b[0;34m[\u001b[0m\u001b[0;34m'color'\u001b[0m\u001b[0;34m]\u001b[0m \u001b[0;34m=\u001b[0m \u001b[0;34m[\u001b[0m\u001b[0mcolor_dict\u001b[0m\u001b[0;34m[\u001b[0m\u001b[0mmedia\u001b[0m\u001b[0;34m]\u001b[0m \u001b[0;32mfor\u001b[0m \u001b[0mmedia\u001b[0m \u001b[0;32min\u001b[0m \u001b[0mc\u001b[0m\u001b[0;34m.\u001b[0m\u001b[0mvs\u001b[0m\u001b[0;34m[\u001b[0m\u001b[0;34m'media'\u001b[0m\u001b[0;34m]\u001b[0m\u001b[0;34m]\u001b[0m\u001b[0;34m\u001b[0m\u001b[0;34m\u001b[0m\u001b[0m\n\u001b[0m\u001b[1;32m      3\u001b[0m \u001b[0mplot\u001b[0m\u001b[0;34m(\u001b[0m\u001b[0mc\u001b[0m\u001b[0;34m,\u001b[0m \u001b[0mlayout\u001b[0m\u001b[0;34m=\u001b[0m\u001b[0;34m\"kk\"\u001b[0m\u001b[0;34m)\u001b[0m\u001b[0;34m\u001b[0m\u001b[0;34m\u001b[0m\u001b[0m\n",
            "\u001b[0;31mAttributeError\u001b[0m: 'float' object has no attribute 'vs'"
          ]
        }
      ]
    }
  ]
}