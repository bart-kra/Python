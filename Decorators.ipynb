{
  "nbformat": 4,
  "nbformat_minor": 0,
  "metadata": {
    "colab": {
      "name": "Decorators.ipynb",
      "provenance": [],
      "authorship_tag": "ABX9TyPsJ78jDG2Rxp3QNNTnl46C"
    },
    "kernelspec": {
      "name": "python3",
      "display_name": "Python 3"
    },
    "language_info": {
      "name": "python"
    }
  },
  "cells": [
    {
      "cell_type": "code",
      "execution_count": 18,
      "metadata": {
        "id": "eQurLh2AezhS"
      },
      "outputs": [],
      "source": [
        "def new_decorator(func):\n",
        "  def wrapper():\n",
        "    print('Beginning wrap')\n",
        "    func()\n",
        "    print('End wrap')\n",
        "  return wrapper()\n",
        "\n",
        "def my_func():\n",
        "  print('I want to be decorated')"
      ]
    },
    {
      "cell_type": "code",
      "source": [
        "my_func()"
      ],
      "metadata": {
        "colab": {
          "base_uri": "https://localhost:8080/"
        },
        "id": "Ya41jkDRk2wK",
        "outputId": "f87d96a0-8bbf-4a95-b260-b5a8b37b7859"
      },
      "execution_count": 19,
      "outputs": [
        {
          "output_type": "stream",
          "name": "stdout",
          "text": [
            "I want to be decorated\n"
          ]
        }
      ]
    },
    {
      "cell_type": "code",
      "source": [
        "new_func = new_decorator(my_func)"
      ],
      "metadata": {
        "colab": {
          "base_uri": "https://localhost:8080/"
        },
        "id": "ENOLZBWzk_7a",
        "outputId": "6176215f-758f-42f3-d584-29d759b1162b"
      },
      "execution_count": 20,
      "outputs": [
        {
          "output_type": "stream",
          "name": "stdout",
          "text": [
            "Beginning wrap\n",
            "I want to be decorated\n",
            "End wrap\n"
          ]
        }
      ]
    },
    {
      "cell_type": "code",
      "source": [
        "@new_decorator\n",
        "def my_func():\n",
        "  print('I want to be decorated')"
      ],
      "metadata": {
        "colab": {
          "base_uri": "https://localhost:8080/"
        },
        "id": "wqgQAeHolAkX",
        "outputId": "12d3519a-192e-41e6-db9c-ac337694d559"
      },
      "execution_count": 27,
      "outputs": [
        {
          "output_type": "stream",
          "name": "stdout",
          "text": [
            "Beginning wrap\n",
            "I want to be decorated\n",
            "End wrap\n"
          ]
        }
      ]
    },
    {
      "cell_type": "code",
      "source": [
        ""
      ],
      "metadata": {
        "id": "L9AafSYDlfXp"
      },
      "execution_count": null,
      "outputs": []
    }
  ]
}