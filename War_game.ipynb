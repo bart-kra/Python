{
  "nbformat": 4,
  "nbformat_minor": 0,
  "metadata": {
    "colab": {
      "name": "War_game.ipynb",
      "provenance": [],
      "authorship_tag": "ABX9TyOPr1SCBSbJJ/RmMVgwdgXX"
    },
    "kernelspec": {
      "name": "python3",
      "display_name": "Python 3"
    },
    "language_info": {
      "name": "python"
    }
  },
  "cells": [
    {
      "cell_type": "code",
      "execution_count": null,
      "metadata": {
        "id": "GmkPYPI5Daro"
      },
      "outputs": [],
      "source": [
        "#CARD CLASS\n",
        "#DECK CLASS\n",
        "#PLAYER CLASS\n",
        "#SHUFFLE LOGIC\n",
        "#GAMEPLAY LOGIC\n",
        "#STANDARD FIGHT\n",
        "#WAR FIGHT"
      ]
    }
  ]
}