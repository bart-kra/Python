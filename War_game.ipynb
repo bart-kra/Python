{
  "cells": [
    {
      "cell_type": "code",
      "execution_count": null,
      "metadata": {
        "id": "GmkPYPI5Daro"
      },
      "outputs": [],
      "source": [
        "from random import shuffle\n",
        "# RANKS, SUITS & THEIR VALUES\n",
        "ranks = ('two', 'three', 'four', 'five', 'six', 'seven', 'eight', 'nine',\n",
        "         'ten', 'jack', 'queen', 'king', 'ace')\n",
        "suits = ('hearts', 'diamonds', 'clubs', 'spades')\n",
        "values = {'two':2,'three':3,'four':4,'five':5,'six':6,'seven':7,'eight':8,\n",
        "          'nine':9,'ten':10,'jack':11,'queen':12,'king':13,'ace':14}\n",
        "\n",
        "#CARD CLASS\n",
        "class Card():\n",
        "  def __init__(self,rank,suit):\n",
        "    self.rank = rank\n",
        "    self.suit = suit\n",
        "    self.value = values[rank]\n",
        "\n",
        "  def __str__(self):\n",
        "    return self.rank + ' of ' + self.suit\n",
        "\n",
        "#DECK CLASS\n",
        "class Deck():\n",
        "  def __init__(self):\n",
        "    self.cards_set = []\n",
        "\n",
        "    for rank in ranks:\n",
        "      for suit in suits:\n",
        "        created_card = Card(rank, suit)\n",
        "        self.cards_set.append(created_card)\n",
        "  \n",
        "  # DECK SHUFFLE\n",
        "  def shuffle(self):\n",
        "    shuffle(self.cards_set)\n",
        "\n",
        "  def deal_one(self):\n",
        "    return self.cards_set.pop()\n",
        "    \n",
        "#PLAYER CLASS\n",
        "class Player():\n",
        "  def __init__(self,name):\n",
        "    self.name = name\n",
        "    self.cards_set = []\n",
        "\n",
        "  def remove_card(self):\n",
        "    return self.cards_set.pop[0]\n",
        "\n",
        "  def add_cards(self,new_cards):\n",
        "    if type(new_cards) == type([]):\n",
        "      self.cards_set.extend(new_cards)\n",
        "    else:\n",
        "      self.cards_set.append(new_cards)\n",
        "\n",
        "  def __str__(self):\n",
        "    return f'Player {self.name} has {len(self.cards_set)} cards.'\n",
        "\n",
        "#GAMEPLAY LOGIC\n",
        "#STANDARD FIGHT\n",
        "#WAR FIGHT"
      ]
    },
    {
      "cell_type": "code",
      "source": [
        "# SETUP GAME\n",
        "player_one = Player('One')\n",
        "player_two = Player('Two')\n",
        "all_cards = Deck()\n",
        "all_cards.shuffle()\n",
        "\n",
        "# SPLIT SHUFFLED CARDS BETWEEN TWO PLAYERS\n",
        "for x in range(26):\n",
        "  player_one.add_cards(all_cards.deal_one())\n",
        "  player_two.add_cards(all_cards.deal_one())\n",
        "\n",
        "# SET STARTING GAME STATUS\n",
        "game_on = True \n",
        "rounds_count = 0\n",
        "\n",
        "while game_on:\n",
        "  rounds_count += 1\n",
        "  print(f'Round {rounds_count}')\n",
        "\n",
        "  # CHECK IF ANY PLAYER ALREADY LOST\n",
        "  if len(player_one.cards_set) == 0:\n",
        "    print(f'Player One, out of cards! Player Two wins!')\n",
        "    game_on = False\n",
        "  if len(player_two.cards_set) == 0:\n",
        "    print(f'Player Two, out of cards! Player One wins!')\n",
        "    game_on = False\n",
        "\n",
        "  # EMPTY LISTS FOR CARDS CURRENTLY ON THE TABLE\n",
        "  player_one_cards = []\n",
        "  player_one_cards.append(player_one.remove_card())\n",
        "  player_two_cards = []\n",
        "  player_two_cards.append(player_two.remove_card())\n",
        "\n",
        "  while player_one_cards[-1] == player_two_cards[-1]:\n",
        "    for i in range(3):\n",
        "      player_one_cards.append(player_one.remove_card())\n",
        "      player_two_cards.append(player_two.remove_card())  \n",
        "\n",
        "  if player_one_cards[-1] > player_two_cards[-1]:\n",
        "    player_one_cards.extend(player_two_cards.pop)\n",
        "    player_one.cards_set.add_cards(player_one_cards)\n",
        "  elif player_two_cards[-1] > player_one_cards[-1]:\n",
        "    player_two_cards.extend(player_one_cards.pop)\n",
        "    player_two.cards_set.add_cards(player_two_cards)\n",
        "\n"
      ],
      "metadata": {
        "colab": {
          "base_uri": "https://localhost:8080/",
          "height": 389
        },
        "id": "jAlUA87KGLLZ",
        "outputId": "32fefdd7-a515-44d7-94f9-68465222f88e"
      },
      "execution_count": null,
      "outputs": [
        {
          "output_type": "stream",
          "name": "stdout",
          "text": [
            "Round 1\n"
          ]
        },
        {
          "output_type": "error",
          "ename": "TypeError",
          "evalue": "ignored",
          "traceback": [
            "\u001b[0;31m---------------------------------------------------------------------------\u001b[0m",
            "\u001b[0;31mTypeError\u001b[0m                                 Traceback (most recent call last)",
            "\u001b[0;32m<ipython-input-63-ae64a5d3de4b>\u001b[0m in \u001b[0;36m<module>\u001b[0;34m()\u001b[0m\n\u001b[1;32m     28\u001b[0m   \u001b[0;31m# EMPTY LISTS FOR CARDS CURRENTLY ON THE TABLE\u001b[0m\u001b[0;34m\u001b[0m\u001b[0;34m\u001b[0m\u001b[0;34m\u001b[0m\u001b[0m\n\u001b[1;32m     29\u001b[0m   \u001b[0mplayer_one_cards\u001b[0m \u001b[0;34m=\u001b[0m \u001b[0;34m[\u001b[0m\u001b[0;34m]\u001b[0m\u001b[0;34m\u001b[0m\u001b[0;34m\u001b[0m\u001b[0m\n\u001b[0;32m---> 30\u001b[0;31m   \u001b[0mplayer_one_cards\u001b[0m\u001b[0;34m.\u001b[0m\u001b[0mappend\u001b[0m\u001b[0;34m(\u001b[0m\u001b[0mplayer_one\u001b[0m\u001b[0;34m.\u001b[0m\u001b[0mremove_card\u001b[0m\u001b[0;34m(\u001b[0m\u001b[0;34m)\u001b[0m\u001b[0;34m)\u001b[0m\u001b[0;34m\u001b[0m\u001b[0;34m\u001b[0m\u001b[0m\n\u001b[0m\u001b[1;32m     31\u001b[0m   \u001b[0mplayer_two_cards\u001b[0m \u001b[0;34m=\u001b[0m \u001b[0;34m[\u001b[0m\u001b[0;34m]\u001b[0m\u001b[0;34m\u001b[0m\u001b[0;34m\u001b[0m\u001b[0m\n\u001b[1;32m     32\u001b[0m   \u001b[0mplayer_two_cards\u001b[0m\u001b[0;34m.\u001b[0m\u001b[0mappend\u001b[0m\u001b[0;34m(\u001b[0m\u001b[0mplayer_two\u001b[0m\u001b[0;34m.\u001b[0m\u001b[0mremove_card\u001b[0m\u001b[0;34m(\u001b[0m\u001b[0;34m)\u001b[0m\u001b[0;34m)\u001b[0m\u001b[0;34m\u001b[0m\u001b[0;34m\u001b[0m\u001b[0m\n",
            "\u001b[0;32m<ipython-input-62-9d1f66a1edde>\u001b[0m in \u001b[0;36mremove_card\u001b[0;34m(self)\u001b[0m\n\u001b[1;32m     41\u001b[0m \u001b[0;34m\u001b[0m\u001b[0m\n\u001b[1;32m     42\u001b[0m   \u001b[0;32mdef\u001b[0m \u001b[0mremove_card\u001b[0m\u001b[0;34m(\u001b[0m\u001b[0mself\u001b[0m\u001b[0;34m)\u001b[0m\u001b[0;34m:\u001b[0m\u001b[0;34m\u001b[0m\u001b[0;34m\u001b[0m\u001b[0m\n\u001b[0;32m---> 43\u001b[0;31m     \u001b[0;32mreturn\u001b[0m \u001b[0mself\u001b[0m\u001b[0;34m.\u001b[0m\u001b[0mcards_set\u001b[0m\u001b[0;34m.\u001b[0m\u001b[0mpop\u001b[0m\u001b[0;34m[\u001b[0m\u001b[0;36m0\u001b[0m\u001b[0;34m]\u001b[0m\u001b[0;34m\u001b[0m\u001b[0;34m\u001b[0m\u001b[0m\n\u001b[0m\u001b[1;32m     44\u001b[0m \u001b[0;34m\u001b[0m\u001b[0m\n\u001b[1;32m     45\u001b[0m   \u001b[0;32mdef\u001b[0m \u001b[0madd_cards\u001b[0m\u001b[0;34m(\u001b[0m\u001b[0mself\u001b[0m\u001b[0;34m,\u001b[0m\u001b[0mnew_cards\u001b[0m\u001b[0;34m)\u001b[0m\u001b[0;34m:\u001b[0m\u001b[0;34m\u001b[0m\u001b[0;34m\u001b[0m\u001b[0m\n",
            "\u001b[0;31mTypeError\u001b[0m: 'builtin_function_or_method' object is not subscriptable"
          ]
        }
      ]
    },
    {
      "cell_type": "code",
      "source": [
        ""
      ],
      "metadata": {
        "id": "n2vE8uKnHfer"
      },
      "execution_count": null,
      "outputs": []
    }
  ],
  "metadata": {
    "colab": {
      "name": "War_game.ipynb",
      "provenance": [],
      "authorship_tag": "ABX9TyN5efPSlJlBzuiWiN1VaF9x"
    },
    "kernelspec": {
      "display_name": "Python 3",
      "name": "python3"
    },
    "language_info": {
      "name": "python"
    }
  },
  "nbformat": 4,
  "nbformat_minor": 0
}