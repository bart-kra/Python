{
  "cells": [
    {
      "cell_type": "code",
      "execution_count": 18,
      "metadata": {
        "id": "GmkPYPI5Daro"
      },
      "outputs": [],
      "source": [
        "ranks = ('two', 'three', 'four', 'five', 'six', 'seven', 'eight', 'nine',\n",
        "         'ten', 'jack', 'queen', 'king', 'ace')\n",
        "suits = ('hearts', 'diamonds', 'clubs', 'spades')\n",
        "values = {'two':2,'three':3,'four':4,'five':5,'six':6,'seven':7,'eight':8,\n",
        "          'nine':9,'ten':10,'jack':11,'queen':12,'king':13,'ace':14}\n",
        "#CARD CLASS\n",
        "class Card():\n",
        "  def __init__(self,rank,suit):\n",
        "    self.rank = rank\n",
        "    self.suit = suit\n",
        "    self.value = values[rank]\n",
        "\n",
        "  def __str__(self):\n",
        "    return self.rank + ' of ' + self.suit\n",
        "\n",
        "#DECK CLASS\n",
        "class Deck():\n",
        "  def __init__(self):\n",
        "    self.set_of_cards = []\n",
        "\n",
        "    for rank in ranks:\n",
        "      for suit in suits:\n",
        "        created_card = Card(rank, suit)\n",
        "        self.set_of_cards.append(created_card)\n",
        "\n",
        "#PLAYER CLASS\n",
        "#SHUFFLE LOGIC\n",
        "#GAMEPLAY LOGIC\n",
        "#STANDARD FIGHT\n",
        "#WAR FIGHT"
      ]
    },
    {
      "cell_type": "code",
      "execution_count": 19,
      "metadata": {
        "id": "sLNVDiSt9ELj"
      },
      "outputs": [],
      "source": [
        "new_deck = Deck()"
      ]
    },
    {
      "cell_type": "code",
      "source": [
        "print(new_deck)"
      ],
      "metadata": {
        "colab": {
          "base_uri": "https://localhost:8080/"
        },
        "id": "Jzje4wZSb1xb",
        "outputId": "46524785-f252-4a85-840b-467a185e4938"
      },
      "execution_count": 20,
      "outputs": [
        {
          "output_type": "stream",
          "name": "stdout",
          "text": [
            "<__main__.Deck object at 0x7f44dafb8750>\n"
          ]
        }
      ]
    },
    {
      "cell_type": "code",
      "source": [
        "print(new_deck.set_of_cards)"
      ],
      "metadata": {
        "colab": {
          "base_uri": "https://localhost:8080/"
        },
        "id": "2vzGcrw8clpg",
        "outputId": "aa7cd440-4bc5-4f1b-a93d-729ab7c0bb21"
      },
      "execution_count": 22,
      "outputs": [
        {
          "output_type": "stream",
          "name": "stdout",
          "text": [
            "[<__main__.Card object at 0x7f44dafb8510>, <__main__.Card object at 0x7f44dafb82d0>, <__main__.Card object at 0x7f44dafb80d0>, <__main__.Card object at 0x7f44dafb8710>, <__main__.Card object at 0x7f44dafe3090>, <__main__.Card object at 0x7f44dafe3590>, <__main__.Card object at 0x7f44dafe35d0>, <__main__.Card object at 0x7f44dafe3610>, <__main__.Card object at 0x7f44dafe3650>, <__main__.Card object at 0x7f44dafe33d0>, <__main__.Card object at 0x7f44dafe3690>, <__main__.Card object at 0x7f44dafe36d0>, <__main__.Card object at 0x7f44dafe3710>, <__main__.Card object at 0x7f44dafe3750>, <__main__.Card object at 0x7f44dafe3790>, <__main__.Card object at 0x7f44dafe37d0>, <__main__.Card object at 0x7f44dafe3810>, <__main__.Card object at 0x7f44dafe3850>, <__main__.Card object at 0x7f44dafe3890>, <__main__.Card object at 0x7f44dafe3390>, <__main__.Card object at 0x7f44dafe3050>, <__main__.Card object at 0x7f44dafe3450>, <__main__.Card object at 0x7f44dafe3150>, <__main__.Card object at 0x7f44dafe3490>, <__main__.Card object at 0x7f44dafe3310>, <__main__.Card object at 0x7f44dafe3210>, <__main__.Card object at 0x7f44dafe3110>, <__main__.Card object at 0x7f44dafe3410>, <__main__.Card object at 0x7f44dafe31d0>, <__main__.Card object at 0x7f44dafe34d0>, <__main__.Card object at 0x7f44dafe3510>, <__main__.Card object at 0x7f44dafe3550>, <__main__.Card object at 0x7f44dafe3350>, <__main__.Card object at 0x7f44dafe38d0>, <__main__.Card object at 0x7f44dafe3910>, <__main__.Card object at 0x7f44dafe3a50>, <__main__.Card object at 0x7f44dafe3b10>, <__main__.Card object at 0x7f44dafe3a90>, <__main__.Card object at 0x7f44dafe3ad0>, <__main__.Card object at 0x7f44dafe3b50>, <__main__.Card object at 0x7f44dafe3c10>, <__main__.Card object at 0x7f44dafe3b90>, <__main__.Card object at 0x7f44dafe3bd0>, <__main__.Card object at 0x7f44dafe3c50>, <__main__.Card object at 0x7f44dafe3d10>, <__main__.Card object at 0x7f44dafe3d90>, <__main__.Card object at 0x7f44dafe3dd0>, <__main__.Card object at 0x7f44dafe3d50>, <__main__.Card object at 0x7f44dafe3c90>, <__main__.Card object at 0x7f44dafe3cd0>, <__main__.Card object at 0x7f44dafe3950>, <__main__.Card object at 0x7f44dafe3990>]\n"
          ]
        }
      ]
    },
    {
      "cell_type": "code",
      "source": [
        "card1 = new_deck.set_of_cards[-1]"
      ],
      "metadata": {
        "id": "uEmk-pRWczsj"
      },
      "execution_count": 25,
      "outputs": []
    },
    {
      "cell_type": "code",
      "source": [
        "print(card1)"
      ],
      "metadata": {
        "colab": {
          "base_uri": "https://localhost:8080/"
        },
        "id": "WnF8QJfSdKoo",
        "outputId": "f8e93002-e337-46f8-b260-6673bc860fbe"
      },
      "execution_count": 26,
      "outputs": [
        {
          "output_type": "stream",
          "name": "stdout",
          "text": [
            "ace of spades\n"
          ]
        }
      ]
    },
    {
      "cell_type": "code",
      "source": [
        ""
      ],
      "metadata": {
        "id": "xb2DCfmddL7o"
      },
      "execution_count": null,
      "outputs": []
    }
  ],
  "metadata": {
    "colab": {
      "name": "War_game.ipynb",
      "provenance": [],
      "authorship_tag": "ABX9TyMdOS6yDBLlBkgPeFDQ8UKe"
    },
    "kernelspec": {
      "display_name": "Python 3",
      "name": "python3"
    },
    "language_info": {
      "name": "python"
    }
  },
  "nbformat": 4,
  "nbformat_minor": 0
}