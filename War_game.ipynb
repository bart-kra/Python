{
  "cells": [
    {
      "cell_type": "code",
      "execution_count": 29,
      "metadata": {
        "id": "GmkPYPI5Daro"
      },
      "outputs": [],
      "source": [
        "ranks = {'two':2,'three':3,'four':4,'five':5,'six':6,'seven':7,'eight':8,\n",
        "          'nine':9,'ten':10,'jack':11,'queen':12,'king':13,'ace':14}\n",
        "cards = []\n",
        "#CARD CLASS\n",
        "class Card():\n",
        "  def __init__(self,rank,suit):\n",
        "    self.rank = rank\n",
        "    self.suit = suit\n",
        "\n",
        "  def value(self,ranks):\n",
        "    return ranks[self]\n",
        "#DECK CLASS\n",
        "#PLAYER CLASS\n",
        "#SHUFFLE LOGIC\n",
        "#GAMEPLAY LOGIC\n",
        "#STANDARD FIGHT\n",
        "#WAR FIGHT"
      ]
    },
    {
      "cell_type": "code",
      "execution_count": 37,
      "metadata": {
        "colab": {
          "base_uri": "https://localhost:8080/",
          "height": 244
        },
        "id": "sLNVDiSt9ELj",
        "outputId": "3c873457-2e11-46c1-a3af-8783b9b2f72e"
      },
      "outputs": [
        {
          "output_type": "error",
          "ename": "TypeError",
          "evalue": "ignored",
          "traceback": [
            "\u001b[0;31m---------------------------------------------------------------------------\u001b[0m",
            "\u001b[0;31mTypeError\u001b[0m                                 Traceback (most recent call last)",
            "\u001b[0;32m<ipython-input-37-e77155b1fe36>\u001b[0m in \u001b[0;36m<module>\u001b[0;34m()\u001b[0m\n\u001b[1;32m      1\u001b[0m \u001b[0mtwo_hearts\u001b[0m \u001b[0;34m=\u001b[0m \u001b[0mCard\u001b[0m\u001b[0;34m(\u001b[0m\u001b[0;34m'two'\u001b[0m\u001b[0;34m,\u001b[0m \u001b[0;34m'hearts'\u001b[0m\u001b[0;34m)\u001b[0m\u001b[0;34m\u001b[0m\u001b[0;34m\u001b[0m\u001b[0m\n\u001b[0;32m----> 2\u001b[0;31m \u001b[0mcards\u001b[0m\u001b[0;34m[\u001b[0m\u001b[0;36m1\u001b[0m\u001b[0;34m]\u001b[0m \u001b[0;34m=\u001b[0m \u001b[0mtwo_hearts\u001b[0m\u001b[0;34m\u001b[0m\u001b[0;34m\u001b[0m\u001b[0m\n\u001b[0m\u001b[1;32m      3\u001b[0m \u001b[0mcards\u001b[0m\u001b[0;34m\u001b[0m\u001b[0;34m\u001b[0m\u001b[0m\n\u001b[1;32m      4\u001b[0m \u001b[0mtwo_diamonds\u001b[0m \u001b[0;34m=\u001b[0m \u001b[0mCard\u001b[0m\u001b[0;34m(\u001b[0m\u001b[0;34m'two'\u001b[0m\u001b[0;34m,\u001b[0m \u001b[0;34m'diamonds'\u001b[0m\u001b[0;34m)\u001b[0m\u001b[0;34m\u001b[0m\u001b[0;34m\u001b[0m\u001b[0m\n\u001b[1;32m      5\u001b[0m \u001b[0mtwo_clubs\u001b[0m \u001b[0;34m=\u001b[0m \u001b[0mCard\u001b[0m\u001b[0;34m(\u001b[0m\u001b[0;34m'two'\u001b[0m\u001b[0;34m,\u001b[0m \u001b[0;34m'clubs'\u001b[0m\u001b[0;34m)\u001b[0m\u001b[0;34m\u001b[0m\u001b[0;34m\u001b[0m\u001b[0m\n",
            "\u001b[0;31mTypeError\u001b[0m: 'Card' object does not support item assignment"
          ]
        }
      ],
      "source": [
        "two_hearts = Card('two', 'hearts')\n",
        "two_diamonds = Card('two', 'diamonds')\n",
        "two_clubs = Card('two', 'clubs')\n",
        "two_spades = Card('two', 'spades')\n",
        "three_hearts = Card('three', 'hearts')\n",
        "three_diamonds = Card('three', 'diamonds')\n",
        "three_clubs = Card('three', 'clubs')\n",
        "three_spades = Card('three', 'spades')\n",
        "four_hearts = Card('four', 'hearts')\n",
        "four_diamonds = Card('four', 'diamonds')\n",
        "four_clubs = Card('four', 'clubs')\n",
        "four_spades = Card('four', 'spades')\n",
        "five_hearts = Card('five', 'hearts')\n",
        "five_diamonds = Card('five', 'diamonds')\n",
        "five_clubs = Card('five', 'clubs')\n",
        "five_spades = Card('five', 'spades')\n",
        "six_hearts = Card('six', 'hearts')\n",
        "six_diamonds = Card('six', 'diamonds')\n",
        "six_clubs = Card('six', 'clubs')\n",
        "six_spades = Card('six', 'spades')\n",
        "seven_hearts = Card('seven', 'hearts')\n",
        "seven_diamonds = Card('seven', 'diamonds')\n",
        "seven_clubs = Card('seven', 'clubs')\n",
        "seven_spades = Card('seven', 'spades')\n",
        "eight_hearts = Card('eight', 'hearts')\n",
        "eight_diamonds = Card('eight', 'diamonds')\n",
        "eight_clubs = Card('eight', 'clubs')\n",
        "eight_spades = Card('eight', 'spades')\n",
        "nine_hearts = Card('nine', 'hearts')\n",
        "nine_diamonds = Card('nine', 'diamonds')\n",
        "nine_clubs = Card('nine', 'clubs')\n",
        "nine_spades = Card('nine', 'spades')\n",
        "ten_hearts = Card('ten', 'hearts')\n",
        "ten_diamonds = Card('ten', 'diamonds')\n",
        "ten_clubs = Card('ten', 'clubs')\n",
        "ten_spades = Card('ten', 'spades')\n",
        "jack_hearts = Card('jack', 'hearts')\n",
        "jack_diamonds = Card('jack', 'diamonds')\n",
        "jack_clubs = Card('jack', 'clubs')\n",
        "jack_spades = Card('jack', 'spades')\n",
        "queen_hearts = Card('queen', 'hearts')\n",
        "queen_diamonds = Card('queen', 'diamonds')\n",
        "queen_clubs = Card('queen', 'clubs')\n",
        "queen_spades = Card('queen', 'spades')\n",
        "king_hearts = Card('king', 'hearts')\n",
        "king_diamonds = Card('king', 'diamonds')\n",
        "king_clubs = Card('king', 'clubs')\n",
        "king_spades = Card('king', 'spades')\n",
        "ace_hearts = Card('ace', 'hearts')\n",
        "ace_diamonds = Card('ace', 'diamonds')\n",
        "ace_clubs = Card('ace', 'clubs')\n",
        "ace_spades = Card('ace', 'spades')"
      ]
    },
    {
      "cell_type": "code",
      "source": [
        "  "
      ],
      "metadata": {
        "id": "AMTr6xe3EVJT"
      },
      "execution_count": null,
      "outputs": []
    }
  ],
  "metadata": {
    "colab": {
      "name": "War_game.ipynb",
      "provenance": [],
      "authorship_tag": "ABX9TyPCr38oM1pkFD7IWgPFDo2p"
    },
    "kernelspec": {
      "display_name": "Python 3",
      "name": "python3"
    },
    "language_info": {
      "name": "python"
    }
  },
  "nbformat": 4,
  "nbformat_minor": 0
}