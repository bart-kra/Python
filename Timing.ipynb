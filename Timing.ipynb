{
  "nbformat": 4,
  "nbformat_minor": 0,
  "metadata": {
    "colab": {
      "name": "Timing.ipynb",
      "provenance": [],
      "authorship_tag": "ABX9TyPmtwpcREvOmB1RabQDScRd"
    },
    "kernelspec": {
      "name": "python3",
      "display_name": "Python 3"
    },
    "language_info": {
      "name": "python"
    }
  },
  "cells": [
    {
      "cell_type": "code",
      "execution_count": 1,
      "metadata": {
        "id": "RRNGC0gOm6G8"
      },
      "outputs": [],
      "source": [
        "def func_one(n):\n",
        "  return [str(num) for num in range(n)]"
      ]
    },
    {
      "cell_type": "code",
      "source": [
        "def func_two(n):\n",
        "  return list(map(str,range(n)))"
      ],
      "metadata": {
        "id": "YDNwAhponhIc"
      },
      "execution_count": 2,
      "outputs": []
    },
    {
      "cell_type": "markdown",
      "source": [
        "Option no. 1 - manually\n",
        "\n",
        "\n",
        "---\n",
        "\n",
        "Useless for the very fast functions - the accuracy is too low"
      ],
      "metadata": {
        "id": "QuDhNECMp9ag"
      }
    },
    {
      "cell_type": "code",
      "source": [
        "import time\n",
        "\n",
        "#FUNC_ONE\n",
        "#CURRENT TIME BEFORE\n",
        "start_time = time.time()\n",
        "#RUN CODE\n",
        "result = func_one(10_000_000)\n",
        "#CURRENT TIME AFTER\n",
        "end_time = time.time()\n",
        "#ELAPSED TIME\n",
        "elapsed_time = end_time - start_time\n",
        "\n",
        "print('func_one: {}s'.format(elapsed_time))\n",
        "\n",
        "#FUNC_TWO\n",
        "#CURRENT TIME BEFORE\n",
        "start_time = 0\n",
        "start_time = time.time()\n",
        "#RUN CODE\n",
        "result = func_two(10_000_000)\n",
        "#CURRENT TIME AFTER\n",
        "end_time = 0\n",
        "end_time = time.time()\n",
        "#ELAPSED TIME\n",
        "elapsed_time = end_time - start_time\n",
        "\n",
        "print('func_two: {}s'.format(elapsed_time))"
      ],
      "metadata": {
        "colab": {
          "base_uri": "https://localhost:8080/"
        },
        "id": "d13BraiQnz9Y",
        "outputId": "f2323d2e-4459-4fcc-8cda-1e96a9cab44f"
      },
      "execution_count": 3,
      "outputs": [
        {
          "output_type": "stream",
          "name": "stdout",
          "text": [
            "func_one: 2.6500637531280518s\n",
            "func_two: 1.9645037651062012s\n"
          ]
        }
      ]
    },
    {
      "cell_type": "markdown",
      "source": [
        "Option no. 2 - timeit module\n",
        "\n",
        "\n",
        "*   stmt - code that has to be executed each time\n",
        "*   setup - instructions that is enough to be executed just once (f. ex. func defs)\n",
        "*   number - how many times the code would be executed\n",
        "\n"
      ],
      "metadata": {
        "id": "_p7Ae8JFqOQc"
      }
    },
    {
      "cell_type": "code",
      "source": [
        "import timeit"
      ],
      "metadata": {
        "id": "gbCRKepRsFFc"
      },
      "execution_count": null,
      "outputs": []
    },
    {
      "cell_type": "code",
      "source": [
        "#FUNC_ONE\n",
        "stmt = '''\n",
        "func_one(1000)\n",
        "'''\n",
        "\n",
        "setup = '''\n",
        "def func_one(n):\n",
        "  return [str(num) for num in range(n)]\n",
        "'''\n",
        "\n",
        "timeit.timeit(stmt,setup,number = 100_000)"
      ],
      "metadata": {
        "colab": {
          "base_uri": "https://localhost:8080/"
        },
        "id": "sOufekBoqTu6",
        "outputId": "2d12e966-8157-439c-a04e-9a0d61b717c3"
      },
      "execution_count": 6,
      "outputs": [
        {
          "output_type": "execute_result",
          "data": {
            "text/plain": [
              "19.2875427649999"
            ]
          },
          "metadata": {},
          "execution_count": 6
        }
      ]
    },
    {
      "cell_type": "code",
      "source": [
        "#FUNC_TWO\n",
        "stmt2 = '''\n",
        "func_two(1000)\n",
        "'''\n",
        "\n",
        "setup2 = '''\n",
        "def func_two(n):\n",
        "  return list(map(str,range(n)))\n",
        "'''\n",
        "\n",
        "timeit.timeit(stmt2,setup2,number = 100_000)"
      ],
      "metadata": {
        "colab": {
          "base_uri": "https://localhost:8080/"
        },
        "id": "3Irs3QNQrsj5",
        "outputId": "95a89285-4edc-4e1b-8541-fda398bc4d94"
      },
      "execution_count": 7,
      "outputs": [
        {
          "output_type": "execute_result",
          "data": {
            "text/plain": [
              "13.928728059999912"
            ]
          },
          "metadata": {},
          "execution_count": 7
        }
      ]
    },
    {
      "cell_type": "code",
      "source": [
        ""
      ],
      "metadata": {
        "id": "Z-z_pdV9sMdh"
      },
      "execution_count": null,
      "outputs": []
    }
  ]
}