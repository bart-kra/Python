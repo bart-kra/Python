{
  "nbformat": 4,
  "nbformat_minor": 0,
  "metadata": {
    "colab": {
      "name": "Blackjack.ipynb",
      "provenance": [],
      "authorship_tag": "ABX9TyOj2ssXBYJOcsMFT1ueFMZU"
    },
    "kernelspec": {
      "name": "python3",
      "display_name": "Python 3"
    },
    "language_info": {
      "name": "python"
    }
  },
  "cells": [
    {
      "cell_type": "code",
      "execution_count": null,
      "metadata": {
        "id": "qdwjqoGn0zBk"
      },
      "outputs": [],
      "source": [
        "#NEW CARD GAME - BLACKJACK IN THE HOUSE\n",
        "\n",
        "#DECK CLASS\n",
        "#CARD CLASS\n",
        "#PLAYER CLASS\n",
        "#POSSIBLE RESULTS CLASS\n",
        "\n",
        "#GAMEPLAY"
      ]
    }
  ]
}