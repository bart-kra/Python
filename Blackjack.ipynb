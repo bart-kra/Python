{
  "nbformat": 4,
  "nbformat_minor": 0,
  "metadata": {
    "colab": {
      "name": "Blackjack.ipynb",
      "provenance": [],
      "authorship_tag": "ABX9TyOze0W21xcFLxWJccuISRQ0"
    },
    "kernelspec": {
      "name": "python3",
      "display_name": "Python 3"
    },
    "language_info": {
      "name": "python"
    }
  },
  "cells": [
    {
      "cell_type": "code",
      "execution_count": null,
      "metadata": {
        "id": "qdwjqoGn0zBk"
      },
      "outputs": [],
      "source": [
        "from random import shuffle\n",
        "# RANKS, SUITS & THEIR VALUES\n",
        "ranks = ('two', 'three', 'four', 'five', 'six', 'seven', 'eight', 'nine',\n",
        "         'ten', 'jack', 'queen', 'king', 'ace')\n",
        "suits = ('hearts', 'diamonds', 'clubs', 'spades')\n",
        "values = {'two':2,'three':3,'four':4,'five':5,'six':6,'seven':7,'eight':8,\n",
        "          'nine':9,'ten':10,'jack':11,'queen':12,'king':13,'ace':14}\n",
        "\n",
        "#CARD CLASS\n",
        "class Card():\n",
        "  def __init__(self,rank,suit):\n",
        "    self.rank = rank\n",
        "    self.suit = suit\n",
        "    self.value = values[rank]\n",
        "\n",
        "  def __str__(self):\n",
        "    return self.rank + ' of ' + self.suit\n",
        "\n",
        "#DECK CLASS\n",
        "class Deck():\n",
        "  def __init__(self):\n",
        "    self.cards_set = []\n",
        "\n",
        "    for rank in ranks:\n",
        "      for suit in suits:\n",
        "        created_card = Card(rank, suit)\n",
        "        self.cards_set.append(created_card)\n",
        "  \n",
        "  # DECK SHUFFLE\n",
        "  def shuffle(self):\n",
        "    shuffle(self.cards_set)\n",
        "\n",
        "  def deal_one(self):\n",
        "    return self.cards_set.pop()\n",
        "    \n",
        "#PLAYER CLASS\n",
        "class Player():\n",
        "  def __init__(self,name):\n",
        "    self.name = name\n",
        "    self.cards_set = []\n",
        "\n",
        "  def remove_card(self):\n",
        "    return self.cards_set.pop(0)\n",
        "\n",
        "  def add_cards(self,new_cards):\n",
        "    if type(new_cards) == type([]):\n",
        "      self.cards_set.extend(new_cards)\n",
        "    else:\n",
        "      self.cards_set.append(new_cards)\n",
        "\n",
        "  def __str__(self):\n",
        "    return f'Player {self.name} has {len(self.cards_set)} cards.'\n",
        "\n",
        "#POSSIBLE RESULTS CLASS\n",
        "  \n",
        "#GAMEPLAY"
      ]
    }
  ]
}