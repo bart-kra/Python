{
  "nbformat": 4,
  "nbformat_minor": 0,
  "metadata": {
    "colab": {
      "name": "Object Oriented Programming.ipynb",
      "provenance": [],
      "authorship_tag": "ABX9TyMniQfGiNc7nj4RTqe4cZ1o"
    },
    "kernelspec": {
      "name": "python3",
      "display_name": "Python 3"
    },
    "language_info": {
      "name": "python"
    }
  },
  "cells": [
    {
      "cell_type": "markdown",
      "source": [
        "# Classes & Methods"
      ],
      "metadata": {
        "id": "35lvsCZWT4w6"
      }
    },
    {
      "cell_type": "code",
      "execution_count": 10,
      "metadata": {
        "id": "h1BWbmtWPQlo"
      },
      "outputs": [],
      "source": [
        "class Dog():\n",
        "  # CLASS OBJECT ATTRIBUTE - SAME FOR ANY INSTANCE OF A CLASS\n",
        "  species = 'mammal'\n",
        "\n",
        "  def __init__(self,breed,name,age):\n",
        "    #taking arguments and assign them to attributes \n",
        "    #may be different for each instance\n",
        "    self.breed = breed\n",
        "    self.name = name\n",
        "    self.age = age"
      ]
    },
    {
      "cell_type": "code",
      "source": [
        "my_dog = Dog('Maltan','Charlie',7)"
      ],
      "metadata": {
        "id": "K1SR3QdFUbV3"
      },
      "execution_count": 11,
      "outputs": []
    },
    {
      "cell_type": "code",
      "source": [
        "type(my_dog)"
      ],
      "metadata": {
        "colab": {
          "base_uri": "https://localhost:8080/"
        },
        "id": "AikShnlbUmTJ",
        "outputId": "f5590217-a6aa-423f-d9ce-4e92945f74e4"
      },
      "execution_count": 12,
      "outputs": [
        {
          "output_type": "execute_result",
          "data": {
            "text/plain": [
              "__main__.Dog"
            ]
          },
          "metadata": {},
          "execution_count": 12
        }
      ]
    },
    {
      "cell_type": "code",
      "source": [
        "my_dog.name"
      ],
      "metadata": {
        "colab": {
          "base_uri": "https://localhost:8080/",
          "height": 36
        },
        "id": "-jARM5feUrop",
        "outputId": "494a3373-2e20-45de-bc78-0307938199f5"
      },
      "execution_count": 13,
      "outputs": [
        {
          "output_type": "execute_result",
          "data": {
            "text/plain": [
              "'Charlie'"
            ],
            "application/vnd.google.colaboratory.intrinsic+json": {
              "type": "string"
            }
          },
          "metadata": {},
          "execution_count": 13
        }
      ]
    },
    {
      "cell_type": "code",
      "source": [
        "my_dog.species"
      ],
      "metadata": {
        "colab": {
          "base_uri": "https://localhost:8080/",
          "height": 36
        },
        "id": "FOUBhO4ZUujO",
        "outputId": "dc9b390e-1925-47b2-f088-7828d36d9258"
      },
      "execution_count": 14,
      "outputs": [
        {
          "output_type": "execute_result",
          "data": {
            "text/plain": [
              "'mammal'"
            ],
            "application/vnd.google.colaboratory.intrinsic+json": {
              "type": "string"
            }
          },
          "metadata": {},
          "execution_count": 14
        }
      ]
    },
    {
      "cell_type": "code",
      "source": [
        "class Car():\n",
        "  def __init__(self,brand,vectype,doors):\n",
        "    self.brand = brand\n",
        "    self.vectype = vectype\n",
        "    self.doors = doors\n",
        "\n",
        "  #METHOD\n",
        "  def noise(self,cotwo):\n",
        "    print('Brum brum!! That is how {} sounds!'.format(self.brand))\n",
        "    print('I produce {}g of CO2 each 100km'.format(cotwo))"
      ],
      "metadata": {
        "id": "QwDFjOTKWVc2"
      },
      "execution_count": 26,
      "outputs": []
    },
    {
      "cell_type": "code",
      "source": [
        "car1 = Car('Audi','sedan',4)"
      ],
      "metadata": {
        "id": "SN4B5dNGZJTM"
      },
      "execution_count": 27,
      "outputs": []
    },
    {
      "cell_type": "code",
      "source": [
        "car1.brand"
      ],
      "metadata": {
        "colab": {
          "base_uri": "https://localhost:8080/",
          "height": 36
        },
        "id": "LRYDZ-SZZTSE",
        "outputId": "554152fd-698c-488f-a644-0c816d114ff9"
      },
      "execution_count": 28,
      "outputs": [
        {
          "output_type": "execute_result",
          "data": {
            "text/plain": [
              "'Audi'"
            ],
            "application/vnd.google.colaboratory.intrinsic+json": {
              "type": "string"
            }
          },
          "metadata": {},
          "execution_count": 28
        }
      ]
    },
    {
      "cell_type": "code",
      "source": [
        "car1.noise(107)"
      ],
      "metadata": {
        "colab": {
          "base_uri": "https://localhost:8080/"
        },
        "id": "PWGgH05TZY8e",
        "outputId": "ac24f148-2fd1-4794-a0fe-09f571d2c667"
      },
      "execution_count": 29,
      "outputs": [
        {
          "output_type": "stream",
          "name": "stdout",
          "text": [
            "Brum brum!! That is how Audi sounds!\n",
            "I produce 107g of CO2 each 100km\n"
          ]
        }
      ]
    },
    {
      "cell_type": "code",
      "source": [
        "class Circle():\n",
        "  pi = 3.14\n",
        "  #defined 1 as a default value of rad (when not specified)\n",
        "  def __init__(self,radius=1):\n",
        "    self.radius = radius\n",
        "    #attribute is not necessary to be particullary call \n",
        "    self.circumference = 2 * self.radius * Circle.pi\n",
        "    self.area = self.radius**2 * Circle.pi"
      ],
      "metadata": {
        "id": "ktuaRsoYZbbM"
      },
      "execution_count": 30,
      "outputs": []
    },
    {
      "cell_type": "code",
      "source": [
        "circle1 = Circle(4)"
      ],
      "metadata": {
        "id": "ZhEHv43PcR37"
      },
      "execution_count": 31,
      "outputs": []
    },
    {
      "cell_type": "code",
      "source": [
        "circle1.area"
      ],
      "metadata": {
        "colab": {
          "base_uri": "https://localhost:8080/"
        },
        "id": "9lL_Y9QLcXUF",
        "outputId": "e9c8caff-aa5b-453f-e499-ad8070008d5f"
      },
      "execution_count": 32,
      "outputs": [
        {
          "output_type": "execute_result",
          "data": {
            "text/plain": [
              "50.24"
            ]
          },
          "metadata": {},
          "execution_count": 32
        }
      ]
    },
    {
      "cell_type": "code",
      "source": [
        "circle1.circumference"
      ],
      "metadata": {
        "colab": {
          "base_uri": "https://localhost:8080/"
        },
        "id": "6kBbhIKncaPE",
        "outputId": "3932e5d5-583c-4b36-ab53-e345f7036587"
      },
      "execution_count": 33,
      "outputs": [
        {
          "output_type": "execute_result",
          "data": {
            "text/plain": [
              "25.12"
            ]
          },
          "metadata": {},
          "execution_count": 33
        }
      ]
    },
    {
      "cell_type": "markdown",
      "source": [
        "# Inheritance"
      ],
      "metadata": {
        "id": "t6OL8NKqhSRs"
      }
    },
    {
      "cell_type": "code",
      "source": [
        "class Country():\n",
        "  def __init__(self):\n",
        "    print('Country created!')\n",
        "  def capital(self):\n",
        "    print('I have a capital city!')\n",
        "  def people(self):\n",
        "    print('My inhabitants love live here!')"
      ],
      "metadata": {
        "id": "KcdDJ8Kfccz0"
      },
      "execution_count": 64,
      "outputs": []
    },
    {
      "cell_type": "code",
      "source": [
        "poland = Country()"
      ],
      "metadata": {
        "colab": {
          "base_uri": "https://localhost:8080/"
        },
        "id": "75T5iEqfiAVs",
        "outputId": "beb475b6-b9b7-4d21-bb14-7bee288158e7"
      },
      "execution_count": 65,
      "outputs": [
        {
          "output_type": "stream",
          "name": "stdout",
          "text": [
            "Country created!\n"
          ]
        }
      ]
    },
    {
      "cell_type": "code",
      "source": [
        "poland.capital()"
      ],
      "metadata": {
        "colab": {
          "base_uri": "https://localhost:8080/"
        },
        "id": "3NqWf5WniDed",
        "outputId": "0060c7e0-311b-4617-95ee-d4a1a3c3ede5"
      },
      "execution_count": 66,
      "outputs": [
        {
          "output_type": "stream",
          "name": "stdout",
          "text": [
            "I have a capital city!\n"
          ]
        }
      ]
    },
    {
      "cell_type": "code",
      "source": [
        "class Poland(Country):\n",
        "  def __init__(self):\n",
        "    Country.__init__(self)\n",
        "    print('Poland exists!')\n",
        "\n",
        "    #possible to change method \n",
        "  def capital(self):\n",
        "    print('My capital is Warsaw')"
      ],
      "metadata": {
        "id": "Nlh9ND_iiFtv"
      },
      "execution_count": 67,
      "outputs": []
    },
    {
      "cell_type": "code",
      "source": [
        "poland = Poland()"
      ],
      "metadata": {
        "colab": {
          "base_uri": "https://localhost:8080/"
        },
        "id": "c4ulrHdXib9x",
        "outputId": "b15db6b5-d688-40c0-cf50-de77ad596264"
      },
      "execution_count": 62,
      "outputs": [
        {
          "output_type": "stream",
          "name": "stdout",
          "text": [
            "Country created!\n",
            "Poland exists!\n"
          ]
        }
      ]
    },
    {
      "cell_type": "code",
      "source": [
        "#possible to execute methods defined for Country class\n",
        "poland.people()"
      ],
      "metadata": {
        "colab": {
          "base_uri": "https://localhost:8080/"
        },
        "id": "VANBLmwvjkib",
        "outputId": "221f8f76-56d4-4591-cab5-076c7846b725"
      },
      "execution_count": 68,
      "outputs": [
        {
          "output_type": "stream",
          "name": "stdout",
          "text": [
            "My inhabitants love live here!\n"
          ]
        }
      ]
    },
    {
      "cell_type": "code",
      "source": [
        "#changed method comparing to Country class\n",
        "poland.capital()"
      ],
      "metadata": {
        "colab": {
          "base_uri": "https://localhost:8080/"
        },
        "id": "qVPsHj0JiheQ",
        "outputId": "c706444c-e7fc-4cf7-985c-010fd3e15c34"
      },
      "execution_count": 63,
      "outputs": [
        {
          "output_type": "stream",
          "name": "stdout",
          "text": [
            "My capital is Warsaw\n"
          ]
        }
      ]
    },
    {
      "cell_type": "markdown",
      "source": [
        "# Magic & Dunder methods\n",
        "That is impossible to print it out using print method or use other built-in Python methods. Magic methods allows us to do so."
      ],
      "metadata": {
        "id": "_iXdiYznlfvv"
      }
    },
    {
      "cell_type": "code",
      "source": [
        "class Book():\n",
        "  def __init__(self,title,author,pages):\n",
        "    self.title = title\n",
        "    self.author = author\n",
        "    self.pages = pages\n",
        "  \n",
        "  #1st magic\n",
        "  def __str__(self):\n",
        "    return f\"{self.title} by {self.author}\"\n",
        "\n",
        "  #2nd magic\n",
        "  def __len__(self):\n",
        "    return self.pages\n",
        "\n",
        "  #3rd magic - prints an information about deleting the book\n",
        "  def __del__(self):\n",
        "    return print(\"Record has been deleted\")"
      ],
      "metadata": {
        "id": "PkieB17Ui5W-"
      },
      "execution_count": 94,
      "outputs": []
    },
    {
      "cell_type": "code",
      "source": [
        "b = Book('Big Data World','Danilsson', 960)"
      ],
      "metadata": {
        "id": "TnCfLVc2luxu"
      },
      "execution_count": 95,
      "outputs": []
    },
    {
      "cell_type": "code",
      "source": [
        "#print method asks for the str representation of the class \n",
        "#so it prints the return of the __str__ magic method\n",
        "print(b)"
      ],
      "metadata": {
        "colab": {
          "base_uri": "https://localhost:8080/"
        },
        "id": "cdatMY0Tl21S",
        "outputId": "fa69bab9-ee10-4620-b911-d063d1d2de4b"
      },
      "execution_count": 96,
      "outputs": [
        {
          "output_type": "stream",
          "name": "stdout",
          "text": [
            "Big Data World by Danilsson\n"
          ]
        }
      ]
    },
    {
      "cell_type": "code",
      "source": [
        "# what is the length of the book? Number of pages (return of __len__ method)\n",
        "len(b)"
      ],
      "metadata": {
        "colab": {
          "base_uri": "https://localhost:8080/"
        },
        "id": "wVyJdV1Pmbj9",
        "outputId": "9b0611fa-9324-453a-9540-2bd9c1b668b4"
      },
      "execution_count": 97,
      "outputs": [
        {
          "output_type": "execute_result",
          "data": {
            "text/plain": [
              "960"
            ]
          },
          "metadata": {},
          "execution_count": 97
        }
      ]
    },
    {
      "cell_type": "code",
      "source": [
        "del(b)"
      ],
      "metadata": {
        "id": "M3hEcY7Dm8ki"
      },
      "execution_count": 98,
      "outputs": []
    },
    {
      "cell_type": "markdown",
      "source": [
        "# Exercises"
      ],
      "metadata": {
        "id": "RufD0nLkP0kU"
      }
    },
    {
      "cell_type": "code",
      "source": [
        "#DISTANCE BETWEEN TWO POINT AND SLOPE OF THE LINE\n",
        "class Line():\n",
        "  def __init__(self,coor1,coor2):\n",
        "    self.coor1 = coor1\n",
        "    self.coor2 = coor2\n",
        "\n",
        "  def distance(self):\n",
        "    dist = ((self.coor2[0] - self.coor1[0])**2 + (self.coor2[1] - self.coor1[1])**2) ** 0.5\n",
        "    print('Distance = {}'.format(dist))\n",
        "\n",
        "  def slope(self):\n",
        "    slope = (self.coor2[1] - self.coor1[1]) / (self.coor2[0] - self.coor1[0])\n",
        "    print('Slope = {}'.format(slope))\n",
        "\n",
        "  "
      ],
      "metadata": {
        "id": "rHHxnzPQP5WY"
      },
      "execution_count": 1,
      "outputs": []
    },
    {
      "cell_type": "code",
      "source": [
        "point_1 = (3,2)\n",
        "point_2 = (8,10)\n",
        "\n",
        "li = Line(point_1, point_2)"
      ],
      "metadata": {
        "id": "wpSkMkiyRcjk"
      },
      "execution_count": 2,
      "outputs": []
    },
    {
      "cell_type": "code",
      "source": [
        "li.distance()"
      ],
      "metadata": {
        "colab": {
          "base_uri": "https://localhost:8080/"
        },
        "id": "j6GAJBz9RueP",
        "outputId": "33b4fe2d-14d7-49cc-cd49-ac4f0a186a04"
      },
      "execution_count": 4,
      "outputs": [
        {
          "output_type": "stream",
          "name": "stdout",
          "text": [
            "Distance = 9.433981132056603\n"
          ]
        }
      ]
    },
    {
      "cell_type": "code",
      "source": [
        "li.slope()"
      ],
      "metadata": {
        "colab": {
          "base_uri": "https://localhost:8080/"
        },
        "id": "ajXbHBXLRwOg",
        "outputId": "243b6cfa-08d6-45de-a471-61ba481add86"
      },
      "execution_count": 5,
      "outputs": [
        {
          "output_type": "stream",
          "name": "stdout",
          "text": [
            "Slope = 1.6\n"
          ]
        }
      ]
    },
    {
      "cell_type": "code",
      "source": [
        "#CYLINDER VOLUME AND SURFACE AREA\n",
        "class Cylinder():\n",
        "  pi = 3.14\n",
        "  def __init__(self,radius=1,height=1):\n",
        "    self.radius = radius\n",
        "    self.height = height\n",
        "\n",
        "  def volume(self):\n",
        "    vol = Cylinder.pi * self.radius**2 * self.height\n",
        "    print('Volume = {}'.format(vol))\n",
        "\n",
        "  def surf_area(self):\n",
        "    area = (2 * Cylinder.pi * self.radius**2 + 2 * Cylinder.pi * \n",
        "            self.radius * self.height)\n",
        "    print('Surface area = {}'.format(area))"
      ],
      "metadata": {
        "id": "AFYMKhM1RzaB"
      },
      "execution_count": 10,
      "outputs": []
    },
    {
      "cell_type": "code",
      "source": [
        "c = Cylinder(3,2)"
      ],
      "metadata": {
        "id": "i3Vg7bmkS_Sp"
      },
      "execution_count": 14,
      "outputs": []
    },
    {
      "cell_type": "code",
      "source": [
        "c.volume()\n",
        "c.surf_area()"
      ],
      "metadata": {
        "colab": {
          "base_uri": "https://localhost:8080/"
        },
        "id": "vaqleABpTCcI",
        "outputId": "e041611a-a176-4097-eb37-d38f0edc3525"
      },
      "execution_count": 15,
      "outputs": [
        {
          "output_type": "stream",
          "name": "stdout",
          "text": [
            "Volume = 56.52\n",
            "Surface area = 94.2\n"
          ]
        }
      ]
    },
    {
      "cell_type": "code",
      "source": [
        "#BANK ACCOUNT\n",
        "class Account():\n",
        "  def __init__(self,owner,balance):\n",
        "    self.owner = owner\n",
        "    self.balance = balance\n",
        "\n",
        "  def deposit(self,amount):\n",
        "    self.balance += amount\n",
        "    print('Deposit accepted.\\nActual balance: {}$'.format(self.balance)) \n",
        "\n",
        "  def withdraw(self,amount):\n",
        "    if amount <= self.balance:\n",
        "      self.balance -= amount\n",
        "      print('{}$ withdrawaled!'.format(amount))\n",
        "      print('Actual balance: {}$'.format(self.balance))\n",
        "    else:\n",
        "      print('Balance too low! Actual balance: {}$'.format(self.balance))\n",
        "\n",
        "  def __str__(self):\n",
        "    return f\"Account owner: {self.owner}\\nAccount balance: {self.balance}$\""
      ],
      "metadata": {
        "id": "Ps6rYDGbTD-8"
      },
      "execution_count": 28,
      "outputs": []
    },
    {
      "cell_type": "code",
      "source": [
        "acct1 = Account('Bartek', 3100)"
      ],
      "metadata": {
        "id": "XhgdR5OZVYa-"
      },
      "execution_count": 29,
      "outputs": []
    },
    {
      "cell_type": "code",
      "source": [
        "print(acct1)"
      ],
      "metadata": {
        "colab": {
          "base_uri": "https://localhost:8080/"
        },
        "id": "0bYa1NpZWmqW",
        "outputId": "f0458942-4e6f-4b9c-d101-415cc483e0ec"
      },
      "execution_count": 30,
      "outputs": [
        {
          "output_type": "stream",
          "name": "stdout",
          "text": [
            "Account owner: Bartek\n",
            "Account balance: 3100$\n"
          ]
        }
      ]
    },
    {
      "cell_type": "code",
      "source": [
        "acct1.withdraw(2200)"
      ],
      "metadata": {
        "colab": {
          "base_uri": "https://localhost:8080/"
        },
        "id": "PsSJMtSsWoQb",
        "outputId": "2476ac6f-136f-48ff-9254-7d763518ce12"
      },
      "execution_count": 32,
      "outputs": [
        {
          "output_type": "stream",
          "name": "stdout",
          "text": [
            "2200$ withdrawaled!\n",
            "Actual balance: 900$\n"
          ]
        }
      ]
    },
    {
      "cell_type": "code",
      "source": [
        "acct1.deposit(500)"
      ],
      "metadata": {
        "colab": {
          "base_uri": "https://localhost:8080/"
        },
        "id": "kxd0KGxgWs1k",
        "outputId": "51eacba4-0a16-408f-a2e3-ac6fcdfb9481"
      },
      "execution_count": 33,
      "outputs": [
        {
          "output_type": "stream",
          "name": "stdout",
          "text": [
            "Deposit accepted.\n",
            "Actual balance: 1400$\n"
          ]
        }
      ]
    },
    {
      "cell_type": "code",
      "source": [
        "acct2 = Account('Greg', 5300)"
      ],
      "metadata": {
        "id": "znOAocPgWwYE"
      },
      "execution_count": 34,
      "outputs": []
    },
    {
      "cell_type": "code",
      "source": [
        "print(acct2)"
      ],
      "metadata": {
        "colab": {
          "base_uri": "https://localhost:8080/"
        },
        "id": "uJoZqquBXLTB",
        "outputId": "773c7f73-d46c-46ac-f82f-1125b20ae0d2"
      },
      "execution_count": 35,
      "outputs": [
        {
          "output_type": "stream",
          "name": "stdout",
          "text": [
            "Account owner: Greg\n",
            "Account balance: 5300$\n"
          ]
        }
      ]
    },
    {
      "cell_type": "code",
      "source": [
        "acct2.deposit(400)"
      ],
      "metadata": {
        "colab": {
          "base_uri": "https://localhost:8080/"
        },
        "id": "OUGUzBfLXNOT",
        "outputId": "9ae3a2d0-343d-4f19-aa3a-4042ac1703e1"
      },
      "execution_count": 36,
      "outputs": [
        {
          "output_type": "stream",
          "name": "stdout",
          "text": [
            "Deposit accepted.\n",
            "Actual balance: 5700$\n"
          ]
        }
      ]
    },
    {
      "cell_type": "code",
      "source": [
        "print(acct1)"
      ],
      "metadata": {
        "colab": {
          "base_uri": "https://localhost:8080/"
        },
        "id": "_jupuRi1XP-m",
        "outputId": "d2de298e-d0b1-4ae0-93cf-c4eceb9af1fb"
      },
      "execution_count": 37,
      "outputs": [
        {
          "output_type": "stream",
          "name": "stdout",
          "text": [
            "Account owner: Bartek\n",
            "Account balance: 1400$\n"
          ]
        }
      ]
    },
    {
      "cell_type": "code",
      "source": [
        ""
      ],
      "metadata": {
        "id": "scdnCkkcXRzZ"
      },
      "execution_count": null,
      "outputs": []
    }
  ]
}