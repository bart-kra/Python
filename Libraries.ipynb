{
  "nbformat": 4,
  "nbformat_minor": 0,
  "metadata": {
    "colab": {
      "name": "Libraries.ipynb",
      "provenance": [],
      "authorship_tag": "ABX9TyN460agMkT8jcLHCkxZCDv0"
    },
    "kernelspec": {
      "name": "python3",
      "display_name": "Python 3"
    },
    "language_info": {
      "name": "python"
    }
  },
  "cells": [
    {
      "cell_type": "markdown",
      "source": [
        "# Importing libraries"
      ],
      "metadata": {
        "id": "RGHBSLmHeCux"
      }
    },
    {
      "cell_type": "markdown",
      "source": [
        "Random\n",
        "\n",
        "\n",
        "*   randint\n",
        "*   shuffle\n",
        "\n"
      ],
      "metadata": {
        "id": "8CXvtDfAe7Mv"
      }
    },
    {
      "cell_type": "code",
      "execution_count": 1,
      "metadata": {
        "id": "AeuZlEmGd-0m"
      },
      "outputs": [],
      "source": [
        "#importing line, random=lib, randint=funct\n",
        "from random import randint"
      ]
    },
    {
      "cell_type": "code",
      "source": [
        "x = randint(0,10) #in parentheses precise min and max values\n",
        "x"
      ],
      "metadata": {
        "colab": {
          "base_uri": "https://localhost:8080/"
        },
        "id": "6u3AEos6eRpX",
        "outputId": "80336373-c11b-4f16-a619-eb22ee7cba80"
      },
      "execution_count": 2,
      "outputs": [
        {
          "output_type": "execute_result",
          "data": {
            "text/plain": [
              "8"
            ]
          },
          "metadata": {},
          "execution_count": 2
        }
      ]
    },
    {
      "cell_type": "code",
      "source": [
        "from random import shuffle"
      ],
      "metadata": {
        "id": "LI27ZQxRecYk"
      },
      "execution_count": 3,
      "outputs": []
    },
    {
      "cell_type": "code",
      "source": [
        "list1 = [1,2,3,4,5,6,7,8,9,10]\n",
        "shuffle(list1) #shuffles the list"
      ],
      "metadata": {
        "id": "ALiNW9clen2Q"
      },
      "execution_count": 4,
      "outputs": []
    },
    {
      "cell_type": "code",
      "source": [
        "list1"
      ],
      "metadata": {
        "colab": {
          "base_uri": "https://localhost:8080/"
        },
        "id": "WsQJuPTRes2a",
        "outputId": "3551e31c-23b4-40aa-90c4-3e19b06aaf3b"
      },
      "execution_count": 5,
      "outputs": [
        {
          "output_type": "execute_result",
          "data": {
            "text/plain": [
              "[6, 4, 3, 5, 9, 2, 7, 10, 8, 1]"
            ]
          },
          "metadata": {},
          "execution_count": 5
        }
      ]
    },
    {
      "cell_type": "code",
      "source": [
        "shuffle(list1)"
      ],
      "metadata": {
        "id": "Jv8pOOw_eum3"
      },
      "execution_count": 6,
      "outputs": []
    },
    {
      "cell_type": "code",
      "source": [
        "list1"
      ],
      "metadata": {
        "colab": {
          "base_uri": "https://localhost:8080/"
        },
        "id": "BiY1UL48ewUW",
        "outputId": "8399bd79-492f-445d-fc3b-2473f56f29ef"
      },
      "execution_count": 7,
      "outputs": [
        {
          "output_type": "execute_result",
          "data": {
            "text/plain": [
              "[10, 4, 2, 9, 3, 6, 1, 5, 7, 8]"
            ]
          },
          "metadata": {},
          "execution_count": 7
        }
      ]
    },
    {
      "cell_type": "code",
      "source": [
        ""
      ],
      "metadata": {
        "id": "Nk_kBWAKe15U"
      },
      "execution_count": null,
      "outputs": []
    }
  ]
}