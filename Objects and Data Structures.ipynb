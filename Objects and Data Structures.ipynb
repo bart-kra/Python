{
  "nbformat": 4,
  "nbformat_minor": 0,
  "metadata": {
    "colab": {
      "name": "proj1.ipynb",
      "provenance": [],
      "authorship_tag": "ABX9TyP/eoRgI5/t7b3O9ByeirJo"
    },
    "kernelspec": {
      "name": "python3",
      "display_name": "Python 3"
    },
    "language_info": {
      "name": "python"
    }
  },
  "cells": [
    {
      "cell_type": "markdown",
      "source": [
        "\n",
        "\n",
        "Let's start the Python Adventure!\n",
        "\n"
      ],
      "metadata": {
        "id": "O5XXhATOFV4Y"
      }
    },
    {
      "cell_type": "code",
      "execution_count": null,
      "metadata": {
        "colab": {
          "base_uri": "https://localhost:8080/"
        },
        "id": "tCDpG9byFDsL",
        "outputId": "76a61ec6-e3bf-4267-b5b3-9b3ed0137cee"
      },
      "outputs": [
        {
          "output_type": "execute_result",
          "data": {
            "text/plain": [
              "3"
            ]
          },
          "metadata": {},
          "execution_count": 1
        }
      ],
      "source": [
        "1+2"
      ]
    },
    {
      "cell_type": "code",
      "source": [
        "print('hello world')"
      ],
      "metadata": {
        "colab": {
          "base_uri": "https://localhost:8080/"
        },
        "id": "hwQ0N4PoKXgd",
        "outputId": "7bed0f16-e9c1-4d19-9786-3865de3abec4"
      },
      "execution_count": null,
      "outputs": [
        {
          "output_type": "stream",
          "name": "stdout",
          "text": [
            "hello world\n"
          ]
        }
      ]
    },
    {
      "cell_type": "code",
      "source": [
        "print('Is it possible to upload Git file here?')"
      ],
      "metadata": {
        "colab": {
          "base_uri": "https://localhost:8080/"
        },
        "id": "zg5wuUTbKbLL",
        "outputId": "c5b57922-b398-49c6-c772-ff1536a98088"
      },
      "execution_count": null,
      "outputs": [
        {
          "output_type": "stream",
          "name": "stdout",
          "text": [
            "Is it possible to upload Git file here?\n"
          ]
        }
      ]
    },
    {
      "cell_type": "markdown",
      "source": [
        "Strings"
      ],
      "metadata": {
        "id": "0BYpNqCAs5eq"
      }
    },
    {
      "cell_type": "code",
      "source": [
        "mystring = \"Python course\"\n",
        "mystring"
      ],
      "metadata": {
        "colab": {
          "base_uri": "https://localhost:8080/",
          "height": 35
        },
        "id": "Bf5w5WhOo39R",
        "outputId": "d25f309c-923e-430c-b3e3-a31539d6e0f5"
      },
      "execution_count": null,
      "outputs": [
        {
          "output_type": "execute_result",
          "data": {
            "text/plain": [
              "'Python course'"
            ],
            "application/vnd.google.colaboratory.intrinsic+json": {
              "type": "string"
            }
          },
          "metadata": {},
          "execution_count": 4
        }
      ]
    },
    {
      "cell_type": "code",
      "source": [
        "mystring[3]"
      ],
      "metadata": {
        "colab": {
          "base_uri": "https://localhost:8080/",
          "height": 35
        },
        "id": "kaOGD1C_o_nj",
        "outputId": "97061414-bc74-4df0-806d-3faa6a6ad986"
      },
      "execution_count": null,
      "outputs": [
        {
          "output_type": "execute_result",
          "data": {
            "text/plain": [
              "'h'"
            ],
            "application/vnd.google.colaboratory.intrinsic+json": {
              "type": "string"
            }
          },
          "metadata": {},
          "execution_count": 5
        }
      ]
    },
    {
      "cell_type": "code",
      "source": [
        "mystring[7:]"
      ],
      "metadata": {
        "colab": {
          "base_uri": "https://localhost:8080/",
          "height": 35
        },
        "id": "nLB5dtL9pBmg",
        "outputId": "af8d4e5b-5d8d-4590-d4b5-29f8a9859c8b"
      },
      "execution_count": null,
      "outputs": [
        {
          "output_type": "execute_result",
          "data": {
            "text/plain": [
              "'course'"
            ],
            "application/vnd.google.colaboratory.intrinsic+json": {
              "type": "string"
            }
          },
          "metadata": {},
          "execution_count": 6
        }
      ]
    },
    {
      "cell_type": "code",
      "source": [
        "mystring = \"123456789\"\n",
        "mystring"
      ],
      "metadata": {
        "colab": {
          "base_uri": "https://localhost:8080/",
          "height": 35
        },
        "id": "S4e4QSzCpOAh",
        "outputId": "1dafe0ed-4b74-450c-920a-248cc272f961"
      },
      "execution_count": null,
      "outputs": [
        {
          "output_type": "execute_result",
          "data": {
            "text/plain": [
              "'123456789'"
            ],
            "application/vnd.google.colaboratory.intrinsic+json": {
              "type": "string"
            }
          },
          "metadata": {},
          "execution_count": 7
        }
      ]
    },
    {
      "cell_type": "code",
      "source": [
        "mystring[::2]"
      ],
      "metadata": {
        "colab": {
          "base_uri": "https://localhost:8080/",
          "height": 35
        },
        "id": "9bXWPcXCpW1G",
        "outputId": "bd32a321-6803-4849-ee81-599095dd02e6"
      },
      "execution_count": null,
      "outputs": [
        {
          "output_type": "execute_result",
          "data": {
            "text/plain": [
              "'13579'"
            ],
            "application/vnd.google.colaboratory.intrinsic+json": {
              "type": "string"
            }
          },
          "metadata": {},
          "execution_count": 8
        }
      ]
    },
    {
      "cell_type": "code",
      "source": [
        "mystring[2::2]"
      ],
      "metadata": {
        "colab": {
          "base_uri": "https://localhost:8080/",
          "height": 35
        },
        "id": "WQ4VHkEGpbPg",
        "outputId": "477afddf-8f9d-42b4-9c9c-1f4aad3fb72c"
      },
      "execution_count": null,
      "outputs": [
        {
          "output_type": "execute_result",
          "data": {
            "text/plain": [
              "'3579'"
            ],
            "application/vnd.google.colaboratory.intrinsic+json": {
              "type": "string"
            }
          },
          "metadata": {},
          "execution_count": 9
        }
      ]
    },
    {
      "cell_type": "code",
      "source": [
        "mystring[2:7:2]"
      ],
      "metadata": {
        "colab": {
          "base_uri": "https://localhost:8080/",
          "height": 35
        },
        "id": "WdwAu_gyphK_",
        "outputId": "45103a6e-8f62-40d8-b8e6-e6a6dce7910c"
      },
      "execution_count": null,
      "outputs": [
        {
          "output_type": "execute_result",
          "data": {
            "text/plain": [
              "'357'"
            ],
            "application/vnd.google.colaboratory.intrinsic+json": {
              "type": "string"
            }
          },
          "metadata": {},
          "execution_count": 10
        }
      ]
    },
    {
      "cell_type": "code",
      "source": [
        "mystring[::-1]"
      ],
      "metadata": {
        "colab": {
          "base_uri": "https://localhost:8080/",
          "height": 35
        },
        "id": "34K_OGA5ppmc",
        "outputId": "c66b1a9f-4567-4450-87b1-d4ba2067ee2b"
      },
      "execution_count": null,
      "outputs": [
        {
          "output_type": "execute_result",
          "data": {
            "text/plain": [
              "'987654321'"
            ],
            "application/vnd.google.colaboratory.intrinsic+json": {
              "type": "string"
            }
          },
          "metadata": {},
          "execution_count": 11
        }
      ]
    },
    {
      "cell_type": "code",
      "source": [
        "name = \"Bartosz\"\n",
        "space = \" \"\n",
        "surname = \"Krass\"\n",
        "name + space + surname"
      ],
      "metadata": {
        "colab": {
          "base_uri": "https://localhost:8080/",
          "height": 35
        },
        "id": "kKMXhPo6psFH",
        "outputId": "eba30977-223d-4cda-b611-56811b86a682"
      },
      "execution_count": null,
      "outputs": [
        {
          "output_type": "execute_result",
          "data": {
            "text/plain": [
              "'Bartosz Krass'"
            ],
            "application/vnd.google.colaboratory.intrinsic+json": {
              "type": "string"
            }
          },
          "metadata": {},
          "execution_count": 12
        }
      ]
    },
    {
      "cell_type": "code",
      "source": [
        "surname + \"owski\""
      ],
      "metadata": {
        "colab": {
          "base_uri": "https://localhost:8080/",
          "height": 35
        },
        "id": "m7AoDD1PtHR1",
        "outputId": "b143f086-7bbf-4232-ce53-609927e00852"
      },
      "execution_count": null,
      "outputs": [
        {
          "output_type": "execute_result",
          "data": {
            "text/plain": [
              "'Krassowski'"
            ],
            "application/vnd.google.colaboratory.intrinsic+json": {
              "type": "string"
            }
          },
          "metadata": {},
          "execution_count": 13
        }
      ]
    },
    {
      "cell_type": "code",
      "source": [
        "syllable = \"ko\"\n",
        "syllable * 3"
      ],
      "metadata": {
        "id": "JN-MiWBqtK-Q",
        "colab": {
          "base_uri": "https://localhost:8080/",
          "height": 35
        },
        "outputId": "58949ff8-5fc8-48c8-b432-fd055a7774c7"
      },
      "execution_count": null,
      "outputs": [
        {
          "output_type": "execute_result",
          "data": {
            "text/plain": [
              "'kokoko'"
            ],
            "application/vnd.google.colaboratory.intrinsic+json": {
              "type": "string"
            }
          },
          "metadata": {},
          "execution_count": 14
        }
      ]
    },
    {
      "cell_type": "code",
      "source": [
        "name.upper()"
      ],
      "metadata": {
        "id": "NyMpn7w3tXVg",
        "colab": {
          "base_uri": "https://localhost:8080/",
          "height": 35
        },
        "outputId": "3b4cce4b-e63c-4082-af8d-c66004a0a187"
      },
      "execution_count": null,
      "outputs": [
        {
          "output_type": "execute_result",
          "data": {
            "text/plain": [
              "'BARTOSZ'"
            ],
            "application/vnd.google.colaboratory.intrinsic+json": {
              "type": "string"
            }
          },
          "metadata": {},
          "execution_count": 15
        }
      ]
    },
    {
      "cell_type": "code",
      "source": [
        "name = name.upper()\n",
        "print(name)"
      ],
      "metadata": {
        "colab": {
          "base_uri": "https://localhost:8080/"
        },
        "id": "5sKvtZPotoKw",
        "outputId": "1ad2089a-3e6a-46c1-baf6-0cce37575616"
      },
      "execution_count": null,
      "outputs": [
        {
          "output_type": "stream",
          "name": "stdout",
          "text": [
            "BARTOSZ\n"
          ]
        }
      ]
    },
    {
      "cell_type": "code",
      "source": [
        "name = name.lower()\n",
        "print(name)"
      ],
      "metadata": {
        "colab": {
          "base_uri": "https://localhost:8080/"
        },
        "id": "3anvaDSStuiJ",
        "outputId": "d7a21485-cd32-46d0-ea21-c5addf9d0d9c"
      },
      "execution_count": null,
      "outputs": [
        {
          "output_type": "stream",
          "name": "stdout",
          "text": [
            "bartosz\n"
          ]
        }
      ]
    },
    {
      "cell_type": "code",
      "source": [
        "sentence = \"I will never walk alone\"\n",
        "sentence.split()"
      ],
      "metadata": {
        "colab": {
          "base_uri": "https://localhost:8080/"
        },
        "id": "3v_uJNZttxlQ",
        "outputId": "bfd880e4-322e-47b5-fd85-22cce86f26ef"
      },
      "execution_count": null,
      "outputs": [
        {
          "output_type": "execute_result",
          "data": {
            "text/plain": [
              "['I', 'will', 'never', 'walk', 'alone']"
            ]
          },
          "metadata": {},
          "execution_count": 18
        }
      ]
    },
    {
      "cell_type": "code",
      "source": [
        "sentence.split('e')"
      ],
      "metadata": {
        "colab": {
          "base_uri": "https://localhost:8080/"
        },
        "id": "SspOwvgyt5Eq",
        "outputId": "4d4225ee-66dc-49ba-c26e-d565a3a3afdf"
      },
      "execution_count": null,
      "outputs": [
        {
          "output_type": "execute_result",
          "data": {
            "text/plain": [
              "['I will n', 'v', 'r walk alon', '']"
            ]
          },
          "metadata": {},
          "execution_count": 19
        }
      ]
    },
    {
      "cell_type": "code",
      "source": [
        "len(sentence)"
      ],
      "metadata": {
        "colab": {
          "base_uri": "https://localhost:8080/"
        },
        "id": "_lAUm5ari4X9",
        "outputId": "45a3c197-50c8-42c1-ea34-f9411bc150a4"
      },
      "execution_count": null,
      "outputs": [
        {
          "output_type": "execute_result",
          "data": {
            "text/plain": [
              "23"
            ]
          },
          "metadata": {},
          "execution_count": 20
        }
      ]
    },
    {
      "cell_type": "markdown",
      "source": [
        "String formating"
      ],
      "metadata": {
        "id": "q5k-V1O1xSzJ"
      }
    },
    {
      "cell_type": "code",
      "source": [
        "name = \"John\"\n",
        "age = \"3\"\n",
        "print(\"His name is {} and he is {}\".format(name, age))"
      ],
      "metadata": {
        "colab": {
          "base_uri": "https://localhost:8080/"
        },
        "id": "Cz8KFl5st7VI",
        "outputId": "63c33761-5eb2-4d01-8733-b120624f3f96"
      },
      "execution_count": null,
      "outputs": [
        {
          "output_type": "stream",
          "name": "stdout",
          "text": [
            "His name is John and he is 3\n"
          ]
        }
      ]
    },
    {
      "cell_type": "code",
      "source": [
        "age = 10 / 13\n",
        "print(\"He is {a:.3f}\".format(a=age)) #Python rounds when using .xf"
      ],
      "metadata": {
        "colab": {
          "base_uri": "https://localhost:8080/"
        },
        "id": "_T42OpAqxf8u",
        "outputId": "82a87765-a6cb-46a1-94ba-06c25bd84bf0"
      },
      "execution_count": null,
      "outputs": [
        {
          "output_type": "stream",
          "name": "stdout",
          "text": [
            "He is 0.769\n"
          ]
        }
      ]
    },
    {
      "cell_type": "code",
      "source": [
        "print(\"He is {a:10.2f}\".format(a=age))"
      ],
      "metadata": {
        "colab": {
          "base_uri": "https://localhost:8080/"
        },
        "id": "QYYQdv4Cx6Hl",
        "outputId": "5e044aa0-d7ec-425c-c0b0-9f509b2f505e"
      },
      "execution_count": null,
      "outputs": [
        {
          "output_type": "stream",
          "name": "stdout",
          "text": [
            "He is       0.77\n"
          ]
        }
      ]
    },
    {
      "cell_type": "code",
      "source": [
        "print(f\"He is {age}\")"
      ],
      "metadata": {
        "colab": {
          "base_uri": "https://localhost:8080/"
        },
        "id": "QS3fC3E3yRZX",
        "outputId": "711958f1-cf7b-4a79-d333-2d6cf81f2906"
      },
      "execution_count": null,
      "outputs": [
        {
          "output_type": "stream",
          "name": "stdout",
          "text": [
            "He is 0.7692307692307693\n"
          ]
        }
      ]
    },
    {
      "cell_type": "code",
      "source": [
        "# print(f\"He is {age.3f}\") #Cannot to precise how many decimals are showing"
      ],
      "metadata": {
        "id": "RN1gddqtyiic"
      },
      "execution_count": null,
      "outputs": []
    },
    {
      "cell_type": "markdown",
      "source": [
        "Lists"
      ],
      "metadata": {
        "id": "zINmlEqt0fTK"
      }
    },
    {
      "cell_type": "code",
      "source": [
        "list1 = [1, 2, 3, 4]"
      ],
      "metadata": {
        "id": "EKy7i8gd1PfZ"
      },
      "execution_count": null,
      "outputs": []
    },
    {
      "cell_type": "code",
      "source": [
        "list1"
      ],
      "metadata": {
        "colab": {
          "base_uri": "https://localhost:8080/"
        },
        "id": "aP0744pcutvq",
        "outputId": "6c7e6456-2cff-4e85-9174-1fb706c0825a"
      },
      "execution_count": null,
      "outputs": [
        {
          "output_type": "execute_result",
          "data": {
            "text/plain": [
              "[1, 2, 3, 4]"
            ]
          },
          "metadata": {},
          "execution_count": 27
        }
      ]
    },
    {
      "cell_type": "code",
      "source": [
        "list1[3:]"
      ],
      "metadata": {
        "colab": {
          "base_uri": "https://localhost:8080/"
        },
        "id": "GnvcMnFfux1M",
        "outputId": "4d3569f9-730a-4c5e-8400-4a986524cf44"
      },
      "execution_count": null,
      "outputs": [
        {
          "output_type": "execute_result",
          "data": {
            "text/plain": [
              "[4]"
            ]
          },
          "metadata": {},
          "execution_count": 28
        }
      ]
    },
    {
      "cell_type": "code",
      "source": [
        "list1[:3] #prints elements up to third (without third)"
      ],
      "metadata": {
        "colab": {
          "base_uri": "https://localhost:8080/"
        },
        "id": "77mpPyJxu1M4",
        "outputId": "f727ae67-2d17-4470-bd56-ad6062e0e03b"
      },
      "execution_count": null,
      "outputs": [
        {
          "output_type": "execute_result",
          "data": {
            "text/plain": [
              "[1, 2, 3]"
            ]
          },
          "metadata": {},
          "execution_count": 29
        }
      ]
    },
    {
      "cell_type": "code",
      "source": [
        "list1[1:3] #prints elements from first to third (including first (not zeros), without third)"
      ],
      "metadata": {
        "colab": {
          "base_uri": "https://localhost:8080/"
        },
        "id": "8f0gXST2u6g9",
        "outputId": "c43252fc-4ec0-4d12-fa34-b1fcede5eea1"
      },
      "execution_count": null,
      "outputs": [
        {
          "output_type": "execute_result",
          "data": {
            "text/plain": [
              "[2, 3]"
            ]
          },
          "metadata": {},
          "execution_count": 30
        }
      ]
    },
    {
      "cell_type": "code",
      "source": [
        "list1[0:4:2] #(after the second colon - step)"
      ],
      "metadata": {
        "colab": {
          "base_uri": "https://localhost:8080/"
        },
        "id": "1vy9jyyyvIhv",
        "outputId": "8809fa15-e502-43fa-c27d-0c02b6b081a9"
      },
      "execution_count": null,
      "outputs": [
        {
          "output_type": "execute_result",
          "data": {
            "text/plain": [
              "[1, 3]"
            ]
          },
          "metadata": {},
          "execution_count": 31
        }
      ]
    },
    {
      "cell_type": "code",
      "source": [
        "list1[::-1] #reverses list"
      ],
      "metadata": {
        "colab": {
          "base_uri": "https://localhost:8080/"
        },
        "id": "5xQZThHAvRpX",
        "outputId": "0b799417-68b4-42f9-c708-edbd52419b7b"
      },
      "execution_count": null,
      "outputs": [
        {
          "output_type": "execute_result",
          "data": {
            "text/plain": [
              "[4, 3, 2, 1]"
            ]
          },
          "metadata": {},
          "execution_count": 32
        }
      ]
    },
    {
      "cell_type": "code",
      "source": [
        " list1 + addedlist1 #concatinate lists"
      ],
      "metadata": {
        "colab": {
          "base_uri": "https://localhost:8080/",
          "height": 165
        },
        "id": "t5KLSLaVy1eV",
        "outputId": "8354382c-b3e5-47d7-e6cd-0fb3bcc69d24"
      },
      "execution_count": null,
      "outputs": [
        {
          "output_type": "error",
          "ename": "NameError",
          "evalue": "ignored",
          "traceback": [
            "\u001b[0;31m---------------------------------------------------------------------------\u001b[0m",
            "\u001b[0;31mNameError\u001b[0m                                 Traceback (most recent call last)",
            "\u001b[0;32m<ipython-input-33-5ecc3532d88f>\u001b[0m in \u001b[0;36m<module>\u001b[0;34m()\u001b[0m\n\u001b[0;32m----> 1\u001b[0;31m \u001b[0mlist1\u001b[0m \u001b[0;34m+\u001b[0m \u001b[0maddedlist1\u001b[0m \u001b[0;31m#concatinate lists\u001b[0m\u001b[0;34m\u001b[0m\u001b[0;34m\u001b[0m\u001b[0m\n\u001b[0m",
            "\u001b[0;31mNameError\u001b[0m: name 'addedlist1' is not defined"
          ]
        }
      ]
    },
    {
      "cell_type": "code",
      "source": [
        "list1"
      ],
      "metadata": {
        "id": "0m1aUpGfzESR"
      },
      "execution_count": null,
      "outputs": []
    },
    {
      "cell_type": "markdown",
      "source": [
        "Basic Lists methods"
      ],
      "metadata": {
        "id": "zFKuJWoYwLk-"
      }
    },
    {
      "cell_type": "code",
      "source": [
        "list2 = [\"a\", \"b\", \"c\"]\n",
        "list2"
      ],
      "metadata": {
        "id": "r6R0c9ZRvahB"
      },
      "execution_count": null,
      "outputs": []
    },
    {
      "cell_type": "code",
      "source": [
        "list2.append(\"added\") #pernamently adds element at rhe end of the list\n",
        "list2"
      ],
      "metadata": {
        "id": "ViyOSM_SwX7y"
      },
      "execution_count": null,
      "outputs": []
    },
    {
      "cell_type": "code",
      "source": [
        "list2.pop(0) #removes list element (defaulty -1st element, in that case 0)"
      ],
      "metadata": {
        "id": "xPn2UATUwdkz"
      },
      "execution_count": null,
      "outputs": []
    },
    {
      "cell_type": "code",
      "source": [
        "list2"
      ],
      "metadata": {
        "id": "LwxOaEPHwunU"
      },
      "execution_count": null,
      "outputs": []
    },
    {
      "cell_type": "code",
      "source": [
        "popped_item = list2.pop()"
      ],
      "metadata": {
        "id": "L2V81NBvwyRm"
      },
      "execution_count": null,
      "outputs": []
    },
    {
      "cell_type": "code",
      "source": [
        "popped_item #assigns the popped element (no -1) to the variable popped_item"
      ],
      "metadata": {
        "id": "0SE652rDxhMb"
      },
      "execution_count": null,
      "outputs": []
    },
    {
      "cell_type": "code",
      "source": [
        "list2"
      ],
      "metadata": {
        "id": "ulM3WBK-xxIT"
      },
      "execution_count": null,
      "outputs": []
    },
    {
      "cell_type": "markdown",
      "source": [
        "Sorting and reversing"
      ],
      "metadata": {
        "id": "LjSyg1xIx-G2"
      }
    },
    {
      "cell_type": "code",
      "source": [
        "list3 = ['b', 'a', 'u', 'j', 't', 'z', 'c']\n",
        "list3"
      ],
      "metadata": {
        "id": "8BW1aRNLx4Es"
      },
      "execution_count": null,
      "outputs": []
    },
    {
      "cell_type": "code",
      "source": [
        "list3.sort() #sorts list pernamently\n",
        "list3"
      ],
      "metadata": {
        "id": "eByxNl7cyNyQ"
      },
      "execution_count": null,
      "outputs": []
    },
    {
      "cell_type": "code",
      "source": [
        "list3"
      ],
      "metadata": {
        "id": "ebyX1bgFyQw8"
      },
      "execution_count": null,
      "outputs": []
    },
    {
      "cell_type": "code",
      "source": [
        "list3.reverse() #reverses list pernamently\n",
        "list3"
      ],
      "metadata": {
        "id": "uvahzZIkyTa6"
      },
      "execution_count": null,
      "outputs": []
    },
    {
      "cell_type": "markdown",
      "source": [
        "Nesting lists"
      ],
      "metadata": {
        "id": "w5Q9xqKxzJLR"
      }
    },
    {
      "cell_type": "code",
      "source": [
        "list4 = [1, 2, 3]\n",
        "list5 = [4, 5, 6]\n",
        "list6 = [7, 8, 9]\n",
        "nesting_list = [list4, list5, list6] #creating of nested lists\n",
        "nesting_list"
      ],
      "metadata": {
        "id": "fjsKKSS4yglF"
      },
      "execution_count": null,
      "outputs": []
    },
    {
      "cell_type": "code",
      "source": [
        "nesting_list[0] #grabs the element from list (here the nested list no 0)"
      ],
      "metadata": {
        "id": "UkYH-NASzYLN"
      },
      "execution_count": null,
      "outputs": []
    },
    {
      "cell_type": "code",
      "source": [
        "nesting_list[0][2] #grabs the 2nd element from the 0 element(list)"
      ],
      "metadata": {
        "id": "iV4ytsKxzjAI"
      },
      "execution_count": null,
      "outputs": []
    },
    {
      "cell_type": "markdown",
      "source": [
        "Dictionaries"
      ],
      "metadata": {
        "id": "_fv-Cyxa3LFU"
      }
    },
    {
      "cell_type": "code",
      "source": [
        "dict = {'k1':2,'k2':4,'k3':6} #creates dict, in ' ' there are keys (sort of indexes) and after colons - values\n",
        "dict"
      ],
      "metadata": {
        "id": "Ojs-3bFP3RqY"
      },
      "execution_count": null,
      "outputs": []
    },
    {
      "cell_type": "code",
      "source": [
        "dict.reverse / sort #does not work! dicts are mapped so impossible to sort "
      ],
      "metadata": {
        "id": "VC1-wqEV3bp3"
      },
      "execution_count": null,
      "outputs": []
    },
    {
      "cell_type": "code",
      "source": [
        "dict['k2'] #call elements via keys (in '')"
      ],
      "metadata": {
        "id": "TfjQgdEN34_W"
      },
      "execution_count": null,
      "outputs": []
    },
    {
      "cell_type": "code",
      "source": [
        "dict['k4'] = 8 #adds new key and assigns its value\n",
        "dict"
      ],
      "metadata": {
        "id": "7Sfn-bB-38Ly"
      },
      "execution_count": null,
      "outputs": []
    },
    {
      "cell_type": "code",
      "source": [
        "dict['k5'] = ['a', 'b', 'c'] #possible to nest the list in dict\n",
        "dict"
      ],
      "metadata": {
        "id": "tFPxfJ_84eQr"
      },
      "execution_count": null,
      "outputs": []
    },
    {
      "cell_type": "code",
      "source": [
        "dict['k5'][2] #grabs the 2nd element of a list connected with key5"
      ],
      "metadata": {
        "id": "LNwLsAvv4sSQ"
      },
      "execution_count": null,
      "outputs": []
    },
    {
      "cell_type": "code",
      "source": [
        " dict['k6'] = {'key1':'A','key2':'B'} #nests dict in dict\n",
        " dict"
      ],
      "metadata": {
        "id": "BM1SkMzy41cn"
      },
      "execution_count": null,
      "outputs": []
    },
    {
      "cell_type": "code",
      "source": [
        "dict['k6']['key2']"
      ],
      "metadata": {
        "id": "8-dIOPow5O64"
      },
      "execution_count": null,
      "outputs": []
    },
    {
      "cell_type": "code",
      "source": [
        "dict['k6']['key2'] = 'b' #change dict value"
      ],
      "metadata": {
        "id": "YCmsd1Bq5YwI"
      },
      "execution_count": null,
      "outputs": []
    },
    {
      "cell_type": "code",
      "source": [
        "dict"
      ],
      "metadata": {
        "id": "BSSPBpzm5dOK"
      },
      "execution_count": null,
      "outputs": []
    },
    {
      "cell_type": "code",
      "source": [
        "dict['k6']['key2'].upper()"
      ],
      "metadata": {
        "id": "x1FTO2Uy5lcd"
      },
      "execution_count": null,
      "outputs": []
    },
    {
      "cell_type": "markdown",
      "source": [
        "Dictionaries methods"
      ],
      "metadata": {
        "id": "_g2Os48F6IWx"
      }
    },
    {
      "cell_type": "code",
      "source": [
        "dict.keys() #shows all keys"
      ],
      "metadata": {
        "id": "IU9avoCC51zC"
      },
      "execution_count": null,
      "outputs": []
    },
    {
      "cell_type": "code",
      "source": [
        "dict.values() #shows all values"
      ],
      "metadata": {
        "id": "bFy--tS06OcR"
      },
      "execution_count": null,
      "outputs": []
    },
    {
      "cell_type": "code",
      "source": [
        "dict.items() #shows tuples (keys paired with values)"
      ],
      "metadata": {
        "id": "VqF_2xIU6RR6"
      },
      "execution_count": null,
      "outputs": []
    },
    {
      "cell_type": "markdown",
      "source": [
        "Set"
      ],
      "metadata": {
        "id": "F2H7QEo0HTcd"
      }
    },
    {
      "cell_type": "code",
      "source": [
        "myset = set() #create set"
      ],
      "metadata": {
        "id": "8Bzb9kcBIbQw"
      },
      "execution_count": 34,
      "outputs": []
    },
    {
      "cell_type": "code",
      "source": [
        "myset.add('a')\n",
        "myset.add('b')\n",
        "myset"
      ],
      "metadata": {
        "id": "NMrWSsHfJQa8",
        "colab": {
          "base_uri": "https://localhost:8080/"
        },
        "outputId": "89576da1-72bb-40f5-a39c-01e69cd1c9c1"
      },
      "execution_count": 35,
      "outputs": [
        {
          "output_type": "execute_result",
          "data": {
            "text/plain": [
              "{'a', 'b'}"
            ]
          },
          "metadata": {},
          "execution_count": 35
        }
      ]
    },
    {
      "cell_type": "code",
      "source": [
        "myset.add('a') #set gives only unique elements so a apperars just once\n",
        "myset"
      ],
      "metadata": {
        "colab": {
          "base_uri": "https://localhost:8080/"
        },
        "id": "-D_PGYSWJwuF",
        "outputId": "e55e92c0-aab6-4cc5-e53e-464f15d464ff"
      },
      "execution_count": 37,
      "outputs": [
        {
          "output_type": "execute_result",
          "data": {
            "text/plain": [
              "{'a', 'b'}"
            ]
          },
          "metadata": {},
          "execution_count": 37
        }
      ]
    },
    {
      "cell_type": "code",
      "source": [
        "set('Mississippi') #also possible to write all unique letter from the word"
      ],
      "metadata": {
        "colab": {
          "base_uri": "https://localhost:8080/"
        },
        "id": "CiPBPi9hJ2of",
        "outputId": "310db78d-8319-4674-9bae-f646001c44bb"
      },
      "execution_count": 38,
      "outputs": [
        {
          "output_type": "execute_result",
          "data": {
            "text/plain": [
              "{'M', 'i', 'p', 's'}"
            ]
          },
          "metadata": {},
          "execution_count": 38
        }
      ]
    },
    {
      "cell_type": "code",
      "source": [
        "list = [1, 2, 1, 4, 3, 5, 3, 1, 3, 1, 2, 4, 3, 2] #or from the list\n",
        "set(list)"
      ],
      "metadata": {
        "colab": {
          "base_uri": "https://localhost:8080/"
        },
        "id": "uLTObHK5KCr-",
        "outputId": "f192c3f5-a682-4a1e-c8d2-c8518aa16e38"
      },
      "execution_count": 39,
      "outputs": [
        {
          "output_type": "execute_result",
          "data": {
            "text/plain": [
              "{1, 2, 3, 4, 5}"
            ]
          },
          "metadata": {},
          "execution_count": 39
        }
      ]
    },
    {
      "cell_type": "code",
      "source": [
        ""
      ],
      "metadata": {
        "id": "D1Cg3xL5KNyl"
      },
      "execution_count": null,
      "outputs": []
    }
  ]
}
