{
  "nbformat": 4,
  "nbformat_minor": 0,
  "metadata": {
    "colab": {
      "name": "Modules.ipynb",
      "provenance": [],
      "authorship_tag": "ABX9TyPPoP5f8dHcJV228/9HAlTF"
    },
    "kernelspec": {
      "name": "python3",
      "display_name": "Python 3"
    },
    "language_info": {
      "name": "python"
    }
  },
  "cells": [
    {
      "cell_type": "markdown",
      "source": [
        "# 1. Collections\n",
        "That module allow us ot use specialized data types"
      ],
      "metadata": {
        "id": "L8Ic199tsNgW"
      }
    },
    {
      "cell_type": "code",
      "execution_count": 1,
      "metadata": {
        "colab": {
          "base_uri": "https://localhost:8080/"
        },
        "id": "_XfjLMJKsMCI",
        "outputId": "20d03d53-5154-4097-bc5b-86b623db33f0"
      },
      "outputs": [
        {
          "output_type": "execute_result",
          "data": {
            "text/plain": [
              "Counter({1: 9, 2: 12, 3: 5})"
            ]
          },
          "metadata": {},
          "execution_count": 1
        }
      ],
      "source": [
        "#counter class\n",
        "from collections import Counter\n",
        "mylist = [1,2,1,1,1,1,2,2,2,2,3,3,3,3,3,2,2,2,2,2,1,1,1,1,2,2]\n",
        "Counter(mylist)"
      ]
    },
    {
      "cell_type": "code",
      "source": [
        "string = 'bartekkras'\n",
        "Counter(string)"
      ],
      "metadata": {
        "colab": {
          "base_uri": "https://localhost:8080/"
        },
        "id": "_mfjcsFQsxFG",
        "outputId": "43fb5319-b1b9-465c-e008-8f67aa8e9fe7"
      },
      "execution_count": 2,
      "outputs": [
        {
          "output_type": "execute_result",
          "data": {
            "text/plain": [
              "Counter({'a': 2, 'b': 1, 'e': 1, 'k': 2, 'r': 2, 's': 1, 't': 1})"
            ]
          },
          "metadata": {},
          "execution_count": 2
        }
      ]
    },
    {
      "cell_type": "code",
      "source": [
        "text = \"Hello, my name is Bartek and I have already started learning Python. I am excited to use Python!\"\n",
        "c = Counter(text.split())"
      ],
      "metadata": {
        "id": "YclfD0zAs53-"
      },
      "execution_count": 4,
      "outputs": []
    },
    {
      "cell_type": "code",
      "source": [
        "c"
      ],
      "metadata": {
        "colab": {
          "base_uri": "https://localhost:8080/"
        },
        "id": "UvNJn3sptafE",
        "outputId": "b6393788-85ff-4772-d39c-b085af9fc162"
      },
      "execution_count": 5,
      "outputs": [
        {
          "output_type": "execute_result",
          "data": {
            "text/plain": [
              "Counter({'Bartek': 1,\n",
              "         'Hello,': 1,\n",
              "         'I': 2,\n",
              "         'Python!': 1,\n",
              "         'Python.': 1,\n",
              "         'already': 1,\n",
              "         'am': 1,\n",
              "         'and': 1,\n",
              "         'excited': 1,\n",
              "         'have': 1,\n",
              "         'is': 1,\n",
              "         'learning': 1,\n",
              "         'my': 1,\n",
              "         'name': 1,\n",
              "         'started': 1,\n",
              "         'to': 1,\n",
              "         'use': 1})"
            ]
          },
          "metadata": {},
          "execution_count": 5
        }
      ]
    },
    {
      "cell_type": "code",
      "source": [
        "#sorts keys starting from the most popular\n",
        "c.most_common()\n",
        "c.most_common(3)"
      ],
      "metadata": {
        "colab": {
          "base_uri": "https://localhost:8080/"
        },
        "id": "wUJFAtJ5tta7",
        "outputId": "81af7ff9-8c68-42bd-ca47-3def7011986f"
      },
      "execution_count": 8,
      "outputs": [
        {
          "output_type": "execute_result",
          "data": {
            "text/plain": [
              "[('I', 2), ('Hello,', 1), ('my', 1)]"
            ]
          },
          "metadata": {},
          "execution_count": 8
        }
      ]
    },
    {
      "cell_type": "code",
      "source": [
        " c.values()"
      ],
      "metadata": {
        "colab": {
          "base_uri": "https://localhost:8080/"
        },
        "id": "8upCpsiwtv78",
        "outputId": "1e722b38-c22e-4762-b448-4599bb8d05a1"
      },
      "execution_count": 7,
      "outputs": [
        {
          "output_type": "execute_result",
          "data": {
            "text/plain": [
              "dict_values([1, 1, 1, 1, 1, 1, 2, 1, 1, 1, 1, 1, 1, 1, 1, 1, 1])"
            ]
          },
          "metadata": {},
          "execution_count": 7
        }
      ]
    },
    {
      "cell_type": "code",
      "source": [
        "#creating the list of dictionary keys\n",
        "list(c)"
      ],
      "metadata": {
        "colab": {
          "base_uri": "https://localhost:8080/"
        },
        "id": "9C3bkKQkt3Tk",
        "outputId": "932df08c-06a2-4aa1-e0c2-da5cd7411ca2"
      },
      "execution_count": 9,
      "outputs": [
        {
          "output_type": "execute_result",
          "data": {
            "text/plain": [
              "['Hello,',\n",
              " 'my',\n",
              " 'name',\n",
              " 'is',\n",
              " 'Bartek',\n",
              " 'and',\n",
              " 'I',\n",
              " 'have',\n",
              " 'already',\n",
              " 'started',\n",
              " 'learning',\n",
              " 'Python.',\n",
              " 'am',\n",
              " 'excited',\n",
              " 'to',\n",
              " 'use',\n",
              " 'Python!']"
            ]
          },
          "metadata": {},
          "execution_count": 9
        }
      ]
    },
    {
      "cell_type": "code",
      "source": [
        ""
      ],
      "metadata": {
        "id": "ROjZQMJsuGAs"
      },
      "execution_count": 9,
      "outputs": []
    },
    {
      "cell_type": "code",
      "source": [
        ""
      ],
      "metadata": {
        "id": "MbXZELYUuSYc"
      },
      "execution_count": null,
      "outputs": []
    },
    {
      "cell_type": "code",
      "source": [
        "from collections import defaultdict"
      ],
      "metadata": {
        "id": "yxPwbO_cuSWR"
      },
      "execution_count": 11,
      "outputs": []
    },
    {
      "cell_type": "code",
      "source": [
        "d = {'a':10}\n",
        "d"
      ],
      "metadata": {
        "colab": {
          "base_uri": "https://localhost:8080/"
        },
        "id": "CSqZrRjHuaSb",
        "outputId": "4cf6d40d-887e-4b19-a13d-ce12b576d2b1"
      },
      "execution_count": 12,
      "outputs": [
        {
          "output_type": "execute_result",
          "data": {
            "text/plain": [
              "{'a': 10}"
            ]
          },
          "metadata": {},
          "execution_count": 12
        }
      ]
    },
    {
      "cell_type": "code",
      "source": [
        "d['a']"
      ],
      "metadata": {
        "colab": {
          "base_uri": "https://localhost:8080/"
        },
        "id": "HXlwff0Gud47",
        "outputId": "ca4431b2-2c64-4e68-b935-e62b083603d8"
      },
      "execution_count": 13,
      "outputs": [
        {
          "output_type": "execute_result",
          "data": {
            "text/plain": [
              "10"
            ]
          },
          "metadata": {},
          "execution_count": 13
        }
      ]
    },
    {
      "cell_type": "code",
      "source": [
        "d['WRONG']"
      ],
      "metadata": {
        "colab": {
          "base_uri": "https://localhost:8080/",
          "height": 165
        },
        "id": "bx5sMIqpufyH",
        "outputId": "a01b1ab9-3dc2-4fdf-8f2f-e49a58b6bae7"
      },
      "execution_count": 14,
      "outputs": [
        {
          "output_type": "error",
          "ename": "KeyError",
          "evalue": "ignored",
          "traceback": [
            "\u001b[0;31m---------------------------------------------------------------------------\u001b[0m",
            "\u001b[0;31mKeyError\u001b[0m                                  Traceback (most recent call last)",
            "\u001b[0;32m<ipython-input-14-4006d83773ae>\u001b[0m in \u001b[0;36m<module>\u001b[0;34m()\u001b[0m\n\u001b[0;32m----> 1\u001b[0;31m \u001b[0md\u001b[0m\u001b[0;34m[\u001b[0m\u001b[0;34m'WRONG'\u001b[0m\u001b[0;34m]\u001b[0m\u001b[0;34m\u001b[0m\u001b[0;34m\u001b[0m\u001b[0m\n\u001b[0m",
            "\u001b[0;31mKeyError\u001b[0m: 'WRONG'"
          ]
        }
      ]
    },
    {
      "cell_type": "code",
      "source": [
        "d = defaultdict(lambda:0)"
      ],
      "metadata": {
        "id": "TBtpwaafuid9"
      },
      "execution_count": 15,
      "outputs": []
    },
    {
      "cell_type": "code",
      "source": [
        "d['correct'] = 100 #assigns value to non existing key"
      ],
      "metadata": {
        "id": "P0m5lng-u03Z"
      },
      "execution_count": 16,
      "outputs": []
    },
    {
      "cell_type": "code",
      "source": [
        "d['correct']"
      ],
      "metadata": {
        "colab": {
          "base_uri": "https://localhost:8080/"
        },
        "id": "_AKKqtquu5Kl",
        "outputId": "e6ea1bc9-3a65-46f1-e568-35a69fea79fd"
      },
      "execution_count": 17,
      "outputs": [
        {
          "output_type": "execute_result",
          "data": {
            "text/plain": [
              "100"
            ]
          },
          "metadata": {},
          "execution_count": 17
        }
      ]
    },
    {
      "cell_type": "code",
      "source": [
        "d['WRONG KEY!!!'] #assigns defaut value to non existing key"
      ],
      "metadata": {
        "colab": {
          "base_uri": "https://localhost:8080/"
        },
        "id": "hPI4tjbXu6oU",
        "outputId": "672cfc32-7836-4d8a-85cc-902088b9d3b6"
      },
      "execution_count": 21,
      "outputs": [
        {
          "output_type": "execute_result",
          "data": {
            "text/plain": [
              "0"
            ]
          },
          "metadata": {},
          "execution_count": 21
        }
      ]
    },
    {
      "cell_type": "code",
      "source": [
        ""
      ],
      "metadata": {
        "id": "Vy8VEKTSvi_t"
      },
      "execution_count": 21,
      "outputs": []
    },
    {
      "cell_type": "code",
      "source": [
        "#useful when we have a very big list or we do not remember index of value that we are interested in\n",
        "from collections import namedtuple"
      ],
      "metadata": {
        "id": "qKpU2MGOvleC"
      },
      "execution_count": 23,
      "outputs": []
    },
    {
      "cell_type": "code",
      "source": [
        "Dog = namedtuple('Dog',['age','bread','name'])"
      ],
      "metadata": {
        "id": "-Mcw4r7yvtZD"
      },
      "execution_count": 25,
      "outputs": []
    },
    {
      "cell_type": "code",
      "source": [
        "sammy = Dog(5,'husky','Sam')"
      ],
      "metadata": {
        "id": "2N5zEyPlv2ba"
      },
      "execution_count": 26,
      "outputs": []
    },
    {
      "cell_type": "code",
      "source": [
        "sammy"
      ],
      "metadata": {
        "colab": {
          "base_uri": "https://localhost:8080/"
        },
        "id": "uRfaiPRUwAIl",
        "outputId": "f38ff56c-0374-4452-b8a9-1720ae03e654"
      },
      "execution_count": 27,
      "outputs": [
        {
          "output_type": "execute_result",
          "data": {
            "text/plain": [
              "Dog(age=5, bread='husky', name='Sam')"
            ]
          },
          "metadata": {},
          "execution_count": 27
        }
      ]
    },
    {
      "cell_type": "code",
      "source": [
        "sammy.age"
      ],
      "metadata": {
        "colab": {
          "base_uri": "https://localhost:8080/"
        },
        "id": "sCNS_N2kwBR6",
        "outputId": "e7023b1a-2d80-43a2-ec37-08bd2bf6d340"
      },
      "execution_count": 28,
      "outputs": [
        {
          "output_type": "execute_result",
          "data": {
            "text/plain": [
              "5"
            ]
          },
          "metadata": {},
          "execution_count": 28
        }
      ]
    },
    {
      "cell_type": "code",
      "source": [
        "sammy[0]"
      ],
      "metadata": {
        "colab": {
          "base_uri": "https://localhost:8080/"
        },
        "id": "swdDsjh4wI7v",
        "outputId": "9b2094ce-78e3-485b-afaf-c8eafb6b2e33"
      },
      "execution_count": 29,
      "outputs": [
        {
          "output_type": "execute_result",
          "data": {
            "text/plain": [
              "5"
            ]
          },
          "metadata": {},
          "execution_count": 29
        }
      ]
    },
    {
      "cell_type": "code",
      "source": [
        ""
      ],
      "metadata": {
        "id": "bBGbPEK9wJsJ"
      },
      "execution_count": null,
      "outputs": []
    },
    {
      "cell_type": "markdown",
      "source": [
        "# Datatime module"
      ],
      "metadata": {
        "id": "nPNbvKg_v5BX"
      }
    },
    {
      "cell_type": "code",
      "source": [
        "import datetime"
      ],
      "metadata": {
        "id": "-ca_LSclmZMz"
      },
      "execution_count": 1,
      "outputs": []
    },
    {
      "cell_type": "code",
      "source": [
        "mytime = datetime.time.now() #fills parenthases automatically with zeros"
      ],
      "metadata": {
        "id": "-n2j5s70m5oK"
      },
      "execution_count": null,
      "outputs": []
    },
    {
      "cell_type": "code",
      "source": [
        "print(mytime) "
      ],
      "metadata": {
        "colab": {
          "base_uri": "https://localhost:8080/"
        },
        "id": "2szY-BrGwUOQ",
        "outputId": "91484f74-592b-428f-ce74-b74ccbafd1f3"
      },
      "execution_count": 6,
      "outputs": [
        {
          "output_type": "stream",
          "name": "stdout",
          "text": [
            "02:45:00\n"
          ]
        }
      ]
    },
    {
      "cell_type": "code",
      "source": [
        "#also possible to add microseconds by filling the () in datetime.time\n",
        "mytime = datetime.time(2,45,30,500)"
      ],
      "metadata": {
        "id": "tlXkn2CtwdIk"
      },
      "execution_count": 7,
      "outputs": []
    },
    {
      "cell_type": "code",
      "source": [
        "print(mytime)"
      ],
      "metadata": {
        "colab": {
          "base_uri": "https://localhost:8080/"
        },
        "id": "jeJvr5Q5w3hJ",
        "outputId": "0f7878ce-11f3-43e4-c725-70d2569ec2d1"
      },
      "execution_count": 8,
      "outputs": [
        {
          "output_type": "stream",
          "name": "stdout",
          "text": [
            "02:45:30.000500\n"
          ]
        }
      ]
    },
    {
      "cell_type": "code",
      "source": [
        "today = datetime.date.today()"
      ],
      "metadata": {
        "id": "e4i1pxcmw5bV"
      },
      "execution_count": 9,
      "outputs": []
    },
    {
      "cell_type": "code",
      "source": [
        "print(today)"
      ],
      "metadata": {
        "colab": {
          "base_uri": "https://localhost:8080/"
        },
        "id": "ygAILYL_xE7U",
        "outputId": "46ead7ee-17b3-448b-d55a-33e3147bae6d"
      },
      "execution_count": 10,
      "outputs": [
        {
          "output_type": "stream",
          "name": "stdout",
          "text": [
            "2022-05-17\n"
          ]
        }
      ]
    },
    {
      "cell_type": "code",
      "source": [
        "today.year"
      ],
      "metadata": {
        "colab": {
          "base_uri": "https://localhost:8080/"
        },
        "id": "6dTKApOmxGDy",
        "outputId": "63a83444-08f5-496d-c270-0484d051fbcc"
      },
      "execution_count": 12,
      "outputs": [
        {
          "output_type": "execute_result",
          "data": {
            "text/plain": [
              "2022"
            ]
          },
          "metadata": {},
          "execution_count": 12
        }
      ]
    },
    {
      "cell_type": "code",
      "source": [
        "today.month"
      ],
      "metadata": {
        "colab": {
          "base_uri": "https://localhost:8080/"
        },
        "id": "-Mpu9EPtxQIv",
        "outputId": "a9caab39-ed83-4f7f-9835-0a1be2eda4aa"
      },
      "execution_count": 13,
      "outputs": [
        {
          "output_type": "execute_result",
          "data": {
            "text/plain": [
              "5"
            ]
          },
          "metadata": {},
          "execution_count": 13
        }
      ]
    },
    {
      "cell_type": "code",
      "source": [
        "today.day"
      ],
      "metadata": {
        "colab": {
          "base_uri": "https://localhost:8080/"
        },
        "id": "92S1oP5lxQ4v",
        "outputId": "f7db4562-a568-4f72-845e-4044ddd6bbbd"
      },
      "execution_count": 14,
      "outputs": [
        {
          "output_type": "execute_result",
          "data": {
            "text/plain": [
              "17"
            ]
          },
          "metadata": {},
          "execution_count": 14
        }
      ]
    },
    {
      "cell_type": "code",
      "source": [
        "today.ctime() #time not specified"
      ],
      "metadata": {
        "colab": {
          "base_uri": "https://localhost:8080/",
          "height": 36
        },
        "id": "-9Gmo8a6xRk2",
        "outputId": "bc20ab2b-f562-419a-bf0b-c0301e1353a5"
      },
      "execution_count": 15,
      "outputs": [
        {
          "output_type": "execute_result",
          "data": {
            "text/plain": [
              "'Tue May 17 00:00:00 2022'"
            ],
            "application/vnd.google.colaboratory.intrinsic+json": {
              "type": "string"
            }
          },
          "metadata": {},
          "execution_count": 15
        }
      ]
    },
    {
      "cell_type": "code",
      "source": [
        "from datetime import datetime"
      ],
      "metadata": {
        "id": "6l4pj7jwxWOX"
      },
      "execution_count": 16,
      "outputs": []
    },
    {
      "cell_type": "code",
      "source": [
        "mydatetime = datetime(2022,5,17,22,48,30)"
      ],
      "metadata": {
        "id": "tHd0vzeUxbfN"
      },
      "execution_count": 18,
      "outputs": []
    },
    {
      "cell_type": "code",
      "source": [
        "print(mydatetime)"
      ],
      "metadata": {
        "colab": {
          "base_uri": "https://localhost:8080/"
        },
        "id": "RAIqOVE0xzTs",
        "outputId": "53ed45e4-5aa7-4df1-8686-6fe8a826e6df"
      },
      "execution_count": 19,
      "outputs": [
        {
          "output_type": "stream",
          "name": "stdout",
          "text": [
            "2022-05-17 22:48:30\n"
          ]
        }
      ]
    },
    {
      "cell_type": "code",
      "source": [
        "mydatetime = mydatetime.replace(year=mydatetime.year+1)"
      ],
      "metadata": {
        "id": "jRpCvMI4x2Ru"
      },
      "execution_count": 21,
      "outputs": []
    },
    {
      "cell_type": "code",
      "source": [
        "print(mydatetime) #one year added and the date has been updated"
      ],
      "metadata": {
        "colab": {
          "base_uri": "https://localhost:8080/"
        },
        "id": "pS4POmNNx9Xu",
        "outputId": "4978dc74-f877-4b0d-f2a4-c5f330c309db"
      },
      "execution_count": 22,
      "outputs": [
        {
          "output_type": "stream",
          "name": "stdout",
          "text": [
            "2023-05-17 22:48:30\n"
          ]
        }
      ]
    },
    {
      "cell_type": "code",
      "source": [
        ""
      ],
      "metadata": {
        "id": "q0dUh8OcyA9G"
      },
      "execution_count": null,
      "outputs": []
    },
    {
      "cell_type": "code",
      "source": [
        "date1 = datetime(2023,11,4,12,30,50)\n",
        "date2 = datetime(2022,6,5, 5,40,50)"
      ],
      "metadata": {
        "id": "0IwovmTuyaqw"
      },
      "execution_count": 26,
      "outputs": []
    },
    {
      "cell_type": "code",
      "source": [
        "date1 - date2 #simple arithmetic with date objects"
      ],
      "metadata": {
        "colab": {
          "base_uri": "https://localhost:8080/"
        },
        "id": "8YlaevHJzHjG",
        "outputId": "902c24f1-d767-4b93-8a2c-f7bbe2fa5a0f"
      },
      "execution_count": 32,
      "outputs": [
        {
          "output_type": "execute_result",
          "data": {
            "text/plain": [
              "datetime.timedelta(days=517, seconds=24600)"
            ]
          },
          "metadata": {},
          "execution_count": 32
        }
      ]
    },
    {
      "cell_type": "code",
      "source": [
        "result = date1 - date2 "
      ],
      "metadata": {
        "id": "7su2kWjEyi-N"
      },
      "execution_count": 30,
      "outputs": []
    },
    {
      "cell_type": "code",
      "source": [
        "print(result)"
      ],
      "metadata": {
        "colab": {
          "base_uri": "https://localhost:8080/"
        },
        "id": "N-7_YV6yylXO",
        "outputId": "eb29a4ac-770c-48c0-f55e-629cc24abb9c"
      },
      "execution_count": 31,
      "outputs": [
        {
          "output_type": "stream",
          "name": "stdout",
          "text": [
            "517 days, 6:50:00\n"
          ]
        }
      ]
    },
    {
      "cell_type": "code",
      "source": [
        ""
      ],
      "metadata": {
        "id": "2MqV06-iymiW"
      },
      "execution_count": null,
      "outputs": []
    }
  ]
}