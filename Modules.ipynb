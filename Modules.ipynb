{
  "nbformat": 4,
  "nbformat_minor": 0,
  "metadata": {
    "colab": {
      "name": "Modules.ipynb",
      "provenance": [],
      "authorship_tag": "ABX9TyOMzUidTfkL0OujNVItQorX"
    },
    "kernelspec": {
      "name": "python3",
      "display_name": "Python 3"
    },
    "language_info": {
      "name": "python"
    }
  },
  "cells": [
    {
      "cell_type": "markdown",
      "source": [
        "# 1. Collections\n",
        "That module allow us ot use specialized data types"
      ],
      "metadata": {
        "id": "L8Ic199tsNgW"
      }
    },
    {
      "cell_type": "code",
      "execution_count": 1,
      "metadata": {
        "colab": {
          "base_uri": "https://localhost:8080/"
        },
        "id": "_XfjLMJKsMCI",
        "outputId": "20d03d53-5154-4097-bc5b-86b623db33f0"
      },
      "outputs": [
        {
          "output_type": "execute_result",
          "data": {
            "text/plain": [
              "Counter({1: 9, 2: 12, 3: 5})"
            ]
          },
          "metadata": {},
          "execution_count": 1
        }
      ],
      "source": [
        "#counter class\n",
        "from collections import Counter\n",
        "mylist = [1,2,1,1,1,1,2,2,2,2,3,3,3,3,3,2,2,2,2,2,1,1,1,1,2,2]\n",
        "Counter(mylist)"
      ]
    },
    {
      "cell_type": "code",
      "source": [
        "string = 'bartekkras'\n",
        "Counter(string)"
      ],
      "metadata": {
        "colab": {
          "base_uri": "https://localhost:8080/"
        },
        "id": "_mfjcsFQsxFG",
        "outputId": "43fb5319-b1b9-465c-e008-8f67aa8e9fe7"
      },
      "execution_count": 2,
      "outputs": [
        {
          "output_type": "execute_result",
          "data": {
            "text/plain": [
              "Counter({'a': 2, 'b': 1, 'e': 1, 'k': 2, 'r': 2, 's': 1, 't': 1})"
            ]
          },
          "metadata": {},
          "execution_count": 2
        }
      ]
    },
    {
      "cell_type": "code",
      "source": [
        "text = \"Hello, my name is Bartek and I have already started learning Python. I am excited to use Python!\"\n",
        "c = Counter(text.split())"
      ],
      "metadata": {
        "id": "YclfD0zAs53-"
      },
      "execution_count": 4,
      "outputs": []
    },
    {
      "cell_type": "code",
      "source": [
        "c"
      ],
      "metadata": {
        "colab": {
          "base_uri": "https://localhost:8080/"
        },
        "id": "UvNJn3sptafE",
        "outputId": "b6393788-85ff-4772-d39c-b085af9fc162"
      },
      "execution_count": 5,
      "outputs": [
        {
          "output_type": "execute_result",
          "data": {
            "text/plain": [
              "Counter({'Bartek': 1,\n",
              "         'Hello,': 1,\n",
              "         'I': 2,\n",
              "         'Python!': 1,\n",
              "         'Python.': 1,\n",
              "         'already': 1,\n",
              "         'am': 1,\n",
              "         'and': 1,\n",
              "         'excited': 1,\n",
              "         'have': 1,\n",
              "         'is': 1,\n",
              "         'learning': 1,\n",
              "         'my': 1,\n",
              "         'name': 1,\n",
              "         'started': 1,\n",
              "         'to': 1,\n",
              "         'use': 1})"
            ]
          },
          "metadata": {},
          "execution_count": 5
        }
      ]
    },
    {
      "cell_type": "code",
      "source": [
        "#sorts keys starting from the most popular\n",
        "c.most_common()\n",
        "c.most_common(3)"
      ],
      "metadata": {
        "colab": {
          "base_uri": "https://localhost:8080/"
        },
        "id": "wUJFAtJ5tta7",
        "outputId": "81af7ff9-8c68-42bd-ca47-3def7011986f"
      },
      "execution_count": 8,
      "outputs": [
        {
          "output_type": "execute_result",
          "data": {
            "text/plain": [
              "[('I', 2), ('Hello,', 1), ('my', 1)]"
            ]
          },
          "metadata": {},
          "execution_count": 8
        }
      ]
    },
    {
      "cell_type": "code",
      "source": [
        " c.values()"
      ],
      "metadata": {
        "colab": {
          "base_uri": "https://localhost:8080/"
        },
        "id": "8upCpsiwtv78",
        "outputId": "1e722b38-c22e-4762-b448-4599bb8d05a1"
      },
      "execution_count": 7,
      "outputs": [
        {
          "output_type": "execute_result",
          "data": {
            "text/plain": [
              "dict_values([1, 1, 1, 1, 1, 1, 2, 1, 1, 1, 1, 1, 1, 1, 1, 1, 1])"
            ]
          },
          "metadata": {},
          "execution_count": 7
        }
      ]
    },
    {
      "cell_type": "code",
      "source": [
        "#creating the list of dictionary keys\n",
        "list(c)"
      ],
      "metadata": {
        "colab": {
          "base_uri": "https://localhost:8080/"
        },
        "id": "9C3bkKQkt3Tk",
        "outputId": "932df08c-06a2-4aa1-e0c2-da5cd7411ca2"
      },
      "execution_count": 9,
      "outputs": [
        {
          "output_type": "execute_result",
          "data": {
            "text/plain": [
              "['Hello,',\n",
              " 'my',\n",
              " 'name',\n",
              " 'is',\n",
              " 'Bartek',\n",
              " 'and',\n",
              " 'I',\n",
              " 'have',\n",
              " 'already',\n",
              " 'started',\n",
              " 'learning',\n",
              " 'Python.',\n",
              " 'am',\n",
              " 'excited',\n",
              " 'to',\n",
              " 'use',\n",
              " 'Python!']"
            ]
          },
          "metadata": {},
          "execution_count": 9
        }
      ]
    },
    {
      "cell_type": "code",
      "source": [
        ""
      ],
      "metadata": {
        "id": "ROjZQMJsuGAs"
      },
      "execution_count": 9,
      "outputs": []
    },
    {
      "cell_type": "code",
      "source": [
        ""
      ],
      "metadata": {
        "id": "MbXZELYUuSYc"
      },
      "execution_count": null,
      "outputs": []
    },
    {
      "cell_type": "code",
      "source": [
        "from collections import defaultdict"
      ],
      "metadata": {
        "id": "yxPwbO_cuSWR"
      },
      "execution_count": 11,
      "outputs": []
    },
    {
      "cell_type": "code",
      "source": [
        "d = {'a':10}\n",
        "d"
      ],
      "metadata": {
        "colab": {
          "base_uri": "https://localhost:8080/"
        },
        "id": "CSqZrRjHuaSb",
        "outputId": "4cf6d40d-887e-4b19-a13d-ce12b576d2b1"
      },
      "execution_count": 12,
      "outputs": [
        {
          "output_type": "execute_result",
          "data": {
            "text/plain": [
              "{'a': 10}"
            ]
          },
          "metadata": {},
          "execution_count": 12
        }
      ]
    },
    {
      "cell_type": "code",
      "source": [
        "d['a']"
      ],
      "metadata": {
        "colab": {
          "base_uri": "https://localhost:8080/"
        },
        "id": "HXlwff0Gud47",
        "outputId": "ca4431b2-2c64-4e68-b935-e62b083603d8"
      },
      "execution_count": 13,
      "outputs": [
        {
          "output_type": "execute_result",
          "data": {
            "text/plain": [
              "10"
            ]
          },
          "metadata": {},
          "execution_count": 13
        }
      ]
    },
    {
      "cell_type": "code",
      "source": [
        "d['WRONG']"
      ],
      "metadata": {
        "colab": {
          "base_uri": "https://localhost:8080/",
          "height": 165
        },
        "id": "bx5sMIqpufyH",
        "outputId": "a01b1ab9-3dc2-4fdf-8f2f-e49a58b6bae7"
      },
      "execution_count": 14,
      "outputs": [
        {
          "output_type": "error",
          "ename": "KeyError",
          "evalue": "ignored",
          "traceback": [
            "\u001b[0;31m---------------------------------------------------------------------------\u001b[0m",
            "\u001b[0;31mKeyError\u001b[0m                                  Traceback (most recent call last)",
            "\u001b[0;32m<ipython-input-14-4006d83773ae>\u001b[0m in \u001b[0;36m<module>\u001b[0;34m()\u001b[0m\n\u001b[0;32m----> 1\u001b[0;31m \u001b[0md\u001b[0m\u001b[0;34m[\u001b[0m\u001b[0;34m'WRONG'\u001b[0m\u001b[0;34m]\u001b[0m\u001b[0;34m\u001b[0m\u001b[0;34m\u001b[0m\u001b[0m\n\u001b[0m",
            "\u001b[0;31mKeyError\u001b[0m: 'WRONG'"
          ]
        }
      ]
    },
    {
      "cell_type": "code",
      "source": [
        "d = defaultdict(lambda:0)"
      ],
      "metadata": {
        "id": "TBtpwaafuid9"
      },
      "execution_count": 15,
      "outputs": []
    },
    {
      "cell_type": "code",
      "source": [
        "d['correct'] = 100 #assigns value to non existing key"
      ],
      "metadata": {
        "id": "P0m5lng-u03Z"
      },
      "execution_count": 16,
      "outputs": []
    },
    {
      "cell_type": "code",
      "source": [
        "d['correct']"
      ],
      "metadata": {
        "colab": {
          "base_uri": "https://localhost:8080/"
        },
        "id": "_AKKqtquu5Kl",
        "outputId": "e6ea1bc9-3a65-46f1-e568-35a69fea79fd"
      },
      "execution_count": 17,
      "outputs": [
        {
          "output_type": "execute_result",
          "data": {
            "text/plain": [
              "100"
            ]
          },
          "metadata": {},
          "execution_count": 17
        }
      ]
    },
    {
      "cell_type": "code",
      "source": [
        "d['WRONG KEY!!!'] #assigns defaut value to non existing key"
      ],
      "metadata": {
        "colab": {
          "base_uri": "https://localhost:8080/"
        },
        "id": "hPI4tjbXu6oU",
        "outputId": "672cfc32-7836-4d8a-85cc-902088b9d3b6"
      },
      "execution_count": 21,
      "outputs": [
        {
          "output_type": "execute_result",
          "data": {
            "text/plain": [
              "0"
            ]
          },
          "metadata": {},
          "execution_count": 21
        }
      ]
    },
    {
      "cell_type": "code",
      "source": [
        ""
      ],
      "metadata": {
        "id": "Vy8VEKTSvi_t"
      },
      "execution_count": 21,
      "outputs": []
    },
    {
      "cell_type": "code",
      "source": [
        "#useful when we have a very big list or we do not remember index of value that we are interested in\n",
        "from collections import namedtuple"
      ],
      "metadata": {
        "id": "qKpU2MGOvleC"
      },
      "execution_count": 23,
      "outputs": []
    },
    {
      "cell_type": "code",
      "source": [
        "Dog = namedtuple('Dog',['age','bread','name'])"
      ],
      "metadata": {
        "id": "-Mcw4r7yvtZD"
      },
      "execution_count": 25,
      "outputs": []
    },
    {
      "cell_type": "code",
      "source": [
        "sammy = Dog(5,'husky','Sam')"
      ],
      "metadata": {
        "id": "2N5zEyPlv2ba"
      },
      "execution_count": 26,
      "outputs": []
    },
    {
      "cell_type": "code",
      "source": [
        "sammy"
      ],
      "metadata": {
        "colab": {
          "base_uri": "https://localhost:8080/"
        },
        "id": "uRfaiPRUwAIl",
        "outputId": "f38ff56c-0374-4452-b8a9-1720ae03e654"
      },
      "execution_count": 27,
      "outputs": [
        {
          "output_type": "execute_result",
          "data": {
            "text/plain": [
              "Dog(age=5, bread='husky', name='Sam')"
            ]
          },
          "metadata": {},
          "execution_count": 27
        }
      ]
    },
    {
      "cell_type": "code",
      "source": [
        "sammy.age"
      ],
      "metadata": {
        "colab": {
          "base_uri": "https://localhost:8080/"
        },
        "id": "sCNS_N2kwBR6",
        "outputId": "e7023b1a-2d80-43a2-ec37-08bd2bf6d340"
      },
      "execution_count": 28,
      "outputs": [
        {
          "output_type": "execute_result",
          "data": {
            "text/plain": [
              "5"
            ]
          },
          "metadata": {},
          "execution_count": 28
        }
      ]
    },
    {
      "cell_type": "code",
      "source": [
        "sammy[0]"
      ],
      "metadata": {
        "colab": {
          "base_uri": "https://localhost:8080/"
        },
        "id": "swdDsjh4wI7v",
        "outputId": "9b2094ce-78e3-485b-afaf-c8eafb6b2e33"
      },
      "execution_count": 29,
      "outputs": [
        {
          "output_type": "execute_result",
          "data": {
            "text/plain": [
              "5"
            ]
          },
          "metadata": {},
          "execution_count": 29
        }
      ]
    },
    {
      "cell_type": "code",
      "source": [
        ""
      ],
      "metadata": {
        "id": "bBGbPEK9wJsJ"
      },
      "execution_count": null,
      "outputs": []
    }
  ]
}