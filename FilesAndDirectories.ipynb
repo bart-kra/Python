{
  "nbformat": 4,
  "nbformat_minor": 0,
  "metadata": {
    "colab": {
      "name": "FilesAndDirectories.ipynb",
      "provenance": [],
      "authorship_tag": "ABX9TyMx3+EZNBT8itcPw5XHLx5R"
    },
    "kernelspec": {
      "name": "python3",
      "display_name": "Python 3"
    },
    "language_info": {
      "name": "python"
    }
  },
  "cells": [
    {
      "cell_type": "code",
      "execution_count": 1,
      "metadata": {
        "colab": {
          "base_uri": "https://localhost:8080/",
          "height": 36
        },
        "id": "VlDJZkD-nej9",
        "outputId": "09f94d86-27f9-41b4-9e77-e58006c2b0b0"
      },
      "outputs": [
        {
          "output_type": "execute_result",
          "data": {
            "text/plain": [
              "'/content'"
            ],
            "application/vnd.google.colaboratory.intrinsic+json": {
              "type": "string"
            }
          },
          "metadata": {},
          "execution_count": 1
        }
      ],
      "source": [
        "pwd"
      ]
    },
    {
      "cell_type": "code",
      "source": [
        "cd OpeningFiles"
      ],
      "metadata": {
        "colab": {
          "base_uri": "https://localhost:8080/"
        },
        "id": "LecG-sefnjtv",
        "outputId": "2033ca72-d484-4e0b-f9f0-7b7a85427ea9"
      },
      "execution_count": 21,
      "outputs": [
        {
          "output_type": "stream",
          "name": "stdout",
          "text": [
            "/content/OpeningFiles\n"
          ]
        }
      ]
    },
    {
      "cell_type": "code",
      "source": [
        "pwd"
      ],
      "metadata": {
        "colab": {
          "base_uri": "https://localhost:8080/",
          "height": 36
        },
        "id": "SZrO4pfjnwbv",
        "outputId": "25ac75e4-2b42-4389-be5a-bb09120f4515"
      },
      "execution_count": 3,
      "outputs": [
        {
          "output_type": "execute_result",
          "data": {
            "text/plain": [
              "'/content/OpeningFiles'"
            ],
            "application/vnd.google.colaboratory.intrinsic+json": {
              "type": "string"
            }
          },
          "metadata": {},
          "execution_count": 3
        }
      ]
    },
    {
      "cell_type": "code",
      "source": [
        "f = open('practice.txt','w+')\n",
        "f.write('A string')\n",
        "f.close()"
      ],
      "metadata": {
        "id": "vBQYXVvHnxiI"
      },
      "execution_count": 22,
      "outputs": []
    },
    {
      "cell_type": "code",
      "source": [
        "import os"
      ],
      "metadata": {
        "id": "RYUweddloBFl"
      },
      "execution_count": 6,
      "outputs": []
    },
    {
      "cell_type": "code",
      "source": [
        "os.getcwd() #same as pwd"
      ],
      "metadata": {
        "colab": {
          "base_uri": "https://localhost:8080/",
          "height": 36
        },
        "id": "iVbq78cboK4K",
        "outputId": "5d72f139-ee8a-46bc-d5b1-8319e2148b43"
      },
      "execution_count": 7,
      "outputs": [
        {
          "output_type": "execute_result",
          "data": {
            "text/plain": [
              "'/content/OpeningFiles'"
            ],
            "application/vnd.google.colaboratory.intrinsic+json": {
              "type": "string"
            }
          },
          "metadata": {},
          "execution_count": 7
        }
      ]
    },
    {
      "cell_type": "code",
      "source": [
        "os.listdir() #same as ls"
      ],
      "metadata": {
        "colab": {
          "base_uri": "https://localhost:8080/"
        },
        "id": "v1mKSFrSoQE5",
        "outputId": "aadfb564-23a9-4610-dc17-24e955d391b6"
      },
      "execution_count": 8,
      "outputs": [
        {
          "output_type": "execute_result",
          "data": {
            "text/plain": [
              "['practice.txt']"
            ]
          },
          "metadata": {},
          "execution_count": 8
        }
      ]
    },
    {
      "cell_type": "code",
      "source": [
        "os.listdir('/bin')"
      ],
      "metadata": {
        "colab": {
          "base_uri": "https://localhost:8080/"
        },
        "id": "mM6MZA2Vox8I",
        "outputId": "7ac5962a-d536-4e5d-95d4-b8267e350bb8"
      },
      "execution_count": 14,
      "outputs": [
        {
          "output_type": "execute_result",
          "data": {
            "text/plain": [
              "['tempfile',\n",
              " 'zforce',\n",
              " 'lsblk',\n",
              " 'zcat',\n",
              " 'sleep',\n",
              " 'readlink',\n",
              " 'sed',\n",
              " 'zfgrep',\n",
              " 'chgrp',\n",
              " 'grep',\n",
              " 'sh',\n",
              " 'sync',\n",
              " 'sh.distrib',\n",
              " 'bzmore',\n",
              " 'true',\n",
              " 'zegrep',\n",
              " 'echo',\n",
              " 'false',\n",
              " 'bzip2recover',\n",
              " 'wdctl',\n",
              " 'bash',\n",
              " 'rbash',\n",
              " 'zgrep',\n",
              " 'bzgrep',\n",
              " 'bzdiff',\n",
              " 'zless',\n",
              " 'bzcat',\n",
              " 'which',\n",
              " 'dd',\n",
              " 'gzip',\n",
              " 'findmnt',\n",
              " 'kill',\n",
              " 'dir',\n",
              " 'umount',\n",
              " 'pidof',\n",
              " 'zcmp',\n",
              " 'cp',\n",
              " 'bzless',\n",
              " 'bzip2',\n",
              " 'tar',\n",
              " 'run-parts',\n",
              " 'ls',\n",
              " 'bunzip2',\n",
              " 'rm',\n",
              " 'dnsdomainname',\n",
              " 'bzcmp',\n",
              " 'chown',\n",
              " 'ln',\n",
              " 'mknod',\n",
              " 'mv',\n",
              " 'login',\n",
              " 'bzexe',\n",
              " 'stty',\n",
              " 'zdiff',\n",
              " 'gunzip',\n",
              " 'chmod',\n",
              " 'fgrep',\n",
              " 'su',\n",
              " 'zmore',\n",
              " 'hostname',\n",
              " 'cat',\n",
              " 'uname',\n",
              " 'mountpoint',\n",
              " 'rmdir',\n",
              " 'egrep',\n",
              " 'domainname',\n",
              " 'date',\n",
              " 'ypdomainname',\n",
              " 'bzegrep',\n",
              " 'mkdir',\n",
              " 'gzexe',\n",
              " 'pwd',\n",
              " 'df',\n",
              " 'ps',\n",
              " 'more',\n",
              " 'vdir',\n",
              " 'uncompress',\n",
              " 'bzfgrep',\n",
              " 'dash',\n",
              " 'nisdomainname',\n",
              " 'touch',\n",
              " 'mount',\n",
              " 'dmesg',\n",
              " 'mktemp',\n",
              " 'znew',\n",
              " 'lesskey',\n",
              " 'networkctl',\n",
              " 'loginctl',\n",
              " 'systemd-escape',\n",
              " 'lesspipe',\n",
              " 'fusermount',\n",
              " 'ulockmgr_server',\n",
              " 'systemd-machine-id-setup',\n",
              " 'systemd-hwdb',\n",
              " 'less',\n",
              " 'systemd',\n",
              " 'systemd-inhibit',\n",
              " 'systemd-tmpfiles',\n",
              " 'fuser',\n",
              " 'kmod',\n",
              " 'systemctl',\n",
              " 'systemd-notify',\n",
              " 'lessecho',\n",
              " 'lsmod',\n",
              " 'systemd-ask-password',\n",
              " 'udevadm',\n",
              " 'lessfile',\n",
              " 'journalctl',\n",
              " 'systemd-tty-ask-password-agent',\n",
              " 'systemd-sysusers']"
            ]
          },
          "metadata": {},
          "execution_count": 14
        }
      ]
    },
    {
      "cell_type": "code",
      "source": [
        ""
      ],
      "metadata": {
        "id": "-DQ8rS56pJ7e"
      },
      "execution_count": null,
      "outputs": []
    },
    {
      "cell_type": "code",
      "source": [
        ""
      ],
      "metadata": {
        "id": "ko0bt__4pJxw"
      },
      "execution_count": null,
      "outputs": []
    },
    {
      "cell_type": "code",
      "source": [
        "import shutil #allows to move files "
      ],
      "metadata": {
        "id": "K75Cli2Bo5XN"
      },
      "execution_count": 16,
      "outputs": []
    },
    {
      "cell_type": "code",
      "source": [
        "shutil.move('practice.txt', 'newpractice.txt') #moves the file (here renames cause no such a directory)"
      ],
      "metadata": {
        "colab": {
          "base_uri": "https://localhost:8080/",
          "height": 36
        },
        "id": "VbO2ivUfpMH4",
        "outputId": "6889333f-9a6d-443d-99d7-9c8ba91191a6"
      },
      "execution_count": 26,
      "outputs": [
        {
          "output_type": "execute_result",
          "data": {
            "text/plain": [
              "'practice.txt'"
            ],
            "application/vnd.google.colaboratory.intrinsic+json": {
              "type": "string"
            }
          },
          "metadata": {},
          "execution_count": 26
        }
      ]
    },
    {
      "cell_type": "code",
      "source": [
        "import send2trash #remove a file and paste it to the trash"
      ],
      "metadata": {
        "id": "sJUj4w1IpfxK"
      },
      "execution_count": 25,
      "outputs": []
    },
    {
      "cell_type": "code",
      "source": [
        "ls #equal to os.listdir()"
      ],
      "metadata": {
        "colab": {
          "base_uri": "https://localhost:8080/"
        },
        "id": "z06OSOFMqri5",
        "outputId": "c28fe6b6-b52f-4108-ac2e-341bf3346ee6"
      },
      "execution_count": 27,
      "outputs": [
        {
          "output_type": "stream",
          "name": "stdout",
          "text": [
            "practice.txt\n"
          ]
        }
      ]
    },
    {
      "cell_type": "code",
      "source": [
        "send2trash.send2trash('practice.txt')"
      ],
      "metadata": {
        "id": "K85-_bwJrC6D"
      },
      "execution_count": 28,
      "outputs": []
    },
    {
      "cell_type": "code",
      "source": [
        "ls #equal to os.listdir()"
      ],
      "metadata": {
        "id": "z168Qq7grHHW"
      },
      "execution_count": 29,
      "outputs": []
    },
    {
      "cell_type": "code",
      "source": [
        "pwd"
      ],
      "metadata": {
        "colab": {
          "base_uri": "https://localhost:8080/",
          "height": 36
        },
        "id": "1eafJfBhrIjb",
        "outputId": "e6e36eb2-7a3a-463a-894d-209b03bce152"
      },
      "execution_count": 34,
      "outputs": [
        {
          "output_type": "execute_result",
          "data": {
            "text/plain": [
              "'/content'"
            ],
            "application/vnd.google.colaboratory.intrinsic+json": {
              "type": "string"
            }
          },
          "metadata": {},
          "execution_count": 34
        }
      ]
    },
    {
      "cell_type": "code",
      "source": [
        "files_path = '/content'\n",
        "for folder, sub_folders, files in os.walk(files_path):\n",
        "  print(f\"Currently looking at {folder}\")\n",
        "  print('\\n')\n",
        "  print('The subfolders are: ')\n",
        "  for sub_fold in sub_folders:\n",
        "    print(f\"\\tSubfolder: {sub_fold}\")\n",
        "\n",
        "  print('\\n')\n",
        "  print('The files are: ')\n",
        "  for f in files:\n",
        "    print(f\"\\t File: {f}\")\n",
        "\n",
        "  print('\\n')"
      ],
      "metadata": {
        "colab": {
          "base_uri": "https://localhost:8080/"
        },
        "id": "hxcka43ZrRoQ",
        "outputId": "1e622266-a0f0-4182-8b6a-1365f68e3840"
      },
      "execution_count": 36,
      "outputs": [
        {
          "output_type": "stream",
          "name": "stdout",
          "text": [
            "Currently looking at /content\n",
            "\n",
            "\n",
            "The subfolders are: \n",
            "\tSubfolder: .config\n",
            "\tSubfolder: OpeningFiles\n",
            "\tSubfolder: .ipynb_checkpoints\n",
            "\tSubfolder: UpperFolder2\n",
            "\tSubfolder: UpperFolder1\n",
            "\tSubfolder: sample_data\n",
            "\n",
            "\n",
            "The files are: \n",
            "\n",
            "\n",
            "Currently looking at /content/.config\n",
            "\n",
            "\n",
            "The subfolders are: \n",
            "\tSubfolder: logs\n",
            "\tSubfolder: configurations\n",
            "\n",
            "\n",
            "The files are: \n",
            "\t File: config_sentinel\n",
            "\t File: gce\n",
            "\t File: .last_survey_prompt.yaml\n",
            "\t File: .last_opt_in_prompt.yaml\n",
            "\t File: .last_update_check.json\n",
            "\t File: active_config\n",
            "\n",
            "\n",
            "Currently looking at /content/.config/logs\n",
            "\n",
            "\n",
            "The subfolders are: \n",
            "\tSubfolder: 2022.05.16\n",
            "\n",
            "\n",
            "The files are: \n",
            "\n",
            "\n",
            "Currently looking at /content/.config/logs/2022.05.16\n",
            "\n",
            "\n",
            "The subfolders are: \n",
            "\n",
            "\n",
            "The files are: \n",
            "\t File: 13.23.03.585874.log\n",
            "\t File: 13.22.41.152346.log\n",
            "\t File: 13.23.51.150795.log\n",
            "\t File: 13.23.21.710236.log\n",
            "\t File: 13.23.50.421940.log\n",
            "\t File: 13.23.30.791473.log\n",
            "\n",
            "\n",
            "Currently looking at /content/.config/configurations\n",
            "\n",
            "\n",
            "The subfolders are: \n",
            "\n",
            "\n",
            "The files are: \n",
            "\t File: config_default\n",
            "\n",
            "\n",
            "Currently looking at /content/OpeningFiles\n",
            "\n",
            "\n",
            "The subfolders are: \n",
            "\n",
            "\n",
            "The files are: \n",
            "\n",
            "\n",
            "Currently looking at /content/.ipynb_checkpoints\n",
            "\n",
            "\n",
            "The subfolders are: \n",
            "\n",
            "\n",
            "The files are: \n",
            "\n",
            "\n",
            "Currently looking at /content/UpperFolder2\n",
            "\n",
            "\n",
            "The subfolders are: \n",
            "\n",
            "\n",
            "The files are: \n",
            "\n",
            "\n",
            "Currently looking at /content/UpperFolder1\n",
            "\n",
            "\n",
            "The subfolders are: \n",
            "\tSubfolder: .ipynb_checkpoints\n",
            "\tSubfolder: LoweFolder2\n",
            "\tSubfolder: LowerFolder1\n",
            "\tSubfolder: LowerFolder3\n",
            "\n",
            "\n",
            "The files are: \n",
            "\t File: LowerTxt.txt\n",
            "\n",
            "\n",
            "Currently looking at /content/UpperFolder1/.ipynb_checkpoints\n",
            "\n",
            "\n",
            "The subfolders are: \n",
            "\n",
            "\n",
            "The files are: \n",
            "\n",
            "\n",
            "Currently looking at /content/UpperFolder1/LoweFolder2\n",
            "\n",
            "\n",
            "The subfolders are: \n",
            "\n",
            "\n",
            "The files are: \n",
            "\n",
            "\n",
            "Currently looking at /content/UpperFolder1/LowerFolder1\n",
            "\n",
            "\n",
            "The subfolders are: \n",
            "\n",
            "\n",
            "The files are: \n",
            "\n",
            "\n",
            "Currently looking at /content/UpperFolder1/LowerFolder3\n",
            "\n",
            "\n",
            "The subfolders are: \n",
            "\tSubfolder: .ipynb_checkpoints\n",
            "\tSubfolder: LowerLowerFolder1\n",
            "\n",
            "\n",
            "The files are: \n",
            "\n",
            "\n",
            "Currently looking at /content/UpperFolder1/LowerFolder3/.ipynb_checkpoints\n",
            "\n",
            "\n",
            "The subfolders are: \n",
            "\n",
            "\n",
            "The files are: \n",
            "\n",
            "\n",
            "Currently looking at /content/UpperFolder1/LowerFolder3/LowerLowerFolder1\n",
            "\n",
            "\n",
            "The subfolders are: \n",
            "\n",
            "\n",
            "The files are: \n",
            "\n",
            "\n",
            "Currently looking at /content/sample_data\n",
            "\n",
            "\n",
            "The subfolders are: \n",
            "\n",
            "\n",
            "The files are: \n",
            "\t File: anscombe.json\n",
            "\t File: README.md\n",
            "\t File: mnist_test.csv\n",
            "\t File: california_housing_test.csv\n",
            "\t File: mnist_train_small.csv\n",
            "\t File: california_housing_train.csv\n",
            "\n",
            "\n"
          ]
        }
      ]
    }
  ]
}