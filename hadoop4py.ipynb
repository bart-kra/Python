{
  "nbformat": 4,
  "nbformat_minor": 0,
  "metadata": {
    "colab": {
      "name": "hadoop4py.ipynb",
      "provenance": [],
      "authorship_tag": "ABX9TyPLjIG9sNbg5qdX7tKoi2bJ"
    },
    "kernelspec": {
      "name": "python3",
      "display_name": "Python 3"
    },
    "language_info": {
      "name": "python"
    }
  },
  "cells": [
    {
      "cell_type": "code",
      "execution_count": null,
      "metadata": {
        "id": "Fph5SiGHkkXE"
      },
      "outputs": [],
      "source": [
        "#!/usr/bin/env python\n",
        "\n",
        "import sys\n",
        "\n",
        "for line in sys.stdin:\n",
        "  line = line.strip()\n",
        "  words = line.split()\n",
        "  for word in words:\n",
        "    print '%s\\t%s' % (word, 1)"
      ]
    },
    {
      "cell_type": "code",
      "source": [
        "#!/usr/bin/env python\n",
        "\n",
        "import sys\n",
        "\n",
        "for line in vgsales-clean.csv in sys.stdin:\n",
        "  "
      ],
      "metadata": {
        "id": "Sow08Ao4wrma"
      },
      "execution_count": null,
      "outputs": []
    },
    {
      "cell_type": "code",
      "source": [
        "import sys\n",
        "\n",
        "current_word = None\n",
        "current_count = 0\n",
        "\n",
        "word = None\n",
        "for line in sys.stdin:\n",
        "  line = line.strip()\n",
        "  word, count = line.split('\\t', 1)\n",
        "  try:\n",
        "    count = int(count)\n",
        "  except ValueError:\n",
        "    continue\n",
        "  if current_word == word:\n",
        "    current+count += count\n",
        "  else:\n",
        "    if current_word:\n",
        "      print '%s\\t%s' % (current_w)"
      ],
      "metadata": {
        "id": "X7E6dmUulXdF"
      },
      "execution_count": null,
      "outputs": []
    },
    {
      "cell_type": "code",
      "source": [
        ""
      ],
      "metadata": {
        "id": "sETz79tNwok-"
      },
      "execution_count": null,
      "outputs": []
    }
  ]
}