{
  "nbformat": 4,
  "nbformat_minor": 0,
  "metadata": {
    "colab": {
      "name": "Statements.ipynb",
      "provenance": [],
      "authorship_tag": "ABX9TyP+4j3o9Va4Sy4au5cm1xYl"
    },
    "kernelspec": {
      "name": "python3",
      "display_name": "Python 3"
    },
    "language_info": {
      "name": "python"
    }
  },
  "cells": [
    {
      "cell_type": "markdown",
      "source": [
        "If, elif  & else statements"
      ],
      "metadata": {
        "id": "R6BIM4ZDcAnD"
      }
    },
    {
      "cell_type": "code",
      "execution_count": 6,
      "metadata": {
        "colab": {
          "base_uri": "https://localhost:8080/"
        },
        "id": "kn8QWTIq9BN2",
        "outputId": "0085735e-654d-4095-81d0-b97bcd6b561d"
      },
      "outputs": [
        {
          "output_type": "stream",
          "name": "stdout",
          "text": [
            "That's crazy weather!\n"
          ]
        }
      ],
      "source": [
        "weather = 'rain'\n",
        "\n",
        "if weather == 'sun': #colon at the end\n",
        "  print(\"What a beautiful weather!\") #indentation required\n",
        "elif weather == 'cold': #one more collon\n",
        "  print(\"Why is it so cold?\") #indentation required\n",
        "else: #here also a colon\n",
        "  print(\"That's a crazy weather!\") #indentation required"
      ]
    },
    {
      "cell_type": "code",
      "source": [
        ""
      ],
      "metadata": {
        "id": "Zz3pjRmfcdku"
      },
      "execution_count": null,
      "outputs": []
    }
  ]
}