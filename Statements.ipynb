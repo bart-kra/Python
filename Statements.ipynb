{
  "nbformat": 4,
  "nbformat_minor": 0,
  "metadata": {
    "colab": {
      "name": "Statements.ipynb",
      "provenance": [],
      "authorship_tag": "ABX9TyOCnl728eDEy9DILPRdGrjT"
    },
    "kernelspec": {
      "name": "python3",
      "display_name": "Python 3"
    },
    "language_info": {
      "name": "python"
    }
  },
  "cells": [
    {
      "cell_type": "markdown",
      "source": [
        "#If, elif  & else statements"
      ],
      "metadata": {
        "id": "R6BIM4ZDcAnD"
      }
    },
    {
      "cell_type": "code",
      "execution_count": 6,
      "metadata": {
        "colab": {
          "base_uri": "https://localhost:8080/"
        },
        "id": "kn8QWTIq9BN2",
        "outputId": "0085735e-654d-4095-81d0-b97bcd6b561d"
      },
      "outputs": [
        {
          "output_type": "stream",
          "name": "stdout",
          "text": [
            "That's crazy weather!\n"
          ]
        }
      ],
      "source": [
        "weather = 'rain'\n",
        "\n",
        "if weather == 'sun': #colon at the end\n",
        "  print(\"What a beautiful weather!\") #indentation required\n",
        "elif weather == 'cold': #one more collon\n",
        "  print(\"Why is it so cold?\") #indentation required\n",
        "else: #here also a colon\n",
        "  print(\"That's a crazy weather!\") #indentation required"
      ]
    },
    {
      "cell_type": "markdown",
      "source": [
        "# For statement"
      ],
      "metadata": {
        "id": "IQ0VP5r-Hs6y"
      }
    },
    {
      "cell_type": "code",
      "source": [
        "my_list = [1, 2, 3, 4, 5, 6, 7, 8, 9, 10]\n",
        "\n",
        "for num in my_list:\n",
        "  if num % 2 == 0:\n",
        "    print(num)\n",
        "  else:\n",
        "    print(f'Odd number: {num}')"
      ],
      "metadata": {
        "colab": {
          "base_uri": "https://localhost:8080/"
        },
        "id": "Zz3pjRmfcdku",
        "outputId": "f95a6871-fbc0-495f-dd5d-2143021829cd"
      },
      "execution_count": 1,
      "outputs": [
        {
          "output_type": "stream",
          "name": "stdout",
          "text": [
            "Odd number: 1\n",
            "2\n",
            "Odd number: 3\n",
            "4\n",
            "Odd number: 5\n",
            "6\n",
            "Odd number: 7\n",
            "8\n",
            "Odd number: 9\n",
            "10\n"
          ]
        }
      ]
    },
    {
      "cell_type": "code",
      "source": [
        "sum = 0\n",
        "\n",
        "for num in my_list:\n",
        "  sum += num\n",
        "print(sum)"
      ],
      "metadata": {
        "colab": {
          "base_uri": "https://localhost:8080/"
        },
        "id": "xXGcrjxzITVY",
        "outputId": "e92199dc-c086-490d-a7fc-1e1e7c068653"
      },
      "execution_count": 3,
      "outputs": [
        {
          "output_type": "stream",
          "name": "stdout",
          "text": [
            "55\n"
          ]
        }
      ]
    },
    {
      "cell_type": "code",
      "source": [
        "my_string = 'Good morning World!' #not necessary to assign string to variable\n",
        "\n",
        "for letter in my_string:\n",
        "#for letter in 'Good morning World!' works identically\n",
        "  print(letter)"
      ],
      "metadata": {
        "colab": {
          "base_uri": "https://localhost:8080/"
        },
        "id": "r2DpvQxtJEub",
        "outputId": "65b91e53-5a45-45aa-9acb-fbe1772f762f"
      },
      "execution_count": 4,
      "outputs": [
        {
          "output_type": "stream",
          "name": "stdout",
          "text": [
            "G\n",
            "o\n",
            "o\n",
            "d\n",
            " \n",
            "m\n",
            "o\n",
            "r\n",
            "n\n",
            "i\n",
            "n\n",
            "g\n",
            " \n",
            "W\n",
            "o\n",
            "r\n",
            "l\n",
            "d\n",
            "!\n"
          ]
        }
      ]
    },
    {
      "cell_type": "code",
      "source": [
        "#if do not use variable in the loop use _ as a itterator\n",
        "\n",
        "for _ in my_list: #prints hello as many times as elements in list\n",
        "  print('Hello!')"
      ],
      "metadata": {
        "colab": {
          "base_uri": "https://localhost:8080/"
        },
        "id": "Q7U5BOlSJTy6",
        "outputId": "8ee71b01-cbc7-4daf-b3b7-c78e28e64552"
      },
      "execution_count": 5,
      "outputs": [
        {
          "output_type": "stream",
          "name": "stdout",
          "text": [
            "Hello!\n",
            "Hello!\n",
            "Hello!\n",
            "Hello!\n",
            "Hello!\n",
            "Hello!\n",
            "Hello!\n",
            "Hello!\n",
            "Hello!\n",
            "Hello!\n"
          ]
        }
      ]
    },
    {
      "cell_type": "markdown",
      "source": [
        "Tuples and dictionaries unpacking"
      ],
      "metadata": {
        "id": "waAQM2O9MFq7"
      }
    },
    {
      "cell_type": "code",
      "source": [
        "#tuples unpacking\n",
        "list = [(1,2,3),(6,7,8),(6,5,4),(7,4,1)]\n",
        "\n",
        "for item in list: #that structure prints a tuple as a single list element\n",
        "  print(item)"
      ],
      "metadata": {
        "colab": {
          "base_uri": "https://localhost:8080/"
        },
        "id": "HwBjc4ymKAUi",
        "outputId": "126ed8a5-1921-4830-f474-a065bc804269"
      },
      "execution_count": 6,
      "outputs": [
        {
          "output_type": "stream",
          "name": "stdout",
          "text": [
            "(1, 2, 3)\n",
            "(6, 7, 8)\n",
            "(6, 5, 4)\n",
            "(7, 4, 1)\n"
          ]
        }
      ]
    },
    {
      "cell_type": "code",
      "source": [
        "for a,b,c in list: #that one lets us to grab single tuple element\n",
        "  print(a)\n",
        "  print(b)\n",
        "  print(c)"
      ],
      "metadata": {
        "colab": {
          "base_uri": "https://localhost:8080/"
        },
        "id": "FUMjxbQiLUV_",
        "outputId": "ec2cf18f-6447-442a-9fb2-b37268cd8599"
      },
      "execution_count": 7,
      "outputs": [
        {
          "output_type": "stream",
          "name": "stdout",
          "text": [
            "1\n",
            "2\n",
            "3\n",
            "6\n",
            "7\n",
            "8\n",
            "6\n",
            "5\n",
            "4\n",
            "7\n",
            "4\n",
            "1\n"
          ]
        }
      ]
    },
    {
      "cell_type": "code",
      "source": [
        "d = {'k1':3,'k2':2,'k3':1}\n",
        "\n",
        "for item in d: #by default for loot itterate by keys\n",
        "  print(item)"
      ],
      "metadata": {
        "colab": {
          "base_uri": "https://localhost:8080/"
        },
        "id": "_dPgWoOfLY_3",
        "outputId": "e7506903-6c64-4d5c-ecb7-9738e7cca280"
      },
      "execution_count": 10,
      "outputs": [
        {
          "output_type": "stream",
          "name": "stdout",
          "text": [
            "k1\n",
            "k2\n",
            "k3\n"
          ]
        }
      ]
    },
    {
      "cell_type": "code",
      "source": [
        "for item in d.items(): #use .items to itterate both keys and values\n",
        "  print(item)"
      ],
      "metadata": {
        "colab": {
          "base_uri": "https://localhost:8080/"
        },
        "id": "_cJjWremMpzE",
        "outputId": "d979b81b-c19a-4cfc-da9d-d544611cef89"
      },
      "execution_count": 14,
      "outputs": [
        {
          "output_type": "stream",
          "name": "stdout",
          "text": [
            "('k1', 3)\n",
            "('k2', 2)\n",
            "('k3', 1)\n"
          ]
        }
      ]
    },
    {
      "cell_type": "code",
      "source": [
        "for item in d.values(): #use .values to itterate by values \n",
        "  print(item)"
      ],
      "metadata": {
        "colab": {
          "base_uri": "https://localhost:8080/"
        },
        "id": "1H8GFYwbM-uj",
        "outputId": "efaeeac5-f1a7-4d4d-f2de-3769a0bd69a7"
      },
      "execution_count": 15,
      "outputs": [
        {
          "output_type": "stream",
          "name": "stdout",
          "text": [
            "3\n",
            "2\n",
            "1\n"
          ]
        }
      ]
    },
    {
      "cell_type": "code",
      "source": [
        "for key,value in d.items(): #also possible to treat dict as a list\n",
        "  print(value)"
      ],
      "metadata": {
        "colab": {
          "base_uri": "https://localhost:8080/"
        },
        "id": "x4oe1TsONVCQ",
        "outputId": "1b04dfd1-3a49-47f7-bd8d-019ee6e1ad2f"
      },
      "execution_count": 17,
      "outputs": [
        {
          "output_type": "stream",
          "name": "stdout",
          "text": [
            "3\n",
            "2\n",
            "1\n"
          ]
        }
      ]
    },
    {
      "cell_type": "markdown",
      "source": [
        "# While statememnt"
      ],
      "metadata": {
        "id": "jFxo3DRlNjsP"
      }
    },
    {
      "cell_type": "code",
      "source": [
        "x = 2\n",
        "\n",
        "while x < 50: #standard while loop\n",
        "  print(f'X value equals {x}')\n",
        "  x = x ** 2\n",
        "else:\n",
        "  print('X is greater than 50')"
      ],
      "metadata": {
        "colab": {
          "base_uri": "https://localhost:8080/"
        },
        "id": "q1K-KeyENZ7O",
        "outputId": "104f0b66-3cb8-4a27-ace0-1dbd8bf28b3d"
      },
      "execution_count": 20,
      "outputs": [
        {
          "output_type": "stream",
          "name": "stdout",
          "text": [
            "X value equals 2\n",
            "X value equals 4\n",
            "X value equals 16\n",
            "X is greater than 50\n"
          ]
        }
      ]
    },
    {
      "cell_type": "markdown",
      "source": [
        "Pass, continue and break keywords:\n",
        "\n",
        "\n",
        "*   Pass does nothing\n",
        "*   Continue goes to the top of the closest enclosing loop\n",
        "*   Break ends the closest enclosing loop\n",
        "\n"
      ],
      "metadata": {
        "id": "g7B1-3vdQzN1"
      }
    },
    {
      "cell_type": "code",
      "source": [
        "#pass in practice we use when creating empty loop\n",
        "list = [1,2,3]\n",
        "\n",
        "#it would not work cause the loop is empty\n",
        "for item in list:\n",
        "  #blablabla\n",
        "\n",
        "#whereas it works\n",
        "for item in list:\n",
        "  #blablabla\n",
        "  pass\n"
      ],
      "metadata": {
        "id": "XTFge76WPQdk"
      },
      "execution_count": null,
      "outputs": []
    },
    {
      "cell_type": "code",
      "source": [
        "list = [1,2,3]\n",
        "\n",
        "for item in list:\n",
        "  if item == 2:\n",
        "    continue #skips to the very beginning of the closest enslocing loop\n",
        "  print(item)"
      ],
      "metadata": {
        "colab": {
          "base_uri": "https://localhost:8080/"
        },
        "id": "qUkdr4yfR4Ty",
        "outputId": "0d70c6cb-5128-48af-e4fd-1e273eeaaa3c"
      },
      "execution_count": 24,
      "outputs": [
        {
          "output_type": "stream",
          "name": "stdout",
          "text": [
            "1\n",
            "3\n"
          ]
        }
      ]
    },
    {
      "cell_type": "code",
      "source": [
        "for item in list:\n",
        "  if item == 2:\n",
        "    break #kills the loop\n",
        "  print(item)"
      ],
      "metadata": {
        "colab": {
          "base_uri": "https://localhost:8080/"
        },
        "id": "mDdm62oBR7rE",
        "outputId": "e3ca5a8d-0701-4225-ad2f-1a10034d430d"
      },
      "execution_count": 25,
      "outputs": [
        {
          "output_type": "stream",
          "name": "stdout",
          "text": [
            "1\n"
          ]
        }
      ]
    },
    {
      "cell_type": "code",
      "source": [
        ""
      ],
      "metadata": {
        "id": "smVhZTTtSKI5"
      },
      "execution_count": null,
      "outputs": []
    }
  ]
}