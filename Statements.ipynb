{
  "nbformat": 4,
  "nbformat_minor": 0,
  "metadata": {
    "colab": {
      "name": "Statements.ipynb",
      "provenance": [],
      "authorship_tag": "ABX9TyNUyB0yMl1905ci/w9mMmp6"
    },
    "kernelspec": {
      "name": "python3",
      "display_name": "Python 3"
    },
    "language_info": {
      "name": "python"
    }
  },
  "cells": [
    {
      "cell_type": "markdown",
      "source": [
        "#If, elif  & else statements"
      ],
      "metadata": {
        "id": "R6BIM4ZDcAnD"
      }
    },
    {
      "cell_type": "code",
      "execution_count": 1,
      "metadata": {
        "colab": {
          "base_uri": "https://localhost:8080/"
        },
        "id": "kn8QWTIq9BN2",
        "outputId": "50071346-ef31-4984-acb1-289f0283d4e8"
      },
      "outputs": [
        {
          "output_type": "stream",
          "name": "stdout",
          "text": [
            "That's a crazy weather!\n"
          ]
        }
      ],
      "source": [
        "weather = 'rain'\n",
        "\n",
        "if weather == 'sun': #colon at the end\n",
        "  print(\"What a beautiful weather!\") #indentation required\n",
        "elif weather == 'cold': #one more collon\n",
        "  print(\"Why is it so cold?\") #indentation required\n",
        "else: #here also a colon\n",
        "  print(\"That's a crazy weather!\") #indentation required"
      ]
    },
    {
      "cell_type": "markdown",
      "source": [
        "# For statement"
      ],
      "metadata": {
        "id": "IQ0VP5r-Hs6y"
      }
    },
    {
      "cell_type": "code",
      "source": [
        "my_list = [1, 2, 3, 4, 5, 6, 7, 8, 9, 10]\n",
        "\n",
        "for num in my_list:\n",
        "  if num % 2 == 0:\n",
        "    print(num)\n",
        "  else:\n",
        "    print(f'Odd number: {num}')"
      ],
      "metadata": {
        "colab": {
          "base_uri": "https://localhost:8080/"
        },
        "id": "Zz3pjRmfcdku",
        "outputId": "bc4f8c3d-e3c7-4eb4-b72c-d964af6cf6b1"
      },
      "execution_count": 2,
      "outputs": [
        {
          "output_type": "stream",
          "name": "stdout",
          "text": [
            "Odd number: 1\n",
            "2\n",
            "Odd number: 3\n",
            "4\n",
            "Odd number: 5\n",
            "6\n",
            "Odd number: 7\n",
            "8\n",
            "Odd number: 9\n",
            "10\n"
          ]
        }
      ]
    },
    {
      "cell_type": "code",
      "source": [
        "sum = 0\n",
        "\n",
        "for num in my_list:\n",
        "  sum += num\n",
        "print(sum)"
      ],
      "metadata": {
        "colab": {
          "base_uri": "https://localhost:8080/"
        },
        "id": "xXGcrjxzITVY",
        "outputId": "b2314d44-696a-4717-d296-78f0efb4a851"
      },
      "execution_count": 3,
      "outputs": [
        {
          "output_type": "stream",
          "name": "stdout",
          "text": [
            "55\n"
          ]
        }
      ]
    },
    {
      "cell_type": "code",
      "source": [
        "my_string = 'Good morning World!' #not necessary to assign string to variable\n",
        "\n",
        "for letter in my_string:\n",
        "#for letter in 'Good morning World!' works identically\n",
        "  print(letter)"
      ],
      "metadata": {
        "colab": {
          "base_uri": "https://localhost:8080/"
        },
        "id": "r2DpvQxtJEub",
        "outputId": "117a1e0b-0fcd-449a-d6d0-a73002a76fe7"
      },
      "execution_count": 4,
      "outputs": [
        {
          "output_type": "stream",
          "name": "stdout",
          "text": [
            "G\n",
            "o\n",
            "o\n",
            "d\n",
            " \n",
            "m\n",
            "o\n",
            "r\n",
            "n\n",
            "i\n",
            "n\n",
            "g\n",
            " \n",
            "W\n",
            "o\n",
            "r\n",
            "l\n",
            "d\n",
            "!\n"
          ]
        }
      ]
    },
    {
      "cell_type": "code",
      "source": [
        "#if do not use variable in the loop use _ as a itterator\n",
        "\n",
        "for _ in my_list: #prints hello as many times as elements in list\n",
        "  print('Hello!')"
      ],
      "metadata": {
        "colab": {
          "base_uri": "https://localhost:8080/"
        },
        "id": "Q7U5BOlSJTy6",
        "outputId": "d85d4420-c037-46ea-ccce-25889272f499"
      },
      "execution_count": 5,
      "outputs": [
        {
          "output_type": "stream",
          "name": "stdout",
          "text": [
            "Hello!\n",
            "Hello!\n",
            "Hello!\n",
            "Hello!\n",
            "Hello!\n",
            "Hello!\n",
            "Hello!\n",
            "Hello!\n",
            "Hello!\n",
            "Hello!\n"
          ]
        }
      ]
    },
    {
      "cell_type": "markdown",
      "source": [
        "Tuples and dictionaries unpacking"
      ],
      "metadata": {
        "id": "waAQM2O9MFq7"
      }
    },
    {
      "cell_type": "code",
      "source": [
        "#tuples unpacking\n",
        "list1 = [(1,2,3),(6,7,8),(6,5,4),(7,4,1)]\n",
        "\n",
        "for item in list1: #that structure prints a tuple as a single list element\n",
        "  print(item)"
      ],
      "metadata": {
        "colab": {
          "base_uri": "https://localhost:8080/"
        },
        "id": "HwBjc4ymKAUi",
        "outputId": "c7909198-6d9b-48b4-b4bc-71d08f5a13a6"
      },
      "execution_count": 6,
      "outputs": [
        {
          "output_type": "stream",
          "name": "stdout",
          "text": [
            "(1, 2, 3)\n",
            "(6, 7, 8)\n",
            "(6, 5, 4)\n",
            "(7, 4, 1)\n"
          ]
        }
      ]
    },
    {
      "cell_type": "code",
      "source": [
        "for a,b,c in list1: #that one lets us to grab single tuple element\n",
        "  print(a)\n",
        "  print(b)\n",
        "  print(c)"
      ],
      "metadata": {
        "colab": {
          "base_uri": "https://localhost:8080/"
        },
        "id": "FUMjxbQiLUV_",
        "outputId": "06a12abf-743d-462d-8600-44bda443b07a"
      },
      "execution_count": 7,
      "outputs": [
        {
          "output_type": "stream",
          "name": "stdout",
          "text": [
            "1\n",
            "2\n",
            "3\n",
            "6\n",
            "7\n",
            "8\n",
            "6\n",
            "5\n",
            "4\n",
            "7\n",
            "4\n",
            "1\n"
          ]
        }
      ]
    },
    {
      "cell_type": "code",
      "source": [
        "d = {'k1':3,'k2':2,'k3':1}\n",
        "\n",
        "for item in d: #by default for loot itterate by keys\n",
        "  print(item)"
      ],
      "metadata": {
        "colab": {
          "base_uri": "https://localhost:8080/"
        },
        "id": "_dPgWoOfLY_3",
        "outputId": "03d987b4-c973-4652-8bc8-091f663b725c"
      },
      "execution_count": 8,
      "outputs": [
        {
          "output_type": "stream",
          "name": "stdout",
          "text": [
            "k1\n",
            "k2\n",
            "k3\n"
          ]
        }
      ]
    },
    {
      "cell_type": "code",
      "source": [
        "for item in d.items(): #use .items to itterate both keys and values\n",
        "  print(item)"
      ],
      "metadata": {
        "colab": {
          "base_uri": "https://localhost:8080/"
        },
        "id": "_cJjWremMpzE",
        "outputId": "d37a5496-2195-47af-d754-3d5134035361"
      },
      "execution_count": 9,
      "outputs": [
        {
          "output_type": "stream",
          "name": "stdout",
          "text": [
            "('k1', 3)\n",
            "('k2', 2)\n",
            "('k3', 1)\n"
          ]
        }
      ]
    },
    {
      "cell_type": "code",
      "source": [
        "for item in d.values(): #use .values to itterate by values \n",
        "  print(item)"
      ],
      "metadata": {
        "colab": {
          "base_uri": "https://localhost:8080/"
        },
        "id": "1H8GFYwbM-uj",
        "outputId": "4bfb55af-8ed9-4b07-aad5-42c75ed73a0a"
      },
      "execution_count": 10,
      "outputs": [
        {
          "output_type": "stream",
          "name": "stdout",
          "text": [
            "3\n",
            "2\n",
            "1\n"
          ]
        }
      ]
    },
    {
      "cell_type": "code",
      "source": [
        "for key,value in d.items(): #also possible to treat dict as a list\n",
        "  print(value)"
      ],
      "metadata": {
        "colab": {
          "base_uri": "https://localhost:8080/"
        },
        "id": "x4oe1TsONVCQ",
        "outputId": "5ac14acc-9e74-44a8-85d0-92146c206a7b"
      },
      "execution_count": 11,
      "outputs": [
        {
          "output_type": "stream",
          "name": "stdout",
          "text": [
            "3\n",
            "2\n",
            "1\n"
          ]
        }
      ]
    },
    {
      "cell_type": "markdown",
      "source": [
        "# While statememnt"
      ],
      "metadata": {
        "id": "jFxo3DRlNjsP"
      }
    },
    {
      "cell_type": "code",
      "source": [
        "x = 2\n",
        "\n",
        "while x < 50: #standard while loop\n",
        "  print(f'X value equals {x}')\n",
        "  x = x ** 2\n",
        "else:\n",
        "  print('X is greater than 50')"
      ],
      "metadata": {
        "colab": {
          "base_uri": "https://localhost:8080/"
        },
        "id": "q1K-KeyENZ7O",
        "outputId": "a669a6dd-0b62-4e8a-b1f1-a6563efebf32"
      },
      "execution_count": 12,
      "outputs": [
        {
          "output_type": "stream",
          "name": "stdout",
          "text": [
            "X value equals 2\n",
            "X value equals 4\n",
            "X value equals 16\n",
            "X is greater than 50\n"
          ]
        }
      ]
    },
    {
      "cell_type": "markdown",
      "source": [
        "Pass, continue and break keywords:\n",
        "\n",
        "\n",
        "*   Pass does nothing\n",
        "*   Continue goes to the top of the closest enclosing loop\n",
        "*   Break ends the closest enclosing loop\n",
        "\n"
      ],
      "metadata": {
        "id": "g7B1-3vdQzN1"
      }
    },
    {
      "cell_type": "code",
      "source": [
        "#pass in practice we use when creating empty loop\n",
        "list1 = [1,2,3]\n",
        "\n",
        "#it would not work cause the loop is empty\n",
        "#for item in list1:\n",
        "  #blablabla\n",
        "\n",
        "#whereas it works\n",
        "for item in list1:\n",
        "  #blablabla\n",
        "  pass"
      ],
      "metadata": {
        "id": "XTFge76WPQdk"
      },
      "execution_count": 13,
      "outputs": []
    },
    {
      "cell_type": "code",
      "source": [
        "list1 = [1,2,3]\n",
        "\n",
        "for item in list1:\n",
        "  if item == 2:\n",
        "    continue #skips to the very beginning of the closest enslocing loop\n",
        "  print(item)"
      ],
      "metadata": {
        "colab": {
          "base_uri": "https://localhost:8080/"
        },
        "id": "qUkdr4yfR4Ty",
        "outputId": "f26f56eb-f5b0-47ac-ce90-b015bbf05efd"
      },
      "execution_count": 14,
      "outputs": [
        {
          "output_type": "stream",
          "name": "stdout",
          "text": [
            "1\n",
            "3\n"
          ]
        }
      ]
    },
    {
      "cell_type": "code",
      "source": [
        "for item in list1:\n",
        "  if item == 2:\n",
        "    break #kills the loop\n",
        "  print(item)"
      ],
      "metadata": {
        "colab": {
          "base_uri": "https://localhost:8080/"
        },
        "id": "mDdm62oBR7rE",
        "outputId": "e314ca77-17d5-45e7-deb2-26f9309c9c48"
      },
      "execution_count": 16,
      "outputs": [
        {
          "output_type": "stream",
          "name": "stdout",
          "text": [
            "1\n"
          ]
        }
      ]
    },
    {
      "cell_type": "markdown",
      "source": [
        "# Useful operators"
      ],
      "metadata": {
        "id": "PEjinjKqSEsu"
      }
    },
    {
      "cell_type": "markdown",
      "source": [
        "Generator"
      ],
      "metadata": {
        "id": "spMsg9-WSJuB"
      }
    },
    {
      "cell_type": "code",
      "source": [
        "for number in range(10): \n",
        "  print(number)"
      ],
      "metadata": {
        "colab": {
          "base_uri": "https://localhost:8080/"
        },
        "id": "smVhZTTtSKI5",
        "outputId": "0d8716b2-026d-4a4b-97ba-04e4dfad6d0d"
      },
      "execution_count": 17,
      "outputs": [
        {
          "output_type": "stream",
          "name": "stdout",
          "text": [
            "0\n",
            "1\n",
            "2\n",
            "3\n",
            "4\n",
            "5\n",
            "6\n",
            "7\n",
            "8\n",
            "9\n"
          ]
        }
      ]
    },
    {
      "cell_type": "code",
      "source": [
        "for number in range(0,50,5): #structure in parenthesis is similar to slicing\n",
        "  print(number)"
      ],
      "metadata": {
        "colab": {
          "base_uri": "https://localhost:8080/"
        },
        "id": "Lm1uctheSQzF",
        "outputId": "31c7722c-763b-47d3-c0c8-df75cacfcc08"
      },
      "execution_count": 18,
      "outputs": [
        {
          "output_type": "stream",
          "name": "stdout",
          "text": [
            "0\n",
            "5\n",
            "10\n",
            "15\n",
            "20\n",
            "25\n",
            "30\n",
            "35\n",
            "40\n",
            "45\n"
          ]
        }
      ]
    },
    {
      "cell_type": "markdown",
      "source": [
        "Enumerate"
      ],
      "metadata": {
        "id": "P7gYYHrTUnsR"
      }
    },
    {
      "cell_type": "code",
      "source": [
        "#naive way of indexing itterators\n",
        "word = 'Wielkanoc'\n",
        "index = 0\n",
        "\n",
        "for letter in word:\n",
        "  print('No. {} is {}'.format(index,letter))\n",
        "  index += 1"
      ],
      "metadata": {
        "colab": {
          "base_uri": "https://localhost:8080/"
        },
        "id": "buI0oWG7Tbdq",
        "outputId": "a4e8ff21-2953-48eb-85d8-caefb2975880"
      },
      "execution_count": 19,
      "outputs": [
        {
          "output_type": "stream",
          "name": "stdout",
          "text": [
            "No. 0 is W\n",
            "No. 1 is i\n",
            "No. 2 is e\n",
            "No. 3 is l\n",
            "No. 4 is k\n",
            "No. 5 is a\n",
            "No. 6 is n\n",
            "No. 7 is o\n",
            "No. 8 is c\n"
          ]
        }
      ]
    },
    {
      "cell_type": "code",
      "source": [
        "#easier to use enumerate function\n",
        "word = 'Koczkodan'\n",
        "\n",
        "for letter in enumerate(word):\n",
        "  print(letter)\n",
        "#enumerate produces the tuple"
      ],
      "metadata": {
        "colab": {
          "base_uri": "https://localhost:8080/"
        },
        "id": "mRn1u812To3N",
        "outputId": "d15b3b22-7093-4c2c-93b1-a37f30013396"
      },
      "execution_count": 20,
      "outputs": [
        {
          "output_type": "stream",
          "name": "stdout",
          "text": [
            "(0, 'K')\n",
            "(1, 'o')\n",
            "(2, 'c')\n",
            "(3, 'z')\n",
            "(4, 'k')\n",
            "(5, 'o')\n",
            "(6, 'd')\n",
            "(7, 'a')\n",
            "(8, 'n')\n"
          ]
        }
      ]
    },
    {
      "cell_type": "code",
      "source": [
        "#possible to use tuples unpacking\n",
        "for index,letter in enumerate(word):\n",
        "  print(index,letter)"
      ],
      "metadata": {
        "colab": {
          "base_uri": "https://localhost:8080/"
        },
        "id": "DYckdkJ2VVZv",
        "outputId": "a6bf4dcf-d274-497a-8ee9-18c80e7d6d4c"
      },
      "execution_count": 21,
      "outputs": [
        {
          "output_type": "stream",
          "name": "stdout",
          "text": [
            "0 K\n",
            "1 o\n",
            "2 c\n",
            "3 z\n",
            "4 k\n",
            "5 o\n",
            "6 d\n",
            "7 a\n",
            "8 n\n"
          ]
        }
      ]
    },
    {
      "cell_type": "markdown",
      "source": [
        "Zip"
      ],
      "metadata": {
        "id": "ma55iqfjWdK1"
      }
    },
    {
      "cell_type": "code",
      "source": [
        "#zip lets to glue lists\n",
        "list1 = [1,2,3,4,5]\n",
        "list2 = [5,4,3,2,1]\n",
        "list3 = ['a', 'b', 'c']\n",
        "\n",
        "for item in zip(list1,list2,list3):\n",
        "  print(item)"
      ],
      "metadata": {
        "colab": {
          "base_uri": "https://localhost:8080/"
        },
        "id": "zw6u9QnMVmHO",
        "outputId": "7c8468a9-60fb-4647-9221-0936b0ec4ead"
      },
      "execution_count": 22,
      "outputs": [
        {
          "output_type": "stream",
          "name": "stdout",
          "text": [
            "(1, 5, 'a')\n",
            "(2, 4, 'b')\n",
            "(3, 3, 'c')\n"
          ]
        }
      ]
    },
    {
      "cell_type": "code",
      "source": [
        "#product of zip function is a tuple (possible to unpack)\n",
        "#IMPORTANT! zip glues as many elements as in the shortest list are\n",
        "#above did not show 4,5 and 2,1 cause list3 is 3-elements\n",
        "\n",
        "list(zip(list1,list2,list3))"
      ],
      "metadata": {
        "colab": {
          "base_uri": "https://localhost:8080/"
        },
        "id": "SCR7Df2SWzw6",
        "outputId": "b7fbaf34-c1f2-4968-860f-ef577b88c71e"
      },
      "execution_count": 23,
      "outputs": [
        {
          "output_type": "execute_result",
          "data": {
            "text/plain": [
              "[(1, 5, 'a'), (2, 4, 'b'), (3, 3, 'c')]"
            ]
          },
          "metadata": {},
          "execution_count": 23
        }
      ]
    },
    {
      "cell_type": "markdown",
      "source": [
        "IN"
      ],
      "metadata": {
        "id": "59UHLTkvaLjS"
      }
    },
    {
      "cell_type": "code",
      "source": [
        "#if x is included\n",
        "'x' in ['x', 'y','z']"
      ],
      "metadata": {
        "colab": {
          "base_uri": "https://localhost:8080/"
        },
        "id": "g16FUnvCXuc2",
        "outputId": "00501031-9da6-42c3-b8db-cd84351d9a22"
      },
      "execution_count": 25,
      "outputs": [
        {
          "output_type": "execute_result",
          "data": {
            "text/plain": [
              "True"
            ]
          },
          "metadata": {},
          "execution_count": 25
        }
      ]
    },
    {
      "cell_type": "code",
      "source": [
        "9 in [1,2,3,4,5]"
      ],
      "metadata": {
        "colab": {
          "base_uri": "https://localhost:8080/"
        },
        "id": "JahTzNH5aTOx",
        "outputId": "abd67d29-0075-4f1a-f5bd-09f92a671d47"
      },
      "execution_count": 26,
      "outputs": [
        {
          "output_type": "execute_result",
          "data": {
            "text/plain": [
              "False"
            ]
          },
          "metadata": {},
          "execution_count": 26
        }
      ]
    },
    {
      "cell_type": "code",
      "source": [
        "'a' in 'Hello world!'"
      ],
      "metadata": {
        "colab": {
          "base_uri": "https://localhost:8080/"
        },
        "id": "nxlQawQSa0dx",
        "outputId": "930791c8-0d78-4d3c-b674-ff82b3d4e30f"
      },
      "execution_count": 27,
      "outputs": [
        {
          "output_type": "execute_result",
          "data": {
            "text/plain": [
              "False"
            ]
          },
          "metadata": {},
          "execution_count": 27
        }
      ]
    },
    {
      "cell_type": "code",
      "source": [
        "'key1' in {'key1':2,'key2':1}"
      ],
      "metadata": {
        "colab": {
          "base_uri": "https://localhost:8080/"
        },
        "id": "HCPVSJW2aW35",
        "outputId": "5dd9e409-d691-43f3-c5e2-0afed91a8adb"
      },
      "execution_count": 29,
      "outputs": [
        {
          "output_type": "execute_result",
          "data": {
            "text/plain": [
              "True"
            ]
          },
          "metadata": {},
          "execution_count": 29
        }
      ]
    },
    {
      "cell_type": "code",
      "source": [
        "d = {'key1':2,'key2':1}\n",
        "1 in d.values()"
      ],
      "metadata": {
        "colab": {
          "base_uri": "https://localhost:8080/"
        },
        "id": "2FDzA5dVa7vc",
        "outputId": "90f96aba-279b-4a00-dec2-12f99f283c6e"
      },
      "execution_count": 33,
      "outputs": [
        {
          "output_type": "execute_result",
          "data": {
            "text/plain": [
              "True"
            ]
          },
          "metadata": {},
          "execution_count": 33
        }
      ]
    },
    {
      "cell_type": "code",
      "source": [
        "d = {'key1':2,'key2':1}\n",
        "'key3' in d.keys()"
      ],
      "metadata": {
        "colab": {
          "base_uri": "https://localhost:8080/"
        },
        "id": "z13x1nTJbFWb",
        "outputId": "6017ac18-c9ec-4e32-af2b-fffa27699d9a"
      },
      "execution_count": 35,
      "outputs": [
        {
          "output_type": "execute_result",
          "data": {
            "text/plain": [
              "False"
            ]
          },
          "metadata": {},
          "execution_count": 35
        }
      ]
    },
    {
      "cell_type": "markdown",
      "source": [
        "int(), float(), ..."
      ],
      "metadata": {
        "id": "J7LZ5BKecyQn"
      }
    },
    {
      "cell_type": "code",
      "source": [
        "#let change the type of a value\n",
        "result = input('What is your favorite number? ')"
      ],
      "metadata": {
        "colab": {
          "base_uri": "https://localhost:8080/"
        },
        "id": "K1Vi71DibQXq",
        "outputId": "2a787ad0-e3d6-4df3-a659-d4d087035454"
      },
      "execution_count": 37,
      "outputs": [
        {
          "name": "stdout",
          "output_type": "stream",
          "text": [
            "What is your favorite number? 54\n"
          ]
        }
      ]
    },
    {
      "cell_type": "code",
      "source": [
        "type(result) #input is always a string"
      ],
      "metadata": {
        "colab": {
          "base_uri": "https://localhost:8080/"
        },
        "id": "54ROePYBc-Yk",
        "outputId": "dddcf1fb-a20b-40af-e1fa-f3bd85fe6079"
      },
      "execution_count": 38,
      "outputs": [
        {
          "output_type": "execute_result",
          "data": {
            "text/plain": [
              "str"
            ]
          },
          "metadata": {},
          "execution_count": 38
        }
      ]
    },
    {
      "cell_type": "code",
      "source": [
        "type(int(result)) #int() transformed string into int"
      ],
      "metadata": {
        "colab": {
          "base_uri": "https://localhost:8080/"
        },
        "id": "QYtRXR29dE7z",
        "outputId": "bdf094fa-0ce7-4adb-a1e7-8f61f5da5a9e"
      },
      "execution_count": 40,
      "outputs": [
        {
          "output_type": "execute_result",
          "data": {
            "text/plain": [
              "int"
            ]
          },
          "metadata": {},
          "execution_count": 40
        }
      ]
    },
    {
      "cell_type": "code",
      "source": [
        ""
      ],
      "metadata": {
        "id": "VmMcHPWgdJcF"
      },
      "execution_count": null,
      "outputs": []
    }
  ]
}