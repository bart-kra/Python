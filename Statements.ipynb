{
  "nbformat": 4,
  "nbformat_minor": 0,
  "metadata": {
    "colab": {
      "name": "Statements.ipynb",
      "provenance": [],
      "authorship_tag": "ABX9TyOknTKu5QQPqkNVmIEBVMHp"
    },
    "kernelspec": {
      "name": "python3",
      "display_name": "Python 3"
    },
    "language_info": {
      "name": "python"
    }
  },
  "cells": [
    {
      "cell_type": "code",
      "execution_count": null,
      "metadata": {
        "id": "kn8QWTIq9BN2"
      },
      "outputs": [],
      "source": [
        ""
      ]
    }
  ]
}