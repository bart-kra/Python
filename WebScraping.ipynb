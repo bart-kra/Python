{
  "nbformat": 4,
  "nbformat_minor": 0,
  "metadata": {
    "colab": {
      "name": "WebScraping.ipynb",
      "provenance": [],
      "authorship_tag": "ABX9TyNDVg7qLL8MujvIHBQaAwxH"
    },
    "kernelspec": {
      "name": "python3",
      "display_name": "Python 3"
    },
    "language_info": {
      "name": "python"
    }
  },
  "cells": [
    {
      "cell_type": "code",
      "execution_count": 1,
      "metadata": {
        "id": "FyoRR8lnOfC1"
      },
      "outputs": [],
      "source": [
        "import bs4 #beautiful soup library, necessary in web scrapping"
      ]
    },
    {
      "cell_type": "code",
      "source": [
        ""
      ],
      "metadata": {
        "id": "LKkv2VOJ12dR"
      },
      "execution_count": null,
      "outputs": []
    }
  ]
}