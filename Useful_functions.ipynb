{
  "nbformat": 4,
  "nbformat_minor": 0,
  "metadata": {
    "colab": {
      "name": "Useful functions.ipynb",
      "provenance": [],
      "authorship_tag": "ABX9TyOOCwLr8P+ygzIS47aZvcKL"
    },
    "kernelspec": {
      "name": "python3",
      "display_name": "Python 3"
    },
    "language_info": {
      "name": "python"
    }
  },
  "cells": [
    {
      "cell_type": "markdown",
      "source": [
        "# Useful functions list"
      ],
      "metadata": {
        "id": "FjmVcjfK5z2t"
      }
    },
    {
      "cell_type": "code",
      "execution_count": 1,
      "metadata": {
        "id": "-1BUknsS5vcN"
      },
      "outputs": [],
      "source": [
        "#CHECK IF EVEN\n",
        "def check_even(num):\n",
        "  return num % 2 == 0"
      ]
    },
    {
      "cell_type": "code",
      "source": [
        "#RETURNS EVEN NUMBERS FROM THE LIST\n",
        "def check_even_list(num_list):\n",
        "  even_nums = []\n",
        "  for num in num_list:\n",
        "    if num % 2 == 0:\n",
        "      even_nums.append(num)\n",
        "    else:\n",
        "      pass\n",
        "  return even_nums"
      ],
      "metadata": {
        "id": "YXrOahUq6PVY"
      },
      "execution_count": 3,
      "outputs": []
    }
  ]
}