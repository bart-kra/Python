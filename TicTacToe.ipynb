{
  "nbformat": 4,
  "nbformat_minor": 0,
  "metadata": {
    "colab": {
      "name": "TicTacToe.ipynb",
      "provenance": [],
      "authorship_tag": "ABX9TyNq3LboSQOgt5k5fz/ZOYXp"
    },
    "kernelspec": {
      "name": "python3",
      "display_name": "Python 3"
    },
    "language_info": {
      "name": "python"
    }
  },
  "cells": [
    {
      "cell_type": "code",
      "execution_count": null,
      "metadata": {
        "id": "xZdEdOOQ8XAI"
      },
      "outputs": [],
      "source": [
        "#dict with all the boxes\n",
        "boxes_dict = {'sq1':' ','sq2':' ','sq3':' ',\n",
        "             'sq4':' ','sq5':' ','sq6':' ',\n",
        "              'sq7':' ','sq8':' ','sq9':' '}\n",
        "#which players turn\n",
        "player_turn = 'O'\n",
        "#box choose (out of range)\n",
        "box_target = 10\n",
        "#list of already chosen boxes\n",
        "out_boxes_list = []  \n",
        "\n",
        "#start_info()\n",
        "#box_choose(out_boxes_list,player_turn)\n",
        "\n",
        "box_target = 10"
      ]
    },
    {
      "cell_type": "code",
      "source": [
        "def start_info():\n",
        "  print('That is Tic Tac Toe game\\nWanna play?\\n')\n",
        "  print(' {} | {} | {} '.format(boxes['sq1'],boxes['sq2'],boxes['sq3']))\n",
        "  print('-----------')\n",
        "  print(' {} | {} | {} '.format(boxes['sq4'],boxes['sq5'],boxes['sq6']))\n",
        "  print('-----------')\n",
        "  print(' {} | {} | {} '.format(boxes['sq7'],boxes['sq8'],boxes['sq9']))\n",
        "  print('\\nO starts!')\n",
        "\n",
        "def box_choose(box,out_boxes, player):\n",
        "  while box in out_boxes:\n",
        "    box = input('Where to stand {}? (choose 1-9)'.format(player))\n",
        "    out_boxes.append(int(box))\n",
        "\n",
        "def xoro(player,box_choose,boxes):\n",
        "  if player == 'O':\n",
        "\n",
        "    player = 'X'\n",
        "  elif player == 'X':\n",
        "\n",
        "    player = 'O'"
      ],
      "metadata": {
        "id": "nYCnV4MS9FHQ"
      },
      "execution_count": null,
      "outputs": []
    }
  ]
}