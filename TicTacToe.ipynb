{
  "nbformat": 4,
  "nbformat_minor": 0,
  "metadata": {
    "colab": {
      "name": "TicTacToe.ipynb",
      "provenance": [],
      "authorship_tag": "ABX9TyOwQ5eAWgUF5CO+JCb/Dr7U"
    },
    "kernelspec": {
      "name": "python3",
      "display_name": "Python 3"
    },
    "language_info": {
      "name": "python"
    }
  },
  "cells": [
    {
      "cell_type": "code",
      "execution_count": null,
      "metadata": {
        "colab": {
          "base_uri": "https://localhost:8080/"
        },
        "id": "xZdEdOOQ8XAI",
        "outputId": "5c5d1e3a-8e36-4c5a-bc00-08eb8766bd57"
      },
      "outputs": [
        {
          "metadata": {
            "tags": null
          },
          "name": "stdout",
          "output_type": "stream",
          "text": [
            "That is Tic Tac Toe game\n",
            "Wanna play?\n",
            "\n",
            "   |   |   \n",
            "-----------\n",
            "   |   |   \n",
            "-----------\n",
            "   |   |   \n",
            "\n",
            "O starts!\n"
          ]
        }
      ],
      "source": [
        "def card_printer(boxes):\n",
        "  print(' {} | {} | {} '.format(boxes[0],boxes[1],boxes[2]))\n",
        "  print('-----------')\n",
        "  print(' {} | {} | {} '.format(boxes[3],boxes[4],boxes[5]))\n",
        "  print('-----------')\n",
        "  print(' {} | {} | {} '.format(boxes[6],boxes[7],boxes[8]))\n",
        "\n",
        "def box_choose(box,out_boxes,player):\n",
        "  while box - 1 in out_boxes or (box not in range(1,10)):\n",
        "    box = int(input('Where to stand {}? (choose 1-9): '.format(player)))\n",
        "    print('')\n",
        "  box = box - 1\n",
        "  out_boxes.append(box)\n",
        "  return box\n",
        "\n",
        "def xoro(player,box,boxes):\n",
        "  if player == 'O':\n",
        "    boxes[box] = 'O'\n",
        "    player = 'X'\n",
        "  elif player == 'X':\n",
        "    boxes[box] = 'X'\n",
        "    player = 'O'\n",
        "  return player\n",
        "\n",
        "#dict with all the boxes\n",
        "boxes_list = [' ', ' ', ' ',\n",
        "              ' ', ' ', ' ',\n",
        "              ' ', ' ', ' ']\n",
        "\n",
        "#which players turn\n",
        "player_turn = 'O'\n",
        "#box choose (out of range)\n",
        "box_target = 100\n",
        "#list of already chosen boxes\n",
        "out_boxes_list = []  \n",
        "#is the game finished?\n",
        "ifwin = False\n",
        "\n",
        "print('That is Tic Tac Toe game\\nWanna play?\\n')\n",
        "card_printer(boxes_list)\n",
        "print('\\nO starts!')\n",
        "for i in range(1,10):\n",
        "  box_target = box_choose(box_target, out_boxes_list, player_turn)\n",
        "  player_turn = xoro(player_turn, box_target, boxes_list)\n",
        "  card_printer(boxes_list)\n",
        "\n",
        "box_target = 100"
      ]
    },
    {
      "cell_type": "code",
      "source": [
        ""
      ],
      "metadata": {
        "id": "CVUlp2uJKAzV"
      },
      "execution_count": null,
      "outputs": []
    }
  ]
}