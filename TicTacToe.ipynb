{
  "nbformat": 4,
  "nbformat_minor": 0,
  "metadata": {
    "colab": {
      "name": "TicTacToe.ipynb",
      "provenance": [],
      "authorship_tag": "ABX9TyP+1wLkoXBtt891HF33abdb"
    },
    "kernelspec": {
      "name": "python3",
      "display_name": "Python 3"
    },
    "language_info": {
      "name": "python"
    }
  },
  "cells": [
    {
      "cell_type": "code",
      "execution_count": null,
      "metadata": {
        "id": "xZdEdOOQ8XAI"
      },
      "outputs": [],
      "source": [
        "def card_printer(boxes):\n",
        "  print(' {} | {} | {} '.format(boxes[0],boxes[1],boxes[2]))\n",
        "  print('-----------')\n",
        "  print(' {} | {} | {} '.format(boxes[3],boxes[4],boxes[5]))\n",
        "  print('-----------')\n",
        "  print(' {} | {} | {} '.format(boxes[6],boxes[7],boxes[8]))\n",
        "  print('')\n",
        "\n",
        "def box_choose(box,out_boxes,player):\n",
        "  while box - 1 in out_boxes or (box not in range(1,10)):\n",
        "    box = input('Where to stand {}? (choose 1-9): '.format(player))\n",
        "    if box.isdigit():\n",
        "      box = int(box)\n",
        "      if box - 1 in out_boxes:\n",
        "        print('That box is already full!')\n",
        "      elif box not in range(1,10):\n",
        "        print('Wrong box!')\n",
        "      print('')\n",
        "    else:\n",
        "      print('NaN!!!!!\\n')\n",
        "      box = 100  \n",
        "  box = box - 1\n",
        "  out_boxes.append(box)\n",
        "  return box\n",
        "\n",
        "def xoro(player,box,boxes):\n",
        "  if player == 'O':\n",
        "    boxes[box] = 'O'\n",
        "  elif player == 'X':\n",
        "    boxes[box] = 'X'\n",
        "\n",
        "def win_checker(boxes, player, win):\n",
        "  if (boxes[0] == boxes[1] == boxes [2] != ' ' or \n",
        "    boxes[3] == boxes[4] == boxes[5] != ' ' or \n",
        "    boxes[6] == boxes[7] == boxes[8] != ' ' or \n",
        "    boxes[0] == boxes[3] == boxes[6] != ' ' or \n",
        "    boxes[1] == boxes[4] == boxes[7] != ' ' or\n",
        "    boxes[2] == boxes[5] == boxes[8] != ' ' or \n",
        "    boxes[0] == boxes[4] == boxes[8] != ' ' or \n",
        "    boxes[2] == boxes[4] == boxes[6] != ' '):\n",
        "    print('\\nPlayer {} wins!!!'.format(player))\n",
        "    win = True\n",
        "    return win\n",
        "  else:\n",
        "    return win\n",
        "\n",
        "\n",
        "\n",
        "#dict with all the boxes\n",
        "boxes_list = [' ', ' ', ' ',\n",
        "              ' ', ' ', ' ',\n",
        "              ' ', ' ', ' ']\n",
        "\n",
        "#which players turn\n",
        "player_turn = 'O'\n",
        "#box choose (out of range)\n",
        "box_target = 100\n",
        "#list of already chosen boxes\n",
        "out_boxes_list = []  \n",
        "#is the game finished?\n",
        "ifwin = False\n",
        "\n",
        "print('That is Tic Tac Toe game\\nWanna play?\\n')\n",
        "card_printer(boxes_list)\n",
        "print('O starts!\\n\\n')\n",
        "\n",
        "while ifwin == False:\n",
        "  box_target = box_choose(box_target, out_boxes_list, player_turn)\n",
        "  xoro(player_turn, box_target, boxes_list)\n",
        "  card_printer(boxes_list)\n",
        "  box_target = 100\n",
        "  ifwin = win_checker(boxes_list, player_turn, ifwin)\n",
        "  if player_turn == 'O':\n",
        "    player_turn = 'X'\n",
        "  elif player_turn == 'X':\n",
        "    player_turn = 'O'\n",
        "  if len(out_boxes_list) == 9:\n",
        "    print('Draw!')\n",
        "    break  \n",
        "\n"
      ]
    },
    {
      "cell_type": "code",
      "source": [
        "\n"
      ],
      "metadata": {
        "id": "ekUFuomWWp-o"
      },
      "execution_count": null,
      "outputs": []
    }
  ]
}