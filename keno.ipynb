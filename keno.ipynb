{
  "cells": [
    {
      "cell_type": "code",
      "execution_count": null,
      "metadata": {
        "id": "FDv0tRHguFY6"
      },
      "outputs": [],
      "source": [
        "import numpy as np"
      ]
    },
    {
      "cell_type": "code",
      "execution_count": null,
      "metadata": {
        "colab": {
          "base_uri": "https://localhost:8080/"
        },
        "id": "k4eAe7z1mlJl",
        "outputId": "2c7af7d6-c3dc-4dd8-de03-43c6ae1b9a4d"
      },
      "outputs": [
        {
          "name": "stdout",
          "output_type": "stream",
          "text": [
            "Mnożnik (tak/nie): tak\n",
            "Stawka: 4\n",
            "Stawka x (1-10): 5\n",
            "Stawka: 20\n"
          ]
        }
      ],
      "source": [
        "def chance(numbers,hits):\n",
        "  probability = 0\n",
        "  for number in range(1,numbers):\n",
        "    for hit in range(1,hits):\n",
        "      prob = 1 / 70 + 1 - hit\n",
        "      probability += prob\n",
        "\n",
        "\n",
        "tab = np.zeros([12,11], dtype = int)\n",
        "\n",
        "stawka = 2\n",
        "multiplier = 'default'\n",
        "multiplicator = 1000\n",
        "\n",
        "tab[0,0] = 0\n",
        "for i in range(10):\n",
        "  tab[0,i+1] = 10 - i;\n",
        "\n",
        "for i in range(11):\n",
        "  tab[i + 1, 0] = 10 - i;\n",
        "\n",
        "print('Analiza gry losowej Keno by B. Krassowski')\n",
        "print()\n",
        "\n",
        "while (multiplier not in ['tak','nie']):\n",
        "    multiplier = input('Mnożnik (tak/nie): ')\n",
        "    if multiplier not in ['tak','nie']:\n",
        "      print('Wpisz tak/nie.')\n",
        "\n",
        "if multiplier == 'tak':\n",
        "    stawka = 4\n",
        "\n",
        "print('Stawka: {}'.format(stawka))\n",
        "\n",
        "tab[1,1] = 200000\n",
        "tab[2,1] = 3000\n",
        "tab[3,1] = 250\n",
        "tab[4,1] = 32\n",
        "tab[5,1] = 6\n",
        "tab[6,1] = 2\n",
        "tab[10,1] = 2\n",
        "tab[11,1] = 6\n",
        "tab[2,2] = 50000\n",
        "tab[3,2] = 750\n",
        "tab[4,2] = 100\n",
        "tab[5,2] = 10\n",
        "tab[6,2] = 4\n",
        "tab[7,2] = 2\n",
        "tab[11,2] = 2\n",
        "tab[3,3] = 10000\n",
        "tab[4,3] = 300\n",
        "tab[5,3] = 44\n",
        "tab[6,3] = 8\n",
        "tab[7,3] = 2\n",
        "tab[11,3] = 2\n",
        "tab[4,4] = 1500\n",
        "tab[5,4] = 66\n",
        "tab[6,4] = 8\n",
        "tab[7,4] = 4\n",
        "tab[8,4] = 2\n",
        "tab[5,5] = 500\n",
        "tab[6,5] = 54\n",
        "tab[7,5] = 6\n",
        "tab[8,5] = 2\n",
        "tab[6,6] = 250\n",
        "tab[7,6] = 18\n",
        "tab[8,6] = 4\n",
        "tab[7,7] = 60\n",
        "tab[8,7] = 4\n",
        "tab[9,7] = 2\n",
        "tab[8,8] = 18\n",
        "tab[9,8] = 4\n",
        "tab[9,9] = 14\n",
        "tab[10,10] = 3\n",
        "\n",
        "while (multiplicator not in range(1,10)):\n",
        "    multiplicator = int(input('Stawka x (1-10): '))\n",
        "    if multiplicator not in range(1,10):\n",
        "      print('Podaj mnożnik stawki z zakresu 1-10')\n",
        "stawka = stawka * multiplicator \n",
        "print('Stawka: {}'.format(stawka))"
      ]
    },
    {
      "cell_type": "code",
      "execution_count": null,
      "metadata": {
        "colab": {
          "base_uri": "https://localhost:8080/"
        },
        "id": "AbivdzLsmwCN",
        "outputId": "3f51a420-dc96-43ac-e319-48248af56172"
      },
      "outputs": [
        {
          "data": {
            "text/plain": [
              "array([[     0,     10,      9,      8,      7,      6,      5,      4,\n",
              "             3,      2,      1],\n",
              "       [    10, 200000,      0,      0,      0,      0,      0,      0,\n",
              "             0,      0,      0],\n",
              "       [     9,   3000,  50000,      0,      0,      0,      0,      0,\n",
              "             0,      0,      0],\n",
              "       [     8,    250,    750,  10000,      0,      0,      0,      0,\n",
              "             0,      0,      0],\n",
              "       [     7,     32,    100,    300,   1500,      0,      0,      0,\n",
              "             0,      0,      0],\n",
              "       [     6,      6,     10,     44,     66,    500,      0,      0,\n",
              "             0,      0,      0],\n",
              "       [     5,      2,      4,      8,      8,     54,    250,      0,\n",
              "             0,      0,      0],\n",
              "       [     4,      0,      2,      2,      4,      6,     18,     60,\n",
              "             0,      0,      0],\n",
              "       [     3,      0,      0,      0,      2,      2,      4,      4,\n",
              "            18,      0,      0],\n",
              "       [     2,      0,      0,      0,      0,      0,      0,      2,\n",
              "             4,     14,      0],\n",
              "       [     1,      2,      0,      0,      0,      0,      0,      0,\n",
              "             0,      0,      3],\n",
              "       [     0,      6,      2,      2,      0,      0,      0,      0,\n",
              "             0,      0,      0]])"
            ]
          },
          "execution_count": 50,
          "metadata": {},
          "output_type": "execute_result"
        }
      ],
      "source": [
        "tab"
      ]
    },
    {
      "cell_type": "code",
      "execution_count": 25,
      "metadata": {
        "colab": {
          "base_uri": "https://localhost:8080/"
        },
        "id": "yJ6ND85abEkb",
        "outputId": "75157935-c3e9-4eaf-c759-f3e1bca7ae83"
      },
      "outputs": [
        {
          "output_type": "stream",
          "name": "stdout",
          "text": [
            "5056584744960000\n"
          ]
        }
      ],
      "source": [
        "sum1 = 1\n",
        "result = 1\n",
        "for i in range(1,10):\n",
        "  for j in range(1,i):\n",
        "    result *= j\n",
        "  sum1 *= result \n",
        "  result = 1\n",
        "print(sum1)"
      ]
    },
    {
      "cell_type": "code",
      "execution_count": 24,
      "metadata": {
        "id": "RWf_qc8hbEhH",
        "colab": {
          "base_uri": "https://localhost:8080/"
        },
        "outputId": "dd57bfa6-3668-4e55-f419-8270ee1508ff"
      },
      "outputs": [
        {
          "output_type": "stream",
          "name": "stdout",
          "text": [
            "171122452428141311372468338881272839092270544893520369393648040923257279754140647424000000000000000\n"
          ]
        }
      ],
      "source": [
        "sum2 = 1\n",
        "for i in range(1,70):\n",
        "  sum2 *= i\n",
        "print(sum2)"
      ]
    },
    {
      "cell_type": "code",
      "source": [
        "sum"
      ],
      "metadata": {
        "id": "9Mk42UWWmlnv"
      },
      "execution_count": null,
      "outputs": []
    }
  ],
  "metadata": {
    "colab": {
      "name": "keno.ipynb",
      "provenance": [],
      "authorship_tag": "ABX9TyNqfa8bmMDniYvgc5a4T61V"
    },
    "kernelspec": {
      "display_name": "Python 3",
      "name": "python3"
    },
    "language_info": {
      "name": "python"
    }
  },
  "nbformat": 4,
  "nbformat_minor": 0
}