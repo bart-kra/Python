{
  "nbformat": 4,
  "nbformat_minor": 0,
  "metadata": {
    "colab": {
      "name": "Untitled4.ipynb",
      "provenance": [],
      "authorship_tag": "ABX9TyMxelfgUROf0B5gMFGWCNtc"
    },
    "kernelspec": {
      "name": "python3",
      "display_name": "Python 3"
    },
    "language_info": {
      "name": "python"
    }
  },
  "cells": [
    {
      "cell_type": "code",
      "execution_count": null,
      "metadata": {
        "id": "VH4qMi_diBbZ"
      },
      "outputs": [],
      "source": [
        "from random import randint\n",
        "\n",
        "x = randint(1,100)\n",
        "shot = [0]\n",
        "tries = 0\n",
        "i = 0\n",
        "\n",
        "print('That is the Guess Game.\\n\\nI have already a number in my ', end= \"\")\n",
        "print('mind.\\nyour task is to guess it correctly as fast as possible.')\n",
        "print('Good Luck! :)')\n",
        "while (shot[i] != x):\n",
        "  i += 1\n",
        "  tries = int(input(\"Your number: \"))\n",
        "  shot.append(tries)\n",
        "  if (shot[i] < 1 or shot[i] > 100):\n",
        "    print('Out of bonds! Try again!')\n",
        "    continue\n",
        "  elif (shot[i] == x):\n",
        "    print('Correct! It took you {} times to guess the number!'.format(i))\n",
        "    break\n",
        "  else:\n",
        "    if (i == 1):\n",
        "      if(abs(shot[i] - x) <= 10):\n",
        "        print('Warm!')\n",
        "      else:\n",
        "        print('Cold!')\n",
        "    else:\n",
        "      if( abs(shot[i] - x) <= abs(shot[i-1] - x) ):\n",
        "        print('Warmer!')\n",
        "      else:\n",
        "        print('Cooler!')"
      ]
    },
    {
      "cell_type": "code",
      "source": [
        ""
      ],
      "metadata": {
        "id": "fb2r_g9_iB66"
      },
      "execution_count": null,
      "outputs": []
    }
  ]
}