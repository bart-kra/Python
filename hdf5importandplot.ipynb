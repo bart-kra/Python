{
  "nbformat": 4,
  "nbformat_minor": 0,
  "metadata": {
    "colab": {
      "name": "hdf5importandplot.ipynb",
      "provenance": [],
      "authorship_tag": "ABX9TyNqTnPilQ6hg8TjP1l5FN8f"
    },
    "kernelspec": {
      "name": "python3",
      "display_name": "Python 3"
    },
    "language_info": {
      "name": "python"
    }
  },
  "cells": [
    {
      "cell_type": "code",
      "source": [
        "import matplotlib.pyplot as plt\n",
        "import h5py\n",
        "\n",
        "f = h5py.File('dataset.hdf5', 'r') \n",
        "\n",
        "dset = f['strain/Strain']\n",
        "\n",
        "dset_size = dset.shape[0]\n",
        "\n",
        "arr_start = dset_size / 2\n",
        "arr_end = arr_start + 1000\n",
        "\n",
        "f_x = dset[int(arr_start):int(arr_end)]\n",
        "\n",
        "plt.plot(f_x)\n",
        "plt.xlabel('count')\n",
        "plt.ylabel('I')\n",
        "plt.title('LIGO-BKr')\n",
        "plt.show()"
      ],
      "metadata": {
        "id": "mNSenbFzXj_c"
      },
      "execution_count": null,
      "outputs": []
    },
    {
      "cell_type": "code",
      "source": [
        ""
      ],
      "metadata": {
        "colab": {
          "base_uri": "https://localhost:8080/",
          "height": 36
        },
        "id": "SSf60pmAZyYb",
        "outputId": "b4894c15-8618-421a-ac91-849778e12f42"
      },
      "execution_count": 24,
      "outputs": [
        {
          "output_type": "execute_result",
          "data": {
            "text/plain": [
              "'/content'"
            ],
            "application/vnd.google.colaboratory.intrinsic+json": {
              "type": "string"
            }
          },
          "metadata": {},
          "execution_count": 24
        }
      ]
    },
    {
      "cell_type": "code",
      "source": [
        ""
      ],
      "metadata": {
        "id": "ZE5FZlcTgudD"
      },
      "execution_count": null,
      "outputs": []
    }
  ]
}