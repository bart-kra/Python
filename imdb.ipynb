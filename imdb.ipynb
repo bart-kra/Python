{
  "nbformat": 4,
  "nbformat_minor": 0,
  "metadata": {
    "colab": {
      "provenance": [],
      "authorship_tag": "ABX9TyOgzM8iV+Z0nBDD+ODVTPgX"
    },
    "kernelspec": {
      "name": "python3",
      "display_name": "Python 3"
    },
    "language_info": {
      "name": "python"
    }
  },
  "cells": [
    {
      "cell_type": "markdown",
      "source": [
        "Instalacja biblioteki kaggle umożliwiającej pobranie datasetu oraz Natural Language Toolkita"
      ],
      "metadata": {
        "id": "etrEC9pyD9d1"
      }
    },
    {
      "cell_type": "code",
      "execution_count": 1,
      "metadata": {
        "id": "QaxvoCO2AtFg",
        "outputId": "6a38f16a-3065-430b-b4ce-adaedc7a7bcb",
        "colab": {
          "base_uri": "https://localhost:8080/"
        }
      },
      "outputs": [
        {
          "output_type": "stream",
          "name": "stdout",
          "text": [
            "Looking in indexes: https://pypi.org/simple, https://us-python.pkg.dev/colab-wheels/public/simple/\n",
            "Requirement already satisfied: nltk in /usr/local/lib/python3.8/dist-packages (3.7)\n",
            "Requirement already satisfied: joblib in /usr/local/lib/python3.8/dist-packages (from nltk) (1.2.0)\n",
            "Requirement already satisfied: tqdm in /usr/local/lib/python3.8/dist-packages (from nltk) (4.64.1)\n",
            "Requirement already satisfied: regex>=2021.8.3 in /usr/local/lib/python3.8/dist-packages (from nltk) (2022.6.2)\n",
            "Requirement already satisfied: click in /usr/local/lib/python3.8/dist-packages (from nltk) (7.1.2)\n"
          ]
        }
      ],
      "source": [
        "! pip install -q kaggle\n",
        "! pip install nltk"
      ]
    },
    {
      "cell_type": "markdown",
      "source": [
        "Ustanowienie połączenia z API Kaggle"
      ],
      "metadata": {
        "id": "XdHt7yS7ELIQ"
      }
    },
    {
      "cell_type": "code",
      "source": [
        "! mkdir ~/.kaggle \n",
        "! cp kaggle.json ~/.kaggle/ \n",
        "! chmod 600 ~/.kaggle/kaggle.json"
      ],
      "metadata": {
        "id": "LjNpGbdsBKKI"
      },
      "execution_count": 2,
      "outputs": []
    },
    {
      "cell_type": "markdown",
      "source": [
        "Import wykorzystywanych bibliotek"
      ],
      "metadata": {
        "id": "m2sb27M1AZAE"
      }
    },
    {
      "cell_type": "code",
      "source": [
        "import kaggle\n",
        "import os\n",
        "import pandas as pd\n",
        "import numpy as np\n",
        "import nltk\n",
        "import re\n",
        "import matplotlib.pyplot as plt\n",
        "from nltk.stem import PorterStemmer\n",
        "from nltk.corpus import stopwords\n",
        "from sklearn.feature_extraction.text import CountVectorizer\n",
        "from sklearn.model_selection import train_test_split\n",
        "from sklearn.naive_bayes import MultinomialNB\n",
        "from sklearn.feature_extraction.text import TfidfVectorizer\n",
        "from sklearn.naive_bayes import MultinomialNB\n",
        "from sklearn.metrics import classification_report\n",
        "from sklearn.metrics import accuracy_score"
      ],
      "metadata": {
        "id": "n1CVpHqg5NaS"
      },
      "execution_count": 3,
      "outputs": []
    },
    {
      "cell_type": "markdown",
      "source": [
        "Pobranie pliku csv zawierającego dataset treningowy klasyfikatora"
      ],
      "metadata": {
        "id": "Y2Rn6k7q59Zs"
      }
    },
    {
      "cell_type": "code",
      "source": [
        "! kaggle datasets download -d lakshmi25npathi/imdb-dataset-of-50k-movie-reviews\n",
        "! mkdir reviews\n",
        "! unzip imdb-dataset-of-50k-movie-reviews.zip -d reviews"
      ],
      "metadata": {
        "id": "bkEC_S5w5SG4",
        "outputId": "45055e96-251e-495e-d581-7764847aedad",
        "colab": {
          "base_uri": "https://localhost:8080/"
        }
      },
      "execution_count": 4,
      "outputs": [
        {
          "output_type": "stream",
          "name": "stdout",
          "text": [
            "Downloading imdb-dataset-of-50k-movie-reviews.zip to /content\n",
            "\r  0% 0.00/25.7M [00:00<?, ?B/s]\r 19% 5.00M/25.7M [00:00<00:00, 44.3MB/s]\r 93% 24.0M/25.7M [00:00<00:00, 128MB/s] \n",
            "\r100% 25.7M/25.7M [00:00<00:00, 115MB/s]\n",
            "Archive:  imdb-dataset-of-50k-movie-reviews.zip\n",
            "  inflating: reviews/IMDB Dataset.csv  \n"
          ]
        }
      ]
    },
    {
      "cell_type": "markdown",
      "source": [
        "Zapisanie datasetu jako dataframe'u pandasa"
      ],
      "metadata": {
        "id": "9uYCWRknEdl6"
      }
    },
    {
      "cell_type": "code",
      "source": [
        "df = pd.read_csv('reviews/IMDB Dataset.csv')\n",
        "df.head()"
      ],
      "metadata": {
        "colab": {
          "base_uri": "https://localhost:8080/",
          "height": 206
        },
        "id": "HurzMKMbDZCc",
        "outputId": "2aae59d6-e811-498e-dd1e-7801c4934557"
      },
      "execution_count": 5,
      "outputs": [
        {
          "output_type": "execute_result",
          "data": {
            "text/plain": [
              "                                              review sentiment\n",
              "0  One of the other reviewers has mentioned that ...  positive\n",
              "1  A wonderful little production. <br /><br />The...  positive\n",
              "2  I thought this was a wonderful way to spend ti...  positive\n",
              "3  Basically there's a family where a little boy ...  negative\n",
              "4  Petter Mattei's \"Love in the Time of Money\" is...  positive"
            ],
            "text/html": [
              "\n",
              "  <div id=\"df-0c97cc91-a242-4b67-9451-88a174f0b5f5\">\n",
              "    <div class=\"colab-df-container\">\n",
              "      <div>\n",
              "<style scoped>\n",
              "    .dataframe tbody tr th:only-of-type {\n",
              "        vertical-align: middle;\n",
              "    }\n",
              "\n",
              "    .dataframe tbody tr th {\n",
              "        vertical-align: top;\n",
              "    }\n",
              "\n",
              "    .dataframe thead th {\n",
              "        text-align: right;\n",
              "    }\n",
              "</style>\n",
              "<table border=\"1\" class=\"dataframe\">\n",
              "  <thead>\n",
              "    <tr style=\"text-align: right;\">\n",
              "      <th></th>\n",
              "      <th>review</th>\n",
              "      <th>sentiment</th>\n",
              "    </tr>\n",
              "  </thead>\n",
              "  <tbody>\n",
              "    <tr>\n",
              "      <th>0</th>\n",
              "      <td>One of the other reviewers has mentioned that ...</td>\n",
              "      <td>positive</td>\n",
              "    </tr>\n",
              "    <tr>\n",
              "      <th>1</th>\n",
              "      <td>A wonderful little production. &lt;br /&gt;&lt;br /&gt;The...</td>\n",
              "      <td>positive</td>\n",
              "    </tr>\n",
              "    <tr>\n",
              "      <th>2</th>\n",
              "      <td>I thought this was a wonderful way to spend ti...</td>\n",
              "      <td>positive</td>\n",
              "    </tr>\n",
              "    <tr>\n",
              "      <th>3</th>\n",
              "      <td>Basically there's a family where a little boy ...</td>\n",
              "      <td>negative</td>\n",
              "    </tr>\n",
              "    <tr>\n",
              "      <th>4</th>\n",
              "      <td>Petter Mattei's \"Love in the Time of Money\" is...</td>\n",
              "      <td>positive</td>\n",
              "    </tr>\n",
              "  </tbody>\n",
              "</table>\n",
              "</div>\n",
              "      <button class=\"colab-df-convert\" onclick=\"convertToInteractive('df-0c97cc91-a242-4b67-9451-88a174f0b5f5')\"\n",
              "              title=\"Convert this dataframe to an interactive table.\"\n",
              "              style=\"display:none;\">\n",
              "        \n",
              "  <svg xmlns=\"http://www.w3.org/2000/svg\" height=\"24px\"viewBox=\"0 0 24 24\"\n",
              "       width=\"24px\">\n",
              "    <path d=\"M0 0h24v24H0V0z\" fill=\"none\"/>\n",
              "    <path d=\"M18.56 5.44l.94 2.06.94-2.06 2.06-.94-2.06-.94-.94-2.06-.94 2.06-2.06.94zm-11 1L8.5 8.5l.94-2.06 2.06-.94-2.06-.94L8.5 2.5l-.94 2.06-2.06.94zm10 10l.94 2.06.94-2.06 2.06-.94-2.06-.94-.94-2.06-.94 2.06-2.06.94z\"/><path d=\"M17.41 7.96l-1.37-1.37c-.4-.4-.92-.59-1.43-.59-.52 0-1.04.2-1.43.59L10.3 9.45l-7.72 7.72c-.78.78-.78 2.05 0 2.83L4 21.41c.39.39.9.59 1.41.59.51 0 1.02-.2 1.41-.59l7.78-7.78 2.81-2.81c.8-.78.8-2.07 0-2.86zM5.41 20L4 18.59l7.72-7.72 1.47 1.35L5.41 20z\"/>\n",
              "  </svg>\n",
              "      </button>\n",
              "      \n",
              "  <style>\n",
              "    .colab-df-container {\n",
              "      display:flex;\n",
              "      flex-wrap:wrap;\n",
              "      gap: 12px;\n",
              "    }\n",
              "\n",
              "    .colab-df-convert {\n",
              "      background-color: #E8F0FE;\n",
              "      border: none;\n",
              "      border-radius: 50%;\n",
              "      cursor: pointer;\n",
              "      display: none;\n",
              "      fill: #1967D2;\n",
              "      height: 32px;\n",
              "      padding: 0 0 0 0;\n",
              "      width: 32px;\n",
              "    }\n",
              "\n",
              "    .colab-df-convert:hover {\n",
              "      background-color: #E2EBFA;\n",
              "      box-shadow: 0px 1px 2px rgba(60, 64, 67, 0.3), 0px 1px 3px 1px rgba(60, 64, 67, 0.15);\n",
              "      fill: #174EA6;\n",
              "    }\n",
              "\n",
              "    [theme=dark] .colab-df-convert {\n",
              "      background-color: #3B4455;\n",
              "      fill: #D2E3FC;\n",
              "    }\n",
              "\n",
              "    [theme=dark] .colab-df-convert:hover {\n",
              "      background-color: #434B5C;\n",
              "      box-shadow: 0px 1px 3px 1px rgba(0, 0, 0, 0.15);\n",
              "      filter: drop-shadow(0px 1px 2px rgba(0, 0, 0, 0.3));\n",
              "      fill: #FFFFFF;\n",
              "    }\n",
              "  </style>\n",
              "\n",
              "      <script>\n",
              "        const buttonEl =\n",
              "          document.querySelector('#df-0c97cc91-a242-4b67-9451-88a174f0b5f5 button.colab-df-convert');\n",
              "        buttonEl.style.display =\n",
              "          google.colab.kernel.accessAllowed ? 'block' : 'none';\n",
              "\n",
              "        async function convertToInteractive(key) {\n",
              "          const element = document.querySelector('#df-0c97cc91-a242-4b67-9451-88a174f0b5f5');\n",
              "          const dataTable =\n",
              "            await google.colab.kernel.invokeFunction('convertToInteractive',\n",
              "                                                     [key], {});\n",
              "          if (!dataTable) return;\n",
              "\n",
              "          const docLinkHtml = 'Like what you see? Visit the ' +\n",
              "            '<a target=\"_blank\" href=https://colab.research.google.com/notebooks/data_table.ipynb>data table notebook</a>'\n",
              "            + ' to learn more about interactive tables.';\n",
              "          element.innerHTML = '';\n",
              "          dataTable['output_type'] = 'display_data';\n",
              "          await google.colab.output.renderOutput(dataTable, element);\n",
              "          const docLink = document.createElement('div');\n",
              "          docLink.innerHTML = docLinkHtml;\n",
              "          element.appendChild(docLink);\n",
              "        }\n",
              "      </script>\n",
              "    </div>\n",
              "  </div>\n",
              "  "
            ]
          },
          "metadata": {},
          "execution_count": 5
        }
      ]
    },
    {
      "cell_type": "markdown",
      "source": [
        "Szczegóły analizowanego dataframe'u"
      ],
      "metadata": {
        "id": "4K6D7sBlNyUv"
      }
    },
    {
      "cell_type": "code",
      "source": [
        "print('Number of particular sentiments: \\n{}\\n'.format(df.groupby(['sentiment'])['sentiment'].count()))\n",
        "print('Number of nulls: \\n{}\\n'.format(df.isnull().sum()))\n",
        "print('Dataset info:')\n",
        "df.info()"
      ],
      "metadata": {
        "colab": {
          "base_uri": "https://localhost:8080/"
        },
        "id": "LxAGaKWiFVLL",
        "outputId": "8af8a329-fe0c-462d-d87c-9597734cd89e"
      },
      "execution_count": 6,
      "outputs": [
        {
          "output_type": "stream",
          "name": "stdout",
          "text": [
            "Number of particular sentiments: \n",
            "sentiment\n",
            "negative    25000\n",
            "positive    25000\n",
            "Name: sentiment, dtype: int64\n",
            "\n",
            "Number of nulls: \n",
            "review       0\n",
            "sentiment    0\n",
            "dtype: int64\n",
            "\n",
            "Dataset info:\n",
            "<class 'pandas.core.frame.DataFrame'>\n",
            "RangeIndex: 50000 entries, 0 to 49999\n",
            "Data columns (total 2 columns):\n",
            " #   Column     Non-Null Count  Dtype \n",
            "---  ------     --------------  ----- \n",
            " 0   review     50000 non-null  object\n",
            " 1   sentiment  50000 non-null  object\n",
            "dtypes: object(2)\n",
            "memory usage: 781.4+ KB\n"
          ]
        }
      ]
    },
    {
      "cell_type": "markdown",
      "source": [
        "Analizowany dataset składa się z dwóch kolumn: kolumny review zawierającej treść recenzji oraz kolumny sentiment - zawierającej wydźwięk każdej z recenzji. Zbiór zawiera 25.000 opinii pozytywnych i tyle samo negatywnych. Każda z nich jest unikatowa. Źródłem opinii jest serwis IMDB - popularna amerykańska baza danych filmowych. Recenzje napisane są w języku angielskim."
      ],
      "metadata": {
        "id": "qmbCqNJ26g3l"
      }
    },
    {
      "cell_type": "markdown",
      "source": [
        "Zamiana wydźwięku recenzji z positive/negative na maszynowe zera i jednyki"
      ],
      "metadata": {
        "id": "2LMzrrbMN-TS"
      }
    },
    {
      "cell_type": "code",
      "source": [
        "df['sentiment'] = df['sentiment'].replace('positive', 1)\n",
        "df['sentiment'] = df['sentiment'].replace('negative', 0)\n",
        "df.head()"
      ],
      "metadata": {
        "colab": {
          "base_uri": "https://localhost:8080/",
          "height": 206
        },
        "id": "1vrV7MzPLHmw",
        "outputId": "31e635a2-5de6-40f0-c6d4-e6aeef2d8a5f"
      },
      "execution_count": 7,
      "outputs": [
        {
          "output_type": "execute_result",
          "data": {
            "text/plain": [
              "                                              review  sentiment\n",
              "0  One of the other reviewers has mentioned that ...          1\n",
              "1  A wonderful little production. <br /><br />The...          1\n",
              "2  I thought this was a wonderful way to spend ti...          1\n",
              "3  Basically there's a family where a little boy ...          0\n",
              "4  Petter Mattei's \"Love in the Time of Money\" is...          1"
            ],
            "text/html": [
              "\n",
              "  <div id=\"df-c47950c3-6e9f-4444-b598-4abdba1dd218\">\n",
              "    <div class=\"colab-df-container\">\n",
              "      <div>\n",
              "<style scoped>\n",
              "    .dataframe tbody tr th:only-of-type {\n",
              "        vertical-align: middle;\n",
              "    }\n",
              "\n",
              "    .dataframe tbody tr th {\n",
              "        vertical-align: top;\n",
              "    }\n",
              "\n",
              "    .dataframe thead th {\n",
              "        text-align: right;\n",
              "    }\n",
              "</style>\n",
              "<table border=\"1\" class=\"dataframe\">\n",
              "  <thead>\n",
              "    <tr style=\"text-align: right;\">\n",
              "      <th></th>\n",
              "      <th>review</th>\n",
              "      <th>sentiment</th>\n",
              "    </tr>\n",
              "  </thead>\n",
              "  <tbody>\n",
              "    <tr>\n",
              "      <th>0</th>\n",
              "      <td>One of the other reviewers has mentioned that ...</td>\n",
              "      <td>1</td>\n",
              "    </tr>\n",
              "    <tr>\n",
              "      <th>1</th>\n",
              "      <td>A wonderful little production. &lt;br /&gt;&lt;br /&gt;The...</td>\n",
              "      <td>1</td>\n",
              "    </tr>\n",
              "    <tr>\n",
              "      <th>2</th>\n",
              "      <td>I thought this was a wonderful way to spend ti...</td>\n",
              "      <td>1</td>\n",
              "    </tr>\n",
              "    <tr>\n",
              "      <th>3</th>\n",
              "      <td>Basically there's a family where a little boy ...</td>\n",
              "      <td>0</td>\n",
              "    </tr>\n",
              "    <tr>\n",
              "      <th>4</th>\n",
              "      <td>Petter Mattei's \"Love in the Time of Money\" is...</td>\n",
              "      <td>1</td>\n",
              "    </tr>\n",
              "  </tbody>\n",
              "</table>\n",
              "</div>\n",
              "      <button class=\"colab-df-convert\" onclick=\"convertToInteractive('df-c47950c3-6e9f-4444-b598-4abdba1dd218')\"\n",
              "              title=\"Convert this dataframe to an interactive table.\"\n",
              "              style=\"display:none;\">\n",
              "        \n",
              "  <svg xmlns=\"http://www.w3.org/2000/svg\" height=\"24px\"viewBox=\"0 0 24 24\"\n",
              "       width=\"24px\">\n",
              "    <path d=\"M0 0h24v24H0V0z\" fill=\"none\"/>\n",
              "    <path d=\"M18.56 5.44l.94 2.06.94-2.06 2.06-.94-2.06-.94-.94-2.06-.94 2.06-2.06.94zm-11 1L8.5 8.5l.94-2.06 2.06-.94-2.06-.94L8.5 2.5l-.94 2.06-2.06.94zm10 10l.94 2.06.94-2.06 2.06-.94-2.06-.94-.94-2.06-.94 2.06-2.06.94z\"/><path d=\"M17.41 7.96l-1.37-1.37c-.4-.4-.92-.59-1.43-.59-.52 0-1.04.2-1.43.59L10.3 9.45l-7.72 7.72c-.78.78-.78 2.05 0 2.83L4 21.41c.39.39.9.59 1.41.59.51 0 1.02-.2 1.41-.59l7.78-7.78 2.81-2.81c.8-.78.8-2.07 0-2.86zM5.41 20L4 18.59l7.72-7.72 1.47 1.35L5.41 20z\"/>\n",
              "  </svg>\n",
              "      </button>\n",
              "      \n",
              "  <style>\n",
              "    .colab-df-container {\n",
              "      display:flex;\n",
              "      flex-wrap:wrap;\n",
              "      gap: 12px;\n",
              "    }\n",
              "\n",
              "    .colab-df-convert {\n",
              "      background-color: #E8F0FE;\n",
              "      border: none;\n",
              "      border-radius: 50%;\n",
              "      cursor: pointer;\n",
              "      display: none;\n",
              "      fill: #1967D2;\n",
              "      height: 32px;\n",
              "      padding: 0 0 0 0;\n",
              "      width: 32px;\n",
              "    }\n",
              "\n",
              "    .colab-df-convert:hover {\n",
              "      background-color: #E2EBFA;\n",
              "      box-shadow: 0px 1px 2px rgba(60, 64, 67, 0.3), 0px 1px 3px 1px rgba(60, 64, 67, 0.15);\n",
              "      fill: #174EA6;\n",
              "    }\n",
              "\n",
              "    [theme=dark] .colab-df-convert {\n",
              "      background-color: #3B4455;\n",
              "      fill: #D2E3FC;\n",
              "    }\n",
              "\n",
              "    [theme=dark] .colab-df-convert:hover {\n",
              "      background-color: #434B5C;\n",
              "      box-shadow: 0px 1px 3px 1px rgba(0, 0, 0, 0.15);\n",
              "      filter: drop-shadow(0px 1px 2px rgba(0, 0, 0, 0.3));\n",
              "      fill: #FFFFFF;\n",
              "    }\n",
              "  </style>\n",
              "\n",
              "      <script>\n",
              "        const buttonEl =\n",
              "          document.querySelector('#df-c47950c3-6e9f-4444-b598-4abdba1dd218 button.colab-df-convert');\n",
              "        buttonEl.style.display =\n",
              "          google.colab.kernel.accessAllowed ? 'block' : 'none';\n",
              "\n",
              "        async function convertToInteractive(key) {\n",
              "          const element = document.querySelector('#df-c47950c3-6e9f-4444-b598-4abdba1dd218');\n",
              "          const dataTable =\n",
              "            await google.colab.kernel.invokeFunction('convertToInteractive',\n",
              "                                                     [key], {});\n",
              "          if (!dataTable) return;\n",
              "\n",
              "          const docLinkHtml = 'Like what you see? Visit the ' +\n",
              "            '<a target=\"_blank\" href=https://colab.research.google.com/notebooks/data_table.ipynb>data table notebook</a>'\n",
              "            + ' to learn more about interactive tables.';\n",
              "          element.innerHTML = '';\n",
              "          dataTable['output_type'] = 'display_data';\n",
              "          await google.colab.output.renderOutput(dataTable, element);\n",
              "          const docLink = document.createElement('div');\n",
              "          docLink.innerHTML = docLinkHtml;\n",
              "          element.appendChild(docLink);\n",
              "        }\n",
              "      </script>\n",
              "    </div>\n",
              "  </div>\n",
              "  "
            ]
          },
          "metadata": {},
          "execution_count": 7
        }
      ]
    },
    {
      "cell_type": "markdown",
      "source": [
        "Podział datasetu na część zależną i niezależną. Pozbycie się z treści recenzji słów przestankowych, specjalnych, liczb i innych. Rozszerzenie listy usuwanych słów o 'br'. Przygotowanie listy słów występujących w opiniach pozytywnych oraz listy dla opinii negatywnych. Stemming."
      ],
      "metadata": {
        "id": "JDP9po3rOPTy"
      }
    },
    {
      "cell_type": "code",
      "source": [
        "X = df['review'].copy()\n",
        "y = df['sentiment'].copy()\n",
        "\n",
        "core = []\n",
        "words = []\n",
        "words_positive = []\n",
        "words_negative = []\n",
        "\n",
        "ps = PorterStemmer()\n",
        "\n",
        "nltk.download('stopwords')\n",
        "new_stopwords = [\"br\"]\n",
        "stpwrd = nltk.corpus.stopwords.words('english')\n",
        "stpwrd.extend(new_stopwords)\n",
        "\n",
        "for i in range(len(X)):\n",
        "  x = re.sub('[^a-zA-Z]', ' ', X[i])\n",
        "  x = x.lower()\n",
        "  x = x.split()\n",
        "  x = [ps.stem(word) for word in x  if word not in set(stpwrd)]\n",
        "  words.append(x)\n",
        "  if y[i] == 1: words_positive.append(x)\n",
        "  else: words_negative.append(x)\n",
        "  x = \" \".join(x)\n",
        "  core.append(x)"
      ],
      "metadata": {
        "colab": {
          "base_uri": "https://localhost:8080/"
        },
        "id": "vXsgpSivLYf5",
        "outputId": "02836fb8-799e-44cb-f864-9bb204415b6b"
      },
      "execution_count": 8,
      "outputs": [
        {
          "output_type": "stream",
          "name": "stderr",
          "text": [
            "[nltk_data] Downloading package stopwords to /root/nltk_data...\n",
            "[nltk_data]   Package stopwords is already up-to-date!\n"
          ]
        }
      ]
    },
    {
      "cell_type": "code",
      "source": [
        "words_list = [item for sublist in words for item in sublist]\n",
        "words_list_positive = [item for sublist in words_positive for item in sublist]\n",
        "words_list_negative = [item for sublist in words_negative for item in sublist]"
      ],
      "metadata": {
        "id": "HL9a8iwo-ErV"
      },
      "execution_count": 9,
      "outputs": []
    },
    {
      "cell_type": "code",
      "source": [
        "print(len(words_list), len(words_list_positive), len(words_list_negative))"
      ],
      "metadata": {
        "id": "cIovrDHOTbDt",
        "outputId": "785d87f5-922c-486e-9f19-81eb4dc7c341",
        "colab": {
          "base_uri": "https://localhost:8080/"
        }
      },
      "execution_count": 10,
      "outputs": [
        {
          "output_type": "stream",
          "name": "stdout",
          "text": [
            "5907650 2998739 2908911\n"
          ]
        }
      ]
    },
    {
      "cell_type": "markdown",
      "source": [
        "Przygotowanie statystyki słów najczęściej występujących w recenzjach (20 najczęściej występujących) oraz dodatkowo z podziałem na wydźwięk recezji (15 najczęściej występujących z pominięciem pierwszych pięciu: movi, film, like,time, które nie mają wpływu na wydźwięk)."
      ],
      "metadata": {
        "id": "GIiVzmUxTHeW"
      }
    },
    {
      "cell_type": "code",
      "source": [
        "words_list = [item for sublist in words for item in sublist]\n",
        "words_count = pd.value_counts(np.array(words_list))\n",
        "popular_words = words_count[:20]\n",
        "\n",
        "words_list_positive = [item for sublist in words_positive for item in sublist]\n",
        "words_count_positive = pd.value_counts(np.array(words_list_positive))\n",
        "popular_words_positive = words_count_positive[5:20]\n",
        "\n",
        "words_list_negative = [item for sublist in words_negative for item in sublist]\n",
        "words_count_negative = pd.value_counts(np.array(words_list_negative))\n",
        "popular_words_negative = words_count_negative[5:20]"
      ],
      "metadata": {
        "id": "Y105tf8FPB9O"
      },
      "execution_count": 11,
      "outputs": []
    },
    {
      "cell_type": "code",
      "source": [
        "fig = plt.figure(figsize = (15, 8))\n",
        "plt.rcParams['font.size'] = 12\n",
        "plt.bar(popular_words.index, popular_words.values, color ='#838EBE', width = 0.6)\n",
        "plt.xlabel('Word', fontsize=16)\n",
        "plt.ylabel('Count', fontsize=16)\n",
        "plt.title('Number of 20 most popular words occurrences', fontsize=20)\n",
        "plt.show()"
      ],
      "metadata": {
        "id": "UbutkBZfBa6M",
        "outputId": "72861cb6-4cc1-493d-e49f-7daabb279544",
        "colab": {
          "base_uri": "https://localhost:8080/",
          "height": 526
        }
      },
      "execution_count": 12,
      "outputs": [
        {
          "output_type": "display_data",
          "data": {
            "text/plain": [
              "<Figure size 1080x576 with 1 Axes>"
            ],
            "image/png": "[encoded data removed]"
          },
          "metadata": {
            "needs_background": "light"
          }
        }
      ]
    },
    {
      "cell_type": "code",
      "source": [
        "fig = plt.figure(figsize = (15, 8))\n",
        "plt.rcParams['font.size'] = 12\n",
        "plt.bar(popular_words_positive.index, popular_words_positive.values, color ='#838EBE', width = 0.6)\n",
        "plt.xlabel('Word', fontsize=16)\n",
        "plt.ylabel('Count', fontsize=16)\n",
        "plt.title('Number of 15 most popular words occurrences in positive reviews', fontsize=20)\n",
        "plt.show()\n",
        "\n",
        "fig = plt.figure(figsize = (15, 8))\n",
        "plt.rcParams['font.size'] = 12\n",
        "plt.bar(popular_words_negative.index, popular_words_negative.values, color ='#838EBE', width = 0.6)\n",
        "plt.xlabel('Word', fontsize=16)\n",
        "plt.ylabel('Count', fontsize=16)\n",
        "plt.title('Number of 15 most popular words occurrences in negative reviews', fontsize=20)\n",
        "plt.show()"
      ],
      "metadata": {
        "id": "CcLKjNlwM6lK",
        "outputId": "9ba074e5-95ff-44b2-97d0-558050e0cc94",
        "colab": {
          "base_uri": "https://localhost:8080/",
          "height": 1000
        }
      },
      "execution_count": 13,
      "outputs": [
        {
          "output_type": "display_data",
          "data": {
            "text/plain": [
              "<Figure size 1080x576 with 1 Axes>"
            ],
            "image/png": "[encoded data removed]"
          },
          "metadata": {
            "needs_background": "light"
          }
        },
        {
          "output_type": "display_data",
          "data": {
            "text/plain": [
              "<Figure size 1080x576 with 1 Axes>"
            ],
            "image/png": "[encoded data removed]"
          },
          "metadata": {
            "needs_background": "light"
          }
        }
      ]
    },
    {
      "cell_type": "markdown",
      "source": [
        "Wśród najczęściej występujących w pozytywnych recenzjach słów znajdziemy takie jak: good, well, great, love - o nacechowaniu jednoznacznie pozytywnym. Każde z nich występuje w średnio co drugim tekście. Jednak wśród opinii negatywnych przewija się mniej słów kluczowych, mających wydźiwięk jednoznacznie negatywny. Wśród 20 najcześciej występujących znajduje się jedynie słowo bad, występujące podobnie często, jak słowo good, co może obniżać dokładność modelu. Na tej podstawie można stwierdzić, iż prostsze jest rozpoznanie opinii pozytywnych."
      ],
      "metadata": {
        "id": "bs7dNJBTVEcY"
      }
    },
    {
      "cell_type": "markdown",
      "source": [
        "Wektoryzacja zmiennej tekstowej zawierającej wszystkie analizowane recenzje."
      ],
      "metadata": {
        "id": "oX0dJL96ilPd"
      }
    },
    {
      "cell_type": "code",
      "source": [
        "X = TfidfVectorizer(max_features=10000).fit_transform(core).toarray()"
      ],
      "metadata": {
        "id": "QqCWdME4dAUi"
      },
      "execution_count": 14,
      "outputs": []
    },
    {
      "cell_type": "markdown",
      "source": [
        "Podział datasetu na zbiory treningowe i testowe. W obliczeniach przyjęto, że zbiór testowy stanowi 15% całości."
      ],
      "metadata": {
        "id": "TqHE20tDoWCZ"
      }
    },
    {
      "cell_type": "code",
      "source": [
        "X_train, X_test, y_train, y_test = train_test_split(\n",
        "    X, y, test_size=0.2, random_state=98\n",
        ")\n",
        "\n",
        "print('X_train: {}\\nX_test: {}\\ny_train: {}\\ny_test: {}'.format(X_train.shape, X_test.shape, y_train.shape, y_test.shape))"
      ],
      "metadata": {
        "colab": {
          "base_uri": "https://localhost:8080/"
        },
        "id": "HHKTYejxnn8s",
        "outputId": "e9ecc02a-741b-4cfd-c975-2356454393b5"
      },
      "execution_count": 15,
      "outputs": [
        {
          "output_type": "stream",
          "name": "stdout",
          "text": [
            "X_train: (40000, 10000)\n",
            "X_test: (10000, 10000)\n",
            "y_train: (40000,)\n",
            "y_test: (10000,)\n"
          ]
        }
      ]
    },
    {
      "cell_type": "markdown",
      "source": [
        "Zdefiniowanie klasyfikatora bayesowskiego"
      ],
      "metadata": {
        "id": "MRuSmNrkIoDf"
      }
    },
    {
      "cell_type": "code",
      "source": [
        "mnb = MultinomialNB()\n",
        "mnb.fit(X_train, y_train)"
      ],
      "metadata": {
        "colab": {
          "base_uri": "https://localhost:8080/"
        },
        "id": "TFhN9HOit7d9",
        "outputId": "8260a553-0b7a-4485-b214-8d9e0f86480d"
      },
      "execution_count": 16,
      "outputs": [
        {
          "output_type": "execute_result",
          "data": {
            "text/plain": [
              "MultinomialNB()"
            ]
          },
          "metadata": {},
          "execution_count": 16
        }
      ]
    },
    {
      "cell_type": "markdown",
      "source": [
        "Trenowanie modelu"
      ],
      "metadata": {
        "id": "yPsZauZNIo-y"
      }
    },
    {
      "cell_type": "code",
      "source": [
        "prediction = mnb.predict(X_test)"
      ],
      "metadata": {
        "id": "bvoM5hiiIPuo"
      },
      "execution_count": 17,
      "outputs": []
    },
    {
      "cell_type": "markdown",
      "source": [
        "Jakość wytrenowanego modelu"
      ],
      "metadata": {
        "id": "FUbcBrSMIsoH"
      }
    },
    {
      "cell_type": "code",
      "source": [
        "print(classification_report(y_test, prediction))\n",
        "print(accuracy_score(y_test, prediction))"
      ],
      "metadata": {
        "id": "Vzthlvd7IRlo",
        "outputId": "8eac4578-4499-4a63-a4fd-4dcb73ba90b3",
        "colab": {
          "base_uri": "https://localhost:8080/"
        }
      },
      "execution_count": 18,
      "outputs": [
        {
          "output_type": "stream",
          "name": "stdout",
          "text": [
            "              precision    recall  f1-score   support\n",
            "\n",
            "           0       0.86      0.85      0.85      4987\n",
            "           1       0.85      0.86      0.85      5013\n",
            "\n",
            "    accuracy                           0.85     10000\n",
            "   macro avg       0.85      0.85      0.85     10000\n",
            "weighted avg       0.85      0.85      0.85     10000\n",
            "\n",
            "0.852\n"
          ]
        }
      ]
    },
    {
      "cell_type": "markdown",
      "source": [
        "Domergowanie datasetu startowego do wyników predykcji w celu analizy źle ocenionych przez model recenzji "
      ],
      "metadata": {
        "id": "SkL6gfR6JFFb"
      }
    },
    {
      "cell_type": "code",
      "source": [
        "rev = list(y_test.index)\n",
        "pred = list(prediction)\n",
        "\n",
        "df_compare = pd.DataFrame()\n",
        "df_compare['rev'] = rev\n",
        "df_compare['pred'] = pred\n",
        "\n",
        "df_compare = df_compare.merge(df,left_on='rev', right_index=True, how='left')"
      ],
      "metadata": {
        "id": "VpVBCmdLEtbK"
      },
      "execution_count": 19,
      "outputs": []
    },
    {
      "cell_type": "code",
      "source": [
        "diffs = df_compare.query('pred != sentiment')\n",
        "\n",
        "for i in range(5):\n",
        "  print(diffs.iloc[i]['review'])"
      ],
      "metadata": {
        "id": "jdSEzifSHW3Y",
        "outputId": "268b8849-e4fa-4d09-dabd-bae0b98d9ac4",
        "colab": {
          "base_uri": "https://localhost:8080/"
        }
      },
      "execution_count": 20,
      "outputs": [
        {
          "output_type": "stream",
          "name": "stdout",
          "text": [
            "so halfway through the season, i got so caught up in school and my activities that i didn't realize that the show had been canceled halfway through, which is crap.<br /><br />i think the followers of this show should write fox and ask them to at least finish filming so that a the season can be released on DVD later. maybe then they'll see how many people were disappointed that the show didn't survive its first season.<br /><br />i loved the show and looked forward to it every thursday after the OC. can you imagine my disappointment when i came back to try and watch the show only to discover that it had disappeared? needless to say, i'm not very happy with fox right now. even more so after discovering that NO ENDING WAS FILMED. i mean, if you're going to work on a project, at least finish it to see what happens. a half filmed show is like a half made car, it's pretty much useless. fox, film the damn ending and give some of the show's fans some peace.\n",
            "There are just so many things wrong with this movie.<br /><br />Jeff Bridges weird accent.<br /><br />Rita's ability to crack the password code <br /><br />The entire script <br /><br />The ending - esp the last scene when two coffees are brought to the table for Jeff and Rita and the publisher. J & R laugh and say \"We don;t drink coffee anymore\". Well, why did they order it then??? They obviously did. If they didn't and the waiter brought everyone a coffee by default there would have been three coffees.<br /><br />Total Tosh.\n",
            "The main problem of the first \"Vampires\" movie is that none of the characters were sympathetic. Carpenter learned from his mistake and this time used a likable vampire hunter and a charismatic vampire. The female vampire Una certainly is the coolest vampire since Blade's Deacon Frost. Unfortunately while there are some good concepts like a cool slow motion restaurant scene (why didn't Carpenter use more of this??) this movie is nowhere near as good as it could have been. I expected to see strong vampires in action and at least one longer lasting nicely choreographed fight sequence (for example inside a city) and was left somewhat disappointed. While \"Los Muertos\" proceeds at a faster pace than its predecessor, it still drags a little in some parts (though nowhere near as bad as \"Vampires\" did). Much like \"Vampires\" however this movie's climax near the end is not very intense.<br /><br />Most of the above may sound like \"Los Muertos\" is a bad movie but it definitely isn't. It is generally enjoyable and ranks among the better entries to the genre. It is neither an unoriginal Dracula remake (like almost every other vampire movie out there) nor is it an unintelligent action spectacle like Blade II. It simply could have used a bit more excitement.<br /><br />I'd really like to see a third installment made by Carpenter but it's probably not going to happen.<br /><br />SPOILER WARNING The ending was way too predictable. Una should have gotten away- that would have made the movie quite unusual.\n",
            "Pendragon Pictures' new film \"H G Wells' War of the Worlds\", the first faithful adaptation of the original novel, has been in development for about 5 years. A theatrical release was intended for earlier this year (March, 2005) but this never happened. The DVD was rushed out to coincide with the release of Spielberg's version, which hits theatres June 29.<br /><br />I liked this film, with certain reservations.<br /><br />How faithful is the adaptation? It's not quite 100% faithful to Wells' book, but 90 - 95% faithful is good enough for me. At least several scenes were totally new, such as Ogilvy the astronomer's confrontation with a farmer, and the unnamed writer/narrator awkwardly having tea with his cousin. But on the whole, this film follows the book very closely -- certainly much more than the classic 1953 version by George Pal.<br /><br />Its greatest fault is that it was obviously made on a very cheap budget. The majority of it seems to have been shot blue-screen and composited with digitally rendered backgrounds. This is particularly annoying during most of the interior shots, and scenes of crowded city streets. The overviews of 1898 London look like something from a video game. Numerous scenes in horse-carriages were faked -- I guess they couldn't afford to rent a horse. The only scenes shot for \"real\" seem to be those in open fields or forests.<br /><br />But within those budget restrictions, they managed to do quite a lot. Artistically, the film looks right. The Martians and their tripods are quite well done, and very true to Wells' descriptions. I was particularly impressed with the heat ray. Although the Thunder Child sequence, which should have been one of the film's highlights, is very disappointing. It's a great shame that they couldn't afford more actual sets, or better quality animation.<br /><br />The acting and direction won't win any Oscars. For the most part, they are competent, not bad, but not outstanding. The music is quite good also, though not on a par with any of the major Hollywood composers.<br /><br />I'm actually glad this didn't get a theatrical release, because the budget limitation would have made it look much worse on a big screen. As it stands, I would rate this similarly to a BBC-TV adaptation of classic literature.<br /><br />A few nitpicks: Most of the scenes are presented with various colored filters (mostly red). This may have been an artistic choice, but it is used very inconsistently, and seems more like a sloppy job of mastering the DVD. And the writer/narrator's obviously fake moustache mutates from scene to scene.<br /><br />Bottom line -- Is it worth seeing? If you can look past the technical and budgetary limitations, and get into the story, I think you will enjoy this, especially if you've actually read the original H G Wells novel. If, however, you are easily put off by cheap production values, you'd best pass on this (unless you're a MST3K fan). Be warned, however that the film runs a full 3 hours, so I don't recommend watching it all in one sitting.<br /><br />BTW: An entirely different version of War of the Worlds (aka \"INVASION\") came out on DVD the same month that Spielberg's hit the theatres: http://imdb.com/title/tt0449040/. This was also made on a budget, but is updated to the present day like the Spielberg film - but it's much better! And to top it off, Jeff Wayne is making an animated film of his best-selling album from 1978, but that won't be out until 2007.\n",
            "I find it terribly ironic that \"left wing\" Hollywood continues to hedge its bets, making these awful lukewarm movies that neither condemn the war on terror nor embrace it.<br /><br />If you're a Sixties survivor and a committed pacifist, and you're hoping for an all-out condemnation of war like BORN ON THE FOURTH OF JULY or ALL QUIET ON THE WESTERN FRONT, this movie will really feel like a rip off. None of these soldiers actually question this war, or any war, or the idea of war. They just gripe about having to do another tour.<br /><br />On the other hand, if you're a patriotic American who wants to see a story of courage and honor, this movie will really feel like a rip off. None of these soldiers loves America, or even loves the service. The way they pout and sulk makes them come across more like suburban teenagers than blue collar tough guys. It's not WE WERE SOLDIERS, and it's not SANDS OF IWO JIMA. It's not even mindless action, and the war scenes are less RAMBO and more BUFFY.<br /><br />Ryan Philippe so completely cannot carry this kind of movie. Though he's devastatingly sexy, in a rough trade, men's room, bisexual sort of way, it's hard to picture him as a slow-talking' Texas boy who wants to stand up and be counted. This is no Sgt. Croft in Mailer's THE NAKED AND THE DEAD. He's more like Joel in Truman Capote's OTHER VOICES, OTHER ROOMS. He can't sell you on the idea that he's been in combat and done his bit, OR that he wants his woman and wants her right now. He fizzles on the battlefield and in the bedroom scenes, looking as if he would much prefer to bend over and take a good stiff attack from the rear.\n"
          ]
        }
      ]
    },
    {
      "cell_type": "markdown",
      "source": [
        "Analiza źle zinterpretowanych przez model recenzji może być przedmiotem dalszych analiz mających na celu poprawę wydajności modelu."
      ],
      "metadata": {
        "id": "Q2XuJqGBKxl6"
      }
    }
  ]
}