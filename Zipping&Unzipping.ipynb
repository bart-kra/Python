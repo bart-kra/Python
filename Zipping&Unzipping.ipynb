{
  "nbformat": 4,
  "nbformat_minor": 0,
  "metadata": {
    "colab": {
      "name": "Zipping&Unzipping.ipynb",
      "provenance": [],
      "authorship_tag": "ABX9TyMwHgO0Isw76+8Uhsqi9S9n"
    },
    "kernelspec": {
      "name": "python3",
      "display_name": "Python 3"
    },
    "language_info": {
      "name": "python"
    }
  },
  "cells": [
    {
      "cell_type": "markdown",
      "source": [
        "# Zipping single files"
      ],
      "metadata": {
        "id": "qBHcKlNAvS5T"
      }
    },
    {
      "cell_type": "code",
      "execution_count": 1,
      "metadata": {
        "id": "KUsXZTUys0z_"
      },
      "outputs": [],
      "source": [
        "f = open('fileone.txt', 'w+')\n",
        "f.write('ONE FILE')\n",
        "f.close()"
      ]
    },
    {
      "cell_type": "code",
      "source": [
        "f = open('filetwo.txt', 'w+')\n",
        "f.write('TWO FILE')\n",
        "f.close()"
      ],
      "metadata": {
        "id": "MaGczoUutNe7"
      },
      "execution_count": 2,
      "outputs": []
    },
    {
      "cell_type": "code",
      "source": [
        "f = open('filethree.txt', 'w+')\n",
        "f.write('THREE FILE')\n",
        "f.close()"
      ],
      "metadata": {
        "id": "4zGGCFRHtSe8"
      },
      "execution_count": 3,
      "outputs": []
    },
    {
      "cell_type": "code",
      "source": [
        "import zipfile"
      ],
      "metadata": {
        "id": "SpQYpHT7tWlu"
      },
      "execution_count": 4,
      "outputs": []
    },
    {
      "cell_type": "code",
      "source": [
        "comp_file = zipfile.ZipFile('comp_file.zip', 'w')"
      ],
      "metadata": {
        "id": "cFXEuTYutfIr"
      },
      "execution_count": 5,
      "outputs": []
    },
    {
      "cell_type": "code",
      "source": [
        "comp_file.write('fileone.txt', compress_type=zipfile.ZIP_DEFLATED)"
      ],
      "metadata": {
        "id": "8vaAnh9JtoTF"
      },
      "execution_count": 6,
      "outputs": []
    },
    {
      "cell_type": "code",
      "source": [
        "comp_file.write('filetwo.txt', compress_type=zipfile.ZIP_DEFLATED)"
      ],
      "metadata": {
        "id": "2E0wrKqVt5eg"
      },
      "execution_count": 7,
      "outputs": []
    },
    {
      "cell_type": "code",
      "source": [
        "comp_file.write('filethree.txt', compress_type=zipfile.ZIP_DEFLATED)"
      ],
      "metadata": {
        "id": "Fkd9V7dAt7aK"
      },
      "execution_count": 8,
      "outputs": []
    },
    {
      "cell_type": "code",
      "source": [
        "comp_file.close()"
      ],
      "metadata": {
        "id": "cjrVnkhGt9Nn"
      },
      "execution_count": 9,
      "outputs": []
    },
    {
      "cell_type": "code",
      "source": [
        ""
      ],
      "metadata": {
        "id": "v1-aKAFquCxS"
      },
      "execution_count": 9,
      "outputs": []
    },
    {
      "cell_type": "code",
      "source": [
        "zip_obj = zipfile.ZipFile('comp_file.zip', 'r')"
      ],
      "metadata": {
        "id": "NjtkZfE5uP-7"
      },
      "execution_count": 10,
      "outputs": []
    },
    {
      "cell_type": "code",
      "source": [
        "zip_obj.extractall('extracted_content')"
      ],
      "metadata": {
        "id": "AeNFwxD4uU9W"
      },
      "execution_count": 11,
      "outputs": []
    },
    {
      "cell_type": "markdown",
      "source": [
        "# Zipping entire folders"
      ],
      "metadata": {
        "id": "sGm-GE9_vWsz"
      }
    },
    {
      "cell_type": "code",
      "source": [
        "import shutil"
      ],
      "metadata": {
        "id": "tEyobXl_vZON"
      },
      "execution_count": 14,
      "outputs": []
    },
    {
      "cell_type": "code",
      "source": [
        "pwd"
      ],
      "metadata": {
        "colab": {
          "base_uri": "https://localhost:8080/",
          "height": 36
        },
        "id": "qwdExQSvvqMN",
        "outputId": "8acecde6-14fe-4e3f-8697-42a61429640c"
      },
      "execution_count": 15,
      "outputs": [
        {
          "output_type": "execute_result",
          "data": {
            "text/plain": [
              "'/content'"
            ],
            "application/vnd.google.colaboratory.intrinsic+json": {
              "type": "string"
            }
          },
          "metadata": {},
          "execution_count": 15
        }
      ]
    },
    {
      "cell_type": "code",
      "source": [
        "dir_to_zip = '/content/ToZip'"
      ],
      "metadata": {
        "id": "YRHdaPC_vakq"
      },
      "execution_count": 16,
      "outputs": []
    },
    {
      "cell_type": "code",
      "source": [
        "output_filename = 'example'"
      ],
      "metadata": {
        "id": "sM2jELEZvthv"
      },
      "execution_count": 17,
      "outputs": []
    },
    {
      "cell_type": "code",
      "source": [
        "shutil.make_archive(output_filename, 'zip', dir_to_zip)"
      ],
      "metadata": {
        "colab": {
          "base_uri": "https://localhost:8080/",
          "height": 36
        },
        "id": "cbAHKqDrv7Ch",
        "outputId": "173105c6-94aa-406c-9509-39ce19f801b1"
      },
      "execution_count": 18,
      "outputs": [
        {
          "output_type": "execute_result",
          "data": {
            "text/plain": [
              "'/content/example.zip'"
            ],
            "application/vnd.google.colaboratory.intrinsic+json": {
              "type": "string"
            }
          },
          "metadata": {},
          "execution_count": 18
        }
      ]
    },
    {
      "cell_type": "code",
      "source": [
        "#UNZIPPING\n",
        "shutil.unpack_archive('example.zip', 'final_unzip', 'zip')"
      ],
      "metadata": {
        "id": "np_DsMZiwE9I"
      },
      "execution_count": 19,
      "outputs": []
    },
    {
      "cell_type": "code",
      "source": [
        ""
      ],
      "metadata": {
        "id": "UlCQt6IHwXSU"
      },
      "execution_count": null,
      "outputs": []
    }
  ]
}